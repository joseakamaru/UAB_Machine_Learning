{
 "cells": [
  {
   "cell_type": "markdown",
   "metadata": {},
   "source": [
    "# Midterm with Scikit-Learn\n",
    "* Due Date: July 18, 2018\n",
    "* by: Jose Medina"
   ]
  },
  {
   "cell_type": "markdown",
   "metadata": {},
   "source": [
    "### Import the Libraries:\n",
    "1. numpy\n",
    "2. matplotlib.pyplot\n",
    "3. pandas\n",
    "4. seaborn"
   ]
  },
  {
   "cell_type": "code",
   "execution_count": 1,
   "metadata": {},
   "outputs": [],
   "source": [
    "# Import Libraries\n",
    "import pandas as pd\n",
    "import numpy as np\n",
    "import matplotlib.pyplot as plt\n",
    "import seaborn as sns\n",
    "\n",
    "import math\n",
    "import csv\n",
    "import string\n",
    "import pprint\n",
    "\n",
    "from collections import Counter\n",
    "\n",
    "from sklearn.feature_extraction.text import CountVectorizer\n",
    "from sklearn.naive_bayes import MultinomialNB\n",
    "from sklearn import metrics\n",
    "from sklearn.model_selection import train_test_split\n",
    "from sklearn.linear_model import Perceptron\n",
    "from sklearn.metrics import accuracy_score\n",
    "from sklearn.preprocessing import StandardScaler\n",
    "from sklearn.decomposition import PCA\n",
    "from sklearn.datasets import load_digits\n",
    "from sklearn.naive_bayes import GaussianNB"
   ]
  },
  {
   "cell_type": "markdown",
   "metadata": {},
   "source": [
    "## Problem 1: \n",
    "For this problem, you are asked to use the Python algorithms developed in class for the Principle Component Analysis (PCA) implementation to investigate dimensionality reduction of the  “breast cancer” dataset provided by Scikit-Learn.\n",
    "1. You should implement PCA in two different ways and in each case show the Eigen values and Eigen vectors:\n",
    "    1. using the eigenvector decomposition of the covariance matrix\n",
    "    2. using Singular Value Decomposition (SVD) method  \n",
    "\n",
    "2. Provide a plot that shows the level of data variance retained as a function of dimensionality reduction.\n",
    "3. Using the first two Eigen vectors, show a two-dimensional plot of the dataset with the reduced number of features. The points on the plot should be color-coded based on their values.\n",
    "4. How many Eigen vectors should be used to retain 95% of the data variance.\n",
    "\n"
   ]
  },
  {
   "cell_type": "markdown",
   "metadata": {},
   "source": [
    "#### Read the Digit Data"
   ]
  },
  {
   "cell_type": "code",
   "execution_count": 2,
   "metadata": {},
   "outputs": [
    {
     "name": "stdout",
     "output_type": "stream",
     "text": [
      "Keys = \n",
      " dict_keys(['data', 'target', 'target_names', 'DESCR', 'feature_names']) \n",
      "\n",
      "Description = \n",
      " Breast Cancer Wisconsin (Diagnostic) Database\n",
      "=============================================\n",
      "\n",
      "Notes\n",
      "-----\n",
      "Data Set Characteristics:\n",
      "    :Number of Instances: 569\n",
      "\n",
      "    :Number of Attributes: 30 numeric, predictive attributes and the class\n",
      "\n",
      "    :Attribute Information:\n",
      "        - radius (mean of distances from center to points on the perimeter)\n",
      "        - texture (standard deviation of gray-scale values)\n",
      "        - perimeter\n",
      "        - area\n",
      "        - smoothness (local variation in radius lengths)\n",
      "        - compactness (perimeter^2 / area - 1.0)\n",
      "        - concavity (severity of concave portions of the contour)\n",
      "        - concave points (number of concave portions of the contour)\n",
      "        - symmetry \n",
      "        - fractal dimension (\"coastline approximation\" - 1)\n",
      "\n",
      "        The mean, standard error, and \"worst\" or largest (mean of the three\n",
      "        largest values) of these features were computed for each image,\n",
      "        resulting in 30 features.  For instance, field 3 is Mean Radius, field\n",
      "        13 is Radius SE, field 23 is Worst Radius.\n",
      "\n",
      "        - class:\n",
      "                - WDBC-Malignant\n",
      "                - WDBC-Benign\n",
      "\n",
      "    :Summary Statistics:\n",
      "\n",
      "    ===================================== ====== ======\n",
      "                                           Min    Max\n",
      "    ===================================== ====== ======\n",
      "    radius (mean):                        6.981  28.11\n",
      "    texture (mean):                       9.71   39.28\n",
      "    perimeter (mean):                     43.79  188.5\n",
      "    area (mean):                          143.5  2501.0\n",
      "    smoothness (mean):                    0.053  0.163\n",
      "    compactness (mean):                   0.019  0.345\n",
      "    concavity (mean):                     0.0    0.427\n",
      "    concave points (mean):                0.0    0.201\n",
      "    symmetry (mean):                      0.106  0.304\n",
      "    fractal dimension (mean):             0.05   0.097\n",
      "    radius (standard error):              0.112  2.873\n",
      "    texture (standard error):             0.36   4.885\n",
      "    perimeter (standard error):           0.757  21.98\n",
      "    area (standard error):                6.802  542.2\n",
      "    smoothness (standard error):          0.002  0.031\n",
      "    compactness (standard error):         0.002  0.135\n",
      "    concavity (standard error):           0.0    0.396\n",
      "    concave points (standard error):      0.0    0.053\n",
      "    symmetry (standard error):            0.008  0.079\n",
      "    fractal dimension (standard error):   0.001  0.03\n",
      "    radius (worst):                       7.93   36.04\n",
      "    texture (worst):                      12.02  49.54\n",
      "    perimeter (worst):                    50.41  251.2\n",
      "    area (worst):                         185.2  4254.0\n",
      "    smoothness (worst):                   0.071  0.223\n",
      "    compactness (worst):                  0.027  1.058\n",
      "    concavity (worst):                    0.0    1.252\n",
      "    concave points (worst):               0.0    0.291\n",
      "    symmetry (worst):                     0.156  0.664\n",
      "    fractal dimension (worst):            0.055  0.208\n",
      "    ===================================== ====== ======\n",
      "\n",
      "    :Missing Attribute Values: None\n",
      "\n",
      "    :Class Distribution: 212 - Malignant, 357 - Benign\n",
      "\n",
      "    :Creator:  Dr. William H. Wolberg, W. Nick Street, Olvi L. Mangasarian\n",
      "\n",
      "    :Donor: Nick Street\n",
      "\n",
      "    :Date: November, 1995\n",
      "\n",
      "This is a copy of UCI ML Breast Cancer Wisconsin (Diagnostic) datasets.\n",
      "https://goo.gl/U2Uwz2\n",
      "\n",
      "Features are computed from a digitized image of a fine needle\n",
      "aspirate (FNA) of a breast mass.  They describe\n",
      "characteristics of the cell nuclei present in the image.\n",
      "\n",
      "Separating plane described above was obtained using\n",
      "Multisurface Method-Tree (MSM-T) [K. P. Bennett, \"Decision Tree\n",
      "Construction Via Linear Programming.\" Proceedings of the 4th\n",
      "Midwest Artificial Intelligence and Cognitive Science Society,\n",
      "pp. 97-101, 1992], a classification method which uses linear\n",
      "programming to construct a decision tree.  Relevant features\n",
      "were selected using an exhaustive search in the space of 1-4\n",
      "features and 1-3 separating planes.\n",
      "\n",
      "The actual linear program used to obtain the separating plane\n",
      "in the 3-dimensional space is that described in:\n",
      "[K. P. Bennett and O. L. Mangasarian: \"Robust Linear\n",
      "Programming Discrimination of Two Linearly Inseparable Sets\",\n",
      "Optimization Methods and Software 1, 1992, 23-34].\n",
      "\n",
      "This database is also available through the UW CS ftp server:\n",
      "\n",
      "ftp ftp.cs.wisc.edu\n",
      "cd math-prog/cpo-dataset/machine-learn/WDBC/\n",
      "\n",
      "References\n",
      "----------\n",
      "   - W.N. Street, W.H. Wolberg and O.L. Mangasarian. Nuclear feature extraction \n",
      "     for breast tumor diagnosis. IS&T/SPIE 1993 International Symposium on \n",
      "     Electronic Imaging: Science and Technology, volume 1905, pages 861-870,\n",
      "     San Jose, CA, 1993.\n",
      "   - O.L. Mangasarian, W.N. Street and W.H. Wolberg. Breast cancer diagnosis and \n",
      "     prognosis via linear programming. Operations Research, 43(4), pages 570-577, \n",
      "     July-August 1995.\n",
      "   - W.H. Wolberg, W.N. Street, and O.L. Mangasarian. Machine learning techniques\n",
      "     to diagnose breast cancer from fine-needle aspirates. Cancer Letters 77 (1994) \n",
      "     163-171.\n",
      "\n",
      "Data Size:  (569, 30)\n",
      "Number of Labels : (569,)\n"
     ]
    }
   ],
   "source": [
    "# Import Dataset\n",
    "from sklearn.datasets import load_breast_cancer\n",
    "cancer = load_breast_cancer()\n",
    "\n",
    "# Explore dataset\n",
    "print('Keys = \\n',cancer.keys(),'\\n')\n",
    "print('Description = \\n',cancer['DESCR'])\n",
    "\n",
    "\n",
    "#load the cancer dataset\n",
    "X = cancer.data\n",
    "y = cancer.target\n",
    "\n",
    "# Infor about the data\n",
    "# Print the number of 8 by 8 images\n",
    "print(\"Data Size: \" , X.shape)\n",
    "\n",
    "# Print the number of labels\n",
    "print(\"Number of Labels :\", y.shape)"
   ]
  },
  {
   "cell_type": "markdown",
   "metadata": {},
   "source": [
    "#### Split the data "
   ]
  },
  {
   "cell_type": "code",
   "execution_count": 3,
   "metadata": {},
   "outputs": [
    {
     "name": "stdout",
     "output_type": "stream",
     "text": [
      "X_train shape =  (455, 30)\n",
      "X_test shape =  (114, 30)\n",
      "y_train shape =  (455,)\n",
      "y_test shape =  (114,)\n"
     ]
    }
   ],
   "source": [
    "X_train, X_test, y_train, y_test = train_test_split(X, y, test_size=0.2, random_state= 99)\n",
    "\n",
    "print('X_train shape = ',X_train.shape)\n",
    "print('X_test shape = ',X_test.shape)\n",
    "print('y_train shape = ',y_train.shape)\n",
    "print('y_test shape = ',y_test.shape)"
   ]
  },
  {
   "cell_type": "code",
   "execution_count": 4,
   "metadata": {},
   "outputs": [
    {
     "name": "stdout",
     "output_type": "stream",
     "text": [
      "[0 0 0 0 0 0 0 0 0 0 0 0 0 0 0 0 0 0 0 1 1 1 0 0 0]\n",
      "['malignant' 'benign']\n"
     ]
    },
    {
     "data": {
      "text/html": [
       "<div>\n",
       "<style scoped>\n",
       "    .dataframe tbody tr th:only-of-type {\n",
       "        vertical-align: middle;\n",
       "    }\n",
       "\n",
       "    .dataframe tbody tr th {\n",
       "        vertical-align: top;\n",
       "    }\n",
       "\n",
       "    .dataframe thead th {\n",
       "        text-align: right;\n",
       "    }\n",
       "</style>\n",
       "<table border=\"1\" class=\"dataframe\">\n",
       "  <thead>\n",
       "    <tr style=\"text-align: right;\">\n",
       "      <th></th>\n",
       "      <th>mean radius</th>\n",
       "      <th>mean texture</th>\n",
       "      <th>mean perimeter</th>\n",
       "      <th>mean area</th>\n",
       "      <th>mean smoothness</th>\n",
       "      <th>mean compactness</th>\n",
       "      <th>mean concavity</th>\n",
       "      <th>mean concave points</th>\n",
       "      <th>mean symmetry</th>\n",
       "      <th>mean fractal dimension</th>\n",
       "      <th>...</th>\n",
       "      <th>worst radius</th>\n",
       "      <th>worst texture</th>\n",
       "      <th>worst perimeter</th>\n",
       "      <th>worst area</th>\n",
       "      <th>worst smoothness</th>\n",
       "      <th>worst compactness</th>\n",
       "      <th>worst concavity</th>\n",
       "      <th>worst concave points</th>\n",
       "      <th>worst symmetry</th>\n",
       "      <th>worst fractal dimension</th>\n",
       "    </tr>\n",
       "  </thead>\n",
       "  <tbody>\n",
       "    <tr>\n",
       "      <th>0</th>\n",
       "      <td>17.99</td>\n",
       "      <td>10.38</td>\n",
       "      <td>122.8</td>\n",
       "      <td>1001.0</td>\n",
       "      <td>0.11840</td>\n",
       "      <td>0.27760</td>\n",
       "      <td>0.3001</td>\n",
       "      <td>0.14710</td>\n",
       "      <td>0.2419</td>\n",
       "      <td>0.07871</td>\n",
       "      <td>...</td>\n",
       "      <td>25.38</td>\n",
       "      <td>17.33</td>\n",
       "      <td>184.6</td>\n",
       "      <td>2019.0</td>\n",
       "      <td>0.1622</td>\n",
       "      <td>0.6656</td>\n",
       "      <td>0.7119</td>\n",
       "      <td>0.2654</td>\n",
       "      <td>0.4601</td>\n",
       "      <td>0.11890</td>\n",
       "    </tr>\n",
       "    <tr>\n",
       "      <th>1</th>\n",
       "      <td>20.57</td>\n",
       "      <td>17.77</td>\n",
       "      <td>132.9</td>\n",
       "      <td>1326.0</td>\n",
       "      <td>0.08474</td>\n",
       "      <td>0.07864</td>\n",
       "      <td>0.0869</td>\n",
       "      <td>0.07017</td>\n",
       "      <td>0.1812</td>\n",
       "      <td>0.05667</td>\n",
       "      <td>...</td>\n",
       "      <td>24.99</td>\n",
       "      <td>23.41</td>\n",
       "      <td>158.8</td>\n",
       "      <td>1956.0</td>\n",
       "      <td>0.1238</td>\n",
       "      <td>0.1866</td>\n",
       "      <td>0.2416</td>\n",
       "      <td>0.1860</td>\n",
       "      <td>0.2750</td>\n",
       "      <td>0.08902</td>\n",
       "    </tr>\n",
       "  </tbody>\n",
       "</table>\n",
       "<p>2 rows × 30 columns</p>\n",
       "</div>"
      ],
      "text/plain": [
       "   mean radius  mean texture  mean perimeter  mean area  mean smoothness  \\\n",
       "0        17.99         10.38           122.8     1001.0          0.11840   \n",
       "1        20.57         17.77           132.9     1326.0          0.08474   \n",
       "\n",
       "   mean compactness  mean concavity  mean concave points  mean symmetry  \\\n",
       "0           0.27760          0.3001              0.14710         0.2419   \n",
       "1           0.07864          0.0869              0.07017         0.1812   \n",
       "\n",
       "   mean fractal dimension           ...             worst radius  \\\n",
       "0                 0.07871           ...                    25.38   \n",
       "1                 0.05667           ...                    24.99   \n",
       "\n",
       "   worst texture  worst perimeter  worst area  worst smoothness  \\\n",
       "0          17.33            184.6      2019.0            0.1622   \n",
       "1          23.41            158.8      1956.0            0.1238   \n",
       "\n",
       "   worst compactness  worst concavity  worst concave points  worst symmetry  \\\n",
       "0             0.6656           0.7119                0.2654          0.4601   \n",
       "1             0.1866           0.2416                0.1860          0.2750   \n",
       "\n",
       "   worst fractal dimension  \n",
       "0                  0.11890  \n",
       "1                  0.08902  \n",
       "\n",
       "[2 rows x 30 columns]"
      ]
     },
     "execution_count": 4,
     "metadata": {},
     "output_type": "execute_result"
    }
   ],
   "source": [
    "df = pd.DataFrame(cancer['data'], columns=cancer['feature_names'])\n",
    "print(cancer['target'][0:25])\n",
    "print(cancer['target_names'])\n",
    "df.head(2)"
   ]
  },
  {
   "cell_type": "markdown",
   "metadata": {},
   "source": [
    "### Scikit-learn implementation. "
   ]
  },
  {
   "cell_type": "code",
   "execution_count": 5,
   "metadata": {},
   "outputs": [],
   "source": [
    "# Scale the data\n",
    "sc = StandardScaler()\n",
    "sc.fit(df)\n",
    "sc_data = sc.transform(df)"
   ]
  },
  {
   "cell_type": "code",
   "execution_count": 6,
   "metadata": {},
   "outputs": [
    {
     "data": {
      "text/plain": [
       "((569, 30), (569, 2))"
      ]
     },
     "execution_count": 6,
     "metadata": {},
     "output_type": "execute_result"
    }
   ],
   "source": [
    "# Apply PCA\n",
    "pca = PCA(n_components=2)\n",
    "pca.fit(sc_data)\n",
    "xpca = pca.transform(sc_data)\n",
    "sc_data.shape, xpca.shape"
   ]
  },
  {
   "cell_type": "code",
   "execution_count": 7,
   "metadata": {},
   "outputs": [
    {
     "data": {
      "image/png": "[encoded data removed]",
      "text/plain": [
       "<Figure size 576x432 with 1 Axes>"
      ]
     },
     "metadata": {},
     "output_type": "display_data"
    }
   ],
   "source": [
    "# Visualize Data\n",
    "plt.figure(figsize=(8,6))\n",
    "plt.scatter(xpca[:,0], xpca[:,1], c=cancer['target'], cmap='plasma')\n",
    "plt.xlabel('PC-1')\n",
    "plt.ylabel('PC-2')\n",
    "plt.show()"
   ]
  },
  {
   "cell_type": "code",
   "execution_count": 8,
   "metadata": {},
   "outputs": [
    {
     "data": {
      "text/plain": [
       "array([[ 0.21890244,  0.10372458,  0.22753729,  0.22099499,  0.14258969,\n",
       "         0.23928535,  0.25840048,  0.26085376,  0.13816696,  0.06436335,\n",
       "         0.20597878,  0.01742803,  0.21132592,  0.20286964,  0.01453145,\n",
       "         0.17039345,  0.15358979,  0.1834174 ,  0.04249842,  0.10256832,\n",
       "         0.22799663,  0.10446933,  0.23663968,  0.22487053,  0.12795256,\n",
       "         0.21009588,  0.22876753,  0.25088597,  0.12290456,  0.13178394],\n",
       "       [-0.23385713, -0.05970609, -0.21518136, -0.23107671,  0.18611302,\n",
       "         0.15189161,  0.06016536, -0.0347675 ,  0.19034877,  0.36657547,\n",
       "        -0.10555215,  0.08997968, -0.08945723, -0.15229263,  0.20443045,\n",
       "         0.2327159 ,  0.19720728,  0.13032156,  0.183848  ,  0.28009203,\n",
       "        -0.21986638, -0.0454673 , -0.19987843, -0.21935186,  0.17230435,\n",
       "         0.14359317,  0.09796411, -0.00825724,  0.14188335,  0.27533947]])"
      ]
     },
     "execution_count": 8,
     "metadata": {},
     "output_type": "execute_result"
    }
   ],
   "source": [
    "# Show Eigenvectors\n",
    "pca.components_"
   ]
  },
  {
   "cell_type": "code",
   "execution_count": 9,
   "metadata": {},
   "outputs": [
    {
     "data": {
      "image/png": "[encoded data removed]",
      "text/plain": [
       "<Figure size 864x432 with 2 Axes>"
      ]
     },
     "metadata": {},
     "output_type": "display_data"
    }
   ],
   "source": [
    "df_components = pd.DataFrame(pca.components_,columns=cancer['feature_names'])\n",
    "df_components\n",
    "plt.figure(figsize=(12,6))\n",
    "sns.heatmap(df_components, cmap='plasma')\n",
    "plt.show()"
   ]
  },
  {
   "cell_type": "markdown",
   "metadata": {},
   "source": [
    "### Own Implementation of a Dimensional Reduction"
   ]
  },
  {
   "cell_type": "code",
   "execution_count": 10,
   "metadata": {},
   "outputs": [],
   "source": [
    "# Scale Data\n",
    "X = sc_data.T"
   ]
  },
  {
   "cell_type": "code",
   "execution_count": 11,
   "metadata": {},
   "outputs": [
    {
     "name": "stdout",
     "output_type": "stream",
     "text": [
      "Eigenvalues: v=\n",
      " [  7.55723477e+03   3.23838077e+03   1.60341297e+03   1.12698443e+03\n",
      "   9.38127682e+02   6.86985912e+02   3.84200245e+02   2.71195153e+02\n",
      "   2.37213148e+02   1.99544577e+02   1.67238031e+02   1.48600820e+02\n",
      "   1.37332415e+02   8.93385328e+01   5.35627951e+01   4.54419337e+01\n",
      "   3.37980525e+01   2.99400878e+01   2.81527497e+01   7.57025042e-02\n",
      "   4.26068962e-01   9.04333249e-01   3.92636394e+00   4.65307708e+00\n",
      "   8.80884341e+00   1.02732990e+01   1.38499367e+01   1.56130200e+01\n",
      "   1.77297000e+01   1.70545766e+01] \n",
      "\n",
      "Eigenvectors W=\n",
      " [[  2.18902444e-01  -2.33857132e-01  -8.53124284e-03   4.14089623e-02\n",
      "   -3.77863538e-02   1.87407904e-02   1.24088340e-01   7.45229622e-03\n",
      "   -2.23109764e-01   9.54864432e-02   4.14714866e-02   5.10674568e-02\n",
      "    1.19672116e-02  -5.95061348e-02  -5.11187749e-02   1.50583883e-01\n",
      "   -2.02924255e-01  -1.46712338e-01   2.25384659e-01   7.02414091e-01\n",
      "   -2.11460455e-01   2.11194013e-01   1.31526670e-01  -1.29476396e-01\n",
      "   -1.92264989e-02   1.82579441e-01   9.85526942e-02  -7.29289034e-02\n",
      "   -4.96986642e-02   6.85700057e-02]\n",
      " [  1.03724578e-01  -5.97060883e-02   6.45499033e-02  -6.03050001e-01\n",
      "    4.94688505e-02  -3.21788366e-02  -1.13995382e-02  -1.30674825e-01\n",
      "    1.12699390e-01   2.40934066e-01  -3.02243402e-01   2.54896423e-01\n",
      "    2.03461333e-01   2.15600995e-02  -1.07922421e-01   1.57841960e-01\n",
      "    3.87061187e-02   4.11029851e-02   2.97886446e-02   2.73661018e-04\n",
      "    1.05339342e-02  -6.58114593e-05   1.73573093e-02  -2.45566636e-02\n",
      "    8.47459309e-02  -9.87867898e-02   5.54997454e-04  -9.48006326e-02\n",
      "   -2.44134993e-01  -4.48369467e-01]\n",
      " [  2.27537293e-01  -2.15181361e-01  -9.31421972e-03   4.19830991e-02\n",
      "   -3.73746632e-02   1.73084449e-02   1.14477057e-01   1.86872582e-02\n",
      "   -2.23739213e-01   8.63856150e-02   1.67826374e-02   3.89261058e-02\n",
      "    4.41095034e-02  -4.85138123e-02  -3.99029358e-02   1.14453955e-01\n",
      "   -1.94821310e-01  -1.58317455e-01   2.39595276e-01  -6.89896968e-01\n",
      "   -3.83826098e-01   8.43382663e-02   1.15415423e-01  -1.25255946e-01\n",
      "    2.70154137e-02   1.16648876e-01   4.02447050e-02  -7.51604777e-02\n",
      "   -1.76650122e-02   6.97690429e-02]\n",
      " [  2.20994985e-01  -2.31076711e-01   2.86995259e-02   5.34337955e-02\n",
      "   -1.03312514e-02  -1.88774796e-03   5.16534275e-02  -3.46736038e-02\n",
      "   -1.95586014e-01   7.49564886e-02   1.10169643e-01   6.54375082e-02\n",
      "    6.73757374e-02  -1.08308292e-02   1.39669069e-02   1.32448032e-01\n",
      "   -2.55705763e-01  -2.66168105e-01  -2.73221894e-02  -3.29473482e-02\n",
      "    4.22794920e-01  -2.72508323e-01  -4.66612477e-01   3.62727403e-01\n",
      "   -2.10040780e-01  -6.98483369e-02  -7.77727342e-03  -9.75657781e-02\n",
      "   -9.01437617e-02   1.84432785e-02]\n",
      " [  1.42589694e-01   1.86113023e-01  -1.04291904e-01   1.59382765e-01\n",
      "    3.65088528e-01  -2.86374497e-01   1.40668993e-01   2.88974575e-01\n",
      "    6.42472194e-03  -6.92926813e-02  -1.37021842e-01   3.16727211e-01\n",
      "    4.55736020e-02  -4.45064860e-01  -1.18143364e-01   2.04613247e-01\n",
      "   -1.67929914e-01   3.52226802e-01  -1.64565843e-01  -4.84745766e-03\n",
      "    3.43466700e-03   1.47926883e-03  -6.96899233e-02  -3.70036864e-02\n",
      "    2.89548850e-02  -6.86974224e-02   2.06657211e-02  -6.38229479e-02\n",
      "    1.71009601e-02   1.19491747e-01]\n",
      " [  2.39285354e-01   1.51891610e-01  -7.40915709e-02   3.17945811e-02\n",
      "   -1.17039713e-02  -1.41309489e-02  -3.09184960e-02   1.51396350e-01\n",
      "   -1.67841425e-01   1.29362000e-02  -3.08009633e-01  -1.04017044e-01\n",
      "    2.29281304e-01  -8.10105720e-03   2.30899962e-01  -1.70178367e-01\n",
      "    2.03077075e-02  -7.79413843e-03   2.84222358e-01   4.46741863e-02\n",
      "    4.10167739e-02  -5.46276696e-03  -9.77487054e-02   2.62808474e-01\n",
      "    3.96623231e-01   1.04135518e-01  -5.23603957e-02   9.80775567e-02\n",
      "    4.88686329e-01  -1.92621396e-01]\n",
      " [  2.58400481e-01   6.01653628e-02   2.73383798e-03   1.91227535e-02\n",
      "   -8.63754118e-02  -9.34418089e-03   1.07520443e-01   7.28272853e-02\n",
      "    4.05910064e-02  -1.35602298e-01   1.24190245e-01   6.56534798e-02\n",
      "    3.87090806e-01   1.89358699e-01  -1.28283732e-01  -2.69470206e-01\n",
      "    1.59835337e-03   2.69681105e-02   2.26636013e-03   2.51386661e-02\n",
      "    1.00147876e-02   4.55386379e-02  -3.64808397e-01  -5.48876170e-01\n",
      "   -9.69773167e-02  -4.47410568e-02  -3.24870378e-01   1.85212003e-01\n",
      "   -3.33870858e-02  -5.57175335e-03]\n",
      " [  2.60853758e-01  -3.47675005e-02  -2.55635406e-02   6.53359443e-02\n",
      "    4.38610252e-02  -5.20499505e-02   1.50482214e-01   1.52322414e-01\n",
      "   -1.11971106e-01   8.05452775e-03  -7.24460264e-02   4.25892667e-02\n",
      "    1.32138097e-01   2.44794768e-01  -2.17099194e-01  -3.80464095e-01\n",
      "   -3.45095087e-02   8.28277367e-02  -1.54972363e-01  -1.07726530e-03\n",
      "    4.20694931e-03  -8.88309714e-03   4.54699351e-01   3.87643377e-01\n",
      "   -1.86451602e-01  -8.40276972e-02   5.14087968e-02   3.11852431e-01\n",
      "   -2.35407606e-01   9.42381870e-03]\n",
      " [  1.38166959e-01   1.90348770e-01  -4.02399363e-02   6.71249840e-02\n",
      "    3.05941428e-01   3.56458461e-01   9.38911345e-02   2.31530989e-01\n",
      "    2.56040084e-01   5.72069479e-01   1.63054081e-01  -2.88865504e-01\n",
      "    1.89933673e-01  -3.07388563e-02  -7.39617071e-02   1.64661588e-01\n",
      "    1.91737848e-01  -1.73397790e-01  -5.88111647e-02  -1.28037941e-03\n",
      "    7.56986244e-03   1.43302642e-03   1.51648349e-02  -1.60440385e-02\n",
      "   -2.45836949e-02  -1.93394733e-02   5.12005770e-02   1.84067326e-02\n",
      "    2.60691555e-02   8.69384844e-02]\n",
      " [  6.43633464e-02   3.66575471e-01  -2.25740897e-02   4.85867649e-02\n",
      "    4.44243602e-02  -1.19430668e-01  -2.95760024e-01   1.77121441e-01\n",
      "   -1.23740789e-01   8.11032072e-02  -3.80482687e-02   2.36358988e-01\n",
      "    1.06239082e-01   3.77078865e-01   5.17975705e-01   4.07927860e-02\n",
      "   -5.02252456e-02  -8.78673570e-02  -5.81570509e-02  -4.75568480e-03\n",
      "   -7.30143287e-03  -6.31168651e-03   1.01244946e-01  -9.74048386e-02\n",
      "   -2.07221864e-01   1.33260547e-01   8.46898562e-02  -2.87868885e-01\n",
      "   -1.75637222e-01   7.62718362e-02]\n",
      " [  2.05978776e-01  -1.05552152e-01   2.68481387e-01   9.79412418e-02\n",
      "    1.54456496e-01  -2.56032561e-02  -3.12490037e-01  -2.25399674e-02\n",
      "    2.49985002e-01  -4.95475941e-02  -2.53570194e-02  -1.66879153e-02\n",
      "   -6.81952298e-02  -1.03474126e-02  -1.10050711e-01  -5.89057190e-02\n",
      "    1.39396866e-01   2.36216532e-01   1.75883308e-01  -8.71109373e-03\n",
      "   -1.18442112e-01  -1.92223890e-01  -2.12982901e-01   4.99770798e-02\n",
      "   -1.74930429e-01   5.58701567e-01   2.64125317e-01   1.50274681e-01\n",
      "   -9.08005031e-02  -8.63867747e-02]\n",
      " [  1.74280281e-02   8.99796818e-02   3.74633665e-01  -3.59855528e-01\n",
      "    1.91650506e-01  -2.87473145e-02   9.07553556e-02   4.75413139e-01\n",
      "   -2.46645397e-01  -2.89142742e-01   3.44944458e-01  -3.06160423e-01\n",
      "   -1.68222383e-01   1.08493473e-02   3.27527212e-02   3.45004006e-02\n",
      "   -4.39630156e-02   9.85866201e-03   3.60098518e-02  -1.07103919e-03\n",
      "    8.77627920e-03  -5.62261069e-03   1.00928890e-02  -1.12372419e-02\n",
      "    5.69864778e-02  -2.42672970e-02   8.73880467e-04  -4.84569345e-02\n",
      "   -7.16599878e-02  -2.17071967e-01]\n",
      " [  2.11325916e-01  -8.94572342e-02   2.66645367e-01   8.89924146e-02\n",
      "    1.20990220e-01   1.81071500e-03  -3.14640390e-01   1.18966905e-02\n",
      "    2.27154024e-01  -1.14508236e-01  -1.67318771e-01  -1.01446828e-01\n",
      "   -3.78439858e-02   4.55237175e-02  -8.26808881e-03  -2.65166513e-02\n",
      "    2.46356391e-02   2.59288003e-02   3.65701538e-01   1.37293906e-02\n",
      "    6.10021933e-03   2.63191868e-01  -4.16915529e-02   1.03653282e-01\n",
      "    7.29276412e-02  -5.16750385e-01  -9.00742110e-02  -1.59352804e-01\n",
      "   -1.77250625e-01   3.04950158e-01]\n",
      " [  2.02869635e-01  -1.52292628e-01   2.16006528e-01   1.08205039e-01\n",
      "    1.27574432e-01  -4.28639079e-02  -3.46679003e-01  -8.58051345e-02\n",
      "    2.29160015e-01  -9.19278886e-02   5.16194632e-02  -1.76792177e-02\n",
      "    5.60649318e-02  -8.35707181e-02  -4.60243656e-02  -4.11532265e-02\n",
      "   -3.34418173e-01  -3.04906903e-01  -4.16572314e-01   1.10532603e-03\n",
      "    8.59259138e-02  -4.20681051e-02   3.13358657e-01  -1.55304589e-01\n",
      "    1.31850405e-01   2.24607172e-02  -9.82150746e-02  -6.42326151e-02\n",
      "    2.74201148e-01  -1.92587786e-01]\n",
      " [  1.45314521e-02   2.04430453e-01   3.08838979e-01   4.46641797e-02\n",
      "    2.32065676e-01  -3.42917393e-01   2.44024056e-01  -5.73410232e-01\n",
      "   -1.41924890e-01   1.60884609e-01   8.42062106e-02  -2.94710053e-01\n",
      "    1.50441434e-01   2.01152530e-01   1.85594647e-02   5.80390613e-02\n",
      "   -1.39595006e-01   2.31259943e-01  -1.32600886e-02  -1.60821086e-03\n",
      "   -1.77638619e-03   9.79296328e-03   9.05215355e-03  -7.71755717e-03\n",
      "    3.12107028e-02  -1.56311888e-02   5.98177179e-02  -5.05449015e-02\n",
      "    9.00614773e-02   7.20987261e-02]\n",
      " [  1.70393451e-01   2.32715896e-01   1.54779718e-01  -2.74693632e-02\n",
      "   -2.79968156e-01   6.91975186e-02  -2.34635340e-02  -1.17460157e-01\n",
      "   -1.45322810e-01   4.35048658e-02  -2.06885680e-01  -2.63456509e-01\n",
      "    1.00401699e-02  -4.91755932e-01   1.68209315e-01  -1.89830896e-01\n",
      "    8.24647717e-03  -1.00474235e-01  -2.42448176e-01   1.91562235e-03\n",
      "   -3.15813441e-03  -1.53955481e-02  -4.65360884e-02  -4.97276317e-02\n",
      "    1.73164553e-01   1.21777792e-01  -9.10387102e-03   4.52876920e-02\n",
      "   -4.61098220e-01   1.40386572e-01]\n",
      " [  1.53589790e-01   1.97207283e-01   1.76463743e-01   1.31687997e-03\n",
      "   -3.53982091e-01   5.63432386e-02   2.08823790e-01  -6.05665008e-02\n",
      "    3.58107079e-01  -1.41276243e-01   3.49517943e-01   2.51146975e-01\n",
      "    1.58783192e-01  -1.34586924e-01   2.50471408e-01   1.25420649e-01\n",
      "   -8.46167156e-02   1.95485228e-04   1.26381025e-01  -8.92652653e-03\n",
      "   -1.60785207e-02   5.82097800e-03   8.42247975e-02   9.14549680e-02\n",
      "    1.59399802e-02  -1.88205036e-01   3.87542329e-01   2.05212693e-01\n",
      "    6.69461742e-02  -6.30479298e-02]\n",
      " [  1.83417397e-01   1.30321560e-01   2.24657567e-01   7.40673350e-02\n",
      "   -1.95548089e-01  -3.12244482e-02   3.69645937e-01   1.08319309e-01\n",
      "    2.72519886e-01   8.62408470e-02  -3.42375908e-01  -6.45875122e-03\n",
      "   -4.94026741e-01   1.99666719e-01   6.20793442e-02   1.98810346e-01\n",
      "   -1.08132263e-01  -4.60549116e-02  -1.21642969e-02  -2.16019727e-03\n",
      "    2.39377870e-02  -2.90093001e-02   1.11655093e-02  -1.79419192e-02\n",
      "   -1.29546547e-01   1.09668978e-01  -3.51755074e-01   7.25453753e-02\n",
      "    6.88682942e-02  -3.43753236e-02]\n",
      " [  4.24984216e-02   1.83848000e-01   2.88584292e-01   4.40733510e-02\n",
      "    2.52868765e-01   4.90245643e-01   8.03822539e-02  -2.20149279e-01\n",
      "   -3.04077200e-01  -3.16529830e-01  -1.87844043e-01   3.20571348e-01\n",
      "    1.03327412e-02   4.68643826e-02  -1.13383199e-01   1.57711497e-01\n",
      "    2.74059129e-01  -1.87014764e-01  -8.90392949e-02   3.29389752e-04\n",
      "    5.22329189e-03  -7.63652550e-03   1.99759830e-02  -1.72678486e-02\n",
      "   -1.95149333e-02  -3.22620011e-03   4.23628949e-02   8.46544307e-02\n",
      "    1.07385289e-01   9.76995265e-02]\n",
      " [  1.02568322e-01   2.80092027e-01   2.11503764e-01   1.53047496e-02\n",
      "   -2.63297438e-01  -5.31952674e-02  -1.91394973e-01  -1.11681884e-02\n",
      "   -2.13722716e-01   3.67541918e-01   2.50624789e-01   2.76165974e-01\n",
      "   -2.40458323e-01  -1.45652466e-01  -3.53232211e-01  -2.68553878e-01\n",
      "    1.22733398e-01   5.98230982e-02   8.66008430e-02   1.79895682e-03\n",
      "    8.34191154e-03   1.97564555e-02   1.20365640e-02   3.54889745e-02\n",
      "   -8.41712034e-02  -7.51944193e-02  -8.57810992e-02  -2.44705083e-01\n",
      "    2.22345297e-01  -6.28432814e-02]\n",
      " [  2.27996634e-01  -2.19866379e-01  -4.75069900e-02   1.54172396e-02\n",
      "    4.40659209e-03  -2.90684919e-04   9.70993602e-03  -4.26194163e-02\n",
      "   -1.12141463e-01   7.73616428e-02   1.05067333e-01   3.96796652e-02\n",
      "   -1.37890527e-01  -2.31012813e-02   1.66567074e-01   8.15605686e-02\n",
      "    2.40049982e-01   2.16101353e-01   1.36613039e-02  -1.35643056e-01\n",
      "    6.35724917e-01   4.12639581e-01   1.78666740e-01  -1.97054744e-01\n",
      "    7.07097238e-02   1.56830365e-01   5.56767923e-02   9.62982088e-02\n",
      "   -5.62690874e-03  -7.29389953e-03]\n",
      " [  1.04469325e-01  -4.54672983e-02  -4.22978228e-02  -6.32807885e-01\n",
      "    9.28834001e-02  -5.00080613e-02  -9.87074388e-03  -3.62516360e-02\n",
      "    1.03341204e-01   2.95509413e-02   1.31572736e-02   7.97974499e-02\n",
      "   -8.01454315e-02  -5.34307917e-02   1.01115399e-01  -1.85557852e-01\n",
      "   -6.93651855e-02  -5.83984505e-02  -7.58669276e-02   1.02053601e-03\n",
      "   -1.72354925e-02  -3.90250926e-04  -2.14106944e-02   3.64694332e-02\n",
      "   -1.18189721e-01   1.18484602e-01   8.92289971e-03   1.11112024e-01\n",
      "    3.00599798e-01   5.94440143e-01]\n",
      " [  2.36639681e-01  -1.99878428e-01  -4.85465083e-02   1.38027944e-02\n",
      "   -7.45415100e-03   8.50098715e-03   4.45726717e-04  -3.05585340e-02\n",
      "   -1.09614364e-01   5.05083335e-02   5.10762807e-02  -8.98773800e-03\n",
      "   -9.69657077e-02  -1.22193824e-02   1.82755198e-01   5.48570473e-02\n",
      "    2.34164147e-01   1.88543592e-01   9.08132490e-02   7.97438536e-02\n",
      "   -2.29218029e-02  -7.28680898e-01   2.41031046e-01  -2.44103670e-01\n",
      "    1.18034029e-01  -2.37113167e-01  -6.33448296e-02  -1.72216251e-02\n",
      "    1.10038577e-02   9.20235990e-02]\n",
      " [  2.24870533e-01  -2.19351858e-01  -1.19023182e-02   2.58947492e-02\n",
      "    2.73909030e-02  -2.51643821e-02  -6.78316595e-02  -7.93942456e-02\n",
      "   -8.07324609e-02   6.99211523e-02   1.84598937e-01   4.80886567e-02\n",
      "   -1.01160611e-01   6.68546458e-03   3.14993600e-01   9.06533944e-02\n",
      "    2.73399584e-01   1.42064856e-01  -4.10047202e-01   3.97422838e-02\n",
      "   -4.44935933e-01   2.38960316e-01  -2.37162466e-01   2.31359525e-01\n",
      "   -3.82899511e-02  -1.44063033e-01  -1.90889625e-01   9.69598236e-02\n",
      "    6.00473870e-02  -1.46790132e-01]\n",
      " [  1.27952561e-01   1.72304352e-01  -2.59797613e-01   1.76522161e-02\n",
      "    3.24435445e-01  -3.69255370e-01   1.08830886e-01  -2.05852191e-01\n",
      "    1.12315904e-01  -1.28304659e-01   1.43890349e-01   5.65148662e-02\n",
      "   -2.05130344e-01  -1.62235443e-01   4.61258656e-02  -1.45551659e-01\n",
      "    2.78030197e-01  -5.01551675e-01   2.34513845e-01   4.58327731e-03\n",
      "   -7.38549171e-03  -1.53524821e-03   4.08535683e-02   1.26024637e-02\n",
      "   -4.79647647e-02   1.09901386e-02  -9.36901494e-02   6.82540931e-02\n",
      "   -1.29723903e-01  -1.64849237e-01]\n",
      " [  2.10095880e-01   1.43593173e-01  -2.36075625e-01  -9.13284153e-02\n",
      "   -1.21804107e-01   4.77057929e-02  -1.40472938e-01  -8.40196588e-02\n",
      "   -1.00677822e-01  -1.72133632e-01  -1.97420469e-01  -3.71662503e-01\n",
      "    1.22793095e-02  -1.66470250e-01  -4.99560142e-02   1.53734861e-01\n",
      "    4.03712272e-03   7.35745143e-02   2.02007041e-02  -1.28415624e-02\n",
      "   -3.56690395e-06   4.86918180e-02   7.05054136e-02  -1.00463424e-01\n",
      "   -6.24384938e-01  -1.86749953e-01   1.47920925e-01  -2.96764124e-02\n",
      "    2.29280589e-01  -1.81374867e-01]\n",
      " [  2.28767533e-01   9.79641143e-02  -1.73057335e-01  -7.39511797e-02\n",
      "   -1.88518727e-01   2.83792555e-02   6.04880561e-02  -7.24678714e-02\n",
      "    1.61908621e-01  -3.11638520e-01   1.85016760e-01  -8.70345324e-02\n",
      "    2.17984329e-01   6.67989309e-02  -2.04835886e-01   2.15021948e-01\n",
      "    1.91313419e-01   1.03907980e-01  -4.57861197e-02   4.02139168e-04\n",
      "    1.26757226e-02  -1.76408967e-02   1.42905801e-01   2.66853781e-01\n",
      "    1.15770341e-01   2.88852570e-01  -2.86433135e-01  -4.60426186e-01\n",
      "   -4.64827918e-02   1.32100595e-01]\n",
      " [  2.50885971e-01  -8.25723507e-03  -1.70344076e-01   6.00699571e-03\n",
      "   -4.33320687e-02  -3.08734498e-02   1.67966619e-01   3.61707954e-02\n",
      "    6.04884615e-02  -7.66482910e-02  -1.17772055e-01  -6.81253543e-02\n",
      "   -2.54387490e-01   2.76418891e-01  -1.69499607e-01  -1.78141741e-01\n",
      "    7.54853164e-02  -7.58138963e-02  -2.60229625e-01  -2.28844179e-03\n",
      "   -3.52404543e-02   2.24756680e-02  -2.30901389e-01  -1.33574507e-01\n",
      "    2.63196337e-01  -1.07340243e-01   5.67527797e-01  -2.99840557e-01\n",
      "    3.30223397e-02  -8.86081478e-04]\n",
      " [  1.22904556e-01   1.41883349e-01  -2.71312642e-01  -3.62506947e-02\n",
      "    2.44558663e-01   4.98926784e-01   1.84906298e-02  -2.28225053e-01\n",
      "    6.46378061e-02  -2.95630751e-02   1.57560248e-01   4.40335026e-02\n",
      "   -2.56534905e-01  -5.35557351e-03   1.39888394e-01  -2.57894009e-01\n",
      "   -4.30658116e-01   2.78713843e-01   1.17250532e-01   3.95443454e-04\n",
      "   -1.34042283e-02   4.92048082e-03  -2.27904438e-02   2.81842956e-02\n",
      "    4.52996243e-02   1.43818093e-02  -1.21343451e-01  -9.71448437e-02\n",
      "   -1.16759236e-01  -1.62708549e-01]\n",
      " [  1.31783943e-01   2.75339469e-01  -2.32791313e-01  -7.70534703e-02\n",
      "   -9.44233510e-02  -8.02235245e-02  -3.74657626e-01  -4.83606666e-02\n",
      "   -1.34174175e-01   1.26095791e-02   1.18283551e-01  -3.47316933e-02\n",
      "   -1.72814238e-01   2.12104110e-01  -2.56173195e-01   4.05556492e-01\n",
      "   -1.59394300e-01  -2.35647497e-02  -1.14944811e-02   1.89429245e-03\n",
      "   -1.14776603e-02  -2.35621424e-02  -5.99859979e-02   4.52048188e-03\n",
      "    2.80133485e-01  -3.78254532e-02  -7.62533821e-03   4.69471147e-01\n",
      "   -1.04991974e-01   9.23439434e-02]]\n"
     ]
    }
   ],
   "source": [
    "# Compute the eigen values and the eigen vectors:\n",
    "sigma = np.dot(X, X.T)\n",
    "v, W = np.linalg.eig(sigma)\n",
    "print('Eigenvalues: v=\\n', v, '\\n')\n",
    "print('Eigenvectors W=\\n', W)"
   ]
  },
  {
   "cell_type": "code",
   "execution_count": 12,
   "metadata": {},
   "outputs": [
    {
     "name": "stdout",
     "output_type": "stream",
     "text": [
      "[  7.55723477e+03   3.23838077e+03   1.60341297e+03   1.12698443e+03\n",
      "   9.38127682e+02   6.86985912e+02   3.84200245e+02   2.71195153e+02\n",
      "   2.37213148e+02   1.99544577e+02   1.67238031e+02   1.48600820e+02\n",
      "   1.37332415e+02   8.93385328e+01   5.35627951e+01   4.54419337e+01\n",
      "   3.37980525e+01   2.99400878e+01   2.81527497e+01   1.77297000e+01\n",
      "   1.70545766e+01   1.56130200e+01   1.38499367e+01   1.02732990e+01\n",
      "   8.80884341e+00   4.65307708e+00   3.92636394e+00   9.04333249e-01\n",
      "   4.26068962e-01   7.57025042e-02] \n",
      " [[  2.18902444e-01  -2.33857132e-01  -8.53124284e-03   4.14089623e-02\n",
      "   -3.77863538e-02   1.87407904e-02   1.24088340e-01   7.45229622e-03\n",
      "   -2.23109764e-01   9.54864432e-02   4.14714866e-02   5.10674568e-02\n",
      "    1.19672116e-02  -5.95061348e-02  -5.11187749e-02   1.50583883e-01\n",
      "   -2.02924255e-01  -1.46712338e-01   2.25384659e-01  -4.96986642e-02\n",
      "    6.85700057e-02  -7.29289034e-02   9.85526942e-02   1.82579441e-01\n",
      "   -1.92264989e-02  -1.29476396e-01   1.31526670e-01   2.11194013e-01\n",
      "   -2.11460455e-01   7.02414091e-01]\n",
      " [  1.03724578e-01  -5.97060883e-02   6.45499033e-02  -6.03050001e-01\n",
      "    4.94688505e-02  -3.21788366e-02  -1.13995382e-02  -1.30674825e-01\n",
      "    1.12699390e-01   2.40934066e-01  -3.02243402e-01   2.54896423e-01\n",
      "    2.03461333e-01   2.15600995e-02  -1.07922421e-01   1.57841960e-01\n",
      "    3.87061187e-02   4.11029851e-02   2.97886446e-02  -2.44134993e-01\n",
      "   -4.48369467e-01  -9.48006326e-02   5.54997454e-04  -9.87867898e-02\n",
      "    8.47459309e-02  -2.45566636e-02   1.73573093e-02  -6.58114593e-05\n",
      "    1.05339342e-02   2.73661018e-04]\n",
      " [  2.27537293e-01  -2.15181361e-01  -9.31421972e-03   4.19830991e-02\n",
      "   -3.73746632e-02   1.73084449e-02   1.14477057e-01   1.86872582e-02\n",
      "   -2.23739213e-01   8.63856150e-02   1.67826374e-02   3.89261058e-02\n",
      "    4.41095034e-02  -4.85138123e-02  -3.99029358e-02   1.14453955e-01\n",
      "   -1.94821310e-01  -1.58317455e-01   2.39595276e-01  -1.76650122e-02\n",
      "    6.97690429e-02  -7.51604777e-02   4.02447050e-02   1.16648876e-01\n",
      "    2.70154137e-02  -1.25255946e-01   1.15415423e-01   8.43382663e-02\n",
      "   -3.83826098e-01  -6.89896968e-01]\n",
      " [  2.20994985e-01  -2.31076711e-01   2.86995259e-02   5.34337955e-02\n",
      "   -1.03312514e-02  -1.88774796e-03   5.16534275e-02  -3.46736038e-02\n",
      "   -1.95586014e-01   7.49564886e-02   1.10169643e-01   6.54375082e-02\n",
      "    6.73757374e-02  -1.08308292e-02   1.39669069e-02   1.32448032e-01\n",
      "   -2.55705763e-01  -2.66168105e-01  -2.73221894e-02  -9.01437617e-02\n",
      "    1.84432785e-02  -9.75657781e-02  -7.77727342e-03  -6.98483369e-02\n",
      "   -2.10040780e-01   3.62727403e-01  -4.66612477e-01  -2.72508323e-01\n",
      "    4.22794920e-01  -3.29473482e-02]\n",
      " [  1.42589694e-01   1.86113023e-01  -1.04291904e-01   1.59382765e-01\n",
      "    3.65088528e-01  -2.86374497e-01   1.40668993e-01   2.88974575e-01\n",
      "    6.42472194e-03  -6.92926813e-02  -1.37021842e-01   3.16727211e-01\n",
      "    4.55736020e-02  -4.45064860e-01  -1.18143364e-01   2.04613247e-01\n",
      "   -1.67929914e-01   3.52226802e-01  -1.64565843e-01   1.71009601e-02\n",
      "    1.19491747e-01  -6.38229479e-02   2.06657211e-02  -6.86974224e-02\n",
      "    2.89548850e-02  -3.70036864e-02  -6.96899233e-02   1.47926883e-03\n",
      "    3.43466700e-03  -4.84745766e-03]\n",
      " [  2.39285354e-01   1.51891610e-01  -7.40915709e-02   3.17945811e-02\n",
      "   -1.17039713e-02  -1.41309489e-02  -3.09184960e-02   1.51396350e-01\n",
      "   -1.67841425e-01   1.29362000e-02  -3.08009633e-01  -1.04017044e-01\n",
      "    2.29281304e-01  -8.10105720e-03   2.30899962e-01  -1.70178367e-01\n",
      "    2.03077075e-02  -7.79413843e-03   2.84222358e-01   4.88686329e-01\n",
      "   -1.92621396e-01   9.80775567e-02  -5.23603957e-02   1.04135518e-01\n",
      "    3.96623231e-01   2.62808474e-01  -9.77487054e-02  -5.46276696e-03\n",
      "    4.10167739e-02   4.46741863e-02]\n",
      " [  2.58400481e-01   6.01653628e-02   2.73383798e-03   1.91227535e-02\n",
      "   -8.63754118e-02  -9.34418089e-03   1.07520443e-01   7.28272853e-02\n",
      "    4.05910064e-02  -1.35602298e-01   1.24190245e-01   6.56534798e-02\n",
      "    3.87090806e-01   1.89358699e-01  -1.28283732e-01  -2.69470206e-01\n",
      "    1.59835337e-03   2.69681105e-02   2.26636013e-03  -3.33870858e-02\n",
      "   -5.57175335e-03   1.85212003e-01  -3.24870378e-01  -4.47410568e-02\n",
      "   -9.69773167e-02  -5.48876170e-01  -3.64808397e-01   4.55386379e-02\n",
      "    1.00147876e-02   2.51386661e-02]\n",
      " [  2.60853758e-01  -3.47675005e-02  -2.55635406e-02   6.53359443e-02\n",
      "    4.38610252e-02  -5.20499505e-02   1.50482214e-01   1.52322414e-01\n",
      "   -1.11971106e-01   8.05452775e-03  -7.24460264e-02   4.25892667e-02\n",
      "    1.32138097e-01   2.44794768e-01  -2.17099194e-01  -3.80464095e-01\n",
      "   -3.45095087e-02   8.28277367e-02  -1.54972363e-01  -2.35407606e-01\n",
      "    9.42381870e-03   3.11852431e-01   5.14087968e-02  -8.40276972e-02\n",
      "   -1.86451602e-01   3.87643377e-01   4.54699351e-01  -8.88309714e-03\n",
      "    4.20694931e-03  -1.07726530e-03]\n",
      " [  1.38166959e-01   1.90348770e-01  -4.02399363e-02   6.71249840e-02\n",
      "    3.05941428e-01   3.56458461e-01   9.38911345e-02   2.31530989e-01\n",
      "    2.56040084e-01   5.72069479e-01   1.63054081e-01  -2.88865504e-01\n",
      "    1.89933673e-01  -3.07388563e-02  -7.39617071e-02   1.64661588e-01\n",
      "    1.91737848e-01  -1.73397790e-01  -5.88111647e-02   2.60691555e-02\n",
      "    8.69384844e-02   1.84067326e-02   5.12005770e-02  -1.93394733e-02\n",
      "   -2.45836949e-02  -1.60440385e-02   1.51648349e-02   1.43302642e-03\n",
      "    7.56986244e-03  -1.28037941e-03]\n",
      " [  6.43633464e-02   3.66575471e-01  -2.25740897e-02   4.85867649e-02\n",
      "    4.44243602e-02  -1.19430668e-01  -2.95760024e-01   1.77121441e-01\n",
      "   -1.23740789e-01   8.11032072e-02  -3.80482687e-02   2.36358988e-01\n",
      "    1.06239082e-01   3.77078865e-01   5.17975705e-01   4.07927860e-02\n",
      "   -5.02252456e-02  -8.78673570e-02  -5.81570509e-02  -1.75637222e-01\n",
      "    7.62718362e-02  -2.87868885e-01   8.46898562e-02   1.33260547e-01\n",
      "   -2.07221864e-01  -9.74048386e-02   1.01244946e-01  -6.31168651e-03\n",
      "   -7.30143287e-03  -4.75568480e-03]\n",
      " [  2.05978776e-01  -1.05552152e-01   2.68481387e-01   9.79412418e-02\n",
      "    1.54456496e-01  -2.56032561e-02  -3.12490037e-01  -2.25399674e-02\n",
      "    2.49985002e-01  -4.95475941e-02  -2.53570194e-02  -1.66879153e-02\n",
      "   -6.81952298e-02  -1.03474126e-02  -1.10050711e-01  -5.89057190e-02\n",
      "    1.39396866e-01   2.36216532e-01   1.75883308e-01  -9.08005031e-02\n",
      "   -8.63867747e-02   1.50274681e-01   2.64125317e-01   5.58701567e-01\n",
      "   -1.74930429e-01   4.99770798e-02  -2.12982901e-01  -1.92223890e-01\n",
      "   -1.18442112e-01  -8.71109373e-03]\n",
      " [  1.74280281e-02   8.99796818e-02   3.74633665e-01  -3.59855528e-01\n",
      "    1.91650506e-01  -2.87473145e-02   9.07553556e-02   4.75413139e-01\n",
      "   -2.46645397e-01  -2.89142742e-01   3.44944458e-01  -3.06160423e-01\n",
      "   -1.68222383e-01   1.08493473e-02   3.27527212e-02   3.45004006e-02\n",
      "   -4.39630156e-02   9.85866201e-03   3.60098518e-02  -7.16599878e-02\n",
      "   -2.17071967e-01  -4.84569345e-02   8.73880467e-04  -2.42672970e-02\n",
      "    5.69864778e-02  -1.12372419e-02   1.00928890e-02  -5.62261069e-03\n",
      "    8.77627920e-03  -1.07103919e-03]\n",
      " [  2.11325916e-01  -8.94572342e-02   2.66645367e-01   8.89924146e-02\n",
      "    1.20990220e-01   1.81071500e-03  -3.14640390e-01   1.18966905e-02\n",
      "    2.27154024e-01  -1.14508236e-01  -1.67318771e-01  -1.01446828e-01\n",
      "   -3.78439858e-02   4.55237175e-02  -8.26808881e-03  -2.65166513e-02\n",
      "    2.46356391e-02   2.59288003e-02   3.65701538e-01  -1.77250625e-01\n",
      "    3.04950158e-01  -1.59352804e-01  -9.00742110e-02  -5.16750385e-01\n",
      "    7.29276412e-02   1.03653282e-01  -4.16915529e-02   2.63191868e-01\n",
      "    6.10021933e-03   1.37293906e-02]\n",
      " [  2.02869635e-01  -1.52292628e-01   2.16006528e-01   1.08205039e-01\n",
      "    1.27574432e-01  -4.28639079e-02  -3.46679003e-01  -8.58051345e-02\n",
      "    2.29160015e-01  -9.19278886e-02   5.16194632e-02  -1.76792177e-02\n",
      "    5.60649318e-02  -8.35707181e-02  -4.60243656e-02  -4.11532265e-02\n",
      "   -3.34418173e-01  -3.04906903e-01  -4.16572314e-01   2.74201148e-01\n",
      "   -1.92587786e-01  -6.42326151e-02  -9.82150746e-02   2.24607172e-02\n",
      "    1.31850405e-01  -1.55304589e-01   3.13358657e-01  -4.20681051e-02\n",
      "    8.59259138e-02   1.10532603e-03]\n",
      " [  1.45314521e-02   2.04430453e-01   3.08838979e-01   4.46641797e-02\n",
      "    2.32065676e-01  -3.42917393e-01   2.44024056e-01  -5.73410232e-01\n",
      "   -1.41924890e-01   1.60884609e-01   8.42062106e-02  -2.94710053e-01\n",
      "    1.50441434e-01   2.01152530e-01   1.85594647e-02   5.80390613e-02\n",
      "   -1.39595006e-01   2.31259943e-01  -1.32600886e-02   9.00614773e-02\n",
      "    7.20987261e-02  -5.05449015e-02   5.98177179e-02  -1.56311888e-02\n",
      "    3.12107028e-02  -7.71755717e-03   9.05215355e-03   9.79296328e-03\n",
      "   -1.77638619e-03  -1.60821086e-03]\n",
      " [  1.70393451e-01   2.32715896e-01   1.54779718e-01  -2.74693632e-02\n",
      "   -2.79968156e-01   6.91975186e-02  -2.34635340e-02  -1.17460157e-01\n",
      "   -1.45322810e-01   4.35048658e-02  -2.06885680e-01  -2.63456509e-01\n",
      "    1.00401699e-02  -4.91755932e-01   1.68209315e-01  -1.89830896e-01\n",
      "    8.24647717e-03  -1.00474235e-01  -2.42448176e-01  -4.61098220e-01\n",
      "    1.40386572e-01   4.52876920e-02  -9.10387102e-03   1.21777792e-01\n",
      "    1.73164553e-01  -4.97276317e-02  -4.65360884e-02  -1.53955481e-02\n",
      "   -3.15813441e-03   1.91562235e-03]\n",
      " [  1.53589790e-01   1.97207283e-01   1.76463743e-01   1.31687997e-03\n",
      "   -3.53982091e-01   5.63432386e-02   2.08823790e-01  -6.05665008e-02\n",
      "    3.58107079e-01  -1.41276243e-01   3.49517943e-01   2.51146975e-01\n",
      "    1.58783192e-01  -1.34586924e-01   2.50471408e-01   1.25420649e-01\n",
      "   -8.46167156e-02   1.95485228e-04   1.26381025e-01   6.69461742e-02\n",
      "   -6.30479298e-02   2.05212693e-01   3.87542329e-01  -1.88205036e-01\n",
      "    1.59399802e-02   9.14549680e-02   8.42247975e-02   5.82097800e-03\n",
      "   -1.60785207e-02  -8.92652653e-03]\n",
      " [  1.83417397e-01   1.30321560e-01   2.24657567e-01   7.40673350e-02\n",
      "   -1.95548089e-01  -3.12244482e-02   3.69645937e-01   1.08319309e-01\n",
      "    2.72519886e-01   8.62408470e-02  -3.42375908e-01  -6.45875122e-03\n",
      "   -4.94026741e-01   1.99666719e-01   6.20793442e-02   1.98810346e-01\n",
      "   -1.08132263e-01  -4.60549116e-02  -1.21642969e-02   6.88682942e-02\n",
      "   -3.43753236e-02   7.25453753e-02  -3.51755074e-01   1.09668978e-01\n",
      "   -1.29546547e-01  -1.79419192e-02   1.11655093e-02  -2.90093001e-02\n",
      "    2.39377870e-02  -2.16019727e-03]\n",
      " [  4.24984216e-02   1.83848000e-01   2.88584292e-01   4.40733510e-02\n",
      "    2.52868765e-01   4.90245643e-01   8.03822539e-02  -2.20149279e-01\n",
      "   -3.04077200e-01  -3.16529830e-01  -1.87844043e-01   3.20571348e-01\n",
      "    1.03327412e-02   4.68643826e-02  -1.13383199e-01   1.57711497e-01\n",
      "    2.74059129e-01  -1.87014764e-01  -8.90392949e-02   1.07385289e-01\n",
      "    9.76995265e-02   8.46544307e-02   4.23628949e-02  -3.22620011e-03\n",
      "   -1.95149333e-02  -1.72678486e-02   1.99759830e-02  -7.63652550e-03\n",
      "    5.22329189e-03   3.29389752e-04]\n",
      " [  1.02568322e-01   2.80092027e-01   2.11503764e-01   1.53047496e-02\n",
      "   -2.63297438e-01  -5.31952674e-02  -1.91394973e-01  -1.11681884e-02\n",
      "   -2.13722716e-01   3.67541918e-01   2.50624789e-01   2.76165974e-01\n",
      "   -2.40458323e-01  -1.45652466e-01  -3.53232211e-01  -2.68553878e-01\n",
      "    1.22733398e-01   5.98230982e-02   8.66008430e-02   2.22345297e-01\n",
      "   -6.28432814e-02  -2.44705083e-01  -8.57810992e-02  -7.51944193e-02\n",
      "   -8.41712034e-02   3.54889745e-02   1.20365640e-02   1.97564555e-02\n",
      "    8.34191154e-03   1.79895682e-03]\n",
      " [  2.27996634e-01  -2.19866379e-01  -4.75069900e-02   1.54172396e-02\n",
      "    4.40659209e-03  -2.90684919e-04   9.70993602e-03  -4.26194163e-02\n",
      "   -1.12141463e-01   7.73616428e-02   1.05067333e-01   3.96796652e-02\n",
      "   -1.37890527e-01  -2.31012813e-02   1.66567074e-01   8.15605686e-02\n",
      "    2.40049982e-01   2.16101353e-01   1.36613039e-02  -5.62690874e-03\n",
      "   -7.29389953e-03   9.62982088e-02   5.56767923e-02   1.56830365e-01\n",
      "    7.07097238e-02  -1.97054744e-01   1.78666740e-01   4.12639581e-01\n",
      "    6.35724917e-01  -1.35643056e-01]\n",
      " [  1.04469325e-01  -4.54672983e-02  -4.22978228e-02  -6.32807885e-01\n",
      "    9.28834001e-02  -5.00080613e-02  -9.87074388e-03  -3.62516360e-02\n",
      "    1.03341204e-01   2.95509413e-02   1.31572736e-02   7.97974499e-02\n",
      "   -8.01454315e-02  -5.34307917e-02   1.01115399e-01  -1.85557852e-01\n",
      "   -6.93651855e-02  -5.83984505e-02  -7.58669276e-02   3.00599798e-01\n",
      "    5.94440143e-01   1.11112024e-01   8.92289971e-03   1.18484602e-01\n",
      "   -1.18189721e-01   3.64694332e-02  -2.14106944e-02  -3.90250926e-04\n",
      "   -1.72354925e-02   1.02053601e-03]\n",
      " [  2.36639681e-01  -1.99878428e-01  -4.85465083e-02   1.38027944e-02\n",
      "   -7.45415100e-03   8.50098715e-03   4.45726717e-04  -3.05585340e-02\n",
      "   -1.09614364e-01   5.05083335e-02   5.10762807e-02  -8.98773800e-03\n",
      "   -9.69657077e-02  -1.22193824e-02   1.82755198e-01   5.48570473e-02\n",
      "    2.34164147e-01   1.88543592e-01   9.08132490e-02   1.10038577e-02\n",
      "    9.20235990e-02  -1.72216251e-02  -6.33448296e-02  -2.37113167e-01\n",
      "    1.18034029e-01  -2.44103670e-01   2.41031046e-01  -7.28680898e-01\n",
      "   -2.29218029e-02   7.97438536e-02]\n",
      " [  2.24870533e-01  -2.19351858e-01  -1.19023182e-02   2.58947492e-02\n",
      "    2.73909030e-02  -2.51643821e-02  -6.78316595e-02  -7.93942456e-02\n",
      "   -8.07324609e-02   6.99211523e-02   1.84598937e-01   4.80886567e-02\n",
      "   -1.01160611e-01   6.68546458e-03   3.14993600e-01   9.06533944e-02\n",
      "    2.73399584e-01   1.42064856e-01  -4.10047202e-01   6.00473870e-02\n",
      "   -1.46790132e-01   9.69598236e-02  -1.90889625e-01  -1.44063033e-01\n",
      "   -3.82899511e-02   2.31359525e-01  -2.37162466e-01   2.38960316e-01\n",
      "   -4.44935933e-01   3.97422838e-02]\n",
      " [  1.27952561e-01   1.72304352e-01  -2.59797613e-01   1.76522161e-02\n",
      "    3.24435445e-01  -3.69255370e-01   1.08830886e-01  -2.05852191e-01\n",
      "    1.12315904e-01  -1.28304659e-01   1.43890349e-01   5.65148662e-02\n",
      "   -2.05130344e-01  -1.62235443e-01   4.61258656e-02  -1.45551659e-01\n",
      "    2.78030197e-01  -5.01551675e-01   2.34513845e-01  -1.29723903e-01\n",
      "   -1.64849237e-01   6.82540931e-02  -9.36901494e-02   1.09901386e-02\n",
      "   -4.79647647e-02   1.26024637e-02   4.08535683e-02  -1.53524821e-03\n",
      "   -7.38549171e-03   4.58327731e-03]\n",
      " [  2.10095880e-01   1.43593173e-01  -2.36075625e-01  -9.13284153e-02\n",
      "   -1.21804107e-01   4.77057929e-02  -1.40472938e-01  -8.40196588e-02\n",
      "   -1.00677822e-01  -1.72133632e-01  -1.97420469e-01  -3.71662503e-01\n",
      "    1.22793095e-02  -1.66470250e-01  -4.99560142e-02   1.53734861e-01\n",
      "    4.03712272e-03   7.35745143e-02   2.02007041e-02   2.29280589e-01\n",
      "   -1.81374867e-01  -2.96764124e-02   1.47920925e-01  -1.86749953e-01\n",
      "   -6.24384938e-01  -1.00463424e-01   7.05054136e-02   4.86918180e-02\n",
      "   -3.56690395e-06  -1.28415624e-02]\n",
      " [  2.28767533e-01   9.79641143e-02  -1.73057335e-01  -7.39511797e-02\n",
      "   -1.88518727e-01   2.83792555e-02   6.04880561e-02  -7.24678714e-02\n",
      "    1.61908621e-01  -3.11638520e-01   1.85016760e-01  -8.70345324e-02\n",
      "    2.17984329e-01   6.67989309e-02  -2.04835886e-01   2.15021948e-01\n",
      "    1.91313419e-01   1.03907980e-01  -4.57861197e-02  -4.64827918e-02\n",
      "    1.32100595e-01  -4.60426186e-01  -2.86433135e-01   2.88852570e-01\n",
      "    1.15770341e-01   2.66853781e-01   1.42905801e-01  -1.76408967e-02\n",
      "    1.26757226e-02   4.02139168e-04]\n",
      " [  2.50885971e-01  -8.25723507e-03  -1.70344076e-01   6.00699571e-03\n",
      "   -4.33320687e-02  -3.08734498e-02   1.67966619e-01   3.61707954e-02\n",
      "    6.04884615e-02  -7.66482910e-02  -1.17772055e-01  -6.81253543e-02\n",
      "   -2.54387490e-01   2.76418891e-01  -1.69499607e-01  -1.78141741e-01\n",
      "    7.54853164e-02  -7.58138963e-02  -2.60229625e-01   3.30223397e-02\n",
      "   -8.86081478e-04  -2.99840557e-01   5.67527797e-01  -1.07340243e-01\n",
      "    2.63196337e-01  -1.33574507e-01  -2.30901389e-01   2.24756680e-02\n",
      "   -3.52404543e-02  -2.28844179e-03]\n",
      " [  1.22904556e-01   1.41883349e-01  -2.71312642e-01  -3.62506947e-02\n",
      "    2.44558663e-01   4.98926784e-01   1.84906298e-02  -2.28225053e-01\n",
      "    6.46378061e-02  -2.95630751e-02   1.57560248e-01   4.40335026e-02\n",
      "   -2.56534905e-01  -5.35557351e-03   1.39888394e-01  -2.57894009e-01\n",
      "   -4.30658116e-01   2.78713843e-01   1.17250532e-01  -1.16759236e-01\n",
      "   -1.62708549e-01  -9.71448437e-02  -1.21343451e-01   1.43818093e-02\n",
      "    4.52996243e-02   2.81842956e-02  -2.27904438e-02   4.92048082e-03\n",
      "   -1.34042283e-02   3.95443454e-04]\n",
      " [  1.31783943e-01   2.75339469e-01  -2.32791313e-01  -7.70534703e-02\n",
      "   -9.44233510e-02  -8.02235245e-02  -3.74657626e-01  -4.83606666e-02\n",
      "   -1.34174175e-01   1.26095791e-02   1.18283551e-01  -3.47316933e-02\n",
      "   -1.72814238e-01   2.12104110e-01  -2.56173195e-01   4.05556492e-01\n",
      "   -1.59394300e-01  -2.35647497e-02  -1.14944811e-02  -1.04991974e-01\n",
      "    9.23439434e-02   4.69471147e-01  -7.62533821e-03  -3.78254532e-02\n",
      "    2.80133485e-01   4.52048188e-03  -5.99859979e-02  -2.35621424e-02\n",
      "   -1.14776603e-02   1.89429245e-03]]\n"
     ]
    }
   ],
   "source": [
    "# Sort the eigen values in descending order, and correspondingly the eigen vectors:\n",
    "n = X.shape[0] #Number of features\n",
    "v_indices = np.argsort(v)[::-1][:n]\n",
    "v = v[v_indices]\n",
    "W = W[:,v_indices]\n",
    "print(v,'\\n', W)"
   ]
  },
  {
   "cell_type": "code",
   "execution_count": 13,
   "metadata": {},
   "outputs": [
    {
     "data": {
      "image/png": "[encoded data removed]",
      "text/plain": [
       "<Figure size 432x288 with 1 Axes>"
      ]
     },
     "metadata": {},
     "output_type": "display_data"
    }
   ],
   "source": [
    "# Provide a plot that shows the level of data variance retained as a function of dimensionality reduction.\n",
    "sv = np.cumsum(v)/sum(v)\n",
    "plt.step(list(range(len(sv))), sv)\n",
    "plt.grid(True)\n",
    "plt.show()"
   ]
  },
  {
   "cell_type": "code",
   "execution_count": 14,
   "metadata": {},
   "outputs": [
    {
     "name": "stdout",
     "output_type": "stream",
     "text": [
      "wr=\n",
      " [[ 0.21890244 -0.23385713]\n",
      " [ 0.10372458 -0.05970609]\n",
      " [ 0.22753729 -0.21518136]\n",
      " [ 0.22099499 -0.23107671]\n",
      " [ 0.14258969  0.18611302]\n",
      " [ 0.23928535  0.15189161]\n",
      " [ 0.25840048  0.06016536]\n",
      " [ 0.26085376 -0.0347675 ]\n",
      " [ 0.13816696  0.19034877]\n",
      " [ 0.06436335  0.36657547]\n",
      " [ 0.20597878 -0.10555215]\n",
      " [ 0.01742803  0.08997968]\n",
      " [ 0.21132592 -0.08945723]\n",
      " [ 0.20286964 -0.15229263]\n",
      " [ 0.01453145  0.20443045]\n",
      " [ 0.17039345  0.2327159 ]\n",
      " [ 0.15358979  0.19720728]\n",
      " [ 0.1834174   0.13032156]\n",
      " [ 0.04249842  0.183848  ]\n",
      " [ 0.10256832  0.28009203]\n",
      " [ 0.22799663 -0.21986638]\n",
      " [ 0.10446933 -0.0454673 ]\n",
      " [ 0.23663968 -0.19987843]\n",
      " [ 0.22487053 -0.21935186]\n",
      " [ 0.12795256  0.17230435]\n",
      " [ 0.21009588  0.14359317]\n",
      " [ 0.22876753  0.09796411]\n",
      " [ 0.25088597 -0.00825724]\n",
      " [ 0.12290456  0.14188335]\n",
      " [ 0.13178394  0.27533947]]\n"
     ]
    }
   ],
   "source": [
    "# Let’s take the first two columns (Principle Components) of U and call it Ur\n",
    "wr = W[:, 0:2]\n",
    "print('wr=\\n', wr)\n",
    "\n",
    "# Project the data X onto the reduced matrix Ur\n",
    "Xr = np.dot(X.T, wr)"
   ]
  },
  {
   "cell_type": "code",
   "execution_count": 15,
   "metadata": {},
   "outputs": [
    {
     "data": {
      "image/png": "[encoded data removed]",
      "text/plain": [
       "<Figure size 576x432 with 1 Axes>"
      ]
     },
     "metadata": {},
     "output_type": "display_data"
    }
   ],
   "source": [
    "# Using the first two Eigen vectors, show a two-dimensional plot of the dataset with the \n",
    "#reduced number of features. The points on the plot should be color-coded based on their values.\n",
    "plt.figure(figsize=(8,6))\n",
    "plt.scatter(Xr[:,0], Xr[:,1], c=cancer['target'], cmap='plasma')\n",
    "plt.xlabel('PC-1')\n",
    "plt.ylabel('PC-2')\n",
    "plt.show()"
   ]
  },
  {
   "cell_type": "markdown",
   "metadata": {},
   "source": [
    "### SVD"
   ]
  },
  {
   "cell_type": "code",
   "execution_count": 16,
   "metadata": {},
   "outputs": [
    {
     "name": "stdout",
     "output_type": "stream",
     "text": [
      "Eigen-vectors: U=\n",
      " [[ -2.18902444e-01   2.33857132e-01   8.53124284e-03  -4.14089623e-02\n",
      "    3.77863538e-02  -1.87407904e-02   1.24088340e-01  -7.45229622e-03\n",
      "    2.23109764e-01  -9.54864432e-02   4.14714866e-02  -5.10674568e-02\n",
      "   -1.19672116e-02   5.95061348e-02   5.11187749e-02   1.50583883e-01\n",
      "   -2.02924255e-01  -1.46712338e-01   2.25384659e-01   4.96986642e-02\n",
      "    6.85700057e-02   7.29289034e-02   9.85526942e-02   1.82579441e-01\n",
      "   -1.92264989e-02  -1.29476396e-01  -1.31526670e-01  -2.11194013e-01\n",
      "   -2.11460455e-01  -7.02414091e-01]\n",
      " [ -1.03724578e-01   5.97060883e-02  -6.45499033e-02   6.03050001e-01\n",
      "   -4.94688505e-02   3.21788366e-02  -1.13995382e-02   1.30674825e-01\n",
      "   -1.12699390e-01  -2.40934066e-01  -3.02243402e-01  -2.54896423e-01\n",
      "   -2.03461333e-01  -2.15600995e-02   1.07922421e-01   1.57841960e-01\n",
      "    3.87061187e-02   4.11029851e-02   2.97886446e-02   2.44134993e-01\n",
      "   -4.48369467e-01   9.48006326e-02   5.54997454e-04  -9.87867898e-02\n",
      "    8.47459309e-02  -2.45566636e-02  -1.73573093e-02   6.58114593e-05\n",
      "    1.05339342e-02  -2.73661018e-04]\n",
      " [ -2.27537293e-01   2.15181361e-01   9.31421972e-03  -4.19830991e-02\n",
      "    3.73746632e-02  -1.73084449e-02   1.14477057e-01  -1.86872582e-02\n",
      "    2.23739213e-01  -8.63856150e-02   1.67826374e-02  -3.89261058e-02\n",
      "   -4.41095034e-02   4.85138123e-02   3.99029358e-02   1.14453955e-01\n",
      "   -1.94821310e-01  -1.58317455e-01   2.39595276e-01   1.76650122e-02\n",
      "    6.97690429e-02   7.51604777e-02   4.02447050e-02   1.16648876e-01\n",
      "    2.70154137e-02  -1.25255946e-01  -1.15415423e-01  -8.43382663e-02\n",
      "   -3.83826098e-01   6.89896968e-01]\n",
      " [ -2.20994985e-01   2.31076711e-01  -2.86995259e-02  -5.34337955e-02\n",
      "    1.03312514e-02   1.88774796e-03   5.16534275e-02   3.46736038e-02\n",
      "    1.95586014e-01  -7.49564886e-02   1.10169643e-01  -6.54375082e-02\n",
      "   -6.73757374e-02   1.08308292e-02  -1.39669069e-02   1.32448032e-01\n",
      "   -2.55705763e-01  -2.66168105e-01  -2.73221894e-02   9.01437617e-02\n",
      "    1.84432785e-02   9.75657781e-02  -7.77727342e-03  -6.98483369e-02\n",
      "   -2.10040780e-01   3.62727403e-01   4.66612477e-01   2.72508323e-01\n",
      "    4.22794920e-01   3.29473482e-02]\n",
      " [ -1.42589694e-01  -1.86113023e-01   1.04291904e-01  -1.59382765e-01\n",
      "   -3.65088528e-01   2.86374497e-01   1.40668993e-01  -2.88974575e-01\n",
      "   -6.42472194e-03   6.92926813e-02  -1.37021842e-01  -3.16727211e-01\n",
      "   -4.55736020e-02   4.45064860e-01   1.18143364e-01   2.04613247e-01\n",
      "   -1.67929914e-01   3.52226802e-01  -1.64565843e-01  -1.71009601e-02\n",
      "    1.19491747e-01   6.38229479e-02   2.06657211e-02  -6.86974224e-02\n",
      "    2.89548850e-02  -3.70036864e-02   6.96899233e-02  -1.47926883e-03\n",
      "    3.43466700e-03   4.84745766e-03]\n",
      " [ -2.39285354e-01  -1.51891610e-01   7.40915709e-02  -3.17945811e-02\n",
      "    1.17039713e-02   1.41309489e-02  -3.09184960e-02  -1.51396350e-01\n",
      "    1.67841425e-01  -1.29362000e-02  -3.08009633e-01   1.04017044e-01\n",
      "   -2.29281304e-01   8.10105720e-03  -2.30899962e-01  -1.70178367e-01\n",
      "    2.03077075e-02  -7.79413843e-03   2.84222358e-01  -4.88686329e-01\n",
      "   -1.92621396e-01  -9.80775567e-02  -5.23603957e-02   1.04135518e-01\n",
      "    3.96623231e-01   2.62808474e-01   9.77487054e-02   5.46276696e-03\n",
      "    4.10167739e-02  -4.46741863e-02]\n",
      " [ -2.58400481e-01  -6.01653628e-02  -2.73383798e-03  -1.91227535e-02\n",
      "    8.63754118e-02   9.34418089e-03   1.07520443e-01  -7.28272853e-02\n",
      "   -4.05910064e-02   1.35602298e-01   1.24190245e-01  -6.56534798e-02\n",
      "   -3.87090806e-01  -1.89358699e-01   1.28283732e-01  -2.69470206e-01\n",
      "    1.59835337e-03   2.69681105e-02   2.26636013e-03   3.33870858e-02\n",
      "   -5.57175335e-03  -1.85212003e-01  -3.24870378e-01  -4.47410568e-02\n",
      "   -9.69773167e-02  -5.48876170e-01   3.64808397e-01  -4.55386379e-02\n",
      "    1.00147876e-02  -2.51386661e-02]\n",
      " [ -2.60853758e-01   3.47675005e-02   2.55635406e-02  -6.53359443e-02\n",
      "   -4.38610252e-02   5.20499505e-02   1.50482214e-01  -1.52322414e-01\n",
      "    1.11971106e-01  -8.05452775e-03  -7.24460264e-02  -4.25892667e-02\n",
      "   -1.32138097e-01  -2.44794768e-01   2.17099194e-01  -3.80464095e-01\n",
      "   -3.45095087e-02   8.28277367e-02  -1.54972363e-01   2.35407606e-01\n",
      "    9.42381870e-03  -3.11852431e-01   5.14087968e-02  -8.40276972e-02\n",
      "   -1.86451602e-01   3.87643377e-01  -4.54699351e-01   8.88309714e-03\n",
      "    4.20694931e-03   1.07726530e-03]\n",
      " [ -1.38166959e-01  -1.90348770e-01   4.02399363e-02  -6.71249840e-02\n",
      "   -3.05941428e-01  -3.56458461e-01   9.38911345e-02  -2.31530989e-01\n",
      "   -2.56040084e-01  -5.72069479e-01   1.63054081e-01   2.88865504e-01\n",
      "   -1.89933673e-01   3.07388563e-02   7.39617071e-02   1.64661588e-01\n",
      "    1.91737848e-01  -1.73397790e-01  -5.88111647e-02  -2.60691555e-02\n",
      "    8.69384844e-02  -1.84067326e-02   5.12005770e-02  -1.93394733e-02\n",
      "   -2.45836949e-02  -1.60440385e-02  -1.51648349e-02  -1.43302642e-03\n",
      "    7.56986244e-03   1.28037941e-03]\n",
      " [ -6.43633464e-02  -3.66575471e-01   2.25740897e-02  -4.85867649e-02\n",
      "   -4.44243602e-02   1.19430668e-01  -2.95760024e-01  -1.77121441e-01\n",
      "    1.23740789e-01  -8.11032072e-02  -3.80482687e-02  -2.36358988e-01\n",
      "   -1.06239082e-01  -3.77078865e-01  -5.17975705e-01   4.07927860e-02\n",
      "   -5.02252456e-02  -8.78673570e-02  -5.81570509e-02   1.75637222e-01\n",
      "    7.62718362e-02   2.87868885e-01   8.46898562e-02   1.33260547e-01\n",
      "   -2.07221864e-01  -9.74048386e-02  -1.01244946e-01   6.31168651e-03\n",
      "   -7.30143287e-03   4.75568480e-03]\n",
      " [ -2.05978776e-01   1.05552152e-01  -2.68481387e-01  -9.79412418e-02\n",
      "   -1.54456496e-01   2.56032561e-02  -3.12490037e-01   2.25399674e-02\n",
      "   -2.49985002e-01   4.95475941e-02  -2.53570194e-02   1.66879153e-02\n",
      "    6.81952298e-02   1.03474126e-02   1.10050711e-01  -5.89057190e-02\n",
      "    1.39396866e-01   2.36216532e-01   1.75883308e-01   9.08005031e-02\n",
      "   -8.63867747e-02  -1.50274681e-01   2.64125317e-01   5.58701567e-01\n",
      "   -1.74930429e-01   4.99770798e-02   2.12982901e-01   1.92223890e-01\n",
      "   -1.18442112e-01   8.71109373e-03]\n",
      " [ -1.74280281e-02  -8.99796818e-02  -3.74633665e-01   3.59855528e-01\n",
      "   -1.91650506e-01   2.87473145e-02   9.07553556e-02  -4.75413139e-01\n",
      "    2.46645397e-01   2.89142742e-01   3.44944458e-01   3.06160423e-01\n",
      "    1.68222383e-01  -1.08493473e-02  -3.27527212e-02   3.45004006e-02\n",
      "   -4.39630156e-02   9.85866201e-03   3.60098518e-02   7.16599878e-02\n",
      "   -2.17071967e-01   4.84569345e-02   8.73880467e-04  -2.42672970e-02\n",
      "    5.69864778e-02  -1.12372419e-02  -1.00928890e-02   5.62261069e-03\n",
      "    8.77627920e-03   1.07103919e-03]\n",
      " [ -2.11325916e-01   8.94572342e-02  -2.66645367e-01  -8.89924146e-02\n",
      "   -1.20990220e-01  -1.81071500e-03  -3.14640390e-01  -1.18966905e-02\n",
      "   -2.27154024e-01   1.14508236e-01  -1.67318771e-01   1.01446828e-01\n",
      "    3.78439858e-02  -4.55237175e-02   8.26808881e-03  -2.65166513e-02\n",
      "    2.46356391e-02   2.59288003e-02   3.65701538e-01   1.77250625e-01\n",
      "    3.04950158e-01   1.59352804e-01  -9.00742110e-02  -5.16750385e-01\n",
      "    7.29276412e-02   1.03653282e-01   4.16915529e-02  -2.63191868e-01\n",
      "    6.10021933e-03  -1.37293906e-02]\n",
      " [ -2.02869635e-01   1.52292628e-01  -2.16006528e-01  -1.08205039e-01\n",
      "   -1.27574432e-01   4.28639079e-02  -3.46679003e-01   8.58051345e-02\n",
      "   -2.29160015e-01   9.19278886e-02   5.16194632e-02   1.76792177e-02\n",
      "   -5.60649318e-02   8.35707181e-02   4.60243656e-02  -4.11532265e-02\n",
      "   -3.34418173e-01  -3.04906903e-01  -4.16572314e-01  -2.74201148e-01\n",
      "   -1.92587786e-01   6.42326151e-02  -9.82150746e-02   2.24607172e-02\n",
      "    1.31850405e-01  -1.55304589e-01  -3.13358657e-01   4.20681051e-02\n",
      "    8.59259138e-02  -1.10532603e-03]\n",
      " [ -1.45314521e-02  -2.04430453e-01  -3.08838979e-01  -4.46641797e-02\n",
      "   -2.32065676e-01   3.42917393e-01   2.44024056e-01   5.73410232e-01\n",
      "    1.41924890e-01  -1.60884609e-01   8.42062106e-02   2.94710053e-01\n",
      "   -1.50441434e-01  -2.01152530e-01  -1.85594647e-02   5.80390613e-02\n",
      "   -1.39595006e-01   2.31259943e-01  -1.32600886e-02  -9.00614773e-02\n",
      "    7.20987261e-02   5.05449015e-02   5.98177179e-02  -1.56311888e-02\n",
      "    3.12107028e-02  -7.71755717e-03  -9.05215355e-03  -9.79296328e-03\n",
      "   -1.77638619e-03   1.60821086e-03]\n",
      " [ -1.70393451e-01  -2.32715896e-01  -1.54779718e-01   2.74693632e-02\n",
      "    2.79968156e-01  -6.91975186e-02  -2.34635340e-02   1.17460157e-01\n",
      "    1.45322810e-01  -4.35048658e-02  -2.06885680e-01   2.63456509e-01\n",
      "   -1.00401699e-02   4.91755932e-01  -1.68209315e-01  -1.89830896e-01\n",
      "    8.24647717e-03  -1.00474235e-01  -2.42448176e-01   4.61098220e-01\n",
      "    1.40386572e-01  -4.52876920e-02  -9.10387102e-03   1.21777792e-01\n",
      "    1.73164553e-01  -4.97276317e-02   4.65360884e-02   1.53955481e-02\n",
      "   -3.15813441e-03  -1.91562235e-03]\n",
      " [ -1.53589790e-01  -1.97207283e-01  -1.76463743e-01  -1.31687997e-03\n",
      "    3.53982091e-01  -5.63432386e-02   2.08823790e-01   6.05665008e-02\n",
      "   -3.58107079e-01   1.41276243e-01   3.49517943e-01  -2.51146975e-01\n",
      "   -1.58783192e-01   1.34586924e-01  -2.50471408e-01   1.25420649e-01\n",
      "   -8.46167156e-02   1.95485228e-04   1.26381025e-01  -6.69461742e-02\n",
      "   -6.30479298e-02  -2.05212693e-01   3.87542329e-01  -1.88205036e-01\n",
      "    1.59399802e-02   9.14549680e-02  -8.42247975e-02  -5.82097800e-03\n",
      "   -1.60785207e-02   8.92652653e-03]\n",
      " [ -1.83417397e-01  -1.30321560e-01  -2.24657567e-01  -7.40673350e-02\n",
      "    1.95548089e-01   3.12244482e-02   3.69645937e-01  -1.08319309e-01\n",
      "   -2.72519886e-01  -8.62408470e-02  -3.42375908e-01   6.45875122e-03\n",
      "    4.94026741e-01  -1.99666719e-01  -6.20793442e-02   1.98810346e-01\n",
      "   -1.08132263e-01  -4.60549116e-02  -1.21642969e-02  -6.88682942e-02\n",
      "   -3.43753236e-02  -7.25453753e-02  -3.51755074e-01   1.09668978e-01\n",
      "   -1.29546547e-01  -1.79419192e-02  -1.11655093e-02   2.90093001e-02\n",
      "    2.39377870e-02   2.16019727e-03]\n",
      " [ -4.24984216e-02  -1.83848000e-01  -2.88584292e-01  -4.40733510e-02\n",
      "   -2.52868765e-01  -4.90245643e-01   8.03822539e-02   2.20149279e-01\n",
      "    3.04077200e-01   3.16529830e-01  -1.87844043e-01  -3.20571348e-01\n",
      "   -1.03327412e-02  -4.68643826e-02   1.13383199e-01   1.57711497e-01\n",
      "    2.74059129e-01  -1.87014764e-01  -8.90392949e-02  -1.07385289e-01\n",
      "    9.76995265e-02  -8.46544307e-02   4.23628949e-02  -3.22620011e-03\n",
      "   -1.95149333e-02  -1.72678486e-02  -1.99759830e-02   7.63652550e-03\n",
      "    5.22329189e-03  -3.29389752e-04]\n",
      " [ -1.02568322e-01  -2.80092027e-01  -2.11503764e-01  -1.53047496e-02\n",
      "    2.63297438e-01   5.31952674e-02  -1.91394973e-01   1.11681884e-02\n",
      "    2.13722716e-01  -3.67541918e-01   2.50624789e-01  -2.76165974e-01\n",
      "    2.40458323e-01   1.45652466e-01   3.53232211e-01  -2.68553878e-01\n",
      "    1.22733398e-01   5.98230982e-02   8.66008430e-02  -2.22345297e-01\n",
      "   -6.28432814e-02   2.44705083e-01  -8.57810992e-02  -7.51944193e-02\n",
      "   -8.41712034e-02   3.54889745e-02  -1.20365640e-02  -1.97564555e-02\n",
      "    8.34191154e-03  -1.79895682e-03]\n",
      " [ -2.27996634e-01   2.19866379e-01   4.75069900e-02  -1.54172396e-02\n",
      "   -4.40659209e-03   2.90684919e-04   9.70993602e-03   4.26194163e-02\n",
      "    1.12141463e-01  -7.73616428e-02   1.05067333e-01  -3.96796652e-02\n",
      "    1.37890527e-01   2.31012813e-02  -1.66567074e-01   8.15605686e-02\n",
      "    2.40049982e-01   2.16101353e-01   1.36613039e-02   5.62690874e-03\n",
      "   -7.29389953e-03  -9.62982088e-02   5.56767923e-02   1.56830365e-01\n",
      "    7.07097238e-02  -1.97054744e-01  -1.78666740e-01  -4.12639581e-01\n",
      "    6.35724917e-01   1.35643056e-01]\n",
      " [ -1.04469325e-01   4.54672983e-02   4.22978228e-02   6.32807885e-01\n",
      "   -9.28834001e-02   5.00080613e-02  -9.87074388e-03   3.62516360e-02\n",
      "   -1.03341204e-01  -2.95509413e-02   1.31572736e-02  -7.97974499e-02\n",
      "    8.01454315e-02   5.34307917e-02  -1.01115399e-01  -1.85557852e-01\n",
      "   -6.93651855e-02  -5.83984505e-02  -7.58669276e-02  -3.00599798e-01\n",
      "    5.94440143e-01  -1.11112024e-01   8.92289971e-03   1.18484602e-01\n",
      "   -1.18189721e-01   3.64694332e-02   2.14106944e-02   3.90250926e-04\n",
      "   -1.72354925e-02  -1.02053601e-03]\n",
      " [ -2.36639681e-01   1.99878428e-01   4.85465083e-02  -1.38027944e-02\n",
      "    7.45415100e-03  -8.50098715e-03   4.45726717e-04   3.05585340e-02\n",
      "    1.09614364e-01  -5.05083335e-02   5.10762807e-02   8.98773800e-03\n",
      "    9.69657077e-02   1.22193824e-02  -1.82755198e-01   5.48570473e-02\n",
      "    2.34164147e-01   1.88543592e-01   9.08132490e-02  -1.10038577e-02\n",
      "    9.20235990e-02   1.72216251e-02  -6.33448296e-02  -2.37113167e-01\n",
      "    1.18034029e-01  -2.44103670e-01  -2.41031046e-01   7.28680898e-01\n",
      "   -2.29218029e-02  -7.97438536e-02]\n",
      " [ -2.24870533e-01   2.19351858e-01   1.19023182e-02  -2.58947492e-02\n",
      "   -2.73909030e-02   2.51643821e-02  -6.78316595e-02   7.93942456e-02\n",
      "    8.07324609e-02  -6.99211523e-02   1.84598937e-01  -4.80886567e-02\n",
      "    1.01160611e-01  -6.68546458e-03  -3.14993600e-01   9.06533944e-02\n",
      "    2.73399584e-01   1.42064856e-01  -4.10047202e-01  -6.00473870e-02\n",
      "   -1.46790132e-01  -9.69598236e-02  -1.90889625e-01  -1.44063033e-01\n",
      "   -3.82899511e-02   2.31359525e-01   2.37162466e-01  -2.38960316e-01\n",
      "   -4.44935933e-01  -3.97422838e-02]\n",
      " [ -1.27952561e-01  -1.72304352e-01   2.59797613e-01  -1.76522161e-02\n",
      "   -3.24435445e-01   3.69255370e-01   1.08830886e-01   2.05852191e-01\n",
      "   -1.12315904e-01   1.28304659e-01   1.43890349e-01  -5.65148662e-02\n",
      "    2.05130344e-01   1.62235443e-01  -4.61258656e-02  -1.45551659e-01\n",
      "    2.78030197e-01  -5.01551675e-01   2.34513845e-01   1.29723903e-01\n",
      "   -1.64849237e-01  -6.82540931e-02  -9.36901494e-02   1.09901386e-02\n",
      "   -4.79647647e-02   1.26024637e-02  -4.08535683e-02   1.53524821e-03\n",
      "   -7.38549171e-03  -4.58327731e-03]\n",
      " [ -2.10095880e-01  -1.43593173e-01   2.36075625e-01   9.13284153e-02\n",
      "    1.21804107e-01  -4.77057929e-02  -1.40472938e-01   8.40196588e-02\n",
      "    1.00677822e-01   1.72133632e-01  -1.97420469e-01   3.71662503e-01\n",
      "   -1.22793095e-02   1.66470250e-01   4.99560142e-02   1.53734861e-01\n",
      "    4.03712272e-03   7.35745143e-02   2.02007041e-02  -2.29280589e-01\n",
      "   -1.81374867e-01   2.96764124e-02   1.47920925e-01  -1.86749953e-01\n",
      "   -6.24384938e-01  -1.00463424e-01  -7.05054136e-02  -4.86918180e-02\n",
      "   -3.56690392e-06   1.28415624e-02]\n",
      " [ -2.28767533e-01  -9.79641143e-02   1.73057335e-01   7.39511797e-02\n",
      "    1.88518727e-01  -2.83792555e-02   6.04880561e-02   7.24678714e-02\n",
      "   -1.61908621e-01   3.11638520e-01   1.85016760e-01   8.70345324e-02\n",
      "   -2.17984329e-01  -6.67989309e-02   2.04835886e-01   2.15021948e-01\n",
      "    1.91313419e-01   1.03907980e-01  -4.57861197e-02   4.64827918e-02\n",
      "    1.32100595e-01   4.60426186e-01  -2.86433135e-01   2.88852570e-01\n",
      "    1.15770341e-01   2.66853781e-01  -1.42905801e-01   1.76408967e-02\n",
      "    1.26757226e-02  -4.02139168e-04]\n",
      " [ -2.50885971e-01   8.25723507e-03   1.70344076e-01  -6.00699571e-03\n",
      "    4.33320687e-02   3.08734498e-02   1.67966619e-01  -3.61707954e-02\n",
      "   -6.04884615e-02   7.66482910e-02  -1.17772055e-01   6.81253543e-02\n",
      "    2.54387490e-01  -2.76418891e-01   1.69499607e-01  -1.78141741e-01\n",
      "    7.54853164e-02  -7.58138963e-02  -2.60229625e-01  -3.30223397e-02\n",
      "   -8.86081478e-04   2.99840557e-01   5.67527797e-01  -1.07340243e-01\n",
      "    2.63196337e-01  -1.33574507e-01   2.30901389e-01  -2.24756680e-02\n",
      "   -3.52404543e-02   2.28844179e-03]\n",
      " [ -1.22904556e-01  -1.41883349e-01   2.71312642e-01   3.62506947e-02\n",
      "   -2.44558663e-01  -4.98926784e-01   1.84906298e-02   2.28225053e-01\n",
      "   -6.46378061e-02   2.95630751e-02   1.57560248e-01  -4.40335026e-02\n",
      "    2.56534905e-01   5.35557351e-03  -1.39888394e-01  -2.57894009e-01\n",
      "   -4.30658116e-01   2.78713843e-01   1.17250532e-01   1.16759236e-01\n",
      "   -1.62708549e-01   9.71448437e-02  -1.21343451e-01   1.43818093e-02\n",
      "    4.52996243e-02   2.81842956e-02   2.27904438e-02  -4.92048082e-03\n",
      "   -1.34042283e-02  -3.95443454e-04]\n",
      " [ -1.31783943e-01  -2.75339469e-01   2.32791313e-01   7.70534703e-02\n",
      "    9.44233510e-02   8.02235245e-02  -3.74657626e-01   4.83606666e-02\n",
      "    1.34174175e-01  -1.26095791e-02   1.18283551e-01   3.47316933e-02\n",
      "    1.72814238e-01  -2.12104110e-01   2.56173195e-01   4.05556492e-01\n",
      "   -1.59394300e-01  -2.35647497e-02  -1.14944811e-02   1.04991974e-01\n",
      "    9.23439434e-02  -4.69471147e-01  -7.62533821e-03  -3.78254532e-02\n",
      "    2.80133485e-01   4.52048188e-03   5.99859979e-02   2.35621424e-02\n",
      "   -1.14776603e-02  -1.89429245e-03]] (30, 30) \n",
      "\n",
      "Eigen-values: s= [ 86.93235745  56.90677266  40.04263937  33.57058877  30.62887007\n",
      "  26.2104161   19.60102663  16.46800391  15.4017255   14.12602481\n",
      "  12.93205441  12.19019359  11.71889139   9.4519063    7.31866075\n",
      "   6.74106325   5.81360925   5.47175363   5.30591648   4.21066503\n",
      "   4.12971871   3.95133143   3.72155031   3.20519874   2.96796958\n",
      "   2.15709923   1.98150547   0.95096438   0.65273958   0.27514088] (30,)\n",
      "Eigen-vectors: VT= (569, 569) \n",
      "\n"
     ]
    }
   ],
   "source": [
    "# Compute the eigen values and the eigen vectors:\n",
    "\n",
    "# Singular-value decomposition\n",
    "U, s, VT = np.linalg.svd(X)\n",
    "print('Eigen-vectors: U=\\n', U, U.shape,'\\n')\n",
    "print('Eigen-values: s=', s, s.shape)\n",
    "print('Eigen-vectors: VT=', VT.shape,'\\n')"
   ]
  },
  {
   "cell_type": "code",
   "execution_count": 17,
   "metadata": {},
   "outputs": [
    {
     "name": "stdout",
     "output_type": "stream",
     "text": [
      "Ur=\n",
      " [[ 0.21890244 -0.23385713]\n",
      " [ 0.10372458 -0.05970609]\n",
      " [ 0.22753729 -0.21518136]\n",
      " [ 0.22099499 -0.23107671]\n",
      " [ 0.14258969  0.18611302]\n",
      " [ 0.23928535  0.15189161]\n",
      " [ 0.25840048  0.06016536]\n",
      " [ 0.26085376 -0.0347675 ]\n",
      " [ 0.13816696  0.19034877]\n",
      " [ 0.06436335  0.36657547]\n",
      " [ 0.20597878 -0.10555215]\n",
      " [ 0.01742803  0.08997968]\n",
      " [ 0.21132592 -0.08945723]\n",
      " [ 0.20286964 -0.15229263]\n",
      " [ 0.01453145  0.20443045]\n",
      " [ 0.17039345  0.2327159 ]\n",
      " [ 0.15358979  0.19720728]\n",
      " [ 0.1834174   0.13032156]\n",
      " [ 0.04249842  0.183848  ]\n",
      " [ 0.10256832  0.28009203]\n",
      " [ 0.22799663 -0.21986638]\n",
      " [ 0.10446933 -0.0454673 ]\n",
      " [ 0.23663968 -0.19987843]\n",
      " [ 0.22487053 -0.21935186]\n",
      " [ 0.12795256  0.17230435]\n",
      " [ 0.21009588  0.14359317]\n",
      " [ 0.22876753  0.09796411]\n",
      " [ 0.25088597 -0.00825724]\n",
      " [ 0.12290456  0.14188335]\n",
      " [ 0.13178394  0.27533947]]\n"
     ]
    }
   ],
   "source": [
    "# Let’s take the first two columns (Principle Components) of U and call it Ur\n",
    "Ur = -U[:, 0:2]\n",
    "print('Ur=\\n', Ur)"
   ]
  },
  {
   "cell_type": "code",
   "execution_count": 18,
   "metadata": {},
   "outputs": [],
   "source": [
    "# Project the data X onto the reduced matrix Ur\n",
    "Xr = np.dot(X.T, Ur)"
   ]
  },
  {
   "cell_type": "code",
   "execution_count": 19,
   "metadata": {},
   "outputs": [
    {
     "data": {
      "image/png": "[encoded data removed]",
      "text/plain": [
       "<Figure size 432x288 with 1 Axes>"
      ]
     },
     "metadata": {},
     "output_type": "display_data"
    }
   ],
   "source": [
    "sv = np.cumsum(s)/sum(s)\n",
    "plt.step(list(range(len(sv))), sv)\n",
    "plt.grid(True)\n",
    "plt.show()"
   ]
  },
  {
   "cell_type": "code",
   "execution_count": 20,
   "metadata": {},
   "outputs": [
    {
     "data": {
      "image/png": "[encoded data removed]",
      "text/plain": [
       "<Figure size 576x432 with 1 Axes>"
      ]
     },
     "metadata": {},
     "output_type": "display_data"
    }
   ],
   "source": [
    "plt.figure(figsize=(8,6))\n",
    "plt.scatter(Xr[:,0], Xr[:,1], c=cancer['target'], cmap='plasma')\n",
    "plt.xlabel('PC-1')\n",
    "plt.ylabel('PC-2')\n",
    "plt.show()"
   ]
  },
  {
   "cell_type": "markdown",
   "metadata": {},
   "source": [
    "## Problem 2\n",
    "* For this problem, you are to implement in Python the Naïve Bayes algorithm (based on the class notes) to classify news headlines. \n",
    "* There are approximately 125k news headlines from the year 2013 to 2018 obtained from HuffPost. Each record consists of six attributes:\n",
    "    * authors: authors who published the article\n",
    "    * category: the category of the news article\n",
    "    * date: date article was published\n",
    "    * headline: the headline of the news article\n",
    "    * article_link: link to the original news article. Useful for collecting supplementary data\n",
    "    * short_description: a short description of the news article\n",
    "* The objective is to identify the type of news based on headlines and short descriptions.\n",
    "\n"
   ]
  },
  {
   "cell_type": "markdown",
   "metadata": {},
   "source": [
    "#### Reading a text-based dataset into pandas"
   ]
  },
  {
   "cell_type": "code",
   "execution_count": 21,
   "metadata": {},
   "outputs": [
    {
     "name": "stdout",
     "output_type": "stream",
     "text": [
      "X shape (124989, 3)\n",
      "X_combine shape = (124989,)\n",
      "y shape =  (124989,)\n"
     ]
    }
   ],
   "source": [
    "# Import Dataset\n",
    "df = pd.read_json('News_Category_Dataset.json', lines=True)\n",
    "\n",
    "# Find unique values in category\n",
    "y_unique = np.unique(df['category'])\n",
    "\n",
    "# Subset the import data into data used for analysis\n",
    "X= df[['authors', 'headline','short_description']]\n",
    "\n",
    "# Add a new column to the data frame name 'Combine_X' which contains the infor from the subset\n",
    "df['Combine_X'] = df['authors']+' '+df['headline']+' '+df['short_description']\n",
    "\n",
    "# Add the 'Combine_X' data into a variable \n",
    "X_combine = df['Combine_X']\n",
    "\n",
    "# Add the 'category' data into a variable\n",
    "Y = df['category']\n",
    "\n",
    "print('X shape',X.shape)\n",
    "print('X_combine shape =',X_combine.shape)\n",
    "print('y shape = ',Y.shape)"
   ]
  },
  {
   "cell_type": "code",
   "execution_count": 22,
   "metadata": {},
   "outputs": [
    {
     "name": "stdout",
     "output_type": "stream",
     "text": [
      "sms shape =  (124989, 2) \n",
      "\n"
     ]
    },
    {
     "data": {
      "text/html": [
       "<div>\n",
       "<style scoped>\n",
       "    .dataframe tbody tr th:only-of-type {\n",
       "        vertical-align: middle;\n",
       "    }\n",
       "\n",
       "    .dataframe tbody tr th {\n",
       "        vertical-align: top;\n",
       "    }\n",
       "\n",
       "    .dataframe thead th {\n",
       "        text-align: right;\n",
       "    }\n",
       "</style>\n",
       "<table border=\"1\" class=\"dataframe\">\n",
       "  <thead>\n",
       "    <tr style=\"text-align: right;\">\n",
       "      <th></th>\n",
       "      <th>Combine_X</th>\n",
       "      <th>category</th>\n",
       "    </tr>\n",
       "  </thead>\n",
       "  <tbody>\n",
       "    <tr>\n",
       "      <th>0</th>\n",
       "      <td>Melissa Jeltsen There Were 2 Mass Shootings In...</td>\n",
       "      <td>CRIME</td>\n",
       "    </tr>\n",
       "    <tr>\n",
       "      <th>1</th>\n",
       "      <td>Andy McDonald Will Smith Joins Diplo And Nicky...</td>\n",
       "      <td>ENTERTAINMENT</td>\n",
       "    </tr>\n",
       "    <tr>\n",
       "      <th>2</th>\n",
       "      <td>Ron Dicker Hugh Grant Marries For The First Ti...</td>\n",
       "      <td>ENTERTAINMENT</td>\n",
       "    </tr>\n",
       "    <tr>\n",
       "      <th>3</th>\n",
       "      <td>Ron Dicker Jim Carrey Blasts 'Castrato' Adam S...</td>\n",
       "      <td>ENTERTAINMENT</td>\n",
       "    </tr>\n",
       "    <tr>\n",
       "      <th>4</th>\n",
       "      <td>Ron Dicker Julianna Margulies Uses Donald Trum...</td>\n",
       "      <td>ENTERTAINMENT</td>\n",
       "    </tr>\n",
       "  </tbody>\n",
       "</table>\n",
       "</div>"
      ],
      "text/plain": [
       "                                           Combine_X       category\n",
       "0  Melissa Jeltsen There Were 2 Mass Shootings In...          CRIME\n",
       "1  Andy McDonald Will Smith Joins Diplo And Nicky...  ENTERTAINMENT\n",
       "2  Ron Dicker Hugh Grant Marries For The First Ti...  ENTERTAINMENT\n",
       "3  Ron Dicker Jim Carrey Blasts 'Castrato' Adam S...  ENTERTAINMENT\n",
       "4  Ron Dicker Julianna Margulies Uses Donald Trum...  ENTERTAINMENT"
      ]
     },
     "execution_count": 22,
     "metadata": {},
     "output_type": "execute_result"
    }
   ],
   "source": [
    "# Create new Data Frame with 'Combine_X' and 'category'\n",
    "sms = df[['Combine_X','category']]\n",
    "\n",
    "# examine the shape\n",
    "print('sms shape = ',sms.shape,'\\n')\n",
    "\n",
    "# examine the first 10 rows\n",
    "sms.head()"
   ]
  },
  {
   "cell_type": "code",
   "execution_count": 23,
   "metadata": {},
   "outputs": [
    {
     "data": {
      "text/plain": [
       "POLITICS          32739\n",
       "ENTERTAINMENT     14257\n",
       "HEALTHY LIVING     6694\n",
       "QUEER VOICES       4995\n",
       "BUSINESS           4254\n",
       "SPORTS             4167\n",
       "COMEDY             3971\n",
       "PARENTS            3955\n",
       "BLACK VOICES       3858\n",
       "THE WORLDPOST      3664\n",
       "WOMEN              3490\n",
       "CRIME              2893\n",
       "MEDIA              2815\n",
       "WEIRD NEWS         2670\n",
       "GREEN              2622\n",
       "IMPACT             2602\n",
       "WORLDPOST          2579\n",
       "RELIGION           2556\n",
       "STYLE              2254\n",
       "WORLD NEWS         2177\n",
       "TRAVEL             2145\n",
       "TASTE              2096\n",
       "ARTS               1509\n",
       "FIFTY              1401\n",
       "GOOD NEWS          1398\n",
       "SCIENCE            1381\n",
       "ARTS & CULTURE     1339\n",
       "TECH               1231\n",
       "COLLEGE            1144\n",
       "LATINO VOICES      1129\n",
       "EDUCATION          1004\n",
       "Name: category, dtype: int64"
      ]
     },
     "execution_count": 23,
     "metadata": {},
     "output_type": "execute_result"
    }
   ],
   "source": [
    "# examine the class distribution\n",
    "sms_class = sms.category.value_counts()\n",
    "sms_class"
   ]
  },
  {
   "cell_type": "code",
   "execution_count": 24,
   "metadata": {},
   "outputs": [
    {
     "name": "stdout",
     "output_type": "stream",
     "text": [
      "y_unique shape = (31,) \n",
      "\n",
      "y_unique = ['ARTS' 'ARTS & CULTURE' 'BLACK VOICES' 'BUSINESS' 'COLLEGE' 'COMEDY'\n",
      " 'CRIME' 'EDUCATION' 'ENTERTAINMENT' 'FIFTY' 'GOOD NEWS' 'GREEN'\n",
      " 'HEALTHY LIVING' 'IMPACT' 'LATINO VOICES' 'MEDIA' 'PARENTS' 'POLITICS'\n",
      " 'QUEER VOICES' 'RELIGION' 'SCIENCE' 'SPORTS' 'STYLE' 'TASTE' 'TECH'\n",
      " 'THE WORLDPOST' 'TRAVEL' 'WEIRD NEWS' 'WOMEN' 'WORLD NEWS' 'WORLDPOST'] \n",
      "\n",
      "y_dict =  {'ARTS': 0, 'ARTS & CULTURE': 1, 'BLACK VOICES': 2, 'BUSINESS': 3, 'COLLEGE': 4, 'COMEDY': 5, 'CRIME': 6, 'EDUCATION': 7, 'ENTERTAINMENT': 8, 'FIFTY': 9, 'GOOD NEWS': 10, 'GREEN': 11, 'HEALTHY LIVING': 12, 'IMPACT': 13, 'LATINO VOICES': 14, 'MEDIA': 15, 'PARENTS': 16, 'POLITICS': 17, 'QUEER VOICES': 18, 'RELIGION': 19, 'SCIENCE': 20, 'SPORTS': 21, 'STYLE': 22, 'TASTE': 23, 'TECH': 24, 'THE WORLDPOST': 25, 'TRAVEL': 26, 'WEIRD NEWS': 27, 'WOMEN': 28, 'WORLD NEWS': 29, 'WORLDPOST': 30}\n"
     ]
    }
   ],
   "source": [
    "# Information about the y_unique variable\n",
    "print('y_unique shape =',y_unique.shape,'\\n')\n",
    "print('y_unique =',y_unique,'\\n')\n",
    "\n",
    "# Create Dictionary of words\n",
    "y_d = []\n",
    "for i in range(len(y_unique)):\n",
    "    y_d.append((y_unique[i],i))\n",
    "y_dict = dict(y_d)\n",
    "print('y_dict = ',y_dict)"
   ]
  },
  {
   "cell_type": "code",
   "execution_count": 25,
   "metadata": {},
   "outputs": [
    {
     "name": "stderr",
     "output_type": "stream",
     "text": [
      "/Users/Jose/anaconda3/lib/python3.6/site-packages/ipykernel/__main__.py:2: SettingWithCopyWarning: \n",
      "A value is trying to be set on a copy of a slice from a DataFrame.\n",
      "Try using .loc[row_indexer,col_indexer] = value instead\n",
      "\n",
      "See the caveats in the documentation: http://pandas.pydata.org/pandas-docs/stable/indexing.html#indexing-view-versus-copy\n",
      "  from ipykernel import kernelapp as app\n"
     ]
    },
    {
     "data": {
      "text/html": [
       "<div>\n",
       "<style scoped>\n",
       "    .dataframe tbody tr th:only-of-type {\n",
       "        vertical-align: middle;\n",
       "    }\n",
       "\n",
       "    .dataframe tbody tr th {\n",
       "        vertical-align: top;\n",
       "    }\n",
       "\n",
       "    .dataframe thead th {\n",
       "        text-align: right;\n",
       "    }\n",
       "</style>\n",
       "<table border=\"1\" class=\"dataframe\">\n",
       "  <thead>\n",
       "    <tr style=\"text-align: right;\">\n",
       "      <th></th>\n",
       "      <th>Combine_X</th>\n",
       "      <th>category</th>\n",
       "      <th>label_num</th>\n",
       "    </tr>\n",
       "  </thead>\n",
       "  <tbody>\n",
       "    <tr>\n",
       "      <th>0</th>\n",
       "      <td>Melissa Jeltsen There Were 2 Mass Shootings In...</td>\n",
       "      <td>CRIME</td>\n",
       "      <td>6</td>\n",
       "    </tr>\n",
       "    <tr>\n",
       "      <th>1</th>\n",
       "      <td>Andy McDonald Will Smith Joins Diplo And Nicky...</td>\n",
       "      <td>ENTERTAINMENT</td>\n",
       "      <td>8</td>\n",
       "    </tr>\n",
       "    <tr>\n",
       "      <th>2</th>\n",
       "      <td>Ron Dicker Hugh Grant Marries For The First Ti...</td>\n",
       "      <td>ENTERTAINMENT</td>\n",
       "      <td>8</td>\n",
       "    </tr>\n",
       "    <tr>\n",
       "      <th>3</th>\n",
       "      <td>Ron Dicker Jim Carrey Blasts 'Castrato' Adam S...</td>\n",
       "      <td>ENTERTAINMENT</td>\n",
       "      <td>8</td>\n",
       "    </tr>\n",
       "    <tr>\n",
       "      <th>4</th>\n",
       "      <td>Ron Dicker Julianna Margulies Uses Donald Trum...</td>\n",
       "      <td>ENTERTAINMENT</td>\n",
       "      <td>8</td>\n",
       "    </tr>\n",
       "  </tbody>\n",
       "</table>\n",
       "</div>"
      ],
      "text/plain": [
       "                                           Combine_X       category  label_num\n",
       "0  Melissa Jeltsen There Were 2 Mass Shootings In...          CRIME          6\n",
       "1  Andy McDonald Will Smith Joins Diplo And Nicky...  ENTERTAINMENT          8\n",
       "2  Ron Dicker Hugh Grant Marries For The First Ti...  ENTERTAINMENT          8\n",
       "3  Ron Dicker Jim Carrey Blasts 'Castrato' Adam S...  ENTERTAINMENT          8\n",
       "4  Ron Dicker Julianna Margulies Uses Donald Trum...  ENTERTAINMENT          8"
      ]
     },
     "execution_count": 25,
     "metadata": {},
     "output_type": "execute_result"
    }
   ],
   "source": [
    "# convert category to a numerical variable\n",
    "sms['label_num'] = sms.category.map(y_dict)\n",
    "\n",
    "# check that the conversion worked\n",
    "sms.head()"
   ]
  },
  {
   "cell_type": "code",
   "execution_count": 26,
   "metadata": {},
   "outputs": [
    {
     "name": "stdout",
     "output_type": "stream",
     "text": [
      "X shape =  (124989,)\n",
      "y shape =  (124989,)\n"
     ]
    }
   ],
   "source": [
    "# how to define X and y (from the SMS data) for use with COUNTVECTORIZER\n",
    "X = sms.Combine_X\n",
    "y = sms.label_num\n",
    "print('X shape = ',X.shape)\n",
    "print('y shape = ',y.shape)"
   ]
  },
  {
   "cell_type": "code",
   "execution_count": 27,
   "metadata": {},
   "outputs": [
    {
     "name": "stdout",
     "output_type": "stream",
     "text": [
      "melissa jeltsen there were 2 mass shootings in texas last week, but only 1 on tv she left her husband. he killed their children. just another day in america.\n"
     ]
    }
   ],
   "source": [
    "# Convert all strings to their lower case form. \n",
    "lower_case_X = []\n",
    "for i in list(X):\n",
    "    lower_case_X.append(i.lower())\n",
    "print(lower_case_X[0])\n",
    "\n",
    "# First line form the data\n",
    "X_lower = pd.Series(lower_case_X)"
   ]
  },
  {
   "cell_type": "code",
   "execution_count": 28,
   "metadata": {},
   "outputs": [
    {
     "name": "stdout",
     "output_type": "stream",
     "text": [
      "X_train shape =  (93741,)\n",
      "X_test shape =  (31248,)\n",
      "y_train shape =  (93741,)\n",
      "y_test shape =  (31248,)\n"
     ]
    },
    {
     "name": "stderr",
     "output_type": "stream",
     "text": [
      "/Users/Jose/anaconda3/lib/python3.6/site-packages/sklearn/cross_validation.py:41: DeprecationWarning: This module was deprecated in version 0.18 in favor of the model_selection module into which all the refactored classes and functions are moved. Also note that the interface of the new CV iterators are different from that of this module. This module will be removed in 0.20.\n",
      "  \"This module will be removed in 0.20.\", DeprecationWarning)\n"
     ]
    }
   ],
   "source": [
    "# split X and y into training and testing sets\n",
    "# by default, it splits 75% training and 25% test\n",
    "# random_state=1 for reproducibility\n",
    "from sklearn.cross_validation import train_test_split\n",
    "X_train, X_test, y_train, y_test = train_test_split(X_lower, y,test_size=0.25, random_state=1)\n",
    "\n",
    "\n",
    "print('X_train shape = ',X_train.shape)\n",
    "print('X_test shape = ',X_test.shape)\n",
    "print('y_train shape = ',y_train.shape)\n",
    "print('y_test shape = ',y_test.shape)"
   ]
  },
  {
   "cell_type": "markdown",
   "metadata": {},
   "source": [
    "### Skikit-Learn Implementation."
   ]
  },
  {
   "cell_type": "code",
   "execution_count": 29,
   "metadata": {},
   "outputs": [],
   "source": [
    "## Instantiate the vectorizer\n",
    "vect = CountVectorizer(stop_words='english')"
   ]
  },
  {
   "cell_type": "code",
   "execution_count": 30,
   "metadata": {},
   "outputs": [
    {
     "name": "stdout",
     "output_type": "stream",
     "text": [
      "  (0, 5296)\t1\n",
      "  (0, 9543)\t1\n",
      "  (0, 11568)\t1\n",
      "  (0, 12711)\t1\n",
      "  (0, 12712)\t2\n",
      "  (0, 12991)\t1\n",
      "  (0, 23083)\t1\n",
      "  (0, 23173)\t1\n",
      "  (0, 26969)\t1\n",
      "  (0, 37544)\t1\n",
      "  (0, 48816)\t1\n",
      "  (0, 52605)\t1\n",
      "  (0, 53638)\t1\n",
      "  (0, 53679)\t1\n",
      "  (0, 54950)\t1\n",
      "  (0, 58467)\t1\n",
      "  (0, 62452)\t1\n",
      "  (0, 63802)\t1\n",
      "  (1, 8011)\t1\n",
      "  (1, 21305)\t1\n",
      "  (1, 29770)\t1\n",
      "  (1, 38112)\t1\n",
      "  (1, 60363)\t1\n",
      "  (1, 61081)\t1\n",
      "  (1, 66519)\t1\n",
      "  :\t:\n",
      "  (93740, 19896)\t1\n",
      "  (93740, 21483)\t1\n",
      "  (93740, 22638)\t1\n",
      "  (93740, 23559)\t1\n",
      "  (93740, 28995)\t2\n",
      "  (93740, 30164)\t1\n",
      "  (93740, 33112)\t2\n",
      "  (93740, 34700)\t1\n",
      "  (93740, 38511)\t1\n",
      "  (93740, 38702)\t1\n",
      "  (93740, 40321)\t1\n",
      "  (93740, 42691)\t1\n",
      "  (93740, 44201)\t1\n",
      "  (93740, 45038)\t1\n",
      "  (93740, 45938)\t1\n",
      "  (93740, 47378)\t1\n",
      "  (93740, 47529)\t1\n",
      "  (93740, 47797)\t1\n",
      "  (93740, 48876)\t1\n",
      "  (93740, 51390)\t1\n",
      "  (93740, 52257)\t1\n",
      "  (93740, 59756)\t2\n",
      "  (93740, 62844)\t1\n",
      "  (93740, 63814)\t1\n",
      "  (93740, 65646)\t1\n"
     ]
    }
   ],
   "source": [
    "# learn training data vocabulary, then use it to create a document-term matrix\n",
    "\n",
    "# Fit\n",
    "vect.fit(X_train)\n",
    "\n",
    "# Transform training data\n",
    "X_train_dtm = vect.transform(X_train)\n",
    "\n",
    "# equivalently: combine fit and transform into a single step\n",
    "# this is faster and what most people would do the function is the following:\n",
    "\n",
    "#X_train_dtm = vect.fit_transform(X_train)\n",
    "\n",
    "# examine the document-term matrix\n",
    "print(X_train_dtm)"
   ]
  },
  {
   "cell_type": "code",
   "execution_count": 31,
   "metadata": {},
   "outputs": [
    {
     "data": {
      "text/plain": [
       "<31248x68858 sparse matrix of type '<class 'numpy.int64'>'\n",
       "\twith 521786 stored elements in Compressed Sparse Row format>"
      ]
     },
     "execution_count": 31,
     "metadata": {},
     "output_type": "execute_result"
    }
   ],
   "source": [
    "# transform testing data (using fitted vocabulary) into a document-term matrix\n",
    "X_test_dtm = vect.transform(X_test)\n",
    "X_test_dtm"
   ]
  },
  {
   "cell_type": "code",
   "execution_count": 32,
   "metadata": {},
   "outputs": [],
   "source": [
    "# Instantiate a Multinomial Naive Bayes model\n",
    "nb = MultinomialNB()"
   ]
  },
  {
   "cell_type": "code",
   "execution_count": 33,
   "metadata": {},
   "outputs": [
    {
     "name": "stdout",
     "output_type": "stream",
     "text": [
      "CPU times: user 242 ms, sys: 63.9 ms, total: 306 ms\n",
      "Wall time: 329 ms\n"
     ]
    },
    {
     "data": {
      "text/plain": [
       "MultinomialNB(alpha=1.0, class_prior=None, fit_prior=True)"
      ]
     },
     "execution_count": 33,
     "metadata": {},
     "output_type": "execute_result"
    }
   ],
   "source": [
    "# Train the model \n",
    "# using X_train_dtm (timing it with an IPython \"magic command\")\n",
    "\n",
    "%time nb.fit(X_train_dtm, y_train)"
   ]
  },
  {
   "cell_type": "code",
   "execution_count": 34,
   "metadata": {},
   "outputs": [],
   "source": [
    "# Make class predictions for X_test_dtm\n",
    "y_pred_class = nb.predict(X_test_dtm)"
   ]
  },
  {
   "cell_type": "code",
   "execution_count": 35,
   "metadata": {},
   "outputs": [
    {
     "data": {
      "text/plain": [
       "0.67175499231950841"
      ]
     },
     "execution_count": 35,
     "metadata": {},
     "output_type": "execute_result"
    }
   ],
   "source": [
    "# calculate accuracy of class predictions\n",
    "metrics.accuracy_score(y_test, y_pred_class)"
   ]
  },
  {
   "cell_type": "code",
   "execution_count": 36,
   "metadata": {},
   "outputs": [
    {
     "name": "stdout",
     "output_type": "stream",
     "text": [
      "17    8220\n",
      "8     3565\n",
      "12    1709\n",
      "18    1246\n",
      "3     1025\n",
      "21     993\n",
      "16     986\n",
      "5      974\n",
      "2      919\n",
      "25     918\n",
      "28     825\n",
      "6      774\n",
      "15     724\n",
      "19     703\n",
      "11     692\n",
      "27     678\n",
      "13     665\n",
      "30     639\n",
      "22     588\n",
      "23     535\n",
      "26     535\n",
      "29     526\n",
      "0      364\n",
      "20     354\n",
      "9      351\n",
      "10     340\n",
      "1      326\n",
      "24     305\n",
      "14     290\n",
      "4      241\n",
      "7      238\n",
      "Name: label_num, dtype: int64\n",
      "Null accuracy: 17    0.263057\n",
      "Name: label_num, dtype: float64\n",
      "Manual null accuracy: 0.8671931083991385\n"
     ]
    }
   ],
   "source": [
    "# examine class distribution\n",
    "print(y_test.value_counts())\n",
    "\n",
    "# calculate null accuracy (for multi-class classification problems)\n",
    "# .head(1) assesses the value 1208\n",
    "null_accuracy = y_test.value_counts().head(1) / len(y_test)\n",
    "print('Null accuracy:', null_accuracy)\n",
    "\n",
    "# Manual calculation of null accuracy by always predicting the majority class\n",
    "print('Manual null accuracy:',(1208 / (1208 + 185)))"
   ]
  },
  {
   "cell_type": "code",
   "execution_count": 37,
   "metadata": {},
   "outputs": [
    {
     "data": {
      "text/plain": [
       "array([[ 161,   37,    6,    8,    0,    1,    0,    1,   79,    0,    0,\n",
       "           1,   29,    5,    0,    0,    2,   11,   13,    1,    0,    2,\n",
       "           0,    0,    0,    0,    1,    0,    2,    0,    4],\n",
       "       [  29,   68,    6,    2,    0,    5,    1,    0,  135,    0,    0,\n",
       "           1,   10,    0,    0,    0,    6,   40,    7,    1,    0,    2,\n",
       "           0,    0,    0,    2,    3,    1,    5,    2,    0],\n",
       "       [   0,    0,  400,    8,    1,    1,   50,    2,  173,    0,    0,\n",
       "           0,   16,    3,    0,    2,    8,  209,   12,    8,    0,   13,\n",
       "           4,    0,    0,    0,    0,    0,    9,    0,    0],\n",
       "       [   0,    0,    3,  610,    0,    1,    1,    1,   22,    0,    0,\n",
       "           5,   71,    4,    0,    5,    4,  260,    2,    0,    0,    5,\n",
       "           0,    2,    1,    2,    5,    2,   14,    2,    3],\n",
       "       [   0,    0,    1,   27,   36,    0,    3,    3,    7,    0,    0,\n",
       "           0,   29,    3,    0,    0,    5,  114,    4,    0,    0,    2,\n",
       "           1,    0,    0,    1,    1,    0,    3,    0,    1],\n",
       "       [   1,    0,    1,    4,    0,  491,    0,    0,  257,    2,    0,\n",
       "           2,   18,    0,    0,    0,   12,  153,    6,    0,    0,    7,\n",
       "           1,    1,    0,    0,    0,   11,    7,    0,    0],\n",
       "       [   0,    0,   11,    4,    0,    4,  474,    0,   32,    0,    0,\n",
       "           7,    8,    0,    0,    2,    2,  186,    0,    1,    0,    2,\n",
       "           0,    0,    0,    3,    0,   32,    6,    0,    0],\n",
       "       [   2,    0,    0,   15,    4,    0,    0,   74,    0,    1,    0,\n",
       "           0,   24,    5,    0,    1,   10,  100,    1,    0,    0,    0,\n",
       "           0,    0,    0,    0,    0,    0,    0,    0,    1],\n",
       "       [   6,    2,   13,    9,    0,   48,   14,    0, 3203,    0,    0,\n",
       "           1,   34,    2,    0,    4,    9,  168,   18,    2,    0,   10,\n",
       "           2,    1,    0,    3,    2,    3,    9,    0,    2],\n",
       "       [   1,    0,    0,   11,    0,    0,    0,    0,   31,  109,    0,\n",
       "           0,  111,    0,    0,    0,   47,   27,    2,    0,    0,    1,\n",
       "           0,    2,    0,    0,    4,    0,    4,    0,    1],\n",
       "       [   0,    0,    4,    6,    1,    1,    8,    0,  102,    0,   83,\n",
       "          14,   24,    7,    0,    0,   22,   36,    4,    0,    0,    4,\n",
       "           0,    2,    0,    0,    2,   19,    0,    1,    0],\n",
       "       [   1,    0,    0,   16,    0,    4,   11,    0,   47,    2,    7,\n",
       "         300,   34,   12,    0,    0,    8,  213,    0,    0,    1,    1,\n",
       "           1,    1,    0,    7,    6,   17,    0,    2,    1],\n",
       "       [   2,    0,    0,   26,    0,    0,    2,    0,   43,    5,    0,\n",
       "           2, 1444,    9,    0,    2,   30,   95,    1,    2,    2,    5,\n",
       "           1,   12,    0,    6,    7,    0,   11,    0,    2],\n",
       "       [   0,    0,    5,   38,    0,    3,    1,    4,   21,    0,    1,\n",
       "          16,  124,  222,    0,    0,   19,  174,    4,    4,    0,    2,\n",
       "           0,    0,    0,    5,    1,    0,   17,    2,    2],\n",
       "       [   0,    0,    3,    2,    0,    0,    6,    0,   73,    0,    0,\n",
       "           0,    5,    3,   66,    0,    4,  112,    6,    0,    0,    4,\n",
       "           0,    0,    0,    1,    2,    0,    1,    1,    1],\n",
       "       [   0,    0,    5,   29,    0,   10,    2,    0,   44,    1,    0,\n",
       "           1,    8,    2,    0,  217,    2,  383,    2,    0,    0,    6,\n",
       "           0,    0,    0,    5,    0,    0,    7,    0,    0],\n",
       "       [   0,    0,    1,    8,    0,    4,    3,    1,   68,    0,    1,\n",
       "           0,   93,    6,    0,    0,  729,   43,    8,    4,    1,    1,\n",
       "           0,    2,    0,    0,    4,    2,    7,    0,    0],\n",
       "       [   0,    0,   31,   41,    1,   28,   46,    5,   74,    0,    1,\n",
       "          19,   56,   11,    0,   16,    3, 7718,   23,   16,    1,   11,\n",
       "           0,    0,    1,   28,    1,    0,   17,   10,   62],\n",
       "       [   0,    0,    2,    2,    0,    1,    9,    0,   80,    0,    0,\n",
       "           0,   20,    0,    0,    0,   17,  154,  940,    6,    0,    4,\n",
       "           0,    0,    0,    4,    2,    0,    3,    0,    2],\n",
       "       [   0,    1,    9,    3,    0,    4,    4,    0,   42,    0,    0,\n",
       "           3,   40,    4,    0,    0,   13,  180,   28,  334,    1,    4,\n",
       "           1,    0,    0,    8,    0,    0,    6,    6,   12],\n",
       "       [   0,    0,    2,    5,    1,    9,    1,    0,   37,    0,    1,\n",
       "          26,   89,    1,    0,    0,    4,   48,    2,    0,   99,    4,\n",
       "           0,    1,    0,    1,    0,   19,    1,    2,    1],\n",
       "       [   0,    0,    8,    3,    0,   12,   10,    0,  112,    0,    0,\n",
       "           1,   11,    2,    0,    1,    2,   96,    6,    0,    0,  709,\n",
       "           0,    0,    0,    9,    1,    5,    4,    0,    1],\n",
       "       [   0,    0,    3,   14,    1,    1,    0,    0,  131,    0,    0,\n",
       "           1,   36,    1,    0,    1,    9,   16,    4,    0,    0,    2,\n",
       "         348,    7,    0,    0,    5,    1,    7,    0,    0],\n",
       "       [   0,    0,    0,    3,    0,    0,    1,    0,   54,    0,    1,\n",
       "           2,   40,    0,    0,    1,    6,   18,    2,    1,    0,    1,\n",
       "           9,  378,    0,    0,   16,    1,    0,    1,    0],\n",
       "       [   0,    0,    0,   59,    1,    0,    4,    0,   37,    0,    0,\n",
       "           0,   16,    1,    0,    0,    7,  103,    4,    0,    0,    0,\n",
       "           1,    0,   60,    2,    1,    9,    0,    0,    0],\n",
       "       [   0,    1,    0,    4,    0,    0,   14,    0,   16,    0,    0,\n",
       "          15,   13,   14,    1,    1,    2,  236,    5,    8,    1,    5,\n",
       "           0,    0,    0,  512,    4,    3,    3,   22,   38],\n",
       "       [   1,    0,    1,    9,    1,    0,    0,    0,   53,    2,    0,\n",
       "           3,   37,    1,    0,    0,   11,   35,    2,    2,    0,    4,\n",
       "           5,   10,    0,    5,  346,    2,    3,    0,    2],\n",
       "       [   1,    0,    2,    3,    0,   36,   74,    0,  177,    0,    3,\n",
       "           8,   13,    1,    0,    1,    9,   77,    2,    1,    1,   25,\n",
       "           1,    4,    0,    3,    2,  231,    2,    1,    0],\n",
       "       [   1,    0,    7,   25,    1,    6,    1,    0,  108,    1,    0,\n",
       "           0,  112,    5,    0,    0,   43,  152,   13,    7,    1,   12,\n",
       "           2,    0,    0,    1,    0,    0,  327,    0,    0],\n",
       "       [   0,    0,    0,    3,    0,    0,   20,    1,   19,    0,    0,\n",
       "           7,    1,    9,    1,    0,    2,  172,    1,   13,    1,    1,\n",
       "           0,    0,    0,  164,    0,    2,    3,   83,   23],\n",
       "       [   1,    1,    0,   11,    0,    0,    5,    0,   16,    0,    0,\n",
       "           8,   15,   18,    0,    0,    3,  181,    7,    7,    0,    2,\n",
       "           2,    0,    0,  130,    3,    1,    0,    9,  219]])"
      ]
     },
     "execution_count": 37,
     "metadata": {},
     "output_type": "execute_result"
    }
   ],
   "source": [
    "# print the confusion matrix\n",
    "metrics.confusion_matrix(y_test, y_pred_class)"
   ]
  },
  {
   "cell_type": "code",
   "execution_count": 38,
   "metadata": {},
   "outputs": [
    {
     "data": {
      "text/plain": [
       "113125    dr. sharon ufberg, contributorco-founder borro...\n",
       "99566     joanne dagonese, contributorinnovative thinker...\n",
       "100507    margaret manning, contributorauthor, founder o...\n",
       "91683     hooplaha, contributordedicated to delivering o...\n",
       "4035      ron dicker craig mack, 'flava in ya ear' rappe...\n",
       "8050      carol kuruvilla 'roseanne' revival will featur...\n",
       "45649     andy mcdonald christopher columbus and donald ...\n",
       "116982    roque planas activists ask new york mayor to s...\n",
       "115409    mary anna dennard, contributorfounder, college...\n",
       "23909     kathryn m. flinn, contributorassistant profess...\n",
       "114270    bill bradley letterman remembers his friend of...\n",
       "118368    ryan grenoble newtown victim's animal sanctuar...\n",
       "72262     lee moran dj played snorting 'peppa pig' theme...\n",
       "90222     bill bradley 'avengers' strangely makes more s...\n",
       "117199    robert whitcomb, contributorprovidence-based e...\n",
       "118740    alexander c. kaufman hobby lobby still covers ...\n",
       "85168     paige lavender john mccain responds to comment...\n",
       "25014     maddie crum writers' group is raising money to...\n",
       "32499     sebastian murdock poachers kill vince the rhin...\n",
       "121231    peter h. gleick, contributorchief scientist, p...\n",
       "13899     walker bragman newsweek journalists weigh sex ...\n",
       "10380     david halperin, contributorattorney, advocate,...\n",
       "68738      no parole for kkk leader who killed black tee...\n",
       "98181     randy miller, contributorteacher & author no c...\n",
       "89751     laverne h. bardy, contributorauthor, syndicate...\n",
       "25400     michael rosenblum, contributorthevj.com, found...\n",
       "46854     michael calderone lester holt proved debate mo...\n",
       "69539      manatees no longer facing extinction, but the...\n",
       "2646      lee moran bill maher zings eric and donald tru...\n",
       "23619     james m. dorsey, contributors. rajaratnam scho...\n",
       "                                ...                        \n",
       "48328     hilary hanson woman allegedly attacks muslim m...\n",
       "36319     eleanor goldberg skittles highway spill reveal...\n",
       "110990    clare richardson, contributorjournalist based ...\n",
       "25985     the conversation global, contributorthe conver...\n",
       "23329     doug bandow, contributorcontributing writer, p...\n",
       "113098    katrina sands, contributortorontonian, travele...\n",
       "12563     katherine brooks the making of 'alias grace,' ...\n",
       "116536    kristen defalco, contributorhealth nut, writer...\n",
       "117135     consulate worker accused of bringing huge amo...\n",
       "45870     siddharth chatterjee, contributorunited nation...\n",
       "36879     jilian mincer, reuters quarter of republicans ...\n",
       "43515     jillian capewell cubs' win brings baseball and...\n",
       "18088     ed mazza washington post humor columnist chall...\n",
       "23819     carla herreria and david moye here's what we k...\n",
       "107087    ron kronish, contributorfounding director, int...\n",
       "94705     heidi w. durrow, contributornew york times bes...\n",
       "31117     lee moran londoners raise their voices to let ...\n",
       "55279     ron dicker burger king's mac n' cheetos will f...\n",
       "44779     michael calderone chris wallace just brought u...\n",
       "79367     kate sheppard how exploring space led a top na...\n",
       "36603     lee moran keith olbermann says 'we were invade...\n",
       "114949                      who should play richard pryor? \n",
       "120434    jennifer boyd-einstein and paula mangin, contr...\n",
       "45323     steven hoffer this video shows what not to do ...\n",
       "17664     eline gordts live updates on hurricane harvey'...\n",
       "99943      vaccine critics on defensive from rational pe...\n",
       "49973     michael calderone and sam stein donald trump i...\n",
       "3971      nina golgowski 'am i next?': students rally wi...\n",
       "94724     nicole breedlove, contributornicole breedlove ...\n",
       "22004     sue kerr, contributorfounder of pittsburgh les...\n",
       "Length: 4804, dtype: object"
      ]
     },
     "execution_count": 38,
     "metadata": {},
     "output_type": "execute_result"
    }
   ],
   "source": [
    "# print message text for the false positives (ham incorrectly classified as spam)\n",
    "X_test[y_pred_class > y_test]"
   ]
  },
  {
   "cell_type": "code",
   "execution_count": 39,
   "metadata": {},
   "outputs": [
    {
     "data": {
      "text/plain": [
       "94135     katherine brooks this gorgeous 'live' sculptur...\n",
       "113473    katherine brooks indigenous performance artist...\n",
       "121310    priscilla frank 12 stunning reasons new yorker...\n",
       "100341    katherine brooks tattoo duo brings incredibly ...\n",
       "91114     maddie crum this grrrl power video game is eve...\n",
       "108502    katherine brooks beloved author and leonardo d...\n",
       "95095     katherine brooks 60 years of jane doe portrait...\n",
       "113298    priscilla frank here's a hermit crab shelter b...\n",
       "98993     katherine brooks nude photography, by women of...\n",
       "119226    katherine brooks 27 (more) photographers you n...\n",
       "102032    priscilla frank this is what happens when adul...\n",
       "98729     priscilla frank texas 'draw the prophet' conte...\n",
       "103615    priscilla frank you can now go to art school a...\n",
       "99592     priscilla frank photographer captures stunning...\n",
       "113658    priscilla frank this badass lady taxidermist s...\n",
       "108095    priscilla frank hbo tags youtube in anticipati...\n",
       "88255     maddie crum for one year, this publisher will ...\n",
       "111981    katherine brooks these are 32 of the most stun...\n",
       "99130     priscilla frank the art and science hybrid tha...\n",
       "109909    priscilla frank striking gifs and illustration...\n",
       "124693    katherine brooks why one artist wants to cover...\n",
       "121776    katherine brooks meet the world's first woman ...\n",
       "91827     maddie crum the big problem with how we talk a...\n",
       "107007    katherine brooks 'real prettiness' project sho...\n",
       "103787    priscilla frank 11 art destinations that doubl...\n",
       "118281    priscilla frank behold, the most magical (and ...\n",
       "104215    priscilla frank designers recreated wes anders...\n",
       "96300     priscilla frank at williams college, andy warh...\n",
       "121032    katherine brooks tattooed porcelain dolls offe...\n",
       "104326    katherine brooks this winter, you can get tatt...\n",
       "95494     priscilla frank connecting the misogyny of the...\n",
       "114659    priscilla frank brace yourselves, a bjork docu...\n",
       "89761     claire fallon terrance hayes on the joys of po...\n",
       "95651     priscilla frank recognize the importance (and ...\n",
       "107819    katherine brooks meet the hulking young stars ...\n",
       "116097    priscilla frank the louvre gardens are teeming...\n",
       "123052    priscilla frank 10 wildly detailed drawings of...\n",
       "dtype: object"
      ]
     },
     "execution_count": 39,
     "metadata": {},
     "output_type": "execute_result"
    }
   ],
   "source": [
    "# alternative less elegant but easier to understand\n",
    "X_test[(y_pred_class==1) & (y_test==0)]"
   ]
  },
  {
   "cell_type": "code",
   "execution_count": 40,
   "metadata": {},
   "outputs": [
    {
     "data": {
      "text/plain": [
       "3998      ron dicker man dressed as elsa from 'frozen' p...\n",
       "89940      priest fired as seton hall chaplain comes out...\n",
       "23659     clara g. herrera, contributori am a mama, scie...\n",
       "20895     outspeak, contributoroutspeak™ is the opinion ...\n",
       "103025           putin signs new russian military doctrine \n",
       "52716     damon dahlen and lee moran the fashion at the ...\n",
       "123060     at least 40 dead as boat carrying migrants si...\n",
       "123142    suzan mazur, contributorauthor, 'the origin of...\n",
       "5826      karolos grohmann, reuters winter olympics orga...\n",
       "7854      carol kuruvilla finnish chain builds 'game of ...\n",
       "73941     lee moran the king of sweden wants to ban you ...\n",
       "34734     daniel marans donald trump suggests he may not...\n",
       "117519    leena suleiman, contributorhumanitarian progra...\n",
       "39379     nick robins-early far-right politicians rush t...\n",
       "44317     julia craven heartbreaking new documentary imm...\n",
       "41611     john mariani, contributorpublisher of \"mariani...\n",
       "24014     erin raffety, contributoranthropologist-minist...\n",
       "25799     the aspen institute new voices fellowship, con...\n",
       "35464     elyse wanshel the moving story behind this vir...\n",
       "105163    cliff hsia, contributorwriter, creator of live...\n",
       "38599     richa gupta, contributorteen poet and blogger,...\n",
       "32425     jamie feldman mara hoffman taps 'feminists, ac...\n",
       "31207     hayley miller drop in new coal plants worldwid...\n",
       "12598     willa frej isis claims responsibility for new ...\n",
       "98467     brian joyce, contributorradio host, talk radio...\n",
       "58970     ron dicker cal's ryan mason throws the most pr...\n",
       "79097     philip seib, contributorprofessor, university ...\n",
       "38857     elyse wanshel dad’s christmas card to bi daugh...\n",
       "71086     samantha guff 15 weird photos of people tangle...\n",
       "83054     sebastian murdock minions help smuggle cocaine...\n",
       "                                ...                        \n",
       "59765     shane ferro can these women save silicon valle...\n",
       "16864      archaeologists in egypt unearth 3,500-year-ol...\n",
       "8464      kristen aiken the best mocktails to order at t...\n",
       "92465     emily ladau, contributordisability rights advo...\n",
       "10948     carol kuruvilla vandals shatter windows at a m...\n",
       "99271     david moye teen artist fights to replace cosby...\n",
       "106043    sue kerr, contributorfounder and editor, pitts...\n",
       "112638    zorianna kit, contributorentertainment journal...\n",
       "16431     lee moran floyd mayweather defended donald tru...\n",
       "65967     james cave here's how you can be inducted into...\n",
       "3496      alanna vagianos the irony of joe biden trying ...\n",
       "124669    jessica merry samuels, contributorsecond-year ...\n",
       "50826     ron dicker u.s. olympic star kim rhode shoots ...\n",
       "70097      incredible illustration captures entire known...\n",
       "81686      psychology’s fears confirmed: rechecked studi...\n",
       "115379    alice bean, contributorexperimental particle p...\n",
       "76262     whitney meers men hold faux funeral after frie...\n",
       "67464     elyse wanshel kids with disabilities become su...\n",
       "22354     ian reifowitz, contributorprofessor of history...\n",
       "100167     disappearance of malaysia airlines flight #37...\n",
       "27940     carla herreria 12-year-old 'humiliated' by che...\n",
       "99497     ed mazza whale of a fail! guy on his phone mis...\n",
       "123346    jamie lee curtis, contributoractress and child...\n",
       "53352     james cave kellan lutz somehow appeared in alm...\n",
       "39103     john a. tures, contributorpolitical science pr...\n",
       "38997     lee moran the weirdest gifts that people are r...\n",
       "100191    nick robins-early 11 striking photos from koba...\n",
       "63313     nina golgowski pine cone-throwing man moons co...\n",
       "88253     melissa browning, contributorscholar-activist,...\n",
       "69005     lee moran twitter goes down and everyone freak...\n",
       "Length: 5453, dtype: object"
      ]
     },
     "execution_count": 40,
     "metadata": {},
     "output_type": "execute_result"
    }
   ],
   "source": [
    "# print message text for the false negatives (spam incorrectly classified as ham)\n",
    "X_test[y_pred_class < y_test]"
   ]
  },
  {
   "cell_type": "code",
   "execution_count": 41,
   "metadata": {},
   "outputs": [
    {
     "data": {
      "text/plain": [
       "23487    priscilla frank art of iranian immigrants reve...\n",
       "62759    priscilla frank colorful architecture, because...\n",
       "46346    priscilla frank artist races against time to p...\n",
       "55768    john seed, contributorprofessor of art history...\n",
       "41277    priscilla frank pussy riot to perform in 'poli...\n",
       "49835    priscilla frank how an ordinary ballpoint pen ...\n",
       "78725    priscilla frank instagram account documents th...\n",
       "44990    priscilla frank a palestinian woman spent 20 s...\n",
       "34835    priscilla frank artists with disabilities toy ...\n",
       "31838    priscilla frank the sickly sweet children's bo...\n",
       "13365    abigail rockwell, contributorjazz singer/songw...\n",
       "32089    d. dominick lombardi, contributorartist, art w...\n",
       "43651    priscilla frank here's why teaching kids about...\n",
       "46274    kate abbey-lambertz dozens of artists filled a...\n",
       "32981    priscilla frank how a ghanian-german artist us...\n",
       "39141    katherine brooks at 70 years old, marina abram...\n",
       "55122    james scarborough, contributorwriter inmates r...\n",
       "25812    jaime rojo & steven harrington, contributorco-...\n",
       "38775    abigail rockwell, contributorjazz singer/songw...\n",
       "50562    priscilla frank no, your eyeballs aren't broke...\n",
       "82490    priscilla frank an entire house dangles mid-ai...\n",
       "46369    priscilla frank christopher walken's floating ...\n",
       "79312    priscilla frank one artist's old blotting tiss...\n",
       "72399    claire fallon is art basel miami beach the gia...\n",
       "64111    priscilla frank neither painting nor disco is ...\n",
       "50791    priscilla frank 10 women photographers who are...\n",
       "32835    katherine brooks the sartorial genius of georg...\n",
       "39412    priscilla frank in just over 100 years, the me...\n",
       "63268    priscilla frank photographer documents people ...\n",
       "dtype: object"
      ]
     },
     "execution_count": 41,
     "metadata": {},
     "output_type": "execute_result"
    }
   ],
   "source": [
    "# alternative less elegant but easier to understand\n",
    "X_test[(y_pred_class==0) & (y_test==1)]"
   ]
  },
  {
   "cell_type": "code",
   "execution_count": 42,
   "metadata": {},
   "outputs": [
    {
     "data": {
      "text/plain": [
       "'priscilla frank art of iranian immigrants reveals the creative potential of inclusivity gallery looks \"beyond the ban\" to highlight the role art can play in uncertain times.'"
      ]
     },
     "execution_count": 42,
     "metadata": {},
     "output_type": "execute_result"
    }
   ],
   "source": [
    "# example false negative\n",
    "X_test[23487]"
   ]
  },
  {
   "cell_type": "markdown",
   "metadata": {},
   "source": [
    "### Own Implementation"
   ]
  },
  {
   "cell_type": "code",
   "execution_count": 43,
   "metadata": {},
   "outputs": [
    {
     "name": "stdout",
     "output_type": "stream",
     "text": [
      "First line from the data\n",
      "melissa jeltsen there were 2 mass shootings in texas last week but only 1 on tv she left her husband he killed their children just another day in america\n"
     ]
    }
   ],
   "source": [
    "# Removing all punctuations\n",
    "sans_punctuation_X = []\n",
    "for i in lower_case_X:\n",
    "    sans_punctuation_X.append(i.translate(str.maketrans('', '', string.punctuation)))\n",
    "print('First line from the data')\n",
    "print(sans_punctuation_X[0])"
   ]
  },
  {
   "cell_type": "code",
   "execution_count": 44,
   "metadata": {},
   "outputs": [
    {
     "name": "stdout",
     "output_type": "stream",
     "text": [
      "First line from the data\n",
      "['melissa', 'jeltsen', 'there', 'were', '2', 'mass', 'shootings', 'in', 'texas', 'last', 'week', 'but', 'only', '1', 'on', 'tv', 'she', 'left', 'her', 'husband', 'he', 'killed', 'their', 'children', 'just', 'another', 'day', 'in', 'america']\n"
     ]
    }
   ],
   "source": [
    "# Tokenization\n",
    "preprocessed_X = []\n",
    "for i in sans_punctuation_X:\n",
    "    preprocessed_X.append(i.split(' '))\n",
    "print('First line from the data')\n",
    "print(preprocessed_X[0])"
   ]
  },
  {
   "cell_type": "code",
   "execution_count": 45,
   "metadata": {},
   "outputs": [
    {
     "name": "stdout",
     "output_type": "stream",
     "text": [
      "MyTable length = 31\n",
      "MyTable2 length = 31\n"
     ]
    }
   ],
   "source": [
    "# Initialize the blank variable slots\n",
    "MyTable=[[],[],[],[],[],[],[],[],[],[],[],[],[],[],[],[],[],[],[],[],[],[],[],[],[],[],[],[],[],[],[]]\n",
    "MyTable2=[[],[],[],[],[],[],[],[],[],[],[],[],[],[],[],[],[],[],[],[],[],[],[],[],[],[],[],[],[],[],[]]\n",
    "\n",
    "for i in range(len(y_train)):\n",
    "    indices=y[i]\n",
    "    MyTable[indices].append(preprocessed_X[i])\n",
    "    MyTable2[indices].extend(preprocessed_X[i])\n",
    "\n",
    "print('MyTable length =', len(MyTable))\n",
    "print('MyTable2 length =', len(MyTable2))"
   ]
  },
  {
   "cell_type": "code",
   "execution_count": 46,
   "metadata": {},
   "outputs": [
    {
     "name": "stdout",
     "output_type": "stream",
     "text": [
      "The number of unique words in the first category for Frequency list =  4695\n",
      "The number of unique words in the first category =  4695\n"
     ]
    }
   ],
   "source": [
    "# Count frequencies\n",
    "frequency_list = []\n",
    "\n",
    "for i in MyTable2:\n",
    "    frequency_counts = Counter(i)\n",
    "    freq_dictionary = {k:np.log(v/len(frequency_counts)) for k,v in frequency_counts.items()}\n",
    "    frequency_list.append(freq_dictionary)\n",
    "print('The number of unique words in the first category for Frequency list = ',(len(frequency_list[0])))\n",
    "print('The number of unique words in the first category = ', len(Counter(MyTable2[0])))"
   ]
  },
  {
   "cell_type": "code",
   "execution_count": 47,
   "metadata": {},
   "outputs": [],
   "source": [
    "prior=np.zeros(len(y_unique))\n",
    "prior_log=np.zeros(len(y_unique))\n",
    "for i in range(len(y_unique)):\n",
    "    #list_dictionary = frequency_list\n",
    "    prior[i]=len(MyTable[i])/len(y)\n",
    "    prior_log[i]=np.log(prior[i])"
   ]
  },
  {
   "cell_type": "code",
   "execution_count": 48,
   "metadata": {},
   "outputs": [],
   "source": [
    "def classify(msg,y_unique,prior_log,list_dictionary):\n",
    "    class_prior=prior_log.copy()\n",
    "    class_prior=np.zeros(len(prior_log))\n",
    "    for i in range(len(frequency_list)):\n",
    "        for m in msg:\n",
    "            if m in list_dictionary[i]:\n",
    "                class_prior[i]=class_prior[i] + list_dictionary[i][m]\n",
    "    return class_prior.argmin()"
   ]
  },
  {
   "cell_type": "code",
   "execution_count": 49,
   "metadata": {},
   "outputs": [],
   "source": [
    "X_train, X_test, y_train, y_test = train_test_split(pd.Series(preprocessed_X),Y,test_size=0.25,random_state=1)\n",
    "X_train=X_train.reset_index(drop=True)   #reset index\n",
    "X_test=X_test.reset_index(drop=True)     #reset index\n",
    "y_train=y_train.reset_index(drop=True)   #reset index\n",
    "y_test=y_test.reset_index(drop=True)     #reset index"
   ]
  },
  {
   "cell_type": "code",
   "execution_count": 50,
   "metadata": {},
   "outputs": [],
   "source": [
    "predict=y_test.copy()\n",
    "for i in range(len(predict)):\n",
    "    label_index=classify(X_test[i],y_unique,prior_log,frequency_list)\n",
    "    predict[i]=y_unique[label_index]   "
   ]
  },
  {
   "cell_type": "code",
   "execution_count": 51,
   "metadata": {},
   "outputs": [],
   "source": [
    "pred=np.zeros(len(predict))\n",
    "for i in range(len(predict)):\n",
    "    if predict[i] == y_test[i]:\n",
    "        pred[i]=1 "
   ]
  },
  {
   "cell_type": "code",
   "execution_count": 52,
   "metadata": {},
   "outputs": [
    {
     "data": {
      "text/plain": [
       "0.30699564772145416"
      ]
     },
     "execution_count": 52,
     "metadata": {},
     "output_type": "execute_result"
    }
   ],
   "source": [
    "sum(pred)/len(pred)"
   ]
  },
  {
   "cell_type": "markdown",
   "metadata": {},
   "source": [
    "## Problem 3"
   ]
  },
  {
   "cell_type": "markdown",
   "metadata": {},
   "source": [
    "Implement in Python the Naïve Bayes algorithm for the digits dataset in the Scikit-Learn library. Compare your results against the results obtained by using the Scikit-Learn implementation of the Naïve Bayes algorithm.  "
   ]
  },
  {
   "cell_type": "markdown",
   "metadata": {},
   "source": [
    "### Scikit Learn Implementation"
   ]
  },
  {
   "cell_type": "code",
   "execution_count": 53,
   "metadata": {},
   "outputs": [],
   "source": [
    "# Import Data\n",
    "digits = load_digits()"
   ]
  },
  {
   "cell_type": "code",
   "execution_count": 54,
   "metadata": {},
   "outputs": [],
   "source": [
    "# Assign data to X and y data sets\n",
    "n_samples = len(digits.images)\n",
    "X = digits.images.reshape((n_samples, 64))\n",
    "y = digits.target.reshape((n_samples,1))"
   ]
  },
  {
   "cell_type": "code",
   "execution_count": 55,
   "metadata": {},
   "outputs": [],
   "source": [
    "# Split the data\n",
    "X_train, X_test, y_train, y_test = train_test_split(X,y,test_size=0.10,random_state=49)"
   ]
  },
  {
   "cell_type": "code",
   "execution_count": 56,
   "metadata": {},
   "outputs": [
    {
     "data": {
      "text/plain": [
       "GaussianNB(priors=None)"
      ]
     },
     "execution_count": 56,
     "metadata": {},
     "output_type": "execute_result"
    }
   ],
   "source": [
    "# Train model\n",
    "model = GaussianNB()\n",
    "model.fit(X_train, np.ravel(y_train, order='C'))"
   ]
  },
  {
   "cell_type": "code",
   "execution_count": 57,
   "metadata": {},
   "outputs": [
    {
     "name": "stdout",
     "output_type": "stream",
     "text": [
      "0.873840445269\n"
     ]
    }
   ],
   "source": [
    "# Accuracy based on the train data\n",
    "predicted = model.predict(X_train)\n",
    "print(metrics.accuracy_score(y_train, predicted))"
   ]
  },
  {
   "cell_type": "code",
   "execution_count": 58,
   "metadata": {},
   "outputs": [
    {
     "name": "stdout",
     "output_type": "stream",
     "text": [
      "0.844444444444\n"
     ]
    }
   ],
   "source": [
    "# Accuracy based on the test data\n",
    "predicted = model.predict(X_test)\n",
    "print(metrics.accuracy_score(y_test, predicted))"
   ]
  },
  {
   "cell_type": "markdown",
   "metadata": {},
   "source": [
    "### Our Implementation"
   ]
  },
  {
   "cell_type": "code",
   "execution_count": 59,
   "metadata": {},
   "outputs": [],
   "source": [
    "for i in range(len(X_train)):\n",
    "    x = [0 if x < 8 else 1 for x in X_train[i]]\n",
    "    X_train[i]=np.multiply(range(1,len(x)+1),x)\n",
    "    \n",
    "for i in range(len(X_test)):\n",
    "    x = [0 if x < 8 else 1 for x in X_test[i]]\n",
    "    X_test[i]=np.multiply(range(1,len(x)+1),x)\n",
    "    \n",
    "Y_test=np.zeros(len(y_test))\n",
    "Y_train=np.zeros(len(y_train))\n",
    "for i in range(len(y_train)):\n",
    "    Y_train[i]=y_train[i][0]\n",
    "    \n",
    "for i in range(len(y_test)):\n",
    "    Y_test[i]=y_test[i][0]"
   ]
  },
  {
   "cell_type": "code",
   "execution_count": 60,
   "metadata": {},
   "outputs": [],
   "source": [
    "#Function to find the frequency of words:\n",
    "def create_word_frequency(messages):\n",
    "    #dictionary = dict(enumerate(messages))\n",
    "    dictionary = Counter(messages)\n",
    "    dictionary = {k:dictionary[k] for k in sorted(dictionary, key=dictionary.get, reverse=True)}\n",
    "    perc_data=math.floor(len(dictionary)*.99)\n",
    "    #dict_index=list(dictionary)[perc_data]\n",
    "    dict_index=list(dictionary)[0]\n",
    "    val=dictionary[dict_index]\n",
    "    dictionary = dict((k, v) for k, v in dictionary.items() if v < val)\n",
    "    freq_dictionary = {k:np.log(v/len(dictionary)) for k,v in dictionary.items()}\n",
    "    return freq_dictionary"
   ]
  },
  {
   "cell_type": "code",
   "execution_count": 61,
   "metadata": {},
   "outputs": [
    {
     "data": {
      "text/plain": [
       "array([ 0.,  1.,  2.,  3.,  4.,  5.,  6.,  7.,  8.,  9.])"
      ]
     },
     "execution_count": 61,
     "metadata": {},
     "output_type": "execute_result"
    }
   ],
   "source": [
    "# Create empty variabel based on the number of unique labels\n",
    "labels=np.unique(Y_train)\n",
    "#MyTable=[]*len(labels)\n",
    "MyTable=[[],[],[],[],[],[],[],[],[],[]]\n",
    "MyTable2=[[],[],[],[],[],[],[],[],[],[]]\n",
    "labels"
   ]
  },
  {
   "cell_type": "code",
   "execution_count": 62,
   "metadata": {},
   "outputs": [],
   "source": [
    "for data in range(len(Y_train)):\n",
    "    itemindex = np.where(labels==Y_train[data])\n",
    "    indices=itemindex[0][0]\n",
    "    MyTable[indices].append(X_train[data])\n",
    "    MyTable2[indices].extend(X_train[data])\n",
    "    #MyTable2[indices] =MyTable2[indices] + X_train[data]\n",
    "\n",
    "list_dictionary = [{},{},{},{},{},{},{},{},{},{}]"
   ]
  },
  {
   "cell_type": "code",
   "execution_count": 63,
   "metadata": {},
   "outputs": [],
   "source": [
    "# Get Frequecny for each label\n",
    "prior=np.zeros(len(labels))\n",
    "prior_log=np.zeros(len(labels))\n",
    "for i in range(len(labels)):\n",
    "    list_dictionary[i] =create_word_frequency(MyTable2[i])\n",
    "    prior[i]=len(MyTable[i])/len(y_train)\n",
    "    prior_log[i]=np.log(prior[i])"
   ]
  },
  {
   "cell_type": "code",
   "execution_count": 64,
   "metadata": {},
   "outputs": [],
   "source": [
    "def classify(msg,labels,prior_log,list_dictionary):\n",
    "    class_prior=prior_log.copy()\n",
    "    #class_prior=np.zeros(len(prior_log))\n",
    "    for i in range(len(labels)):\n",
    "        for m in msg:\n",
    "            if m in list_dictionary[i]:\n",
    "                class_prior[i]=class_prior[i] + list_dictionary[i][m]\n",
    "    class_prior=np.exp(class_prior)\n",
    "    return class_prior.argmax()"
   ]
  },
  {
   "cell_type": "code",
   "execution_count": 65,
   "metadata": {},
   "outputs": [
    {
     "data": {
      "text/plain": [
       "0.79591836734693877"
      ]
     },
     "execution_count": 65,
     "metadata": {},
     "output_type": "execute_result"
    }
   ],
   "source": [
    "# Test model on train data\n",
    "predict=Y_train.copy()\n",
    "for i in range(len(predict)):\n",
    "    label_index=classify(X_train[i],labels,prior_log,list_dictionary)\n",
    "    predict[i]=labels[label_index]\n",
    "\n",
    "np.mean(predict == Y_train)"
   ]
  },
  {
   "cell_type": "code",
   "execution_count": 66,
   "metadata": {},
   "outputs": [
    {
     "data": {
      "text/plain": [
       "0.77222222222222225"
      ]
     },
     "execution_count": 66,
     "metadata": {},
     "output_type": "execute_result"
    }
   ],
   "source": [
    "# Test model on test data\n",
    "predict=Y_test.copy()\n",
    "for i in range(len(predict)):\n",
    "    label_index=classify(X_test[i],labels,prior_log,list_dictionary)\n",
    "    predict[i]=labels[label_index]\n",
    "\n",
    "np.mean(predict == Y_test)"
   ]
  },
  {
   "cell_type": "markdown",
   "metadata": {},
   "source": [
    "__Why are we splitting into training and testing sets before vectorizing?__\n",
    "\n",
    "__Background of train/test split__ \n",
    "\n",
    "* Train/test split is for model evaluation\n",
    "* Model evaluation is to simulate the future\n",
    "* Past data is exchangeable for future data\n",
    "* We pretend some of our past data is coming into our future data\n",
    "* By training, predicting and evaluating the data, we can check the performance of our model\n",
    "\n",
    "__Vectorize then split__\n",
    "\n",
    "* If we vectorize then we train/test split, our document-term matrix would contain every single feature (word) in the test and training sets\n",
    "    * What we want is to simulate the real world\n",
    "    * We would always see words we have not seen before so this method is not realistic and we cannot properly evaluate our models\n",
    "\n",
    "__Split then vectorize (correct way)__\n",
    "\n",
    "* We do the train/test split before the CountVectorizer to properly simulate the real world where our future data contains words we have not seen before\n",
    "\n",
    "After you train your data and chose the best model, you would then train on all of your data before predicting actual future data to maximize learning."
   ]
  }
 ],
 "metadata": {
  "kernelspec": {
   "display_name": "Python [default]",
   "language": "python",
   "name": "python3"
  },
  "language_info": {
   "codemirror_mode": {
    "name": "ipython",
    "version": 3
   },
   "file_extension": ".py",
   "mimetype": "text/x-python",
   "name": "python",
   "nbconvert_exporter": "python",
   "pygments_lexer": "ipython3",
   "version": "3.6.6"
  }
 },
 "nbformat": 4,
 "nbformat_minor": 2
}
