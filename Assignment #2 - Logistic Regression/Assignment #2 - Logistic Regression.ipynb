{
 "cells": [
  {
   "cell_type": "markdown",
   "metadata": {},
   "source": [
    "## Import the Libraries:\n",
    "1. numpy\n",
    "2. matplotlib.pyplot\n",
    "3. pandas"
   ]
  },
  {
   "cell_type": "code",
   "execution_count": 1,
   "metadata": {},
   "outputs": [],
   "source": [
    "import numpy as np\n",
    "import matplotlib.pyplot as plt\n",
    "import pandas as pd"
   ]
  },
  {
   "cell_type": "markdown",
   "metadata": {},
   "source": [
    "## Read the csv file: \"data.csv\""
   ]
  },
  {
   "cell_type": "code",
   "execution_count": 2,
   "metadata": {},
   "outputs": [
    {
     "data": {
      "text/html": [
       "<div>\n",
       "<style scoped>\n",
       "    .dataframe tbody tr th:only-of-type {\n",
       "        vertical-align: middle;\n",
       "    }\n",
       "\n",
       "    .dataframe tbody tr th {\n",
       "        vertical-align: top;\n",
       "    }\n",
       "\n",
       "    .dataframe thead th {\n",
       "        text-align: right;\n",
       "    }\n",
       "</style>\n",
       "<table border=\"1\" class=\"dataframe\">\n",
       "  <thead>\n",
       "    <tr style=\"text-align: right;\">\n",
       "      <th></th>\n",
       "      <th>x1</th>\n",
       "      <th>x2</th>\n",
       "      <th>x3</th>\n",
       "      <th>x4</th>\n",
       "      <th>y</th>\n",
       "    </tr>\n",
       "  </thead>\n",
       "  <tbody>\n",
       "    <tr>\n",
       "      <th>0</th>\n",
       "      <td>-3</td>\n",
       "      <td>-2</td>\n",
       "      <td>-3</td>\n",
       "      <td>-2</td>\n",
       "      <td>1</td>\n",
       "    </tr>\n",
       "    <tr>\n",
       "      <th>1</th>\n",
       "      <td>-4</td>\n",
       "      <td>-3</td>\n",
       "      <td>-2</td>\n",
       "      <td>0</td>\n",
       "      <td>1</td>\n",
       "    </tr>\n",
       "    <tr>\n",
       "      <th>2</th>\n",
       "      <td>3</td>\n",
       "      <td>-5</td>\n",
       "      <td>-5</td>\n",
       "      <td>2</td>\n",
       "      <td>2</td>\n",
       "    </tr>\n",
       "    <tr>\n",
       "      <th>3</th>\n",
       "      <td>-2</td>\n",
       "      <td>3</td>\n",
       "      <td>-2</td>\n",
       "      <td>-4</td>\n",
       "      <td>1</td>\n",
       "    </tr>\n",
       "    <tr>\n",
       "      <th>4</th>\n",
       "      <td>-4</td>\n",
       "      <td>-1</td>\n",
       "      <td>1</td>\n",
       "      <td>4</td>\n",
       "      <td>0</td>\n",
       "    </tr>\n",
       "  </tbody>\n",
       "</table>\n",
       "</div>"
      ],
      "text/plain": [
       "   x1  x2  x3  x4  y\n",
       "0  -3  -2  -3  -2  1\n",
       "1  -4  -3  -2   0  1\n",
       "2   3  -5  -5   2  2\n",
       "3  -2   3  -2  -4  1\n",
       "4  -4  -1   1   4  0"
      ]
     },
     "execution_count": 2,
     "metadata": {},
     "output_type": "execute_result"
    }
   ],
   "source": [
    "df = pd.read_csv(\"data.csv\")\n",
    "df.head()"
   ]
  },
  {
   "cell_type": "code",
   "execution_count": 3,
   "metadata": {},
   "outputs": [
    {
     "name": "stdout",
     "output_type": "stream",
     "text": [
      "X = \n",
      "       x1  x2  x3  x4\n",
      "0     -3  -2  -3  -2\n",
      "1     -4  -3  -2   0\n",
      "2      3  -5  -5   2\n",
      "3     -2   3  -2  -4\n",
      "4     -4  -1   1   4\n",
      "5      2  -5  -5  -5\n",
      "6      0   4   0   0\n",
      "7      0  -4  -2  -1\n",
      "8      4   1  -2  -4\n",
      "9      2  -5  -1   0\n",
      "10    -5   2  -2  -1\n",
      "11     1  -3  -3  -3\n",
      "12    -5   4  -3  -3\n",
      "13    -1  -1   1   3\n",
      "14    -3   2   2   4\n",
      "15     3   2   2   4\n",
      "16    -5  -5  -4  -2\n",
      "17     2  -3   0   3\n",
      "18    -5   2   0   3\n",
      "19    -3  -1  -1   1\n",
      "20     2  -2   1   4\n",
      "21    -1  -3  -5  -5\n",
      "22    -5  -3  -3  -1\n",
      "23    -4  -2  -2   0\n",
      "24    -5  -2  -2   0\n",
      "25     4   1  -1  -2\n",
      "26     0  -2   0   2\n",
      "27    -3   0   1   3\n",
      "28     1   1   1   2\n",
      "29    -5  -1  -2  -1\n",
      "...   ..  ..  ..  ..\n",
      "1548   1   3   0   0\n",
      "1549  -3   4   1   2\n",
      "1550  -5   3  -2  -1\n",
      "1551  -5  -1   0   4\n",
      "1552   4   2   1   1\n",
      "1553  -3   3   2   4\n",
      "1554  -3   3  -1   0\n",
      "1555  -1  -1   0   2\n",
      "1556  -1  -1   1   3\n",
      "1557   4  -3   0   1\n",
      "1558   4  -2  -3  -5\n",
      "1559  -4   1   0   2\n",
      "1560   3  -4   0   1\n",
      "1561  -2   3  -2  -2\n",
      "1562  -5   4   1   3\n",
      "1563   2  -5   1   4\n",
      "1564   0  -1   1   4\n",
      "1565   3   0  -2  -3\n",
      "1566   0   4   2   3\n",
      "1567   3  -1   1   2\n",
      "1568   2  -4  -3  -1\n",
      "1569  -5  -5  -1   2\n",
      "1570   0   3   2   3\n",
      "1571  -4   1  -4  -4\n",
      "1572  -2  -4   1   4\n",
      "1573   1  -1   1   3\n",
      "1574   4  -2  -3  -4\n",
      "1575   1  -2  -3   4\n",
      "1576  -2   3  -2  -2\n",
      "1577   0   3  -1  -1\n",
      "\n",
      "[1578 rows x 4 columns] \n",
      "\n",
      "y = \n",
      " 0       1\n",
      "1       1\n",
      "2       2\n",
      "3       1\n",
      "4       0\n",
      "5       2\n",
      "6       1\n",
      "7       2\n",
      "8       2\n",
      "9       2\n",
      "10      1\n",
      "11      2\n",
      "12      1\n",
      "13      0\n",
      "14      0\n",
      "15      0\n",
      "16      1\n",
      "17      0\n",
      "18      1\n",
      "19      1\n",
      "20      0\n",
      "21      2\n",
      "22      1\n",
      "23      1\n",
      "24      1\n",
      "25      2\n",
      "26      0\n",
      "27      0\n",
      "28      0\n",
      "29      1\n",
      "       ..\n",
      "1548    1\n",
      "1549    1\n",
      "1550    1\n",
      "1551    0\n",
      "1552    0\n",
      "1553    0\n",
      "1554    1\n",
      "1555    0\n",
      "1556    0\n",
      "1557    0\n",
      "1558    2\n",
      "1559    1\n",
      "1560    0\n",
      "1561    1\n",
      "1562    1\n",
      "1563    0\n",
      "1564    0\n",
      "1565    2\n",
      "1566    0\n",
      "1567    0\n",
      "1568    2\n",
      "1569    0\n",
      "1570    0\n",
      "1571    1\n",
      "1572    0\n",
      "1573    0\n",
      "1574    2\n",
      "1575    0\n",
      "1576    1\n",
      "1577    1\n",
      "Name: y, Length: 1578, dtype: int64 \n",
      "\n"
     ]
    }
   ],
   "source": [
    "X = df[['x1','x2','x3','x4']]# Scikit-Learn library to classify the data\n",
    "print('X = \\n',X,'\\n')\n",
    "y = df['y']\n",
    "print('y = \\n',y,'\\n')"
   ]
  },
  {
   "cell_type": "markdown",
   "metadata": {},
   "source": [
    "### Load the train_test_split function"
   ]
  },
  {
   "cell_type": "code",
   "execution_count": 4,
   "metadata": {},
   "outputs": [],
   "source": [
    "from sklearn.model_selection import train_test_split"
   ]
  },
  {
   "cell_type": "markdown",
   "metadata": {},
   "source": [
    "### Split the data into:\n",
    "1. a **training** data set, and\n",
    "2. a **test** data set. "
   ]
  },
  {
   "cell_type": "code",
   "execution_count": 5,
   "metadata": {},
   "outputs": [
    {
     "name": "stdout",
     "output_type": "stream",
     "text": [
      "X_train=        x1  x2  x3  x4\n",
      "537   -3   4  -4  -4\n",
      "739   -1  -4  -3  -2\n",
      "1144   4  -3  -2  -3\n",
      "190    2   3  -2  -3\n",
      "371   -3   3  -1  -2\n",
      "209    3  -2   1   4\n",
      "1119  -5   4  -2  -3\n",
      "1058  -1  -2   0   3\n",
      "1110  -3   0  -1   1\n",
      "342    0   1   0   1\n",
      "458    1   4   2   3\n",
      "146    0   2   1   4\n",
      "123    2   2  -3  -5\n",
      "32    -1   2  -2  -2\n",
      "1155  -2   0  -4   1\n",
      "514    2   1   1   3\n",
      "1306  -5  -5  -2   1\n",
      "976    2   0   2   4\n",
      "853    3  -1  -2  -3\n",
      "999    4   4   0  -1\n",
      "241   -3   4  -2  -2\n",
      "1269   3   0   1   4\n",
      "980   -1  -5  -4  -3\n",
      "890    3  -1  -2  -3\n",
      "1512   4  -3  -3  -3\n",
      "98    -5   0  -1   2\n",
      "1496   1  -2  -4  -5\n",
      "898    4  -3   1   2\n",
      "254    3  -3  -4  -5\n",
      "714    0   3   1   2\n",
      "...   ..  ..  ..  ..\n",
      "1221   2   0  -4  -5\n",
      "287   -1   1   0   1\n",
      "826    0   3  -3  -4\n",
      "1340   3   0  -4  -5\n",
      "260   -5  -3  -1   2\n",
      "204    3  -1  -4   1\n",
      "196   -3   3  -3  -3\n",
      "1467  -3   3  -4  -5\n",
      "457    2  -2  -4  -4\n",
      "1214   4   1  -2  -4\n",
      "317   -4  -1   1   4\n",
      "1320  -4   0  -3  -4\n",
      "1352  -4   3  -2  -2\n",
      "79    -2   1  -1   0\n",
      "1423  -5  -2  -3  -1\n",
      "868   -1  -5  -4  -3\n",
      "417    4  -2   0   0\n",
      "315    2  -4  -4  -5\n",
      "1414   0   4   0   0\n",
      "1507  -3  -2  -1   1\n",
      "224   -5   4  -2  -1\n",
      "1201   4  -3   1   2\n",
      "892   -3   4   1   2\n",
      "638   -4   4   1   3\n",
      "453   -4   0  -3  -2\n",
      "908    4   1  -3  -5\n",
      "1206   0   2  -5  -5\n",
      "1525   3  -5  -4  -4\n",
      "424   -1  -5  -5  -3\n",
      "426    2   3   1   2\n",
      "\n",
      "[1183 rows x 4 columns] \n",
      "\n",
      "y_train=  537     1\n",
      "739     2\n",
      "1144    2\n",
      "190     2\n",
      "371     1\n",
      "209     0\n",
      "1119    1\n",
      "1058    0\n",
      "1110    1\n",
      "342     1\n",
      "458     0\n",
      "146     0\n",
      "123     2\n",
      "32      1\n",
      "1155    1\n",
      "514     0\n",
      "1306    1\n",
      "976     0\n",
      "853     2\n",
      "999     2\n",
      "241     1\n",
      "1269    0\n",
      "980     2\n",
      "890     2\n",
      "1512    2\n",
      "98      1\n",
      "1496    2\n",
      "898     0\n",
      "254     2\n",
      "714     0\n",
      "       ..\n",
      "1221    2\n",
      "287     1\n",
      "826     2\n",
      "1340    2\n",
      "260     1\n",
      "204     2\n",
      "196     1\n",
      "1467    1\n",
      "457     2\n",
      "1214    2\n",
      "317     0\n",
      "1320    1\n",
      "1352    1\n",
      "79      1\n",
      "1423    1\n",
      "868     2\n",
      "417     2\n",
      "315     2\n",
      "1414    1\n",
      "1507    1\n",
      "224     1\n",
      "1201    0\n",
      "892     1\n",
      "638     1\n",
      "453     1\n",
      "908     2\n",
      "1206    2\n",
      "1525    2\n",
      "424     2\n",
      "426     0\n",
      "Name: y, Length: 1183, dtype: int64 \n",
      "\n",
      "X_test=        x1  x2  x3  x4\n",
      "1379  -4   1   0   2\n",
      "312   -5   0  -2  -2\n",
      "1020   2  -2  -4  -5\n",
      "1295  -3   1   1   3\n",
      "1107   2  -5   0   3\n",
      "195    2  -4  -2  -1\n",
      "1346   2  -2   0   2\n",
      "1297   4   1   2   3\n",
      "455   -2  -3  -4  -4\n",
      "293   -1   3   0   1\n",
      "18    -5   2   0   3\n",
      "200   -2   4   0   1\n",
      "17     2  -3   0   3\n",
      "866   -4   4   1   4\n",
      "1492  -4   3  -1   0\n",
      "1524   4  -1  -4  -3\n",
      "1404   4  -4  -2  -2\n",
      "1459   1  -1  -4  -5\n",
      "807    1  -5  -3  -3\n",
      "1327  -2   1  -3  -3\n",
      "571   -5  -4   0   3\n",
      "1463  -3  -2  -2   4\n",
      "548   -4   3   0   1\n",
      "618   -3   2   0   1\n",
      "94     0  -2  -4  -4\n",
      "383    2  -4   0   2\n",
      "728    0  -1  -3  -3\n",
      "995    4   2   3   4\n",
      "428    3  -4  -3  -4\n",
      "76    -4   4   0   1\n",
      "...   ..  ..  ..  ..\n",
      "1356   3   1   1   3\n",
      "540    0  -3   0   3\n",
      "715   -1  -3   0   3\n",
      "370   -1   2   2   4\n",
      "726    4  -2   1   2\n",
      "718    4  -5  -1  -1\n",
      "368    4  -5   0   1\n",
      "1100  -4   1  -4  -4\n",
      "92     1  -4  -5  -5\n",
      "161   -3   0  -2  -1\n",
      "951    0  -4   0   4\n",
      "1095   4  -5  -3  -3\n",
      "674    3   1   2   3\n",
      "243    4   0  -1  -2\n",
      "516   -5  -3  -1   2\n",
      "401   -2  -3  -1   1\n",
      "530    3   4  -2  -4\n",
      "1236   3  -5   1   4\n",
      "1084  -1  -5   1   4\n",
      "1360  -2  -1  -2  -1\n",
      "1345  -3   1  -2  -1\n",
      "1161   2  -4  -2  -1\n",
      "1544   1  -1   2   4\n",
      "1491  -4   2  -1   1\n",
      "1437  -5  -4   0   3\n",
      "318    2  -5  -2  -1\n",
      "437    4   0   0   0\n",
      "358    2   3  -3  -5\n",
      "280    4  -1   0   0\n",
      "910   -3  -4   1   4\n",
      "\n",
      "[395 rows x 4 columns] \n",
      "\n",
      "y_test=  1379    1\n",
      "312     1\n",
      "1020    2\n",
      "1295    0\n",
      "1107    0\n",
      "195     2\n",
      "1346    0\n",
      "1297    0\n",
      "455     2\n",
      "293     1\n",
      "18      1\n",
      "200     1\n",
      "17      0\n",
      "866     0\n",
      "1492    1\n",
      "1524    2\n",
      "1404    2\n",
      "1459    2\n",
      "807     2\n",
      "1327    1\n",
      "571     0\n",
      "1463    0\n",
      "548     1\n",
      "618     1\n",
      "94      2\n",
      "383     0\n",
      "728     2\n",
      "995     0\n",
      "428     2\n",
      "76      1\n",
      "       ..\n",
      "1356    0\n",
      "540     0\n",
      "715     0\n",
      "370     0\n",
      "726     0\n",
      "718     2\n",
      "368     0\n",
      "1100    1\n",
      "92      2\n",
      "161     1\n",
      "951     0\n",
      "1095    2\n",
      "674     0\n",
      "243     2\n",
      "516     1\n",
      "401     1\n",
      "530     2\n",
      "1236    0\n",
      "1084    0\n",
      "1360    1\n",
      "1345    1\n",
      "1161    2\n",
      "1544    0\n",
      "1491    1\n",
      "1437    0\n",
      "318     2\n",
      "437     2\n",
      "358     2\n",
      "280     2\n",
      "910     0\n",
      "Name: y, Length: 395, dtype: int64 \n",
      "\n"
     ]
    }
   ],
   "source": [
    "X_train, X_test, y_train, y_test = train_test_split(X,y,test_size=0.25,random_state=49)\n",
    "print(\"X_train= \", X_train,'\\n')\n",
    "print(\"y_train= \", y_train,'\\n')\n",
    "print(\"X_test= \", X_test,'\\n')\n",
    "print(\"y_test= \", y_test,'\\n')"
   ]
  },
  {
   "cell_type": "code",
   "execution_count": 6,
   "metadata": {},
   "outputs": [
    {
     "data": {
      "text/plain": [
       "(1183,)"
      ]
     },
     "execution_count": 6,
     "metadata": {},
     "output_type": "execute_result"
    }
   ],
   "source": [
    "np.unique(y)\n",
    "y_train.shape"
   ]
  },
  {
   "cell_type": "markdown",
   "metadata": {},
   "source": [
    "# Scikit-Learn implementation to classify the data"
   ]
  },
  {
   "cell_type": "markdown",
   "metadata": {},
   "source": [
    "### Scikit-Learn Implementation of OneVsRestClassifier"
   ]
  },
  {
   "cell_type": "code",
   "execution_count": 7,
   "metadata": {},
   "outputs": [
    {
     "data": {
      "text/plain": [
       "array([1, 1, 2, 0, 0, 2, 0, 0, 2, 1, 1, 1, 0, 0, 1, 2, 2, 2, 2, 1, 0, 0, 1,\n",
       "       1, 2, 0, 2, 0, 2, 1, 1, 0, 2, 2, 1, 1, 1, 1, 1, 0, 2, 1, 0, 2, 0, 0,\n",
       "       1, 2, 1, 0, 1, 0, 2, 1, 1, 2, 1, 1, 1, 0, 0, 2, 2, 1, 0, 2, 0, 0, 0,\n",
       "       0, 2, 2, 1, 2, 1, 1, 0, 1, 1, 1, 2, 1, 1, 0, 0, 1, 1, 2, 0, 0, 2, 1,\n",
       "       0, 1, 1, 0, 2, 2, 0, 2, 2, 1, 1, 1, 1, 0, 0, 0, 1, 1, 2, 0, 2, 0, 1,\n",
       "       2, 1, 1, 0, 0, 1, 1, 1, 1, 2, 2, 0, 1, 2, 1, 0, 2, 0, 2, 0, 1, 0, 0,\n",
       "       1, 0, 2, 1, 2, 0, 1, 0, 1, 2, 0, 0, 0, 2, 1, 1, 2, 0, 2, 1, 0, 2, 2,\n",
       "       2, 0, 0, 0, 1, 1, 1, 0, 2, 0, 2, 1, 0, 2, 2, 2, 1, 2, 0, 0, 2, 1, 0,\n",
       "       0, 1, 2, 1, 0, 1, 2, 2, 1, 1, 2, 0, 0, 0, 2, 1, 2, 1, 1, 1, 0, 0, 1,\n",
       "       2, 2, 1, 2, 1, 1, 0, 1, 0, 1, 1, 0, 0, 1, 2, 0, 2, 2, 0, 1, 0, 1, 0,\n",
       "       0, 2, 0, 1, 0, 2, 2, 0, 1, 0, 2, 1, 2, 2, 2, 1, 2, 2, 2, 0, 0, 1, 2,\n",
       "       2, 0, 1, 0, 1, 2, 1, 1, 0, 1, 0, 1, 0, 1, 0, 0, 0, 2, 1, 1, 0, 1, 1,\n",
       "       1, 2, 2, 0, 2, 1, 0, 1, 0, 0, 0, 1, 1, 1, 0, 0, 0, 1, 0, 2, 1, 0, 1,\n",
       "       1, 1, 1, 0, 0, 2, 0, 2, 1, 2, 1, 2, 0, 1, 2, 1, 1, 0, 1, 1, 0, 1, 1,\n",
       "       2, 2, 1, 2, 1, 2, 2, 2, 1, 1, 0, 2, 0, 2, 2, 1, 2, 2, 1, 0, 2, 0, 1,\n",
       "       0, 1, 0, 1, 0, 2, 0, 2, 2, 0, 1, 2, 1, 2, 2, 2, 2, 0, 0, 2, 0, 0, 0,\n",
       "       0, 0, 2, 0, 1, 2, 1, 0, 2, 0, 2, 1, 1, 2, 0, 0, 1, 1, 2, 0, 1, 0, 2,\n",
       "       2, 2, 2, 0])"
      ]
     },
     "execution_count": 7,
     "metadata": {},
     "output_type": "execute_result"
    }
   ],
   "source": [
    "from sklearn.multiclass import OneVsRestClassifier\n",
    "from sklearn.svm import LinearSVC\n",
    "ovrc = OneVsRestClassifier(LinearSVC(random_state=0))\n",
    "ovrc.fit(X_train, y_train)\n",
    "predict = ovrc.predict(X_test)\n",
    "score = ovrc.score(X_test, y_test)\n",
    "predict"
   ]
  },
  {
   "cell_type": "code",
   "execution_count": 8,
   "metadata": {},
   "outputs": [
    {
     "name": "stdout",
     "output_type": "stream",
     "text": [
      "Intercept:  [[-2.09734113]\n",
      " [-0.98844793]\n",
      " [-2.21096742]] \n",
      "\n",
      "Coefficient [[ 0.41296352 -0.38068076  0.97506271  1.44338523]\n",
      " [-0.28073934  0.18426514 -0.25688032  0.05818696]\n",
      " [ 0.63560088 -0.18418184 -0.31982664 -0.79184281]] \n",
      "\n",
      "Score 0.982278481013 \n",
      "\n"
     ]
    }
   ],
   "source": [
    "print(\"Intercept: \", ovrc.intercept_,'\\n')\n",
    "print('Coefficient', ovrc.coef_,'\\n')\n",
    "print('Score', score,'\\n')"
   ]
  },
  {
   "cell_type": "markdown",
   "metadata": {},
   "source": [
    "### Trained model to predict the test data set"
   ]
  },
  {
   "cell_type": "code",
   "execution_count": 9,
   "metadata": {},
   "outputs": [],
   "source": [
    "predict = ovrc.predict(X_test)"
   ]
  },
  {
   "cell_type": "markdown",
   "metadata": {},
   "source": [
    "### Scatterplot of the real test values versus the predicted values"
   ]
  },
  {
   "cell_type": "code",
   "execution_count": 10,
   "metadata": {},
   "outputs": [
    {
     "data": {
      "text/plain": [
       "Text(0,0.5,'Predicted Y')"
      ]
     },
     "execution_count": 10,
     "metadata": {},
     "output_type": "execute_result"
    },
    {
     "data": {
      "image/png": "[encoded data removed]",
      "text/plain": [
       "<Figure size 432x288 with 1 Axes>"
      ]
     },
     "metadata": {},
     "output_type": "display_data"
    }
   ],
   "source": [
    "plt.scatter(y_test, predict)\n",
    "plt.xlabel('Y')\n",
    "plt.ylabel('Predicted Y')"
   ]
  },
  {
   "cell_type": "markdown",
   "metadata": {},
   "source": [
    "### The Confusion Matrix"
   ]
  },
  {
   "cell_type": "code",
   "execution_count": 11,
   "metadata": {},
   "outputs": [
    {
     "name": "stdout",
     "output_type": "stream",
     "text": [
      "[[133   6   0]\n",
      " [  0 135   0]\n",
      " [  0   1 120]]\n"
     ]
    }
   ],
   "source": [
    "import matplotlib.pyplot as plt\n",
    "from sklearn import metrics\n",
    "cm = metrics.confusion_matrix(\n",
    "  y_test, predict)\n",
    "print(cm)\n"
   ]
  },
  {
   "cell_type": "markdown",
   "metadata": {},
   "source": [
    "### Scikit-Learn Metrics Library"
   ]
  },
  {
   "cell_type": "code",
   "execution_count": 12,
   "metadata": {},
   "outputs": [
    {
     "name": "stdout",
     "output_type": "stream",
     "text": [
      "Accuracy: 0.982278481013\n",
      "Classification Report:\n",
      "              precision    recall  f1-score   support\n",
      "\n",
      "          0       1.00      0.96      0.98       139\n",
      "          1       0.95      1.00      0.97       135\n",
      "          2       1.00      0.99      1.00       121\n",
      "\n",
      "avg / total       0.98      0.98      0.98       395\n",
      "\n",
      "Confusion Matrix:\n",
      " [[133   6   0]\n",
      " [  0 135   0]\n",
      " [  0   1 120]]\n"
     ]
    }
   ],
   "source": [
    "from sklearn.metrics import accuracy_score, f1_score, precision_score,\\\n",
    "recall_score, classification_report, confusion_matrix\n",
    "\n",
    "print('Accuracy:', accuracy_score(y_test, predict))\n",
    "print('Classification Report:\\n', classification_report(y_test, predict))\n",
    "print('Confusion Matrix:\\n', confusion_matrix(y_test, predict))\n"
   ]
  },
  {
   "cell_type": "markdown",
   "metadata": {},
   "source": [
    "### Seaborn Library"
   ]
  },
  {
   "cell_type": "code",
   "execution_count": 13,
   "metadata": {},
   "outputs": [
    {
     "data": {
      "image/png": "[encoded data removed]",
      "text/plain": [
       "<Figure size 216x216 with 2 Axes>"
      ]
     },
     "metadata": {},
     "output_type": "display_data"
    }
   ],
   "source": [
    "import seaborn as sns\n",
    "plt.figure(figsize=(3,3))\n",
    "sns.heatmap(cm, annot=True, fmt=\".3f\", linewidths=.5, square = True, cmap = 'Blues_r');\n",
    "plt.ylabel('Actual label');\n",
    "plt.xlabel('Predicted label');\n",
    "all_sample_title = 'Accuracy Score: {0}'.format(score)\n",
    "plt.title(all_sample_title, size = 15);\n",
    "plt.show()\n"
   ]
  },
  {
   "cell_type": "code",
   "execution_count": null,
   "metadata": {},
   "outputs": [],
   "source": []
  },
  {
   "cell_type": "code",
   "execution_count": null,
   "metadata": {},
   "outputs": [],
   "source": []
  },
  {
   "cell_type": "markdown",
   "metadata": {},
   "source": [
    "# Own Python implementation to classify the data"
   ]
  },
  {
   "cell_type": "code",
   "execution_count": 14,
   "metadata": {},
   "outputs": [],
   "source": [
    "def sigmoid(x):\n",
    "       return 1 /(1+(np.exp(-x)))"
   ]
  },
  {
   "cell_type": "code",
   "execution_count": 15,
   "metadata": {},
   "outputs": [],
   "source": [
    "def cost(X, y, W, m):\n",
    "    return  -(1./m) * np.sum(\n",
    "        (np.multiply(y, np.log(sigmoid(np.dot(X,W))))) +\n",
    "        (np.multiply((1-y),np.log(1-sigmoid(np.dot(X,W)))))\n",
    "    )"
   ]
  },
  {
   "cell_type": "code",
   "execution_count": 16,
   "metadata": {},
   "outputs": [],
   "source": [
    "def cost2(X, y, W, m):\n",
    "    return  -(1./m) * np.sum(\n",
    "        (np.multiply(y, np.log(sigmoid(np.dot(W,X))))) +\n",
    "        (np.multiply((1-y),np.log(1-sigmoid(np.dot(W,X)))))\n",
    "    )"
   ]
  },
  {
   "cell_type": "code",
   "execution_count": 17,
   "metadata": {},
   "outputs": [],
   "source": [
    "def logisticRegression(X, y, alpha, iterations):\n",
    "    X_b = (np.c_[np.ones((len(X), 1)), X])\n",
    "    print('y = ',y.shape)\n",
    "    print('X_b = ',X_b.shape)\n",
    "    cost_list = []\n",
    "    m = np.size(X_b, axis=1)\n",
    "    W = np.random.randn(X_b.shape[1],1)\n",
    "    print('W = ', W.shape)\n",
    "    for i in range(iterations):\n",
    "        #print('dot (X_b,W.T) =', np.dot(X_b,W).shape)\n",
    "        #print('dot (W,X_b) =', np.dot(W.T,X_b).shape)\n",
    "        #print('dot-y =', (sigmoid(np.dot(X_b,W.T)) - y).shape)\n",
    "        W = W - (alpha/m) * np.dot(X_b.T,(sigmoid(np.dot(X_b,W)) - y))\n",
    "        cost_ = cost(X_b, y, W, m)\n",
    "        cost_list.append([i, cost_])\n",
    "    return W, cost_list\n",
    "\n",
    "#X_b.T.dot(X_b.dot(W) - y)"
   ]
  },
  {
   "cell_type": "code",
   "execution_count": 18,
   "metadata": {},
   "outputs": [],
   "source": [
    "def logisticRegression2(X, y, alpha, iterations):\n",
    "    X_b = (np.c_[np.ones((len(y), 1)), X]).T\n",
    "    y = np.array(y).reshape(1,len(y))\n",
    "    #y = y.T\n",
    "    print('y = ',y.shape)\n",
    "    print('X = ',X_b.shape)\n",
    "    cost_list = []\n",
    "    m = np.size(X_b, axis=1)\n",
    "    W = np.random.random((1, X_b.shape[0]))\n",
    "    print('W = ', W.shape)\n",
    "    for i in range(iterations):\n",
    "        W = W - (alpha/m) * np.dot((sigmoid(np.dot(W,X_b)) - y), X_b.T)\n",
    "        cost_ = cost(X_b.T, y.T, W.T, m)\n",
    "        cost_list.append([i, cost_])\n",
    "    return W, cost_list\n",
    "\n",
    "def logisticRegression3(X_a, y_a, alpha, iterations):\n",
    "    X_b=np.c_[np.ones((len(y_a), 1)), X_a]\n",
    "    y_b=np.array(y_a).reshape(1,len(y_a))\n",
    "    X_b=X_b.T\n",
    "    cost_list = []\n",
    "    m = np.size(X_b, axis=1)\n",
    "    W = np.random.random((1, X_b.shape[0]))\n",
    "    for i in range(iterations):\n",
    "        W = W - (alpha/m) * np.dot((sigmoid(np.dot(W,X_b)) - y_b), X_b.T)\n",
    "        cost_ = cost(X_b, y_b, W, m)\n",
    "        cost_list.append([i, cost_])\n",
    "    return W, cost_list"
   ]
  },
  {
   "cell_type": "code",
   "execution_count": 19,
   "metadata": {},
   "outputs": [],
   "source": [
    "def CostPlot(cost_list, iteration = 100):\n",
    "    for i in range(0, len(cost_list), iteration):\n",
    "        plt.plot(cost_list[i][0], cost_list[i][1], 'ro')\n",
    "    plt.show()"
   ]
  },
  {
   "cell_type": "code",
   "execution_count": 20,
   "metadata": {},
   "outputs": [],
   "source": [
    "def Pred_Test(W,X,y):\n",
    "    X_b = (np.c_[np.ones((X.shape[0], 1)), X]).T\n",
    "    predictions = np.dot(W, X_b)\n",
    "    predictions[predictions < 0] = 0\n",
    "    predictions[predictions >0] = 1\n",
    "    y_2 = np.array(y).reshape(1,len(y))\n",
    "    Sum_test = (y_2 == predictions)\n",
    "    return sum(sum(Sum_test))/X.shape[0] #returns percentage got correct\n",
    "    '''\n",
    "    y0_test = y_test.copy()\n",
    "    y0_test[y_test==0]=1\n",
    "    y0_test[y_test==1]=0\n",
    "    y0_test[y_test==2]=0\n",
    "\n",
    "    X_test_b = (np.c_[np.ones((X_test.shape[0], 1)), X_test]).T\n",
    "\n",
    "    predictions = np.dot(W0, X_test_b)\n",
    "    predictions[predictions < 0] = 0\n",
    "    predictions[predictions >0] = 1\n",
    "\n",
    "    y0_test_2 = np.array(y0_test).reshape(1,len(y0_test))\n",
    "\n",
    "    print(y0_test_2.shape)\n",
    "    print(predictions.shape)\n",
    "    Sum_test = (y0_test_2==predictions)\n",
    "    sum(sum(Sum_test))/X_test.shape[0]\n",
    "    '''\n"
   ]
  },
  {
   "cell_type": "code",
   "execution_count": 21,
   "metadata": {},
   "outputs": [
    {
     "name": "stdout",
     "output_type": "stream",
     "text": [
      "y =  (1, 1183)\n",
      "X =  (5, 1183)\n",
      "W =  (1, 5)\n"
     ]
    },
    {
     "data": {
      "image/png": "[encoded data removed]",
      "text/plain": [
       "<Figure size 432x288 with 1 Axes>"
      ]
     },
     "metadata": {},
     "output_type": "display_data"
    },
    {
     "name": "stdout",
     "output_type": "stream",
     "text": [
      "Accuracy of Prediction Test 1 = 0.964556962025\n"
     ]
    }
   ],
   "source": [
    "y0 = y_train.copy()\n",
    "y0[y_train==0]=1\n",
    "y0[y_train==1]=0\n",
    "y0[y_train==2]=0\n",
    "\n",
    "W0, cost_list = logisticRegression2(X_train, y0, .01, 1000)\n",
    "CostPlot(cost_list)\n",
    "y0_test = y_test.copy()\n",
    "y0_test[y_test==0]=1\n",
    "y0_test[y_test==1]=0\n",
    "y0_test[y_test==2]=0\n",
    "pred_correct = Pred_Test(W0, X_test, y0_test)\n",
    "print('Accuracy of Prediction Test 1 =' ,pred_correct)"
   ]
  },
  {
   "cell_type": "code",
   "execution_count": 22,
   "metadata": {},
   "outputs": [
    {
     "name": "stdout",
     "output_type": "stream",
     "text": [
      "y =  (1, 1183)\n",
      "X =  (5, 1183)\n",
      "W =  (1, 5)\n"
     ]
    },
    {
     "data": {
      "image/png": "[encoded data removed]",
      "text/plain": [
       "<Figure size 432x288 with 1 Axes>"
      ]
     },
     "metadata": {},
     "output_type": "display_data"
    },
    {
     "name": "stdout",
     "output_type": "stream",
     "text": [
      "Accuracy of Prediction Test 2 = 0.881012658228\n"
     ]
    }
   ],
   "source": [
    "y1 = y_train.copy()\n",
    "y1[y==0]=0\n",
    "y1[y==1]=1\n",
    "y1[y==2]=0\n",
    "\n",
    "W1, cost_list_1 = logisticRegression2(X_train, y1, 0.01, 1000)\n",
    "\n",
    "CostPlot(cost_list_1)\n",
    "\n",
    "y1_test = y_test.copy()\n",
    "y1_test[y_test==0]=0\n",
    "y1_test[y_test==1]=1\n",
    "y1_test[y_test==2]=0\n",
    "\n",
    "pred_correct2 = Pred_Test(W1, X_test, y1_test)\n",
    "print('Accuracy of Prediction Test 2 =' ,pred_correct2)"
   ]
  },
  {
   "cell_type": "code",
   "execution_count": 23,
   "metadata": {},
   "outputs": [
    {
     "name": "stdout",
     "output_type": "stream",
     "text": [
      "y =  (1, 1183)\n",
      "X =  (5, 1183)\n",
      "W =  (1, 5)\n"
     ]
    },
    {
     "data": {
      "image/png": "[encoded data removed]",
      "text/plain": [
       "<Figure size 432x288 with 1 Axes>"
      ]
     },
     "metadata": {},
     "output_type": "display_data"
    },
    {
     "name": "stdout",
     "output_type": "stream",
     "text": [
      "Accuracy of Prediction Test 2 = 0.949367088608\n"
     ]
    }
   ],
   "source": [
    "y2 = y_train.copy()\n",
    "y2[y==0]=0\n",
    "y2[y==1]=0\n",
    "y2[y==2]=1\n",
    "\n",
    "W2, cost_list_2 = logisticRegression2(X_train, y2, 0.01, 1000)\n",
    "\n",
    "CostPlot(cost_list_2)\n",
    "\n",
    "y2_test = y_test.copy()\n",
    "y2_test[y_test==0]=0\n",
    "y2_test[y_test==1]=0\n",
    "y2_test[y_test==2]=1\n",
    "pred_correct3 = Pred_Test(W2, X_test, y2_test)\n",
    "print('Accuracy of Prediction Test 2 =' ,pred_correct3)"
   ]
  },
  {
   "cell_type": "code",
   "execution_count": 24,
   "metadata": {},
   "outputs": [],
   "source": [
    "def distancePointHyperplane(X,W):\n",
    "    X_b = (np.c_[np.ones((X.shape[0], 1)), X]).T\n",
    "    return np.dot(W,X_b)/(np.linalg.norm(W,'fro'))\n",
    "\n",
    "def distance(X, W):\n",
    "    X_b = (np.c_[np.ones((X.shape[0], 1)), X]).T\n",
    "    numerator = np.dot(W, X_b)\n",
    "    denominator = np.sqrt(np.dot(W, W.T))\n",
    "    return numerator/denominator"
   ]
  },
  {
   "cell_type": "code",
   "execution_count": 25,
   "metadata": {},
   "outputs": [
    {
     "name": "stdout",
     "output_type": "stream",
     "text": [
      "Accuracy compared to the train data =  0.9408284023668639\n"
     ]
    }
   ],
   "source": [
    "D1 = distancePointHyperplane(X_train,W0)\n",
    "D2 = distancePointHyperplane(X_train, W1)\n",
    "D3 = distancePointHyperplane(X_train, W2)\n",
    "#D1 = distance(X_train,W0)\n",
    "#D2 = distance(X_train,W1)\n",
    "#D3 = distance(X_train,W2)\n",
    "dist = np.r_[D1, D2, D3]\n",
    "prediction_D = np.argmax(dist,0)\n",
    "#print(y_train.shape)\n",
    "#print(prediction_D.shape)\n",
    "\n",
    "solution_D = sum(y_train == prediction_D)/X_train.shape[0]\n",
    "print('Accuracy compared to the train data = ', solution_D)"
   ]
  },
  {
   "cell_type": "code",
   "execution_count": 29,
   "metadata": {},
   "outputs": [
    {
     "name": "stdout",
     "output_type": "stream",
     "text": [
      "Accuracy: 0.940828402367\n",
      "Classification Report:\n",
      "              precision    recall  f1-score   support\n",
      "\n",
      "          0       0.96      0.90      0.93       396\n",
      "          1       0.89      0.96      0.92       432\n",
      "          2       0.99      0.96      0.97       355\n",
      "\n",
      "avg / total       0.94      0.94      0.94      1183\n",
      "\n",
      "Confusion Matrix:\n",
      " [[358  38   0]\n",
      " [ 14 415   3]\n",
      " [  2  13 340]]\n"
     ]
    }
   ],
   "source": [
    "from sklearn.metrics import accuracy_score, f1_score, precision_score,\\\n",
    "recall_score, classification_report, confusion_matrix\n",
    "\n",
    "print('Accuracy:', accuracy_score(y_train, prediction_D))\n",
    "print('Classification Report:\\n', classification_report(y_train, prediction_D))\n",
    "print('Confusion Matrix:\\n', confusion_matrix(y_train, prediction_D))"
   ]
  },
  {
   "cell_type": "code",
   "execution_count": 36,
   "metadata": {},
   "outputs": [
    {
     "data": {
      "image/png": "[encoded data removed]",
      "text/plain": [
       "<Figure size 216x216 with 2 Axes>"
      ]
     },
     "metadata": {},
     "output_type": "display_data"
    },
    {
     "name": "stdout",
     "output_type": "stream",
     "text": [
      "Result from train data\n"
     ]
    }
   ],
   "source": [
    "import matplotlib.pyplot as plt\n",
    "from sklearn import metrics\n",
    "cm = metrics.confusion_matrix(y_train, prediction_D)\n",
    "import seaborn as sns\n",
    "plt.figure(figsize=(3,3))\n",
    "sns.heatmap(cm, annot=True, fmt=\".3f\", linewidths=.5, square = True, cmap = 'Blues_r');\n",
    "plt.ylabel('Actual label');\n",
    "plt.xlabel('Predicted label');\n",
    "all_sample_title = 'Accuracy Score: {0}'.format(solution_D)\n",
    "plt.title(all_sample_title, size = 15);\n",
    "plt.show()\n",
    "print('Result from train data')"
   ]
  },
  {
   "cell_type": "code",
   "execution_count": 26,
   "metadata": {},
   "outputs": [
    {
     "name": "stdout",
     "output_type": "stream",
     "text": [
      "Accuracy compared to the test data =  0.9443037974683545\n"
     ]
    }
   ],
   "source": [
    "D1_2 = distancePointHyperplane(X_test,W0)\n",
    "D2_2 = distancePointHyperplane(X_test, W1)\n",
    "D3_2 = distancePointHyperplane(X_test, W2)\n",
    "dist = np.r_[D1_2, D2_2, D3_2]\n",
    "prediction_D_2 = np.argmax(dist,0)\n",
    "solution_D_2 = sum(y_test == prediction_D_2)/X_test.shape[0]\n",
    "print('Accuracy compared to the test data = ', solution_D_2)"
   ]
  },
  {
   "cell_type": "code",
   "execution_count": 30,
   "metadata": {},
   "outputs": [
    {
     "name": "stdout",
     "output_type": "stream",
     "text": [
      "Accuracy: 0.944303797468\n",
      "Classification Report:\n",
      "              precision    recall  f1-score   support\n",
      "\n",
      "          0       0.98      0.89      0.93       139\n",
      "          1       0.88      0.99      0.93       135\n",
      "          2       1.00      0.95      0.97       121\n",
      "\n",
      "avg / total       0.95      0.94      0.94       395\n",
      "\n",
      "Confusion Matrix:\n",
      " [[124  15   0]\n",
      " [  1 134   0]\n",
      " [  2   4 115]]\n"
     ]
    }
   ],
   "source": [
    "from sklearn.metrics import accuracy_score, f1_score, precision_score,\\\n",
    "recall_score, classification_report, confusion_matrix\n",
    "\n",
    "print('Accuracy:', accuracy_score(y_test, prediction_D_2))\n",
    "print('Classification Report:\\n', classification_report(y_test, prediction_D_2))\n",
    "print('Confusion Matrix:\\n', confusion_matrix(y_test, prediction_D_2))"
   ]
  },
  {
   "cell_type": "code",
   "execution_count": 35,
   "metadata": {},
   "outputs": [
    {
     "data": {
      "image/png": "[encoded data removed]",
      "text/plain": [
       "<Figure size 216x216 with 2 Axes>"
      ]
     },
     "metadata": {},
     "output_type": "display_data"
    },
    {
     "name": "stdout",
     "output_type": "stream",
     "text": [
      "Results from test data\n"
     ]
    }
   ],
   "source": [
    "import matplotlib.pyplot as plt\n",
    "from sklearn import metrics\n",
    "cm = metrics.confusion_matrix(y_test, prediction_D_2)\n",
    "import seaborn as sns\n",
    "plt.figure(figsize=(3,3))\n",
    "sns.heatmap(cm, annot=True, fmt=\".3f\", linewidths=.5, square = True, cmap = 'Blues_r');\n",
    "plt.ylabel('Actual label');\n",
    "plt.xlabel('Predicted label');\n",
    "all_sample_title = 'Accuracy Score: {0}'.format(solution_D_2)\n",
    "plt.title(all_sample_title, size = 15);\n",
    "plt.show()\n",
    "print('Results from test data')"
   ]
  },
  {
   "cell_type": "code",
   "execution_count": null,
   "metadata": {},
   "outputs": [],
   "source": []
  }
 ],
 "metadata": {
  "kernelspec": {
   "display_name": "Python [default]",
   "language": "python",
   "name": "python3"
  },
  "language_info": {
   "codemirror_mode": {
    "name": "ipython",
    "version": 3
   },
   "file_extension": ".py",
   "mimetype": "text/x-python",
   "name": "python",
   "nbconvert_exporter": "python",
   "pygments_lexer": "ipython3",
   "version": "3.6.6"
  }
 },
 "nbformat": 4,
 "nbformat_minor": 2
}
