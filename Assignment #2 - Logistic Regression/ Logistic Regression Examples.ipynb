{
 "cells": [
  {
   "cell_type": "code",
   "execution_count": 19,
   "metadata": {},
   "outputs": [],
   "source": [
    "# Import libraries\n",
    "import numpy as np\n",
    "import matplotlib.pyplot as plt\n"
   ]
  },
  {
   "cell_type": "code",
   "execution_count": 20,
   "metadata": {},
   "outputs": [],
   "source": [
    "# Define the data\n",
    "X = np.array([[1, 2, 3, 4],[2, 1, 3, 4]])\n",
    "x0 = np.ones((1, X.shape[1]))\n",
    "X = np.append(x0, X, axis=0)\n",
    "y = np.array([0, 0,  1, 1])\n"
   ]
  },
  {
   "cell_type": "code",
   "execution_count": 21,
   "metadata": {},
   "outputs": [],
   "source": [
    "# Initialize the hyperparameters\n",
    "W = np.random.random(X.shape[0])\n",
    "alpha = 0.1\n",
    "m = np.size(X,1)\n"
   ]
  },
  {
   "cell_type": "code",
   "execution_count": 22,
   "metadata": {},
   "outputs": [],
   "source": [
    "# Define the Sigmoid function\n",
    "def sigmoid(x):\n",
    "    return 1 /(1+(np.exp(-x)))\n",
    "\n"
   ]
  },
  {
   "cell_type": "code",
   "execution_count": 23,
   "metadata": {},
   "outputs": [],
   "source": [
    "# define the Cost function\n",
    "def cost():\n",
    "    return  -(1./m)*sum(((np.multiply(y, np.log(sigmoid(np.dot(W,X))))) \n",
    "                   + np.multiply((1-y),np.log(1-sigmoid(np.dot(W,X))))))\n"
   ]
  },
  {
   "cell_type": "code",
   "execution_count": 24,
   "metadata": {},
   "outputs": [
    {
     "name": "stdout",
     "output_type": "stream",
     "text": [
      "cost = 0.940527872931\n",
      "cost = 0.508253768058\n",
      "cost = 0.420706492777\n",
      "cost = 0.386215088888\n",
      "cost = 0.356426162566\n",
      "cost = 0.343058994786\n",
      "cost = 0.33057652746\n",
      "cost = 0.324647230528\n",
      "cost = 0.318910627275\n",
      "cost = 0.316112998432\n",
      "W =  [-2.32732354  0.5948967   0.54977155]\n"
     ]
    },
    {
     "data": {
      "image/png": "[encoded data removed]",
      "text/plain": [
       "<Figure size 432x288 with 1 Axes>"
      ]
     },
     "metadata": {},
     "output_type": "display_data"
    }
   ],
   "source": [
    "# Use Gradient Descent to find the coefficients W (Plot the values of the cost)\n",
    "for i in range(1000):\n",
    "    W[0] = W[0] - (alpha/m) * np.sum((sigmoid(np.dot(W,X)) - y))\n",
    "    W[1] = W[1] - (alpha/m) * np.sum(np.multiply((sigmoid(np.dot(W,X)) - y), X[1]))\n",
    "    W[2] = W[2] - (alpha/m) * np.sum(np.multiply((sigmoid(np.dot(W,X)) - y), X[2]))\n",
    "    if i % 200 == 0: alpha /= 2\n",
    "    if i%100 == 0:\n",
    "        print('cost =', cost())\n",
    "        plt.plot(i//100, cost(), 'go') \n",
    "print('W = ', W)\n",
    "plt.show()\n",
    "\n"
   ]
  },
  {
   "cell_type": "code",
   "execution_count": 25,
   "metadata": {},
   "outputs": [
    {
     "data": {
      "image/png": "[encoded data removed]",
      "text/plain": [
       "<Figure size 432x288 with 1 Axes>"
      ]
     },
     "metadata": {},
     "output_type": "display_data"
    }
   ],
   "source": [
    " # Plot the data points\n",
    "plt.plot(X[1,:2],X[2,:2], 'rx')\n",
    "plt.plot(X[1,2:],X[2,2:], 'bo')\n",
    "\n",
    "# Insert label next to each data point\n",
    "ax = plt.gca()\n",
    "for col in X.T:\n",
    "    ax.annotate(\"  (\" + str(col[1]) + ', ' + str(col[2]) + ')', (col[1], col[2]))\n",
    "    \n",
    "# use the points x=0 and x=4.5 to plot the line defined by the Coefficients W\n",
    "plt.plot([0,4.5], [-(W[0]+W[1]*0)/W[2], -(W[0]+W[1]*4.5)/W[2]], 'g-') \n",
    "plt.axis([0, 5, 0, 5])\n",
    "plt.xlabel('x1')\n",
    "plt.ylabel('x2')\n",
    "plt.title(str(np.round(W[0],2)) + \" + \" + str(np.round(W[1],2)) + 'x1 +' \n",
    "          + str(np.round(W[2],2)) + 'x2' + '= 0')\n",
    "plt.show()\n"
   ]
  },
  {
   "cell_type": "code",
   "execution_count": null,
   "metadata": {},
   "outputs": [],
   "source": []
  },
  {
   "cell_type": "code",
   "execution_count": null,
   "metadata": {},
   "outputs": [],
   "source": []
  },
  {
   "cell_type": "code",
   "execution_count": null,
   "metadata": {},
   "outputs": [],
   "source": []
  },
  {
   "cell_type": "code",
   "execution_count": 26,
   "metadata": {},
   "outputs": [
    {
     "name": "stdout",
     "output_type": "stream",
     "text": [
      "[0.3, 0.4, 0.5, 1.1, 1.2, 1.4, 0.28, 0.3, 0.38, 0.9, 1.2, 1.7, 0.9, 0.75, 0.6, 1.25, 1.3, 1.5, 0.6, 0.75, 1.0, 0.85, 1.1, 0.85, 0.5, 0.3, 0.35, 0.5, 1.3, 1.6, 0.25, 0.37, 1.55, 1.35, 1.4, 1.7] [0.7, 0.6, 0.6, 0.65, 0.5, 0.7, 0.85, 0.95, 1.1, 1.5, 0.9, 0.9, 0.2, 0.3, 0.4, 0.25, 1.2, 1, 0.9, 1.1, 1.0, 1.3, 1.1, 0.8, 0.15, 0.3, 1.4, 1.5, 0.06, 0.2, 0.1, 1.5, 1.52, 1.52, 1.55, 1.2] [1, 1, 1, 1, 1, 1, 1, 1, 1, 1, 1, 1, 1, 1, 1, 1, 1, 1, 1, 1, 1, 1, 1, 1, 0, 0, 0, 0, 0, 0, 0, 0, 0, 0, 0, 0]\n"
     ]
    },
    {
     "data": {
      "image/png": "[encoded data removed]",
      "text/plain": [
       "<Figure size 432x288 with 1 Axes>"
      ]
     },
     "metadata": {},
     "output_type": "display_data"
    }
   ],
   "source": [
    "import numpy as np\n",
    "import matplotlib.pyplot as plt\n",
    "X1 = [0.3, 0.4, 0.5, 1.1, 1.2, 1.4, 0.28, 0.3, 0.38, 0.9, 1.2, 1.7, 0.9, 0.75, \n",
    "      0.6, 1.25, 1.3, 1.5, 0.6, 0.75, 1.0, 0.85, 1.1, 0.85,\n",
    "      0.5, 0.3, 0.35, 0.5, 1.3, 1.6, 0.25, 0.37, 1.55, 1.35, 1.4, 1.7]\n",
    "X2 = [0.7, 0.6, 0.6, 0.65, 0.5, 0.7, 0.85, 0.95, 1.1, 1.5, 0.9, 0.9, 0.2, 0.3, \n",
    "      0.4, 0.25, 1.2, 1, 0.9, 1.1, 1.0, 1.3, 1.1, 0.8,\n",
    "      0.15, 0.3, 1.4, 1.5, 0.06, 0.2, 0.1, 1.5, 1.52, 1.52, 1.55, 1.2]\n",
    "Y = [1]*24 + [0]*12\n",
    "print(X1, X2, Y)\n",
    "plt.plot(X1[:24],X2[:24],'rx')\n",
    "plt.plot(X1[24:],X2[24:],'bo')\n",
    "plt.show()\n"
   ]
  },
  {
   "cell_type": "code",
   "execution_count": 27,
   "metadata": {},
   "outputs": [
    {
     "name": "stdout",
     "output_type": "stream",
     "text": [
      "(5, 36) (36,)\n"
     ]
    }
   ],
   "source": [
    "x0 = np.ones(len(X1))\n",
    "x1 = np.array(X1)\n",
    "x2 = np.array(X2)\n",
    "x3 = x1**2\n",
    "x4 = x2**2\n",
    "y = np.array(Y)\n",
    "X = np.array([x0, x1, x2, x3, x4])\n",
    "print(X.shape, y.shape)\n",
    "def sigmoid(x):\n",
    "       return 1 /(1+(np.exp(-x)))\n",
    "def cost():\n",
    "       return  -(1./m)*sum(((np.multiply(y, np.log(sigmoid(np.dot(W,X))))) \n",
    "                         + np.multiply((1-y),np.log(1-sigmoid(np.dot(W,X))))))\n"
   ]
  },
  {
   "cell_type": "code",
   "execution_count": 28,
   "metadata": {},
   "outputs": [
    {
     "name": "stdout",
     "output_type": "stream",
     "text": [
      "W= [ 0.46812192  0.75281899  0.62368701  0.6993072   0.63067573]\n",
      "Sample size= 36\n",
      "cost= 1.16699004678\n",
      "cost= 0.0887284702385\n",
      "cost= 0.0564622163007\n",
      "cost= 0.0424881345837\n",
      "cost= 0.0344503442447\n",
      "cost= 0.0291594886573\n",
      "cost= 0.0253842226586\n",
      "cost= 0.0225406529932\n",
      "W= [-27.01361669  46.92940103  49.04204938 -24.44599052 -29.88084952]\n"
     ]
    },
    {
     "data": {
      "image/png": "[encoded data removed]",
      "text/plain": [
       "<Figure size 432x288 with 1 Axes>"
      ]
     },
     "metadata": {},
     "output_type": "display_data"
    }
   ],
   "source": [
    "W = np.random.random(5) # w0 + w1*x1 + w2*x2 + w3*(x1**2) + w4*(X2**2)\n",
    "alpha = 0.1\n",
    "m = np.size(X,1) #elements in a row\n",
    "print('W=', W)\n",
    "print('Sample size=', m)\n",
    "\n",
    "for i in range(400000):\n",
    "    z = np.dot(W,X)\n",
    "    h = sigmoid(z)\n",
    "    gradient = np.dot((h - y), X.T) / m\n",
    "    W -= alpha * gradient\n",
    "    if i%50000 == 0: \n",
    "        print('cost=',cost())\n",
    "        plt.plot(i//100, cost(),'go')\n",
    "print('W=',W)\n",
    "plt.show()\n",
    "\n"
   ]
  },
  {
   "cell_type": "code",
   "execution_count": 29,
   "metadata": {},
   "outputs": [
    {
     "data": {
      "image/png": "[encoded data removed]",
      "text/plain": [
       "<Figure size 432x288 with 1 Axes>"
      ]
     },
     "metadata": {},
     "output_type": "display_data"
    }
   ],
   "source": [
    "plt.plot(X1[:24],X2[:24],'rx')\n",
    "plt.plot(X1[24:],X2[24:],'bo')\n",
    "\n",
    "for i in range(500):\n",
    "    for j in range(500):\n",
    "        ii = i/250\n",
    "        jj = j/250\n",
    "        val = W[0] + W[1]*ii + W[2]*jj + W[3]*ii**2 + W[4]*jj**2\n",
    "        if val>-0.01 and val<0.01:\n",
    "            plt.plot(ii, jj, 'y.')\n",
    "plt.show()\n"
   ]
  },
  {
   "cell_type": "code",
   "execution_count": null,
   "metadata": {},
   "outputs": [],
   "source": []
  },
  {
   "cell_type": "code",
   "execution_count": null,
   "metadata": {},
   "outputs": [],
   "source": []
  },
  {
   "cell_type": "code",
   "execution_count": null,
   "metadata": {},
   "outputs": [],
   "source": []
  },
  {
   "cell_type": "code",
   "execution_count": 30,
   "metadata": {},
   "outputs": [
    {
     "data": {
      "text/plain": [
       "array([0, 0, 0, 0, 0, 0, 0, 0, 0, 0, 0, 0, 0, 0, 0, 0, 0, 0, 0, 0, 0, 0, 0,\n",
       "       0, 0, 0, 0, 0, 0, 0, 0, 0, 0, 0, 0, 0, 0, 0, 0, 0, 0, 0, 0, 0, 0, 0,\n",
       "       0, 0, 0, 0, 1, 1, 1, 1, 1, 1, 1, 1, 1, 1, 1, 1, 1, 1, 1, 1, 1, 1, 1,\n",
       "       1, 2, 1, 2, 1, 1, 1, 1, 1, 1, 1, 1, 1, 1, 2, 1, 1, 1, 1, 1, 1, 1, 1,\n",
       "       1, 1, 1, 1, 1, 1, 1, 1, 2, 2, 2, 2, 2, 2, 2, 2, 2, 2, 2, 2, 2, 2, 2,\n",
       "       2, 2, 2, 2, 2, 2, 2, 2, 2, 2, 2, 2, 2, 2, 2, 2, 2, 2, 2, 2, 2, 2, 2,\n",
       "       2, 2, 2, 2, 2, 2, 2, 2, 2, 2, 2, 2])"
      ]
     },
     "execution_count": 30,
     "metadata": {},
     "output_type": "execute_result"
    }
   ],
   "source": [
    "from sklearn import datasets\n",
    "from sklearn.multiclass import OneVsOneClassifier\n",
    "from sklearn.svm import LinearSVC\n",
    "iris = datasets.load_iris()\n",
    "X, y = iris.data, iris.target\n",
    "ovoc = OneVsOneClassifier(LinearSVC(random_state=0))\n",
    "ovoc.fit(X,y)\n",
    "ovoc.predict(X) "
   ]
  },
  {
   "cell_type": "code",
   "execution_count": 31,
   "metadata": {},
   "outputs": [
    {
     "data": {
      "text/plain": [
       "array([0, 0, 0, 0, 0, 0, 0, 0, 0, 0, 0, 0, 0, 0, 0, 0, 0, 0, 0, 0, 0, 0, 0,\n",
       "       0, 0, 0, 0, 0, 0, 0, 0, 0, 0, 0, 0, 0, 0, 0, 0, 0, 0, 0, 0, 0, 0, 0,\n",
       "       0, 0, 0, 0, 1, 1, 1, 1, 1, 1, 1, 1, 1, 1, 1, 1, 1, 1, 1, 1, 1, 1, 1,\n",
       "       1, 2, 1, 1, 1, 1, 1, 1, 1, 1, 1, 1, 1, 1, 2, 2, 1, 1, 1, 1, 1, 1, 1,\n",
       "       1, 1, 1, 1, 1, 1, 1, 1, 2, 2, 2, 2, 2, 2, 2, 2, 2, 2, 2, 2, 2, 2, 2,\n",
       "       2, 2, 2, 2, 2, 2, 2, 2, 2, 2, 2, 2, 2, 2, 1, 2, 2, 2, 1, 2, 2, 2, 2,\n",
       "       2, 2, 2, 2, 2, 2, 2, 2, 2, 2, 2, 2])"
      ]
     },
     "execution_count": 31,
     "metadata": {},
     "output_type": "execute_result"
    }
   ],
   "source": [
    "from sklearn import datasets\n",
    "from sklearn.multiclass import OneVsRestClassifier\n",
    "from sklearn.svm import LinearSVC\n",
    "iris = datasets.load_iris()\n",
    "X, y = iris.data, iris.target\n",
    "ovrc = OneVsRestClassifier(LinearSVC(random_state=0))\n",
    "ovrc.fit(X, y)\n",
    "predict = ovrc.predict(X)\n",
    "\n",
    "predict"
   ]
  },
  {
   "cell_type": "code",
   "execution_count": 32,
   "metadata": {},
   "outputs": [
    {
     "name": "stdout",
     "output_type": "stream",
     "text": [
      "(150, 4) float64\n",
      "(150,) int64\n",
      "[ 4.8  3.   1.4  0.3] 0\n",
      "[ 5.1  3.8  1.6  0.2] 0\n",
      "[ 4.6  3.2  1.4  0.2] 0\n",
      "[ 5.3  3.7  1.5  0.2] 0\n",
      "[ 5.   3.3  1.4  0.2] 0\n",
      "[ 7.   3.2  4.7  1.4] 1\n",
      "[ 6.4  3.2  4.5  1.5] 1\n",
      "[ 6.9  3.1  4.9  1.5] 1\n",
      "[ 5.5  2.3  4.   1.3] 1\n",
      "[ 6.5  2.8  4.6  1.5] 1\n"
     ]
    }
   ],
   "source": [
    "from sklearn import datasets\n",
    "iris = datasets.load_iris()\n",
    "X, y = iris.data, iris.target\n",
    "print(X.shape, X.dtype)\n",
    "print(y.shape, y.dtype)\n",
    "for i in range(45, 55):\n",
    "    print(X[i], y[i])"
   ]
  },
  {
   "cell_type": "code",
   "execution_count": 33,
   "metadata": {},
   "outputs": [
    {
     "data": {
      "text/plain": [
       "array([0, 1, 2])"
      ]
     },
     "execution_count": 33,
     "metadata": {},
     "output_type": "execute_result"
    }
   ],
   "source": [
    "np.unique(y)"
   ]
  },
  {
   "cell_type": "code",
   "execution_count": 34,
   "metadata": {},
   "outputs": [
    {
     "name": "stdout",
     "output_type": "stream",
     "text": [
      "[ 1.   4.8  3.   1.4  0.3]\n",
      "[ 1.   5.1  3.8  1.6  0.2]\n",
      "[ 1.   4.6  3.2  1.4  0.2]\n",
      "[ 1.   5.3  3.7  1.5  0.2]\n",
      "[ 1.   5.   3.3  1.4  0.2]\n",
      "[ 1.   7.   3.2  4.7  1.4]\n",
      "[ 1.   6.4  3.2  4.5  1.5]\n",
      "[ 1.   6.9  3.1  4.9  1.5]\n",
      "[ 1.   5.5  2.3  4.   1.3]\n",
      "[ 1.   6.5  2.8  4.6  1.5]\n"
     ]
    }
   ],
   "source": [
    "x0 = np.ones((1, X.shape[0]))\n",
    "X1 = np.append(x0, X.T, axis=0)\n",
    "for i in range(45, 55):\n",
    "    print(X1[: ,i])\n",
    "def cost(X, y, W, m):\n",
    "    return  -(1./m) * np.sum(\n",
    "        (np.multiply(y, np.log(sigmoid(np.dot(W,X))))) +\n",
    "        (np.multiply((1-y),np.log(1-sigmoid(np.dot(W,X)))))\n",
    "    )\n"
   ]
  },
  {
   "cell_type": "code",
   "execution_count": 35,
   "metadata": {},
   "outputs": [],
   "source": [
    "def logisticRegression(X, y, alpha, iterations):\n",
    "    print('y = ',y.shape)\n",
    "    print('X = ',X.shape)\n",
    "    cost_list = []\n",
    "    m = np.size(X, axis=1)\n",
    "    W = np.random.random((1, X.shape[0]))\n",
    "    print('W = ', W.shape)\n",
    "    for i in range(iterations):\n",
    "        W = W - (alpha/m) * np.dot((sigmoid(np.dot(W,X)) - y), X.T)\n",
    "        cost_ = cost(X, y, W, m)\n",
    "        cost_list.append([i, cost_])\n",
    "    return W, cost_list\n"
   ]
  },
  {
   "cell_type": "code",
   "execution_count": 36,
   "metadata": {},
   "outputs": [
    {
     "name": "stdout",
     "output_type": "stream",
     "text": [
      "y =  (150,)\n",
      "X =  (5, 150)\n",
      "W =  (1, 5)\n",
      "W0 = [[ 0.51438219  0.42614004  1.91857978 -2.86884493 -1.0685959 ]]\n"
     ]
    },
    {
     "data": {
      "image/png": "[encoded data removed]",
      "text/plain": [
       "<Figure size 432x288 with 1 Axes>"
      ]
     },
     "metadata": {},
     "output_type": "display_data"
    },
    {
     "name": "stdout",
     "output_type": "stream",
     "text": [
      "W0 = (1, 5)\n",
      "X1 = (5, 150)\n",
      "\n",
      "\n"
     ]
    },
    {
     "data": {
      "text/plain": [
       "array([[ 1.,  1.,  1.,  1.,  1.,  1.,  1.,  1.,  1.,  1.,  1.,  1.,  1.,\n",
       "         1.,  1.,  1.,  1.,  1.,  1.,  1.,  1.,  1.,  1.,  1.,  1.,  1.,\n",
       "         1.,  1.,  1.,  1.,  1.,  1.,  1.,  1.,  1.,  1.,  1.,  1.,  1.,\n",
       "         1.,  1.,  1.,  1.,  1.,  1.,  1.,  1.,  1.,  1.,  1.,  0.,  0.,\n",
       "         0.,  0.,  0.,  0.,  0.,  0.,  0.,  0.,  0.,  0.,  0.,  0.,  0.,\n",
       "         0.,  0.,  0.,  0.,  0.,  0.,  0.,  0.,  0.,  0.,  0.,  0.,  0.,\n",
       "         0.,  0.,  0.,  0.,  0.,  0.,  0.,  0.,  0.,  0.,  0.,  0.,  0.,\n",
       "         0.,  0.,  0.,  0.,  0.,  0.,  0.,  0.,  0.,  0.,  0.,  0.,  0.,\n",
       "         0.,  0.,  0.,  0.,  0.,  0.,  0.,  0.,  0.,  0.,  0.,  0.,  0.,\n",
       "         0.,  0.,  0.,  0.,  0.,  0.,  0.,  0.,  0.,  0.,  0.,  0.,  0.,\n",
       "         0.,  0.,  0.,  0.,  0.,  0.,  0.,  0.,  0.,  0.,  0.,  0.,  0.,\n",
       "         0.,  0.,  0.,  0.,  0.,  0.,  0.]])"
      ]
     },
     "execution_count": 36,
     "metadata": {},
     "output_type": "execute_result"
    }
   ],
   "source": [
    "y0 = y.copy()\n",
    "y0[y==0]=1\n",
    "y0[y==1]=0\n",
    "y0[y==2]=0\n",
    "W0, cost_list = logisticRegression(X1, y0, 0.1, 1000)\n",
    "print('W0 =', W0)\n",
    "for i in range(0, len(cost_list), 100):\n",
    "    plt.plot(cost_list[i][0], cost_list[i][1], 'ro')\n",
    "plt.show()\n",
    "print('W0 =', W0.shape)\n",
    "print('X1 =', X1.shape)\n",
    "predictions = np.dot(W0, X1)\n",
    "predictions[predictions < 0] = 0\n",
    "predictions[predictions >0] = 1\n",
    "print('\\n')\n",
    "predictions\n"
   ]
  },
  {
   "cell_type": "code",
   "execution_count": 39,
   "metadata": {},
   "outputs": [
    {
     "name": "stdout",
     "output_type": "stream",
     "text": [
      "(150,)\n",
      "(1, 150)\n"
     ]
    }
   ],
   "source": [
    "\n",
    "\n",
    "sum(y0 == predictions[0])\n",
    "print(y0.shape)\n",
    "print(predictions.shape)"
   ]
  },
  {
   "cell_type": "code",
   "execution_count": null,
   "metadata": {},
   "outputs": [],
   "source": []
  },
  {
   "cell_type": "code",
   "execution_count": null,
   "metadata": {},
   "outputs": [],
   "source": []
  },
  {
   "cell_type": "code",
   "execution_count": null,
   "metadata": {},
   "outputs": [],
   "source": []
  },
  {
   "cell_type": "code",
   "execution_count": null,
   "metadata": {},
   "outputs": [],
   "source": [
    "import numpy as np \n",
    "import matplotlib.pyplot as plt\n",
    "#load the digits dataset\n",
    "from sklearn.datasets import load_digits\n",
    "digits = load_digits()\n",
    "# Print the number of 8 by 8 images\n",
    "print(\"Data Size\" , digits.data.shape)\n",
    "# Print the number of labels\n",
    "print(\"Number of Labels (1797,):\", digits.target.shape)\n"
   ]
  },
  {
   "cell_type": "code",
   "execution_count": null,
   "metadata": {},
   "outputs": [],
   "source": [
    "fig = plt.figure(figsize=(20, 16))\n",
    "fig.subplots_adjust(left=0, right=1, bottom=0, top=1, hspace=0.05, wspace=0.35)\n",
    "for index, (image, label) in enumerate(zip(digits.data[0:20], digits.target[0:20])):\n",
    "    plt.subplot(4, 5, index + 1)\n",
    "    plt.imshow(np.reshape(image, (8,8)), cmap=plt.cm.gray)\n",
    "    plt.title('Training: %i\\n' % label, fontsize = 20)\n",
    "plt.show()\n"
   ]
  },
  {
   "cell_type": "code",
   "execution_count": null,
   "metadata": {},
   "outputs": [],
   "source": [
    "from sklearn.model_selection import train_test_split\n",
    "x_train, x_test, y_train, y_test = train_test_split(digits.data, digits.target, test_size=0.25, random_state=0)\n",
    "from sklearn.linear_model import LogisticRegression\n",
    "logisticRegr = LogisticRegression()\n",
    "logisticRegr.fit(x_train, y_train)\n",
    "#logisticRegr.predict(x_test[0:10])   #predicts for ten images\n",
    "predictions = logisticRegr.predict(x_test)\n",
    "score = logisticRegr.score(x_test, y_test)\n",
    "print(score) \n",
    "# score = 0.9533333333333334\n"
   ]
  },
  {
   "cell_type": "code",
   "execution_count": null,
   "metadata": {},
   "outputs": [],
   "source": [
    "import matplotlib.pyplot as plt\n",
    "from sklearn import metrics\n",
    "cm = metrics.confusion_matrix(\n",
    "  y_test, predictions)\n",
    "print(cm)\n"
   ]
  },
  {
   "cell_type": "code",
   "execution_count": null,
   "metadata": {},
   "outputs": [],
   "source": [
    "from sklearn.metrics import accuracy_score, f1_score, precision_score,\\\n",
    "recall_score, classification_report, confusion_matrix\n",
    "\n",
    "y = [0]*50 + [1]*100 + [1]*5 + [0]*10\n",
    "predictions = [0]*50 + [1]*100 + [0]*5 + [1]*10\n",
    "print('Accuracy:', accuracy_score(y, predictions))\n",
    "print('F1 Score:', f1_score(y, predictions, average=\"binary\"))\n",
    "print('Precision:', precision_score(y, predictions, average=\"binary\"))\n",
    "print('Recall:', recall_score(y, predictions, average=\"binary\")) \n",
    "print('Classification Report:\\n', classification_report(y, predictions))\n",
    "print('Confusion Matrix:\\n', confusion_matrix(y, predictions))\n"
   ]
  },
  {
   "cell_type": "code",
   "execution_count": null,
   "metadata": {},
   "outputs": [],
   "source": [
    "import seaborn as sns\n",
    "plt.figure(figsize=(9,9))\n",
    "sns.heatmap(cm, annot=True, fmt=\".3f\", linewidths=.5, square = True, cmap = 'Blues_r');\n",
    "plt.ylabel('Actual label');\n",
    "plt.xlabel('Predicted label');\n",
    "all_sample_title = 'Accuracy Score: {0}'.format(score)\n",
    "plt.title(all_sample_title, size = 15);\n",
    "plt.show()\n"
   ]
  },
  {
   "cell_type": "code",
   "execution_count": null,
   "metadata": {},
   "outputs": [],
   "source": []
  },
  {
   "cell_type": "code",
   "execution_count": null,
   "metadata": {},
   "outputs": [],
   "source": []
  }
 ],
 "metadata": {
  "kernelspec": {
   "display_name": "Python [default]",
   "language": "python",
   "name": "python3"
  },
  "language_info": {
   "codemirror_mode": {
    "name": "ipython",
    "version": 3
   },
   "file_extension": ".py",
   "mimetype": "text/x-python",
   "name": "python",
   "nbconvert_exporter": "python",
   "pygments_lexer": "ipython3",
   "version": "3.6.5"
  }
 },
 "nbformat": 4,
 "nbformat_minor": 2
}
