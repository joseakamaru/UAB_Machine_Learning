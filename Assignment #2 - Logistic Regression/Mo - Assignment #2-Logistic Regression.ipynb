{
 "cells": [
  {
   "cell_type": "markdown",
   "metadata": {},
   "source": [
    "## DUE DATE: Thursday, July 12, 2018"
   ]
  },
  {
   "cell_type": "markdown",
   "metadata": {},
   "source": [
    "# Logistic Regression "
   ]
  },
  {
   "cell_type": "markdown",
   "metadata": {},
   "source": [
    "## 1. Import the Libraries:\n",
    "1. numpy\n",
    "2. matplotlib.pyplot\n",
    "3. pandas"
   ]
  },
  {
   "cell_type": "code",
   "execution_count": 1,
   "metadata": {},
   "outputs": [],
   "source": [
    "import numpy as np\n",
    "import matplotlib.pyplot as plt\n",
    "import pandas as pd"
   ]
  },
  {
   "cell_type": "markdown",
   "metadata": {},
   "source": [
    "## 2. Read the csv file: \"data.csv\""
   ]
  },
  {
   "cell_type": "code",
   "execution_count": 2,
   "metadata": {},
   "outputs": [],
   "source": [
    "df = pd.read_csv(\"data.csv\")"
   ]
  },
  {
   "cell_type": "markdown",
   "metadata": {},
   "source": [
    "## 3. Show a sample of the data (first 10 rows)"
   ]
  },
  {
   "cell_type": "code",
   "execution_count": 3,
   "metadata": {},
   "outputs": [
    {
     "data": {
      "text/html": [
       "<div>\n",
       "<style scoped>\n",
       "    .dataframe tbody tr th:only-of-type {\n",
       "        vertical-align: middle;\n",
       "    }\n",
       "\n",
       "    .dataframe tbody tr th {\n",
       "        vertical-align: top;\n",
       "    }\n",
       "\n",
       "    .dataframe thead th {\n",
       "        text-align: right;\n",
       "    }\n",
       "</style>\n",
       "<table border=\"1\" class=\"dataframe\">\n",
       "  <thead>\n",
       "    <tr style=\"text-align: right;\">\n",
       "      <th></th>\n",
       "      <th>x1</th>\n",
       "      <th>x2</th>\n",
       "      <th>x3</th>\n",
       "      <th>x4</th>\n",
       "      <th>y</th>\n",
       "    </tr>\n",
       "  </thead>\n",
       "  <tbody>\n",
       "    <tr>\n",
       "      <th>0</th>\n",
       "      <td>-3</td>\n",
       "      <td>-2</td>\n",
       "      <td>-3</td>\n",
       "      <td>-2</td>\n",
       "      <td>1</td>\n",
       "    </tr>\n",
       "    <tr>\n",
       "      <th>1</th>\n",
       "      <td>-4</td>\n",
       "      <td>-3</td>\n",
       "      <td>-2</td>\n",
       "      <td>0</td>\n",
       "      <td>1</td>\n",
       "    </tr>\n",
       "    <tr>\n",
       "      <th>2</th>\n",
       "      <td>3</td>\n",
       "      <td>-5</td>\n",
       "      <td>-5</td>\n",
       "      <td>2</td>\n",
       "      <td>2</td>\n",
       "    </tr>\n",
       "    <tr>\n",
       "      <th>3</th>\n",
       "      <td>-2</td>\n",
       "      <td>3</td>\n",
       "      <td>-2</td>\n",
       "      <td>-4</td>\n",
       "      <td>1</td>\n",
       "    </tr>\n",
       "    <tr>\n",
       "      <th>4</th>\n",
       "      <td>-4</td>\n",
       "      <td>-1</td>\n",
       "      <td>1</td>\n",
       "      <td>4</td>\n",
       "      <td>0</td>\n",
       "    </tr>\n",
       "    <tr>\n",
       "      <th>5</th>\n",
       "      <td>2</td>\n",
       "      <td>-5</td>\n",
       "      <td>-5</td>\n",
       "      <td>-5</td>\n",
       "      <td>2</td>\n",
       "    </tr>\n",
       "    <tr>\n",
       "      <th>6</th>\n",
       "      <td>0</td>\n",
       "      <td>4</td>\n",
       "      <td>0</td>\n",
       "      <td>0</td>\n",
       "      <td>1</td>\n",
       "    </tr>\n",
       "    <tr>\n",
       "      <th>7</th>\n",
       "      <td>0</td>\n",
       "      <td>-4</td>\n",
       "      <td>-2</td>\n",
       "      <td>-1</td>\n",
       "      <td>2</td>\n",
       "    </tr>\n",
       "    <tr>\n",
       "      <th>8</th>\n",
       "      <td>4</td>\n",
       "      <td>1</td>\n",
       "      <td>-2</td>\n",
       "      <td>-4</td>\n",
       "      <td>2</td>\n",
       "    </tr>\n",
       "    <tr>\n",
       "      <th>9</th>\n",
       "      <td>2</td>\n",
       "      <td>-5</td>\n",
       "      <td>-1</td>\n",
       "      <td>0</td>\n",
       "      <td>2</td>\n",
       "    </tr>\n",
       "  </tbody>\n",
       "</table>\n",
       "</div>"
      ],
      "text/plain": [
       "   x1  x2  x3  x4  y\n",
       "0  -3  -2  -3  -2  1\n",
       "1  -4  -3  -2   0  1\n",
       "2   3  -5  -5   2  2\n",
       "3  -2   3  -2  -4  1\n",
       "4  -4  -1   1   4  0\n",
       "5   2  -5  -5  -5  2\n",
       "6   0   4   0   0  1\n",
       "7   0  -4  -2  -1  2\n",
       "8   4   1  -2  -4  2\n",
       "9   2  -5  -1   0  2"
      ]
     },
     "execution_count": 3,
     "metadata": {},
     "output_type": "execute_result"
    }
   ],
   "source": [
    "df.head(10)"
   ]
  },
  {
   "cell_type": "markdown",
   "metadata": {},
   "source": [
    "## 4. Show some statistics about the data"
   ]
  },
  {
   "cell_type": "code",
   "execution_count": 4,
   "metadata": {},
   "outputs": [
    {
     "data": {
      "text/html": [
       "<div>\n",
       "<style scoped>\n",
       "    .dataframe tbody tr th:only-of-type {\n",
       "        vertical-align: middle;\n",
       "    }\n",
       "\n",
       "    .dataframe tbody tr th {\n",
       "        vertical-align: top;\n",
       "    }\n",
       "\n",
       "    .dataframe thead th {\n",
       "        text-align: right;\n",
       "    }\n",
       "</style>\n",
       "<table border=\"1\" class=\"dataframe\">\n",
       "  <thead>\n",
       "    <tr style=\"text-align: right;\">\n",
       "      <th></th>\n",
       "      <th>x1</th>\n",
       "      <th>x2</th>\n",
       "      <th>x3</th>\n",
       "      <th>x4</th>\n",
       "      <th>y</th>\n",
       "    </tr>\n",
       "  </thead>\n",
       "  <tbody>\n",
       "    <tr>\n",
       "      <th>count</th>\n",
       "      <td>1578.000000</td>\n",
       "      <td>1578.000000</td>\n",
       "      <td>1578.000000</td>\n",
       "      <td>1578.000000</td>\n",
       "      <td>1578.000000</td>\n",
       "    </tr>\n",
       "    <tr>\n",
       "      <th>mean</th>\n",
       "      <td>-0.637516</td>\n",
       "      <td>-0.394804</td>\n",
       "      <td>-1.198352</td>\n",
       "      <td>-0.004436</td>\n",
       "      <td>0.962611</td>\n",
       "    </tr>\n",
       "    <tr>\n",
       "      <th>std</th>\n",
       "      <td>3.154112</td>\n",
       "      <td>2.922269</td>\n",
       "      <td>1.944199</td>\n",
       "      <td>2.970257</td>\n",
       "      <td>0.799807</td>\n",
       "    </tr>\n",
       "    <tr>\n",
       "      <th>min</th>\n",
       "      <td>-5.000000</td>\n",
       "      <td>-5.000000</td>\n",
       "      <td>-5.000000</td>\n",
       "      <td>-5.000000</td>\n",
       "      <td>0.000000</td>\n",
       "    </tr>\n",
       "    <tr>\n",
       "      <th>25%</th>\n",
       "      <td>-4.000000</td>\n",
       "      <td>-3.000000</td>\n",
       "      <td>-3.000000</td>\n",
       "      <td>-3.000000</td>\n",
       "      <td>0.000000</td>\n",
       "    </tr>\n",
       "    <tr>\n",
       "      <th>50%</th>\n",
       "      <td>-1.000000</td>\n",
       "      <td>0.000000</td>\n",
       "      <td>-1.000000</td>\n",
       "      <td>0.000000</td>\n",
       "      <td>1.000000</td>\n",
       "    </tr>\n",
       "    <tr>\n",
       "      <th>75%</th>\n",
       "      <td>2.000000</td>\n",
       "      <td>2.000000</td>\n",
       "      <td>0.000000</td>\n",
       "      <td>3.000000</td>\n",
       "      <td>2.000000</td>\n",
       "    </tr>\n",
       "    <tr>\n",
       "      <th>max</th>\n",
       "      <td>4.000000</td>\n",
       "      <td>4.000000</td>\n",
       "      <td>3.000000</td>\n",
       "      <td>4.000000</td>\n",
       "      <td>2.000000</td>\n",
       "    </tr>\n",
       "  </tbody>\n",
       "</table>\n",
       "</div>"
      ],
      "text/plain": [
       "                x1           x2           x3           x4            y\n",
       "count  1578.000000  1578.000000  1578.000000  1578.000000  1578.000000\n",
       "mean     -0.637516    -0.394804    -1.198352    -0.004436     0.962611\n",
       "std       3.154112     2.922269     1.944199     2.970257     0.799807\n",
       "min      -5.000000    -5.000000    -5.000000    -5.000000     0.000000\n",
       "25%      -4.000000    -3.000000    -3.000000    -3.000000     0.000000\n",
       "50%      -1.000000     0.000000    -1.000000     0.000000     1.000000\n",
       "75%       2.000000     2.000000     0.000000     3.000000     2.000000\n",
       "max       4.000000     4.000000     3.000000     4.000000     2.000000"
      ]
     },
     "execution_count": 4,
     "metadata": {},
     "output_type": "execute_result"
    }
   ],
   "source": [
    "df.describe()"
   ]
  },
  {
   "cell_type": "markdown",
   "metadata": {},
   "source": [
    "## 5. Show info about the data"
   ]
  },
  {
   "cell_type": "code",
   "execution_count": 5,
   "metadata": {},
   "outputs": [
    {
     "name": "stdout",
     "output_type": "stream",
     "text": [
      "<class 'pandas.core.frame.DataFrame'>\n",
      "RangeIndex: 1578 entries, 0 to 1577\n",
      "Data columns (total 5 columns):\n",
      "x1    1578 non-null int64\n",
      "x2    1578 non-null int64\n",
      "x3    1578 non-null int64\n",
      "x4    1578 non-null int64\n",
      "y     1578 non-null int64\n",
      "dtypes: int64(5)\n",
      "memory usage: 61.7 KB\n"
     ]
    }
   ],
   "source": [
    "df.info()"
   ]
  },
  {
   "cell_type": "markdown",
   "metadata": {},
   "source": [
    "## 6. Refer to the features data by \"X\", and refer to the label feature (y) by \"y\" "
   ]
  },
  {
   "cell_type": "code",
   "execution_count": 6,
   "metadata": {},
   "outputs": [],
   "source": [
    "X = df[['x1','x2','x3','x4']]\n",
    "y = df['y']"
   ]
  },
  {
   "cell_type": "markdown",
   "metadata": {},
   "source": [
    "## 7. Load the train_test_split function"
   ]
  },
  {
   "cell_type": "code",
   "execution_count": 7,
   "metadata": {},
   "outputs": [],
   "source": [
    "from sklearn.model_selection import train_test_split"
   ]
  },
  {
   "cell_type": "markdown",
   "metadata": {},
   "source": [
    "## 8. Split the data into:\n",
    "1. a **training** data set, and\n",
    "2. a **test** data set. "
   ]
  },
  {
   "cell_type": "code",
   "execution_count": 8,
   "metadata": {},
   "outputs": [],
   "source": [
    "X_train, X_test, y_train, y_test = train_test_split(X,y,test_size=0.25,random_state=49)"
   ]
  },
  {
   "cell_type": "code",
   "execution_count": 9,
   "metadata": {},
   "outputs": [
    {
     "data": {
      "text/plain": [
       "(395,)"
      ]
     },
     "execution_count": 9,
     "metadata": {},
     "output_type": "execute_result"
    }
   ],
   "source": [
    "y_test.shape"
   ]
  },
  {
   "cell_type": "markdown",
   "metadata": {},
   "source": [
    "## 9. Impleminting Logistic Regression from sklearn.linear_model and using OneVsRestClassifier"
   ]
  },
  {
   "cell_type": "code",
   "execution_count": 10,
   "metadata": {},
   "outputs": [],
   "source": [
    "from sklearn.multiclass import OneVsRestClassifier\n",
    "from sklearn.svm import LinearSVC"
   ]
  },
  {
   "cell_type": "markdown",
   "metadata": {},
   "source": [
    "## 10. Fit the model to the training data"
   ]
  },
  {
   "cell_type": "code",
   "execution_count": 11,
   "metadata": {},
   "outputs": [
    {
     "data": {
      "text/plain": [
       "OneVsRestClassifier(estimator=LinearSVC(C=1.0, class_weight=None, dual=True, fit_intercept=True,\n",
       "     intercept_scaling=1, loss='squared_hinge', max_iter=1000,\n",
       "     multi_class='ovr', penalty='l2', random_state=0, tol=0.0001,\n",
       "     verbose=0),\n",
       "          n_jobs=1)"
      ]
     },
     "execution_count": 11,
     "metadata": {},
     "output_type": "execute_result"
    }
   ],
   "source": [
    "ovrc = OneVsRestClassifier(LinearSVC(random_state=0))\n",
    "ovrc.fit(X_train, y_train)\n"
   ]
  },
  {
   "cell_type": "markdown",
   "metadata": {},
   "source": [
    "## 11. Print the linear model's intercept and coefficients"
   ]
  },
  {
   "cell_type": "code",
   "execution_count": 12,
   "metadata": {},
   "outputs": [
    {
     "name": "stdout",
     "output_type": "stream",
     "text": [
      "Intercept: [[-2.09734113]\n",
      " [-0.98844793]\n",
      " [-2.21096742]]\n",
      "Coefficient [[ 0.41296352 -0.38068076  0.97506271  1.44338523]\n",
      " [-0.28073934  0.18426514 -0.25688032  0.05818696]\n",
      " [ 0.63560088 -0.18418184 -0.31982664 -0.79184281]]\n"
     ]
    }
   ],
   "source": [
    "print(\"Intercept:\", ovrc.intercept_)\n",
    "print('Coefficient', ovrc.coef_)"
   ]
  },
  {
   "cell_type": "markdown",
   "metadata": {},
   "source": [
    "## 12. Use the trained model to predict the test data set"
   ]
  },
  {
   "cell_type": "code",
   "execution_count": 13,
   "metadata": {},
   "outputs": [],
   "source": [
    "predict = ovrc.predict(X_test)"
   ]
  },
  {
   "cell_type": "markdown",
   "metadata": {},
   "source": [
    "## 13. Create a scatterplot of the real test values versus the predicted values."
   ]
  },
  {
   "cell_type": "code",
   "execution_count": 14,
   "metadata": {},
   "outputs": [
    {
     "data": {
      "text/plain": [
       "Text(0,0.5,'Predicted Y')"
      ]
     },
     "execution_count": 14,
     "metadata": {},
     "output_type": "execute_result"
    },
    {
     "data": {
      "image/png": "[encoded data removed]",
      "text/plain": [
       "<Figure size 432x288 with 1 Axes>"
      ]
     },
     "metadata": {},
     "output_type": "display_data"
    }
   ],
   "source": [
    "plt.scatter(y_test, predict)\n",
    "plt.xlabel('Y')\n",
    "plt.ylabel('Predicted Y')"
   ]
  },
  {
   "cell_type": "markdown",
   "metadata": {},
   "source": [
    "## 14. Using Scikit-Learn Metrics Library:"
   ]
  },
  {
   "cell_type": "code",
   "execution_count": 15,
   "metadata": {},
   "outputs": [
    {
     "name": "stdout",
     "output_type": "stream",
     "text": [
      "Accuracy: 0.982278481013\n",
      "Classification Report:\n",
      "              precision    recall  f1-score   support\n",
      "\n",
      "          0       1.00      0.96      0.98       139\n",
      "          1       0.95      1.00      0.97       135\n",
      "          2       1.00      0.99      1.00       121\n",
      "\n",
      "avg / total       0.98      0.98      0.98       395\n",
      "\n",
      "Confusion Matrix:\n",
      " [[133   6   0]\n",
      " [  0 135   0]\n",
      " [  0   1 120]]\n",
      "Score:\n",
      " 0.982278481013\n"
     ]
    }
   ],
   "source": [
    "from sklearn.metrics import accuracy_score, f1_score, precision_score,\\\n",
    "recall_score, classification_report, confusion_matrix\n",
    "\n",
    "print('Accuracy:', accuracy_score(y_test, predict))\n",
    "print('Classification Report:\\n', classification_report(y_test, predict))\n",
    "print('Confusion Matrix:\\n', confusion_matrix(y_test, predict))\n",
    "\n",
    "score = ovrc.score(X_test, y_test)\n",
    "print('Score:\\n',score) \n"
   ]
  },
  {
   "cell_type": "markdown",
   "metadata": {},
   "source": [
    "## 15. The Confusion Matrix Using the Seaborn Library:"
   ]
  },
  {
   "cell_type": "code",
   "execution_count": 16,
   "metadata": {},
   "outputs": [
    {
     "data": {
      "image/png": "[encoded data removed]",
      "text/plain": [
       "<Figure size 216x216 with 2 Axes>"
      ]
     },
     "metadata": {},
     "output_type": "display_data"
    }
   ],
   "source": [
    "import matplotlib.pyplot as plt\n",
    "from sklearn import metrics\n",
    "cm = metrics.confusion_matrix(y_test, predict)\n",
    "import seaborn as sns\n",
    "plt.figure(figsize=(3,3))\n",
    "sns.heatmap(cm, annot=True, fmt=\".3f\", linewidths=.5, square = True, cmap = 'Blues_r');\n",
    "plt.ylabel('Actual label');\n",
    "plt.xlabel('Predicted label');\n",
    "all_sample_title = 'Accuracy Score: {0}'.format(score)\n",
    "plt.title(all_sample_title, size = 15);\n",
    "plt.show()\n",
    "\n"
   ]
  },
  {
   "cell_type": "markdown",
   "metadata": {},
   "source": [
    "## 16. Testing the model with train data:"
   ]
  },
  {
   "cell_type": "markdown",
   "metadata": {},
   "source": [
    "#### Using Scikit-Learn Metrics Library (checking training  data):"
   ]
  },
  {
   "cell_type": "code",
   "execution_count": 17,
   "metadata": {},
   "outputs": [
    {
     "name": "stdout",
     "output_type": "stream",
     "text": [
      "Accuracy: 0.986475063398\n",
      "Classification Report:\n",
      "              precision    recall  f1-score   support\n",
      "\n",
      "          0       0.99      0.97      0.98       396\n",
      "          1       0.97      1.00      0.98       432\n",
      "          2       1.00      0.99      0.99       355\n",
      "\n",
      "avg / total       0.99      0.99      0.99      1183\n",
      "\n",
      "Confusion Matrix:\n",
      " [[385  11   0]\n",
      " [  1 431   0]\n",
      " [  1   3 351]]\n",
      "Score:\n",
      " 0.986475063398\n"
     ]
    }
   ],
   "source": [
    "from sklearn.metrics import accuracy_score, f1_score, precision_score,\\\n",
    "recall_score, classification_report, confusion_matrix\n",
    "\n",
    "predict = ovrc.predict(X_train)\n",
    "print('Accuracy:', accuracy_score(y_train, predict))\n",
    "print('Classification Report:\\n', classification_report(y_train, predict))\n",
    "print('Confusion Matrix:\\n', confusion_matrix(y_train, predict))\n",
    "\n",
    "score = ovrc.score(X_train, y_train)\n",
    "print('Score:\\n',score) "
   ]
  },
  {
   "cell_type": "markdown",
   "metadata": {},
   "source": [
    "#### The Confusion Matrix Using the Seaborn Library (checking training  data):"
   ]
  },
  {
   "cell_type": "code",
   "execution_count": 18,
   "metadata": {},
   "outputs": [
    {
     "data": {
      "image/png": "[encoded data removed]",
      "text/plain": [
       "<Figure size 216x216 with 2 Axes>"
      ]
     },
     "metadata": {},
     "output_type": "display_data"
    }
   ],
   "source": [
    "import matplotlib.pyplot as plt\n",
    "from sklearn import metrics\n",
    "cm = metrics.confusion_matrix(y_train, predict)\n",
    "import seaborn as sns\n",
    "plt.figure(figsize=(3,3))\n",
    "sns.heatmap(cm, annot=True, fmt=\".3f\", linewidths=.5, square = True, cmap = 'Blues_r');\n",
    "plt.ylabel('Actual label');\n",
    "plt.xlabel('Predicted label');\n",
    "all_sample_title = 'Accuracy Score: {0}'.format(score)\n",
    "plt.title(all_sample_title, size = 15);\n",
    "plt.show()"
   ]
  },
  {
   "cell_type": "markdown",
   "metadata": {},
   "source": [
    "## 17. Use your own Python implementation of the Logistic Regression algorithm"
   ]
  },
  {
   "cell_type": "markdown",
   "metadata": {},
   "source": [
    "#### cost function:"
   ]
  },
  {
   "cell_type": "code",
   "execution_count": 19,
   "metadata": {},
   "outputs": [],
   "source": [
    "def cost(X_b, y_b, W, m):\n",
    "    return  -(1./m) * np.sum(\n",
    "        (np.multiply(y_b, np.log(sigmoid(np.dot(W,X_b))))) +\n",
    "        (np.multiply((1-y_b),np.log(1-sigmoid(np.dot(W,X_b)))))\n",
    "    )\n"
   ]
  },
  {
   "cell_type": "markdown",
   "metadata": {},
   "source": [
    "#### sigmoid function:"
   ]
  },
  {
   "cell_type": "code",
   "execution_count": 20,
   "metadata": {},
   "outputs": [],
   "source": [
    "def sigmoid(x):\n",
    "    return 1/(1+(np.exp(-x)))"
   ]
  },
  {
   "cell_type": "markdown",
   "metadata": {},
   "source": [
    "#### Logistic Regression function:"
   ]
  },
  {
   "cell_type": "code",
   "execution_count": 35,
   "metadata": {},
   "outputs": [],
   "source": [
    "def logisticRegression(X_a, y_a, alpha, iterations):\n",
    "    X_b=np.c_[np.ones((len(y_a), 1)), X_a]\n",
    "    y_b=np.array(y_a).reshape(1,len(y_a))\n",
    "    X_b=X_b.T\n",
    "    print('X_b shape =', X_b.shape)\n",
    "    print('y shape =', y_b.shape)\n",
    "    cost_list = []\n",
    "    m = np.size(X_b, axis=1)\n",
    "    W = np.random.random((1, X_b.shape[0]))\n",
    "    print('W =',W.shape)\n",
    "    for i in range(iterations):\n",
    "        W = W - (alpha/m) * np.dot((sigmoid(np.dot(W,X_b)) - y_b), X_b.T)\n",
    "        cost_ = cost(X_b, y_b, W, m)\n",
    "        cost_list.append([i, cost_])\n",
    "    return W, cost_list\n",
    "\n"
   ]
  },
  {
   "cell_type": "markdown",
   "metadata": {},
   "source": [
    "#### Implementation for class 0:"
   ]
  },
  {
   "cell_type": "code",
   "execution_count": 36,
   "metadata": {},
   "outputs": [
    {
     "name": "stdout",
     "output_type": "stream",
     "text": [
      "X_b shape = (5, 1183)\n",
      "y shape = (1, 1183)\n",
      "W = (1, 5)\n",
      "W0 = [[-2.13684308  0.64106936 -0.55945466  1.70649555  1.8417556 ]]\n"
     ]
    },
    {
     "data": {
      "image/png": "[encoded data removed]",
      "text/plain": [
       "<Figure size 432x288 with 1 Axes>"
      ]
     },
     "metadata": {},
     "output_type": "display_data"
    }
   ],
   "source": [
    "y0 = y_train.copy()\n",
    "y0[y_train==0]=1\n",
    "y0[y_train==1]=0\n",
    "y0[y_train==2]=0\n",
    "W0, cost_list = logisticRegression(X_train, y0, 0.01, 10000)\n",
    "\n",
    "print('W0 =', W0)\n",
    "for i in range(0, len(cost_list), 100):\n",
    "    plt.plot(cost_list[i][0], cost_list[i][1], 'ro')\n",
    "plt.show()\n"
   ]
  },
  {
   "cell_type": "markdown",
   "metadata": {},
   "source": [
    "##### Accuracy for class 0:"
   ]
  },
  {
   "cell_type": "code",
   "execution_count": 23,
   "metadata": {},
   "outputs": [
    {
     "name": "stdout",
     "output_type": "stream",
     "text": [
      "Accuracy for class 0: 0.979746835443038\n"
     ]
    }
   ],
   "source": [
    "X_b=np.c_[np.ones((X_test.shape[0], 1)), X_test].T\n",
    "predictions = np.dot(W0,X_b )\n",
    "predictions[predictions < 0] = 0\n",
    "predictions[predictions >0] = 1\n",
    "y0_test = y_test.copy()\n",
    "y0_test[y_test==0]=1\n",
    "y0_test[y_test==1]=0\n",
    "y0_test[y_test==2]=0\n",
    "print(\"Accuracy for class 0:\", sum(y0_test == predictions[0]) / X_test.shape[0] )"
   ]
  },
  {
   "cell_type": "markdown",
   "metadata": {},
   "source": [
    "#### Implementation for class 1:"
   ]
  },
  {
   "cell_type": "code",
   "execution_count": 24,
   "metadata": {},
   "outputs": [
    {
     "name": "stdout",
     "output_type": "stream",
     "text": [
      "W1 = [[-2.4761186  -0.78040686  0.49323243 -0.56052977  0.06574231]]\n"
     ]
    },
    {
     "data": {
      "image/png": "[encoded data removed]",
      "text/plain": [
       "<Figure size 432x288 with 1 Axes>"
      ]
     },
     "metadata": {},
     "output_type": "display_data"
    }
   ],
   "source": [
    "y1 = y_train.copy()\n",
    "y1[y_train==0]=0\n",
    "y1[y_train==1]=1\n",
    "y1[y_train==2]=0\n",
    "W1, cost_list = logisticRegression(X_train, y1, 0.01, 10000)\n",
    "\n",
    "print('W1 =', W1)\n",
    "for i in range(0, len(cost_list), 100):\n",
    "    plt.plot(cost_list[i][0], cost_list[i][1], 'ro')\n",
    "plt.show()"
   ]
  },
  {
   "cell_type": "markdown",
   "metadata": {},
   "source": [
    "##### Accuracy for class 1:"
   ]
  },
  {
   "cell_type": "code",
   "execution_count": 25,
   "metadata": {},
   "outputs": [
    {
     "name": "stdout",
     "output_type": "stream",
     "text": [
      "Accuracy for class 1: 0.9265822784810127\n"
     ]
    }
   ],
   "source": [
    "X_b=np.c_[np.ones((X_test.shape[0], 1)), X_test].T\n",
    "predictions = np.dot(W1,X_b )\n",
    "predictions[predictions < 0] = 0\n",
    "predictions[predictions >0] = 1\n",
    "y1_test = y_test.copy()\n",
    "y1_test[y_test==0]=0\n",
    "y1_test[y_test==1]=1\n",
    "y1_test[y_test==2]=0\n",
    "print(\"Accuracy for class 1:\", sum(y1_test == predictions[0]) / X_test.shape[0] )"
   ]
  },
  {
   "cell_type": "markdown",
   "metadata": {},
   "source": [
    "#### Implementation for class 2:"
   ]
  },
  {
   "cell_type": "code",
   "execution_count": 26,
   "metadata": {},
   "outputs": [
    {
     "name": "stdout",
     "output_type": "stream",
     "text": [
      "W2 = [[-2.74821097  0.95227915 -0.39961999  0.04687231 -1.64313149]]\n"
     ]
    },
    {
     "data": {
      "image/png": "[encoded data removed]",
      "text/plain": [
       "<Figure size 432x288 with 1 Axes>"
      ]
     },
     "metadata": {},
     "output_type": "display_data"
    }
   ],
   "source": [
    "y2 = y_train.copy()\n",
    "y2[y_train==0]=0\n",
    "y2[y_train==1]=0\n",
    "y2[y_train==2]=1\n",
    "W2, cost_list = logisticRegression(X_train, y2, 0.01, 10000)\n",
    "\n",
    "print('W2 =', W2)\n",
    "for i in range(0, len(cost_list), 100):\n",
    "    plt.plot(cost_list[i][0], cost_list[i][1], 'ro')\n",
    "plt.show()"
   ]
  },
  {
   "cell_type": "markdown",
   "metadata": {},
   "source": [
    "##### Accuracy for class 2:"
   ]
  },
  {
   "cell_type": "code",
   "execution_count": 27,
   "metadata": {},
   "outputs": [
    {
     "name": "stdout",
     "output_type": "stream",
     "text": [
      "Accuracy for class 2: 0.9696202531645569\n"
     ]
    }
   ],
   "source": [
    "X_b=np.c_[np.ones((X_test.shape[0], 1)), X_test].T\n",
    "predictions = np.dot(W2,X_b )\n",
    "predictions[predictions < 0] = 0\n",
    "predictions[predictions >0] = 1\n",
    "y2_test = y_test.copy()\n",
    "y2_test[y_test==0]=0\n",
    "y2_test[y_test==1]=0\n",
    "y2_test[y_test==2]=1\n",
    "print(\"Accuracy for class 2:\", sum(y2_test == predictions[0]) / X_test.shape[0] )"
   ]
  },
  {
   "cell_type": "markdown",
   "metadata": {},
   "source": [
    "### create a prediction function to choose between the 3 classes:"
   ]
  },
  {
   "cell_type": "code",
   "execution_count": 28,
   "metadata": {},
   "outputs": [],
   "source": [
    "def distance(W, X):\n",
    "    numerator = np.dot(W, X)\n",
    "    denominator = np.sqrt(np.dot(W, W.T))\n",
    "    return np.divide(numerator,denominator)\n"
   ]
  },
  {
   "cell_type": "markdown",
   "metadata": {},
   "source": [
    "##### Checking the error with the train data:"
   ]
  },
  {
   "cell_type": "code",
   "execution_count": 29,
   "metadata": {},
   "outputs": [
    {
     "name": "stdout",
     "output_type": "stream",
     "text": [
      "Accuracy in compare to the train data: 0.9687235841081995\n"
     ]
    }
   ],
   "source": [
    "X_b=np.c_[np.ones((X_train.shape[0], 1)), X_train].T\n",
    "dist=np.r_[distance(W0, X_b),distance(W1, X_b),distance(W2, X_b)]\n",
    "prediction=np.argmax(dist,0)\n",
    "\n",
    "print(\"Accuracy in compare to the train data:\", sum(y_train == prediction) / X_train.shape[0] )"
   ]
  },
  {
   "cell_type": "code",
   "execution_count": 32,
   "metadata": {},
   "outputs": [
    {
     "name": "stdout",
     "output_type": "stream",
     "text": [
      "(1183,)\n",
      "(1183,)\n"
     ]
    }
   ],
   "source": [
    "print(prediction.shape)\n",
    "print(y_train.shape)"
   ]
  },
  {
   "cell_type": "code",
   "execution_count": 30,
   "metadata": {},
   "outputs": [
    {
     "name": "stdout",
     "output_type": "stream",
     "text": [
      "Accuracy: 0.9687235841081995\n",
      "Classification Report:\n",
      "              precision    recall  f1-score   support\n",
      "\n",
      "          0       0.98      0.96      0.97       396\n",
      "          1       0.94      0.98      0.96       432\n",
      "          2       1.00      0.97      0.98       355\n",
      "\n",
      "avg / total       0.97      0.97      0.97      1183\n",
      "\n",
      "Confusion Matrix:\n",
      " [[379  17   0]\n",
      " [  7 424   1]\n",
      " [  1  11 343]]\n"
     ]
    }
   ],
   "source": [
    "from sklearn.metrics import accuracy_score, f1_score, precision_score,\\\n",
    "recall_score, classification_report, confusion_matrix\n",
    "\n",
    "print('Accuracy:', accuracy_score(y_train, prediction))\n",
    "print('Classification Report:\\n', classification_report(y_train, prediction))\n",
    "print('Confusion Matrix:\\n', confusion_matrix(y_train, prediction))\n"
   ]
  },
  {
   "cell_type": "code",
   "execution_count": 31,
   "metadata": {},
   "outputs": [
    {
     "data": {
      "image/png": "[encoded data removed]",
      "text/plain": [
       "<Figure size 216x216 with 2 Axes>"
      ]
     },
     "metadata": {},
     "output_type": "display_data"
    }
   ],
   "source": [
    "import matplotlib.pyplot as plt\n",
    "from sklearn import metrics\n",
    "cm = metrics.confusion_matrix(y_train, prediction)\n",
    "import seaborn as sns\n",
    "plt.figure(figsize=(3,3))\n",
    "sns.heatmap(cm, annot=True, fmt=\".3f\", linewidths=.5, square = True, cmap = 'Blues_r');\n",
    "plt.ylabel('Actual label');\n",
    "plt.xlabel('Predicted label');\n",
    "all_sample_title = 'Accuracy Score: {0}'.format(score)\n",
    "plt.title(all_sample_title, size = 15);\n",
    "plt.show()"
   ]
  },
  {
   "cell_type": "markdown",
   "metadata": {},
   "source": [
    "##### Checking the error with the test data:"
   ]
  },
  {
   "cell_type": "code",
   "execution_count": 32,
   "metadata": {},
   "outputs": [
    {
     "name": "stdout",
     "output_type": "stream",
     "text": [
      "Accuracy in compare to the test data: 0.9772151898734177\n"
     ]
    }
   ],
   "source": [
    "X_b=np.c_[np.ones((X_test.shape[0], 1)), X_test].T\n",
    "\n",
    "X_predict0 = np.dot(W0, X_b)\n",
    "X_predict1 = np.dot(W1, X_b)\n",
    "X_predict2 = np.dot(W2, X_b)\n",
    "X_predict0[X_predict0 < 0] = 0\n",
    "X_predict0[X_predict0 >0] = 1\n",
    "X_predict1[X_predict1 < 0] = 0\n",
    "X_predict1[X_predict1 >0] = 1\n",
    "X_predict2[X_predict2 < 0] = 0\n",
    "X_predict2[X_predict2 >0] = 1\n",
    "p=np.r_[X_predict0,X_predict1,X_predict2]\n",
    "\n",
    "dist=np.r_[distance(W0, X_b),distance(W1, X_b),distance(W2, X_b)]\n",
    "prediction=np.argmax(dist,0)\n",
    "\n",
    "print(\"Accuracy in compare to the test data:\", sum(y_test == prediction) / X_test.shape[0] )"
   ]
  },
  {
   "cell_type": "code",
   "execution_count": 33,
   "metadata": {},
   "outputs": [
    {
     "name": "stdout",
     "output_type": "stream",
     "text": [
      "Accuracy: 0.9772151898734177\n",
      "Classification Report:\n",
      "              precision    recall  f1-score   support\n",
      "\n",
      "          0       0.99      0.96      0.97       139\n",
      "          1       0.95      0.99      0.97       135\n",
      "          2       0.99      0.99      0.99       121\n",
      "\n",
      "avg / total       0.98      0.98      0.98       395\n",
      "\n",
      "Confusion Matrix:\n",
      " [[133   6   0]\n",
      " [  1 133   1]\n",
      " [  0   1 120]]\n"
     ]
    }
   ],
   "source": [
    "from sklearn.metrics import accuracy_score, f1_score, precision_score,\\\n",
    "recall_score, classification_report, confusion_matrix\n",
    "\n",
    "print('Accuracy:', accuracy_score(y_test, prediction))\n",
    "print('Classification Report:\\n', classification_report(y_test, prediction))\n",
    "print('Confusion Matrix:\\n', confusion_matrix(y_test, prediction))"
   ]
  },
  {
   "cell_type": "code",
   "execution_count": 34,
   "metadata": {},
   "outputs": [
    {
     "data": {
      "image/png": "[encoded data removed]",
      "text/plain": [
       "<Figure size 216x216 with 2 Axes>"
      ]
     },
     "metadata": {},
     "output_type": "display_data"
    }
   ],
   "source": [
    "import matplotlib.pyplot as plt\n",
    "from sklearn import metrics\n",
    "cm = metrics.confusion_matrix(y_test, prediction)\n",
    "import seaborn as sns\n",
    "plt.figure(figsize=(3,3))\n",
    "sns.heatmap(cm, annot=True, fmt=\".3f\", linewidths=.5, square = True, cmap = 'Blues_r');\n",
    "plt.ylabel('Actual label');\n",
    "plt.xlabel('Predicted label');\n",
    "all_sample_title = 'Accuracy Score: {0}'.format(score)\n",
    "plt.title(all_sample_title, size = 15);\n",
    "plt.show()"
   ]
  }
 ],
 "metadata": {
  "kernelspec": {
   "display_name": "Python [default]",
   "language": "python",
   "name": "python3"
  },
  "language_info": {
   "codemirror_mode": {
    "name": "ipython",
    "version": 3
   },
   "file_extension": ".py",
   "mimetype": "text/x-python",
   "name": "python",
   "nbconvert_exporter": "python",
   "pygments_lexer": "ipython3",
   "version": "3.6.6"
  }
 },
 "nbformat": 4,
 "nbformat_minor": 2
}
