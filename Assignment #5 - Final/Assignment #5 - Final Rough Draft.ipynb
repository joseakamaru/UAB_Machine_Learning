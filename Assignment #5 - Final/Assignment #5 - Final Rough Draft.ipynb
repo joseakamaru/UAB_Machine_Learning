{
 "cells": [
  {
   "cell_type": "markdown",
   "metadata": {
    "slideshow": {
     "slide_type": "-"
    }
   },
   "source": [
    "# Final Project with Scikit-Learn\n",
    "* EE 690 Machine Learning: Dr. L. Jololian\n",
    "* Due Date: Auguest 7th, 2018\n",
    "* by: Jose Medina"
   ]
  },
  {
   "cell_type": "markdown",
   "metadata": {
    "slideshow": {
     "slide_type": "-"
    }
   },
   "source": [
    "Please download the dataset for this project from the Kaggle Web site using the following URL:  https://www.kaggle.com/christophercorrea/dc-residential-properties . The name of the file containing the dataset is **DC_Properties.csv**. The dataset consists of real property information, including most recent sales price as of July 2018, for properties located in Washington, D.C. \n",
    "\n",
    "The total number of rows in the file is approximately 160,000. There are forty-nine columns (features) for each data sample. Not every data sample is complete; there might be missing values in some of the rows.\n",
    "For this project, to make the data size more manageable, we will focus only on the data with SOURCE=’Residential’. This will reduce the data size to about 107,000 rows.\n",
    "\n",
    "Write a Python program that can predict the price of a house based on a set of provided features.\n",
    "\n",
    "#### Implementation\n",
    "\n",
    "1. Implement a sensible approach for dealing with the missing data to get a high level of confidence in your predictive models. \n",
    "2. Use linear regression to create a predictive model.\n",
    "3. Convert the PRICE column into a categorical value, such that you replace the original value with one of ten (10) categories. For example, 0 will be substituted for the price range of 0.0-30,000.  \n",
    "4. Use Logistic regression to create a predictive model using the modified data described in (c).\n",
    "5. Use a neural network to build a predictive model for the same data used in (d).\n",
    "\n",
    "#### Work to Submit\n",
    "\n",
    "For (a) above, provide an explanation of the work that you have done.\n",
    "\n",
    "For (b) above, provide the Python code for the implementation using the Scikit-Learn library. Describe the performance of your answer by using appropriate metrics.\n",
    "\n",
    "For (c) above, provide the code for transforming the values in the PRICE column.\n",
    "\n",
    "For (d) above, provide the code for implementing logistic regression using your own Python code and without using the Scikit-Learn library. Using appropriate metrics, show the effectiveness of your model. Show the value of the cost as a function of the number of iterations in your algorithm.\n",
    "\n",
    "For (e) above, you have a choice of implementing your solution by either using the Scikit-Learn library or your own Python code implementation. In either case, provide the code and the performance metrics.\n"
   ]
  },
  {
   "cell_type": "markdown",
   "metadata": {
    "slideshow": {
     "slide_type": "-"
    }
   },
   "source": [
    "## The Dataset:\n",
    "Titanic Data Set from Kaggle: https://www.kaggle.com/christophercorrea/dc-residential-properties. \n"
   ]
  },
  {
   "cell_type": "markdown",
   "metadata": {
    "slideshow": {
     "slide_type": "-"
    }
   },
   "source": [
    "## Description of the features in the data: Data Dictionary\n",
    "- **'Unnamed: 0':** Index of the data. \n",
    "\n",
    "- **'BATHRM':** Number of whole bathrooms (Numeric Response)\n",
    "\n",
    "- **'HF_BATHRM':** Number of half bathrooms (Numeric Response)\n",
    "\n",
    "- **'HEAT':** The temperature the houses achieves from natural radiation emitted from a warm element, such as a floor, wall or overhead panel, and warms people and other objects in rooms rather than directly heating the air. (Character Response)\n",
    "\n",
    "- **'AC':** The presence of an AC unit. (Character Response: Y/N)\n",
    "\n",
    "- **'NUM_UNITS':** The number of residences such as a house, apartment, mobile home, or room(s) within a more massive structure that provides a space for occupants making up a single household to live and eat. The units must be separate from other living spaces within the building. (Numeric Response)\n",
    "\n",
    "- **'ROOMS':** Number of total rooms in the house excluding bathrooms. (Numeric Response) \n",
    "\n",
    "- **'BEDRM':** Number of bedrooms. (Numeric Response) \n",
    "\n",
    "- **'AYB':** The Actual Year Built the original construction date of the building. \n",
    "\n",
    "- **'YR_RMDL':** The most recent year the houses were remodeled. \n",
    "\n",
    "- **'EYB':** The effective year built is a subjective adjustment of the age by the property appraiser based on more recent improvements and remodeling. A home with an actual year made of 1954 and an effective year built of 1977 means that the house was significantly improved or remodeled in 1977 or upgraded to a condition similar to a home built in 1977. (Numeric Response)\n",
    "\n",
    "- **'STORIES':** The number of floors. (Numeric Response)\n",
    "\n",
    "- **'SALEDATE':** The dates the residential houses were sold.\n",
    "\n",
    "- **'PRICE':** The listed price for the residential house. (Numeric Response)\n",
    "\n",
    "- **'QUALIFIED':** Qualified mean the sale price reflects an accurate dollar amount relative to the actual market value of the property. Unqualified means the sale price is not reflective of the market value. \n",
    "\n",
    "- **'SALE_NUM':** Number of times the houses have sold. (Numeric Response)\n",
    "\n",
    "- **'GBA':** Gross Building Area is the total of all building spaces. (Numeric Response)\n",
    "\n",
    "- **'BLDG_NUM':** Number of buildings on the property. (Numeric Response) \n",
    "\n",
    "- **'STYLE':** The style of the residential house. (Character Response)\n",
    "\n",
    "- **'STRUCT':** The type of the residential house. (Character Response)\n",
    "\n",
    "- **'GRADE':** Commercial real estate applies a simple grading system to assets to rate overall quality and key characteristics. Buildings are classified, and that ranking is an important indicator to gauge a property’s competitive position in a marketplace and where it fits with market value. (Character Response) \n",
    "\n",
    "- **'CNDTN':** The condition of the residential house. (Character Response)\n",
    "\n",
    "- **'EXTWALL':** The material which makes up the exterior of the residential house. (Character Response)\n",
    "\n",
    "- **'ROOF':** The material which makes up the roof of the residential house. (Character Response)\n",
    "\n",
    "- **'INTWALL':** The material which makes up the interior of the residential house. (Character Response)\n",
    "\n",
    "- **'KITCHENS':** The number of kitchens in the residential house. (Numeric Response)\n",
    "\n",
    "- **'FIREPLACES':** The number of kitchens in the residential house. (Numeric Response)\n",
    "\n",
    "- **'USECODE':** [Real Property Use Code Listing for Washing D.C.](https://otr.cfo.dc.gov/sites/default/files/dc/sites/otr/publication/attachments/Use%20codes.pdf)\n",
    "\n",
    "- **'LANDAREA':** The amount of land area in the residential house. (Numeric Response)\n",
    "\n",
    "- **'GIS_LAST_MOD_DTTM':** The last recorded dates the files were altered.\n",
    "\n",
    "- **'SOURCE':** The type of housing situation(Residential or Condominium).\n",
    "\n",
    "- **'CMPLX_NUM':** Complex Number refers to some multi-family housing, i.e., apartment complex. Because you specify housing, it perhaps refers to a triplex or a quadplex (3 and 4 unit multi-family) or perhaps a townhome community that has 2 or more units with adjoining walls. When the single-family housing is involved, it's usually referred to as a housing development or subdivision.\n",
    "\n",
    "- **'LIVING_GBA':** Living Gross Building Area, or Gross Living Area (GLA), includes all living space that is above the land-line and has heating, lighting, and ventilation. (Numeric Response) \n",
    "\n",
    "- **'FULLADDRESS':** The full address of the residential house. \n",
    "\n",
    "- **'CITY':** The city of the residential house. \n",
    "\n",
    "- **'STATE':** The state of the residential house. \n",
    "\n",
    "- **'ZIPCODE':** The zip code of the residential house. (Numeric Response) \n",
    "\n",
    "- **'NATIONALGRID':** The Alpha-Numeric location of the residential house. \n",
    "\n",
    "- **'LATITUDE':** The latitude location of the residential house. \n",
    "\n",
    "- **'LONGITUDE':** The longitude location of the residential house.\n",
    "\n",
    "- **'ASSESSMENT_NBHD':** The neighborhood of the residential house. (Character Response)\n",
    "\n",
    "- **'ASSESSMENT_SUBNBHD':** The sub-neighborhood of the residential houses. (Character Response)\n",
    "\n",
    "- **'CENSUS_TRACT':** Census Tract are small, relatively permanent statistical subdivisions of a county delineated by local participants as part of the U.S. Census Bureau’s Participant Statistical Areas Program. (Numeric Response)\n",
    "\n",
    "- **'CENSUS_BLOCK':** Census Block are statistical areas bounded by visible features, such as streets, roads, streams, and railroad tracks, and by non-visible boundaries, such as selected property lines and city, township, school district, and county limits. Multiple Census Tract grouped to form a Census Tract.\n",
    "\n",
    "- **'WARD':** All of Washington D.C. neighborhoods grouped into larger segments which labeled as Ward's.\n",
    "\n",
    "- **'SQUARE':** The square features does not provide enough detail to determine if it indicates a specific square block in Washington D.C.\n",
    "\n",
    "- **'X':** No clear meaning can be related to the variable X.\n",
    "\n",
    "- **'Y':** No clear meaning can be related to the variable Y.\n",
    "\n",
    "- **'QUADRANT':** Quadrant breakdown of the location of the residential house. (Character Response)"
   ]
  },
  {
   "cell_type": "code",
   "execution_count": 1,
   "metadata": {
    "slideshow": {
     "slide_type": "fragment"
    }
   },
   "outputs": [],
   "source": [
    "# Import Libraries\n",
    "import pandas as pd\n",
    "import numpy as np\n",
    "import seaborn as sns\n",
    "import matplotlib.pyplot as plt\n",
    "\n",
    "%matplotlib inline\n",
    "from collections import Counter\n",
    "\n",
    "from scipy.stats import norm\n",
    "from scipy import stats"
   ]
  },
  {
   "cell_type": "code",
   "execution_count": 2,
   "metadata": {
    "slideshow": {
     "slide_type": "slide"
    }
   },
   "outputs": [
    {
     "name": "stderr",
     "output_type": "stream",
     "text": [
      "/Users/Jose/anaconda3/lib/python3.6/site-packages/IPython/core/interactiveshell.py:2785: DtypeWarning: Columns (18,19,20,21,22,23,24,33,34,35,37,43,45) have mixed types. Specify dtype option on import or set low_memory=False.\n",
      "  interactivity=interactivity, compiler=compiler, result=result)\n"
     ]
    }
   ],
   "source": [
    "# read training data into a dataframe\n",
    "train = pd.read_csv('DC_Properties.csv')"
   ]
  },
  {
   "cell_type": "code",
   "execution_count": 3,
   "metadata": {},
   "outputs": [
    {
     "name": "stdout",
     "output_type": "stream",
     "text": [
      "Shape of the dataframe:  (158957, 49)\n"
     ]
    },
    {
     "data": {
      "text/html": [
       "<div>\n",
       "<style scoped>\n",
       "    .dataframe tbody tr th:only-of-type {\n",
       "        vertical-align: middle;\n",
       "    }\n",
       "\n",
       "    .dataframe tbody tr th {\n",
       "        vertical-align: top;\n",
       "    }\n",
       "\n",
       "    .dataframe thead th {\n",
       "        text-align: right;\n",
       "    }\n",
       "</style>\n",
       "<table border=\"1\" class=\"dataframe\">\n",
       "  <thead>\n",
       "    <tr style=\"text-align: right;\">\n",
       "      <th></th>\n",
       "      <th>Unnamed: 0</th>\n",
       "      <th>BATHRM</th>\n",
       "      <th>HF_BATHRM</th>\n",
       "      <th>HEAT</th>\n",
       "      <th>AC</th>\n",
       "      <th>NUM_UNITS</th>\n",
       "      <th>ROOMS</th>\n",
       "      <th>BEDRM</th>\n",
       "      <th>AYB</th>\n",
       "      <th>YR_RMDL</th>\n",
       "      <th>...</th>\n",
       "      <th>LONGITUDE</th>\n",
       "      <th>ASSESSMENT_NBHD</th>\n",
       "      <th>ASSESSMENT_SUBNBHD</th>\n",
       "      <th>CENSUS_TRACT</th>\n",
       "      <th>CENSUS_BLOCK</th>\n",
       "      <th>WARD</th>\n",
       "      <th>SQUARE</th>\n",
       "      <th>X</th>\n",
       "      <th>Y</th>\n",
       "      <th>QUADRANT</th>\n",
       "    </tr>\n",
       "  </thead>\n",
       "  <tbody>\n",
       "    <tr>\n",
       "      <th>0</th>\n",
       "      <td>0</td>\n",
       "      <td>4</td>\n",
       "      <td>0</td>\n",
       "      <td>Warm Cool</td>\n",
       "      <td>Y</td>\n",
       "      <td>2.0</td>\n",
       "      <td>8</td>\n",
       "      <td>4</td>\n",
       "      <td>1910.0</td>\n",
       "      <td>1988.0</td>\n",
       "      <td>...</td>\n",
       "      <td>-77.040832</td>\n",
       "      <td>Old City 2</td>\n",
       "      <td>040 D Old City 2</td>\n",
       "      <td>4201.0</td>\n",
       "      <td>004201 2006</td>\n",
       "      <td>Ward 2</td>\n",
       "      <td>152</td>\n",
       "      <td>-77.040429</td>\n",
       "      <td>38.914881</td>\n",
       "      <td>NW</td>\n",
       "    </tr>\n",
       "    <tr>\n",
       "      <th>1</th>\n",
       "      <td>1</td>\n",
       "      <td>3</td>\n",
       "      <td>1</td>\n",
       "      <td>Warm Cool</td>\n",
       "      <td>Y</td>\n",
       "      <td>2.0</td>\n",
       "      <td>11</td>\n",
       "      <td>5</td>\n",
       "      <td>1898.0</td>\n",
       "      <td>2007.0</td>\n",
       "      <td>...</td>\n",
       "      <td>-77.040764</td>\n",
       "      <td>Old City 2</td>\n",
       "      <td>040 D Old City 2</td>\n",
       "      <td>4201.0</td>\n",
       "      <td>004201 2006</td>\n",
       "      <td>Ward 2</td>\n",
       "      <td>152</td>\n",
       "      <td>-77.040429</td>\n",
       "      <td>38.914881</td>\n",
       "      <td>NW</td>\n",
       "    </tr>\n",
       "    <tr>\n",
       "      <th>2</th>\n",
       "      <td>2</td>\n",
       "      <td>3</td>\n",
       "      <td>1</td>\n",
       "      <td>Hot Water Rad</td>\n",
       "      <td>Y</td>\n",
       "      <td>2.0</td>\n",
       "      <td>9</td>\n",
       "      <td>5</td>\n",
       "      <td>1910.0</td>\n",
       "      <td>2009.0</td>\n",
       "      <td>...</td>\n",
       "      <td>-77.040678</td>\n",
       "      <td>Old City 2</td>\n",
       "      <td>040 D Old City 2</td>\n",
       "      <td>4201.0</td>\n",
       "      <td>004201 2006</td>\n",
       "      <td>Ward 2</td>\n",
       "      <td>152</td>\n",
       "      <td>-77.040429</td>\n",
       "      <td>38.914881</td>\n",
       "      <td>NW</td>\n",
       "    </tr>\n",
       "  </tbody>\n",
       "</table>\n",
       "<p>3 rows × 49 columns</p>\n",
       "</div>"
      ],
      "text/plain": [
       "   Unnamed: 0  BATHRM  HF_BATHRM           HEAT AC  NUM_UNITS  ROOMS  BEDRM  \\\n",
       "0           0       4          0      Warm Cool  Y        2.0      8      4   \n",
       "1           1       3          1      Warm Cool  Y        2.0     11      5   \n",
       "2           2       3          1  Hot Water Rad  Y        2.0      9      5   \n",
       "\n",
       "      AYB  YR_RMDL   ...     LONGITUDE  ASSESSMENT_NBHD ASSESSMENT_SUBNBHD  \\\n",
       "0  1910.0   1988.0   ...    -77.040832       Old City 2   040 D Old City 2   \n",
       "1  1898.0   2007.0   ...    -77.040764       Old City 2   040 D Old City 2   \n",
       "2  1910.0   2009.0   ...    -77.040678       Old City 2   040 D Old City 2   \n",
       "\n",
       "   CENSUS_TRACT CENSUS_BLOCK    WARD  SQUARE          X          Y QUADRANT  \n",
       "0        4201.0  004201 2006  Ward 2     152 -77.040429  38.914881       NW  \n",
       "1        4201.0  004201 2006  Ward 2     152 -77.040429  38.914881       NW  \n",
       "2        4201.0  004201 2006  Ward 2     152 -77.040429  38.914881       NW  \n",
       "\n",
       "[3 rows x 49 columns]"
      ]
     },
     "execution_count": 3,
     "metadata": {},
     "output_type": "execute_result"
    }
   ],
   "source": [
    "# Deminsion of the dataframe\n",
    "print('Shape of the dataframe: ',train.shape)\n",
    "\n",
    "# Show the first three rows of dataframe\n",
    "train.head(3)"
   ]
  },
  {
   "cell_type": "code",
   "execution_count": 4,
   "metadata": {},
   "outputs": [
    {
     "data": {
      "text/html": [
       "<div>\n",
       "<style scoped>\n",
       "    .dataframe tbody tr th:only-of-type {\n",
       "        vertical-align: middle;\n",
       "    }\n",
       "\n",
       "    .dataframe tbody tr th {\n",
       "        vertical-align: top;\n",
       "    }\n",
       "\n",
       "    .dataframe thead th {\n",
       "        text-align: right;\n",
       "    }\n",
       "</style>\n",
       "<table border=\"1\" class=\"dataframe\">\n",
       "  <thead>\n",
       "    <tr style=\"text-align: right;\">\n",
       "      <th></th>\n",
       "      <th>Unnamed: 0</th>\n",
       "      <th>BATHRM</th>\n",
       "      <th>HF_BATHRM</th>\n",
       "      <th>NUM_UNITS</th>\n",
       "      <th>ROOMS</th>\n",
       "      <th>BEDRM</th>\n",
       "      <th>AYB</th>\n",
       "      <th>YR_RMDL</th>\n",
       "      <th>EYB</th>\n",
       "      <th>STORIES</th>\n",
       "      <th>...</th>\n",
       "      <th>USECODE</th>\n",
       "      <th>LANDAREA</th>\n",
       "      <th>CMPLX_NUM</th>\n",
       "      <th>LIVING_GBA</th>\n",
       "      <th>ZIPCODE</th>\n",
       "      <th>LATITUDE</th>\n",
       "      <th>LONGITUDE</th>\n",
       "      <th>CENSUS_TRACT</th>\n",
       "      <th>X</th>\n",
       "      <th>Y</th>\n",
       "    </tr>\n",
       "  </thead>\n",
       "  <tbody>\n",
       "    <tr>\n",
       "      <th>count</th>\n",
       "      <td>158957.000000</td>\n",
       "      <td>158957.000000</td>\n",
       "      <td>158957.000000</td>\n",
       "      <td>106696.000000</td>\n",
       "      <td>158957.000000</td>\n",
       "      <td>158957.000000</td>\n",
       "      <td>158686.000000</td>\n",
       "      <td>80928.000000</td>\n",
       "      <td>158957.000000</td>\n",
       "      <td>106652.000000</td>\n",
       "      <td>...</td>\n",
       "      <td>158957.000000</td>\n",
       "      <td>158957.000000</td>\n",
       "      <td>52261.000000</td>\n",
       "      <td>52261.000000</td>\n",
       "      <td>158956.000000</td>\n",
       "      <td>158956.000000</td>\n",
       "      <td>158956.000000</td>\n",
       "      <td>158956.000000</td>\n",
       "      <td>158720.000000</td>\n",
       "      <td>158720.000000</td>\n",
       "    </tr>\n",
       "    <tr>\n",
       "      <th>mean</th>\n",
       "      <td>79478.000000</td>\n",
       "      <td>1.810678</td>\n",
       "      <td>0.458237</td>\n",
       "      <td>1.198039</td>\n",
       "      <td>6.187736</td>\n",
       "      <td>2.732506</td>\n",
       "      <td>1941.987579</td>\n",
       "      <td>1998.243537</td>\n",
       "      <td>1963.718024</td>\n",
       "      <td>2.091793</td>\n",
       "      <td>...</td>\n",
       "      <td>14.252999</td>\n",
       "      <td>2473.282158</td>\n",
       "      <td>2371.544249</td>\n",
       "      <td>888.834542</td>\n",
       "      <td>20012.694563</td>\n",
       "      <td>38.914854</td>\n",
       "      <td>-77.016676</td>\n",
       "      <td>5348.216324</td>\n",
       "      <td>-77.016712</td>\n",
       "      <td>38.914846</td>\n",
       "    </tr>\n",
       "    <tr>\n",
       "      <th>std</th>\n",
       "      <td>45887.077707</td>\n",
       "      <td>0.976396</td>\n",
       "      <td>0.587571</td>\n",
       "      <td>0.596924</td>\n",
       "      <td>2.618165</td>\n",
       "      <td>1.358864</td>\n",
       "      <td>33.640234</td>\n",
       "      <td>16.575786</td>\n",
       "      <td>24.923150</td>\n",
       "      <td>2.933323</td>\n",
       "      <td>...</td>\n",
       "      <td>3.725736</td>\n",
       "      <td>5059.046023</td>\n",
       "      <td>1114.272364</td>\n",
       "      <td>420.185822</td>\n",
       "      <td>15.627084</td>\n",
       "      <td>0.031723</td>\n",
       "      <td>0.040938</td>\n",
       "      <td>3369.645953</td>\n",
       "      <td>0.040933</td>\n",
       "      <td>0.031682</td>\n",
       "    </tr>\n",
       "    <tr>\n",
       "      <th>min</th>\n",
       "      <td>0.000000</td>\n",
       "      <td>0.000000</td>\n",
       "      <td>0.000000</td>\n",
       "      <td>0.000000</td>\n",
       "      <td>0.000000</td>\n",
       "      <td>0.000000</td>\n",
       "      <td>1754.000000</td>\n",
       "      <td>20.000000</td>\n",
       "      <td>1800.000000</td>\n",
       "      <td>0.000000</td>\n",
       "      <td>...</td>\n",
       "      <td>11.000000</td>\n",
       "      <td>0.000000</td>\n",
       "      <td>1001.000000</td>\n",
       "      <td>0.000000</td>\n",
       "      <td>20001.000000</td>\n",
       "      <td>38.819731</td>\n",
       "      <td>-77.113909</td>\n",
       "      <td>100.000000</td>\n",
       "      <td>-77.113135</td>\n",
       "      <td>38.820576</td>\n",
       "    </tr>\n",
       "    <tr>\n",
       "      <th>25%</th>\n",
       "      <td>39739.000000</td>\n",
       "      <td>1.000000</td>\n",
       "      <td>0.000000</td>\n",
       "      <td>1.000000</td>\n",
       "      <td>4.000000</td>\n",
       "      <td>2.000000</td>\n",
       "      <td>1918.000000</td>\n",
       "      <td>1985.000000</td>\n",
       "      <td>1954.000000</td>\n",
       "      <td>2.000000</td>\n",
       "      <td>...</td>\n",
       "      <td>11.000000</td>\n",
       "      <td>697.000000</td>\n",
       "      <td>1501.000000</td>\n",
       "      <td>616.000000</td>\n",
       "      <td>20007.000000</td>\n",
       "      <td>38.895425</td>\n",
       "      <td>-77.042892</td>\n",
       "      <td>2102.000000</td>\n",
       "      <td>-77.042894</td>\n",
       "      <td>38.895432</td>\n",
       "    </tr>\n",
       "    <tr>\n",
       "      <th>50%</th>\n",
       "      <td>79478.000000</td>\n",
       "      <td>2.000000</td>\n",
       "      <td>0.000000</td>\n",
       "      <td>1.000000</td>\n",
       "      <td>6.000000</td>\n",
       "      <td>3.000000</td>\n",
       "      <td>1937.000000</td>\n",
       "      <td>2004.000000</td>\n",
       "      <td>1963.000000</td>\n",
       "      <td>2.000000</td>\n",
       "      <td>...</td>\n",
       "      <td>13.000000</td>\n",
       "      <td>1649.000000</td>\n",
       "      <td>2265.000000</td>\n",
       "      <td>783.000000</td>\n",
       "      <td>20011.000000</td>\n",
       "      <td>38.915337</td>\n",
       "      <td>-77.019596</td>\n",
       "      <td>5201.000000</td>\n",
       "      <td>-77.019581</td>\n",
       "      <td>38.915229</td>\n",
       "    </tr>\n",
       "    <tr>\n",
       "      <th>75%</th>\n",
       "      <td>119217.000000</td>\n",
       "      <td>2.000000</td>\n",
       "      <td>1.000000</td>\n",
       "      <td>1.000000</td>\n",
       "      <td>7.000000</td>\n",
       "      <td>3.000000</td>\n",
       "      <td>1960.000000</td>\n",
       "      <td>2010.000000</td>\n",
       "      <td>1975.000000</td>\n",
       "      <td>2.000000</td>\n",
       "      <td>...</td>\n",
       "      <td>17.000000</td>\n",
       "      <td>3000.000000</td>\n",
       "      <td>2910.000000</td>\n",
       "      <td>1060.000000</td>\n",
       "      <td>20018.000000</td>\n",
       "      <td>38.936075</td>\n",
       "      <td>-76.988626</td>\n",
       "      <td>8302.000000</td>\n",
       "      <td>-76.988842</td>\n",
       "      <td>38.936077</td>\n",
       "    </tr>\n",
       "    <tr>\n",
       "      <th>max</th>\n",
       "      <td>158956.000000</td>\n",
       "      <td>14.000000</td>\n",
       "      <td>11.000000</td>\n",
       "      <td>6.000000</td>\n",
       "      <td>48.000000</td>\n",
       "      <td>24.000000</td>\n",
       "      <td>2019.000000</td>\n",
       "      <td>2019.000000</td>\n",
       "      <td>2018.000000</td>\n",
       "      <td>826.000000</td>\n",
       "      <td>...</td>\n",
       "      <td>117.000000</td>\n",
       "      <td>942632.000000</td>\n",
       "      <td>5621.000000</td>\n",
       "      <td>8553.000000</td>\n",
       "      <td>20392.000000</td>\n",
       "      <td>38.995540</td>\n",
       "      <td>-76.909758</td>\n",
       "      <td>11100.000000</td>\n",
       "      <td>-76.910511</td>\n",
       "      <td>38.993646</td>\n",
       "    </tr>\n",
       "  </tbody>\n",
       "</table>\n",
       "<p>8 rows × 26 columns</p>\n",
       "</div>"
      ],
      "text/plain": [
       "          Unnamed: 0         BATHRM      HF_BATHRM      NUM_UNITS  \\\n",
       "count  158957.000000  158957.000000  158957.000000  106696.000000   \n",
       "mean    79478.000000       1.810678       0.458237       1.198039   \n",
       "std     45887.077707       0.976396       0.587571       0.596924   \n",
       "min         0.000000       0.000000       0.000000       0.000000   \n",
       "25%     39739.000000       1.000000       0.000000       1.000000   \n",
       "50%     79478.000000       2.000000       0.000000       1.000000   \n",
       "75%    119217.000000       2.000000       1.000000       1.000000   \n",
       "max    158956.000000      14.000000      11.000000       6.000000   \n",
       "\n",
       "               ROOMS          BEDRM            AYB       YR_RMDL  \\\n",
       "count  158957.000000  158957.000000  158686.000000  80928.000000   \n",
       "mean        6.187736       2.732506    1941.987579   1998.243537   \n",
       "std         2.618165       1.358864      33.640234     16.575786   \n",
       "min         0.000000       0.000000    1754.000000     20.000000   \n",
       "25%         4.000000       2.000000    1918.000000   1985.000000   \n",
       "50%         6.000000       3.000000    1937.000000   2004.000000   \n",
       "75%         7.000000       3.000000    1960.000000   2010.000000   \n",
       "max        48.000000      24.000000    2019.000000   2019.000000   \n",
       "\n",
       "                 EYB        STORIES      ...              USECODE  \\\n",
       "count  158957.000000  106652.000000      ...        158957.000000   \n",
       "mean     1963.718024       2.091793      ...            14.252999   \n",
       "std        24.923150       2.933323      ...             3.725736   \n",
       "min      1800.000000       0.000000      ...            11.000000   \n",
       "25%      1954.000000       2.000000      ...            11.000000   \n",
       "50%      1963.000000       2.000000      ...            13.000000   \n",
       "75%      1975.000000       2.000000      ...            17.000000   \n",
       "max      2018.000000     826.000000      ...           117.000000   \n",
       "\n",
       "            LANDAREA     CMPLX_NUM    LIVING_GBA        ZIPCODE  \\\n",
       "count  158957.000000  52261.000000  52261.000000  158956.000000   \n",
       "mean     2473.282158   2371.544249    888.834542   20012.694563   \n",
       "std      5059.046023   1114.272364    420.185822      15.627084   \n",
       "min         0.000000   1001.000000      0.000000   20001.000000   \n",
       "25%       697.000000   1501.000000    616.000000   20007.000000   \n",
       "50%      1649.000000   2265.000000    783.000000   20011.000000   \n",
       "75%      3000.000000   2910.000000   1060.000000   20018.000000   \n",
       "max    942632.000000   5621.000000   8553.000000   20392.000000   \n",
       "\n",
       "            LATITUDE      LONGITUDE   CENSUS_TRACT              X  \\\n",
       "count  158956.000000  158956.000000  158956.000000  158720.000000   \n",
       "mean       38.914854     -77.016676    5348.216324     -77.016712   \n",
       "std         0.031723       0.040938    3369.645953       0.040933   \n",
       "min        38.819731     -77.113909     100.000000     -77.113135   \n",
       "25%        38.895425     -77.042892    2102.000000     -77.042894   \n",
       "50%        38.915337     -77.019596    5201.000000     -77.019581   \n",
       "75%        38.936075     -76.988626    8302.000000     -76.988842   \n",
       "max        38.995540     -76.909758   11100.000000     -76.910511   \n",
       "\n",
       "                   Y  \n",
       "count  158720.000000  \n",
       "mean       38.914846  \n",
       "std         0.031682  \n",
       "min        38.820576  \n",
       "25%        38.895432  \n",
       "50%        38.915229  \n",
       "75%        38.936077  \n",
       "max        38.993646  \n",
       "\n",
       "[8 rows x 26 columns]"
      ]
     },
     "execution_count": 4,
     "metadata": {},
     "output_type": "execute_result"
    }
   ],
   "source": [
    "# Some statistical information about the data\n",
    "train.describe()"
   ]
  },
  {
   "cell_type": "code",
   "execution_count": 5,
   "metadata": {},
   "outputs": [
    {
     "data": {
      "text/plain": [
       "count    9.821600e+04\n",
       "mean     9.313516e+05\n",
       "std      7.061325e+06\n",
       "min      1.000000e+00\n",
       "25%      2.400000e+05\n",
       "50%      3.999990e+05\n",
       "75%      6.520000e+05\n",
       "max      1.374275e+08\n",
       "Name: PRICE, dtype: float64"
      ]
     },
     "execution_count": 5,
     "metadata": {},
     "output_type": "execute_result"
    }
   ],
   "source": [
    "# Some statistical information about the PRICE in the data since it will be our y value. \n",
    "train['PRICE'].describe()"
   ]
  },
  {
   "cell_type": "code",
   "execution_count": 6,
   "metadata": {},
   "outputs": [
    {
     "name": "stdout",
     "output_type": "stream",
     "text": [
      "<class 'pandas.core.frame.DataFrame'>\n",
      "RangeIndex: 158957 entries, 0 to 158956\n",
      "Data columns (total 49 columns):\n",
      "Unnamed: 0            158957 non-null int64\n",
      "BATHRM                158957 non-null int64\n",
      "HF_BATHRM             158957 non-null int64\n",
      "HEAT                  158957 non-null object\n",
      "AC                    158957 non-null object\n",
      "NUM_UNITS             106696 non-null float64\n",
      "ROOMS                 158957 non-null int64\n",
      "BEDRM                 158957 non-null int64\n",
      "AYB                   158686 non-null float64\n",
      "YR_RMDL               80928 non-null float64\n",
      "EYB                   158957 non-null int64\n",
      "STORIES               106652 non-null float64\n",
      "SALEDATE              132187 non-null object\n",
      "PRICE                 98216 non-null float64\n",
      "QUALIFIED             158957 non-null object\n",
      "SALE_NUM              158957 non-null int64\n",
      "GBA                   106696 non-null float64\n",
      "BLDG_NUM              158957 non-null int64\n",
      "STYLE                 106696 non-null object\n",
      "STRUCT                106696 non-null object\n",
      "GRADE                 106696 non-null object\n",
      "CNDTN                 106696 non-null object\n",
      "EXTWALL               106696 non-null object\n",
      "ROOF                  106696 non-null object\n",
      "INTWALL               106696 non-null object\n",
      "KITCHENS              106695 non-null float64\n",
      "FIREPLACES            158957 non-null int64\n",
      "USECODE               158957 non-null int64\n",
      "LANDAREA              158957 non-null int64\n",
      "GIS_LAST_MOD_DTTM     158957 non-null object\n",
      "SOURCE                158957 non-null object\n",
      "CMPLX_NUM             52261 non-null float64\n",
      "LIVING_GBA            52261 non-null float64\n",
      "FULLADDRESS           106040 non-null object\n",
      "CITY                  106051 non-null object\n",
      "STATE                 106051 non-null object\n",
      "ZIPCODE               158956 non-null float64\n",
      "NATIONALGRID          106051 non-null object\n",
      "LATITUDE              158956 non-null float64\n",
      "LONGITUDE             158956 non-null float64\n",
      "ASSESSMENT_NBHD       158956 non-null object\n",
      "ASSESSMENT_SUBNBHD    126406 non-null object\n",
      "CENSUS_TRACT          158956 non-null float64\n",
      "CENSUS_BLOCK          106051 non-null object\n",
      "WARD                  158956 non-null object\n",
      "SQUARE                158957 non-null object\n",
      "X                     158720 non-null float64\n",
      "Y                     158720 non-null float64\n",
      "QUADRANT              158720 non-null object\n",
      "dtypes: float64(15), int64(11), object(23)\n",
      "memory usage: 59.4+ MB\n"
     ]
    }
   ],
   "source": [
    "# Checking if there are missing values in the dataset\n",
    "train.info()"
   ]
  },
  {
   "cell_type": "markdown",
   "metadata": {},
   "source": [
    "### Features dropped and reasoning based on inital information of the data: \n",
    "- **'Unnamed: 0':** _The data is already index._\n",
    "\n",
    "- **'AYB':** _Will be using EYB._\n",
    "\n",
    "- **'YR_RMDL':** _Will be using EYB, because if renovations where not significant enough to alter the EYB then the property value has not been changed._\n",
    "\n",
    "- **'SALEDATE':** _Does not impact the value of the residential house._\n",
    "\n",
    "- **'QUALIFIED':** _The whole column will be the drop, after dropping all rows which are labeled as Unqualified (U) because the value(price), if any, does not reflect the market value. A house marked as unqualified indicate that the residential home was a transfer within a family (such as inheritance after parents die and leave the house to the kids) or a foreclosure/tax auction. Besides, an Unqualified house will likely be appraised improperly so the listed price would be wrong._\n",
    "\n",
    "- **'USECODE':** _Based on the codes from the list and the codes present in the data, we will remove the following non-Residential USECODE's: 41 (Store-Small 1-Story), 81 (Religious), 83 (Educational), 116 (Condo-Horizontal-Combined), and 117 (Condo-Vertical-Combined)._\n",
    "\n",
    "- **'GIS_LAST_MOD_DTTM':** _The information is not neccessary for analysis_\n",
    "\n",
    "- **'SOURCE':** _We will be working with Residential only_\n",
    "\n",
    "- **'CMPLX_NUM':** _The information is already relayed through the use of other features such as ASSESSMENT NBHD, ASSESSMENT SUBNBHD, ZIPCODE, etc._\n",
    "\n",
    "- **'FULLADDRESS':** _The information is already covered by the, and some of the addresses have missing information_\n",
    "\n",
    "- **'CITY':** _The information is already covered by the zipcode_\n",
    "\n",
    "- **'STATE':** _The information is already covered by the zipcode_\n",
    "\n",
    "- **'NATIONALGRID':** _The information is unnecessary and already covered by other features_\n",
    "\n",
    "- **'LATITUDE':** _The information is unnecessary and already covered by other features_\n",
    "\n",
    "- **'LONGITUDE':** _The information is unnecessary and already covered by other features_\n",
    "\n",
    "- **'CENSUS_BLOCK':** _The data has too many missing values to be viable, and the information is related to CENSUS TRACT_\n",
    "\n",
    "- **'WARD':** _Assessment Neighborhood and sub-neighborhood already define the information from the Ward and much finner segments._\n",
    "\n",
    "- **'SQUARE':** _The information is not clearly labeled. If the data does indicate a specific square block, the information obtained through a combination of other features such as ASSESSMENT NBHD, ASSESSMENT SUBNBHD, ZIPCODE, etc._\n",
    "\n",
    "- **'X':** _Lack of information_\n",
    "\n",
    "- **'Y':** _Lack of information_"
   ]
  },
  {
   "cell_type": "code",
   "execution_count": 7,
   "metadata": {},
   "outputs": [
    {
     "name": "stdout",
     "output_type": "stream",
     "text": [
      "Shape of dataframe:  (106696, 49)\n"
     ]
    }
   ],
   "source": [
    "# We will focus only on the houses labeled as Residential by selecting the points where SOURCE = 'Residential'\n",
    "train = train[train['SOURCE'] == 'Residential']\n",
    "# Deminsion of the dataframe\n",
    "print('Shape of dataframe: ',train.shape)"
   ]
  },
  {
   "cell_type": "code",
   "execution_count": 8,
   "metadata": {},
   "outputs": [
    {
     "name": "stdout",
     "output_type": "stream",
     "text": [
      "Shape of dataframe:  (106696, 31)\n"
     ]
    }
   ],
   "source": [
    "# Dropping unnessary information \n",
    "train.drop('Unnamed: 0',axis=1,inplace=True)\n",
    "train.drop('AYB',axis=1,inplace=True)\n",
    "train.drop('YR_RMDL',axis=1,inplace=True)\n",
    "train.drop('SALEDATE',axis=1,inplace=True)\n",
    "train.drop('GIS_LAST_MOD_DTTM',axis=1,inplace=True)\n",
    "train.drop('SOURCE',axis=1,inplace=True)\n",
    "train.drop('CMPLX_NUM',axis=1,inplace=True)\n",
    "train.drop('FULLADDRESS',axis=1,inplace=True)\n",
    "train.drop('CITY',axis=1,inplace=True)\n",
    "train.drop('STATE',axis=1,inplace=True)\n",
    "train.drop('NATIONALGRID',axis=1,inplace=True)\n",
    "train.drop('LATITUDE',axis=1,inplace=True)\n",
    "train.drop('LONGITUDE',axis=1,inplace=True)\n",
    "train.drop('CENSUS_BLOCK',axis=1,inplace=True)\n",
    "train.drop('WARD',axis=1,inplace=True)\n",
    "train.drop('SQUARE',axis=1,inplace=True)\n",
    "train.drop('X',axis=1,inplace=True)\n",
    "train.drop('Y',axis=1,inplace=True)\n",
    "\n",
    "# Deminsion of the dataframe\n",
    "print('Shape of dataframe: ',train.shape)"
   ]
  },
  {
   "cell_type": "code",
   "execution_count": 9,
   "metadata": {},
   "outputs": [
    {
     "name": "stdout",
     "output_type": "stream",
     "text": [
      "Shape of dataframe:  (45976, 30)\n"
     ]
    }
   ],
   "source": [
    "# Drop all values where 'QUALIFIED' does not equal Q\n",
    "train = train[train['QUALIFIED'] == 'Q']\n",
    "train.drop('QUALIFIED',axis=1,inplace=True)\n",
    "\n",
    "# Deminsion of the dataframe\n",
    "print('Shape of dataframe: ',train.shape)"
   ]
  },
  {
   "cell_type": "code",
   "execution_count": 10,
   "metadata": {},
   "outputs": [
    {
     "name": "stdout",
     "output_type": "stream",
     "text": [
      "Shape of dataframe:  (45976, 30)\n"
     ]
    }
   ],
   "source": [
    "# Drop all values where 'USECODE' equal's 41, 81, 83, 116, and 117\n",
    "train = train[train.USECODE != 41]\n",
    "train = train[train.USECODE != 81]\n",
    "train = train[train.USECODE != 83]\n",
    "train = train[train.USECODE != 116]\n",
    "train = train[train.USECODE != 117]\n",
    "\n",
    "# Deminsion of the dataframe\n",
    "print('Shape of dataframe: ',train.shape)"
   ]
  },
  {
   "cell_type": "code",
   "execution_count": 11,
   "metadata": {},
   "outputs": [
    {
     "name": "stdout",
     "output_type": "stream",
     "text": [
      "Shape of dataframe:  (45976, 30)\n"
     ]
    },
    {
     "data": {
      "text/html": [
       "<div>\n",
       "<style scoped>\n",
       "    .dataframe tbody tr th:only-of-type {\n",
       "        vertical-align: middle;\n",
       "    }\n",
       "\n",
       "    .dataframe tbody tr th {\n",
       "        vertical-align: top;\n",
       "    }\n",
       "\n",
       "    .dataframe thead th {\n",
       "        text-align: right;\n",
       "    }\n",
       "</style>\n",
       "<table border=\"1\" class=\"dataframe\">\n",
       "  <thead>\n",
       "    <tr style=\"text-align: right;\">\n",
       "      <th></th>\n",
       "      <th>BATHRM</th>\n",
       "      <th>HF_BATHRM</th>\n",
       "      <th>HEAT</th>\n",
       "      <th>AC</th>\n",
       "      <th>NUM_UNITS</th>\n",
       "      <th>ROOMS</th>\n",
       "      <th>BEDRM</th>\n",
       "      <th>EYB</th>\n",
       "      <th>STORIES</th>\n",
       "      <th>PRICE</th>\n",
       "      <th>...</th>\n",
       "      <th>KITCHENS</th>\n",
       "      <th>FIREPLACES</th>\n",
       "      <th>USECODE</th>\n",
       "      <th>LANDAREA</th>\n",
       "      <th>LIVING_GBA</th>\n",
       "      <th>ZIPCODE</th>\n",
       "      <th>ASSESSMENT_NBHD</th>\n",
       "      <th>ASSESSMENT_SUBNBHD</th>\n",
       "      <th>CENSUS_TRACT</th>\n",
       "      <th>QUADRANT</th>\n",
       "    </tr>\n",
       "  </thead>\n",
       "  <tbody>\n",
       "    <tr>\n",
       "      <th>0</th>\n",
       "      <td>4</td>\n",
       "      <td>0</td>\n",
       "      <td>Warm Cool</td>\n",
       "      <td>Y</td>\n",
       "      <td>2.0</td>\n",
       "      <td>8</td>\n",
       "      <td>4</td>\n",
       "      <td>1972</td>\n",
       "      <td>3.0</td>\n",
       "      <td>1095000.0</td>\n",
       "      <td>...</td>\n",
       "      <td>2.0</td>\n",
       "      <td>5</td>\n",
       "      <td>24</td>\n",
       "      <td>1680</td>\n",
       "      <td>NaN</td>\n",
       "      <td>20009.0</td>\n",
       "      <td>Old City 2</td>\n",
       "      <td>040 D Old City 2</td>\n",
       "      <td>4201.0</td>\n",
       "      <td>NW</td>\n",
       "    </tr>\n",
       "    <tr>\n",
       "      <th>2</th>\n",
       "      <td>3</td>\n",
       "      <td>1</td>\n",
       "      <td>Hot Water Rad</td>\n",
       "      <td>Y</td>\n",
       "      <td>2.0</td>\n",
       "      <td>9</td>\n",
       "      <td>5</td>\n",
       "      <td>1984</td>\n",
       "      <td>3.0</td>\n",
       "      <td>2100000.0</td>\n",
       "      <td>...</td>\n",
       "      <td>2.0</td>\n",
       "      <td>4</td>\n",
       "      <td>24</td>\n",
       "      <td>1680</td>\n",
       "      <td>NaN</td>\n",
       "      <td>20009.0</td>\n",
       "      <td>Old City 2</td>\n",
       "      <td>040 D Old City 2</td>\n",
       "      <td>4201.0</td>\n",
       "      <td>NW</td>\n",
       "    </tr>\n",
       "    <tr>\n",
       "      <th>3</th>\n",
       "      <td>3</td>\n",
       "      <td>1</td>\n",
       "      <td>Hot Water Rad</td>\n",
       "      <td>Y</td>\n",
       "      <td>2.0</td>\n",
       "      <td>8</td>\n",
       "      <td>5</td>\n",
       "      <td>1984</td>\n",
       "      <td>3.0</td>\n",
       "      <td>1602000.0</td>\n",
       "      <td>...</td>\n",
       "      <td>2.0</td>\n",
       "      <td>3</td>\n",
       "      <td>24</td>\n",
       "      <td>1680</td>\n",
       "      <td>NaN</td>\n",
       "      <td>20009.0</td>\n",
       "      <td>Old City 2</td>\n",
       "      <td>040 D Old City 2</td>\n",
       "      <td>4201.0</td>\n",
       "      <td>NW</td>\n",
       "    </tr>\n",
       "  </tbody>\n",
       "</table>\n",
       "<p>3 rows × 30 columns</p>\n",
       "</div>"
      ],
      "text/plain": [
       "   BATHRM  HF_BATHRM           HEAT AC  NUM_UNITS  ROOMS  BEDRM   EYB  \\\n",
       "0       4          0      Warm Cool  Y        2.0      8      4  1972   \n",
       "2       3          1  Hot Water Rad  Y        2.0      9      5  1984   \n",
       "3       3          1  Hot Water Rad  Y        2.0      8      5  1984   \n",
       "\n",
       "   STORIES      PRICE   ...     KITCHENS  FIREPLACES  USECODE LANDAREA  \\\n",
       "0      3.0  1095000.0   ...          2.0           5       24     1680   \n",
       "2      3.0  2100000.0   ...          2.0           4       24     1680   \n",
       "3      3.0  1602000.0   ...          2.0           3       24     1680   \n",
       "\n",
       "  LIVING_GBA  ZIPCODE ASSESSMENT_NBHD ASSESSMENT_SUBNBHD CENSUS_TRACT QUADRANT  \n",
       "0        NaN  20009.0      Old City 2   040 D Old City 2       4201.0       NW  \n",
       "2        NaN  20009.0      Old City 2   040 D Old City 2       4201.0       NW  \n",
       "3        NaN  20009.0      Old City 2   040 D Old City 2       4201.0       NW  \n",
       "\n",
       "[3 rows x 30 columns]"
      ]
     },
     "execution_count": 11,
     "metadata": {},
     "output_type": "execute_result"
    }
   ],
   "source": [
    "# Deminsion of the dataframe\n",
    "print('Shape of dataframe: ',train.shape)\n",
    "\n",
    "# Show the first three rows of dataframe\n",
    "train.head(3)"
   ]
  },
  {
   "cell_type": "code",
   "execution_count": 12,
   "metadata": {},
   "outputs": [
    {
     "data": {
      "text/html": [
       "<div>\n",
       "<style scoped>\n",
       "    .dataframe tbody tr th:only-of-type {\n",
       "        vertical-align: middle;\n",
       "    }\n",
       "\n",
       "    .dataframe tbody tr th {\n",
       "        vertical-align: top;\n",
       "    }\n",
       "\n",
       "    .dataframe thead th {\n",
       "        text-align: right;\n",
       "    }\n",
       "</style>\n",
       "<table border=\"1\" class=\"dataframe\">\n",
       "  <thead>\n",
       "    <tr style=\"text-align: right;\">\n",
       "      <th></th>\n",
       "      <th>BATHRM</th>\n",
       "      <th>HF_BATHRM</th>\n",
       "      <th>NUM_UNITS</th>\n",
       "      <th>ROOMS</th>\n",
       "      <th>BEDRM</th>\n",
       "      <th>EYB</th>\n",
       "      <th>STORIES</th>\n",
       "      <th>PRICE</th>\n",
       "      <th>SALE_NUM</th>\n",
       "      <th>GBA</th>\n",
       "      <th>BLDG_NUM</th>\n",
       "      <th>KITCHENS</th>\n",
       "      <th>FIREPLACES</th>\n",
       "      <th>USECODE</th>\n",
       "      <th>LANDAREA</th>\n",
       "      <th>LIVING_GBA</th>\n",
       "      <th>ZIPCODE</th>\n",
       "      <th>CENSUS_TRACT</th>\n",
       "    </tr>\n",
       "  </thead>\n",
       "  <tbody>\n",
       "    <tr>\n",
       "      <th>count</th>\n",
       "      <td>45976.000000</td>\n",
       "      <td>45976.000000</td>\n",
       "      <td>45976.000000</td>\n",
       "      <td>45976.000000</td>\n",
       "      <td>45976.000000</td>\n",
       "      <td>45976.000000</td>\n",
       "      <td>45950.000000</td>\n",
       "      <td>4.588600e+04</td>\n",
       "      <td>45976.000000</td>\n",
       "      <td>45976.000000</td>\n",
       "      <td>45976.000000</td>\n",
       "      <td>45975.000000</td>\n",
       "      <td>45976.000000</td>\n",
       "      <td>45976.000000</td>\n",
       "      <td>45976.000000</td>\n",
       "      <td>0.0</td>\n",
       "      <td>45976.000000</td>\n",
       "      <td>45976.000000</td>\n",
       "    </tr>\n",
       "    <tr>\n",
       "      <th>mean</th>\n",
       "      <td>2.246868</td>\n",
       "      <td>0.683857</td>\n",
       "      <td>1.194384</td>\n",
       "      <td>7.429507</td>\n",
       "      <td>3.428637</td>\n",
       "      <td>1971.069210</td>\n",
       "      <td>2.137261</td>\n",
       "      <td>6.281739e+05</td>\n",
       "      <td>1.921046</td>\n",
       "      <td>1730.294066</td>\n",
       "      <td>1.000239</td>\n",
       "      <td>1.228146</td>\n",
       "      <td>0.682595</td>\n",
       "      <td>13.149078</td>\n",
       "      <td>3160.686684</td>\n",
       "      <td>NaN</td>\n",
       "      <td>20011.483470</td>\n",
       "      <td>5381.612950</td>\n",
       "    </tr>\n",
       "    <tr>\n",
       "      <th>std</th>\n",
       "      <td>1.048265</td>\n",
       "      <td>0.599072</td>\n",
       "      <td>0.572219</td>\n",
       "      <td>2.217227</td>\n",
       "      <td>1.093436</td>\n",
       "      <td>16.963947</td>\n",
       "      <td>4.238243</td>\n",
       "      <td>5.712463e+05</td>\n",
       "      <td>1.497995</td>\n",
       "      <td>816.826791</td>\n",
       "      <td>0.015466</td>\n",
       "      <td>0.590708</td>\n",
       "      <td>0.925585</td>\n",
       "      <td>4.062043</td>\n",
       "      <td>2982.250577</td>\n",
       "      <td>NaN</td>\n",
       "      <td>7.599029</td>\n",
       "      <td>3499.310348</td>\n",
       "    </tr>\n",
       "    <tr>\n",
       "      <th>min</th>\n",
       "      <td>0.000000</td>\n",
       "      <td>0.000000</td>\n",
       "      <td>0.000000</td>\n",
       "      <td>0.000000</td>\n",
       "      <td>0.000000</td>\n",
       "      <td>1928.000000</td>\n",
       "      <td>0.000000</td>\n",
       "      <td>2.500000e+02</td>\n",
       "      <td>1.000000</td>\n",
       "      <td>252.000000</td>\n",
       "      <td>1.000000</td>\n",
       "      <td>0.000000</td>\n",
       "      <td>0.000000</td>\n",
       "      <td>11.000000</td>\n",
       "      <td>0.000000</td>\n",
       "      <td>NaN</td>\n",
       "      <td>20001.000000</td>\n",
       "      <td>100.000000</td>\n",
       "    </tr>\n",
       "    <tr>\n",
       "      <th>25%</th>\n",
       "      <td>1.000000</td>\n",
       "      <td>0.000000</td>\n",
       "      <td>1.000000</td>\n",
       "      <td>6.000000</td>\n",
       "      <td>3.000000</td>\n",
       "      <td>1960.000000</td>\n",
       "      <td>2.000000</td>\n",
       "      <td>2.900000e+05</td>\n",
       "      <td>1.000000</td>\n",
       "      <td>1223.000000</td>\n",
       "      <td>1.000000</td>\n",
       "      <td>1.000000</td>\n",
       "      <td>0.000000</td>\n",
       "      <td>11.000000</td>\n",
       "      <td>1502.000000</td>\n",
       "      <td>NaN</td>\n",
       "      <td>20003.000000</td>\n",
       "      <td>1901.000000</td>\n",
       "    </tr>\n",
       "    <tr>\n",
       "      <th>50%</th>\n",
       "      <td>2.000000</td>\n",
       "      <td>1.000000</td>\n",
       "      <td>1.000000</td>\n",
       "      <td>7.000000</td>\n",
       "      <td>3.000000</td>\n",
       "      <td>1967.000000</td>\n",
       "      <td>2.000000</td>\n",
       "      <td>5.068175e+05</td>\n",
       "      <td>1.000000</td>\n",
       "      <td>1516.000000</td>\n",
       "      <td>1.000000</td>\n",
       "      <td>1.000000</td>\n",
       "      <td>0.000000</td>\n",
       "      <td>12.000000</td>\n",
       "      <td>2182.500000</td>\n",
       "      <td>NaN</td>\n",
       "      <td>20011.000000</td>\n",
       "      <td>6600.000000</td>\n",
       "    </tr>\n",
       "    <tr>\n",
       "      <th>75%</th>\n",
       "      <td>3.000000</td>\n",
       "      <td>1.000000</td>\n",
       "      <td>1.000000</td>\n",
       "      <td>8.000000</td>\n",
       "      <td>4.000000</td>\n",
       "      <td>1978.000000</td>\n",
       "      <td>2.000000</td>\n",
       "      <td>8.000000e+05</td>\n",
       "      <td>3.000000</td>\n",
       "      <td>1982.000000</td>\n",
       "      <td>1.000000</td>\n",
       "      <td>1.000000</td>\n",
       "      <td>1.000000</td>\n",
       "      <td>13.000000</td>\n",
       "      <td>4000.000000</td>\n",
       "      <td>NaN</td>\n",
       "      <td>20017.000000</td>\n",
       "      <td>8701.000000</td>\n",
       "    </tr>\n",
       "    <tr>\n",
       "      <th>max</th>\n",
       "      <td>12.000000</td>\n",
       "      <td>7.000000</td>\n",
       "      <td>6.000000</td>\n",
       "      <td>28.000000</td>\n",
       "      <td>20.000000</td>\n",
       "      <td>2018.000000</td>\n",
       "      <td>826.000000</td>\n",
       "      <td>2.200000e+07</td>\n",
       "      <td>15.000000</td>\n",
       "      <td>15902.000000</td>\n",
       "      <td>2.000000</td>\n",
       "      <td>6.000000</td>\n",
       "      <td>13.000000</td>\n",
       "      <td>39.000000</td>\n",
       "      <td>155905.000000</td>\n",
       "      <td>NaN</td>\n",
       "      <td>20052.000000</td>\n",
       "      <td>11100.000000</td>\n",
       "    </tr>\n",
       "  </tbody>\n",
       "</table>\n",
       "</div>"
      ],
      "text/plain": [
       "             BATHRM     HF_BATHRM     NUM_UNITS         ROOMS         BEDRM  \\\n",
       "count  45976.000000  45976.000000  45976.000000  45976.000000  45976.000000   \n",
       "mean       2.246868      0.683857      1.194384      7.429507      3.428637   \n",
       "std        1.048265      0.599072      0.572219      2.217227      1.093436   \n",
       "min        0.000000      0.000000      0.000000      0.000000      0.000000   \n",
       "25%        1.000000      0.000000      1.000000      6.000000      3.000000   \n",
       "50%        2.000000      1.000000      1.000000      7.000000      3.000000   \n",
       "75%        3.000000      1.000000      1.000000      8.000000      4.000000   \n",
       "max       12.000000      7.000000      6.000000     28.000000     20.000000   \n",
       "\n",
       "                EYB       STORIES         PRICE      SALE_NUM           GBA  \\\n",
       "count  45976.000000  45950.000000  4.588600e+04  45976.000000  45976.000000   \n",
       "mean    1971.069210      2.137261  6.281739e+05      1.921046   1730.294066   \n",
       "std       16.963947      4.238243  5.712463e+05      1.497995    816.826791   \n",
       "min     1928.000000      0.000000  2.500000e+02      1.000000    252.000000   \n",
       "25%     1960.000000      2.000000  2.900000e+05      1.000000   1223.000000   \n",
       "50%     1967.000000      2.000000  5.068175e+05      1.000000   1516.000000   \n",
       "75%     1978.000000      2.000000  8.000000e+05      3.000000   1982.000000   \n",
       "max     2018.000000    826.000000  2.200000e+07     15.000000  15902.000000   \n",
       "\n",
       "           BLDG_NUM      KITCHENS    FIREPLACES       USECODE       LANDAREA  \\\n",
       "count  45976.000000  45975.000000  45976.000000  45976.000000   45976.000000   \n",
       "mean       1.000239      1.228146      0.682595     13.149078    3160.686684   \n",
       "std        0.015466      0.590708      0.925585      4.062043    2982.250577   \n",
       "min        1.000000      0.000000      0.000000     11.000000       0.000000   \n",
       "25%        1.000000      1.000000      0.000000     11.000000    1502.000000   \n",
       "50%        1.000000      1.000000      0.000000     12.000000    2182.500000   \n",
       "75%        1.000000      1.000000      1.000000     13.000000    4000.000000   \n",
       "max        2.000000      6.000000     13.000000     39.000000  155905.000000   \n",
       "\n",
       "       LIVING_GBA       ZIPCODE  CENSUS_TRACT  \n",
       "count         0.0  45976.000000  45976.000000  \n",
       "mean          NaN  20011.483470   5381.612950  \n",
       "std           NaN      7.599029   3499.310348  \n",
       "min           NaN  20001.000000    100.000000  \n",
       "25%           NaN  20003.000000   1901.000000  \n",
       "50%           NaN  20011.000000   6600.000000  \n",
       "75%           NaN  20017.000000   8701.000000  \n",
       "max           NaN  20052.000000  11100.000000  "
      ]
     },
     "execution_count": 12,
     "metadata": {},
     "output_type": "execute_result"
    }
   ],
   "source": [
    "# Some statistical information about the data\n",
    "train.describe()"
   ]
  },
  {
   "cell_type": "code",
   "execution_count": 13,
   "metadata": {},
   "outputs": [
    {
     "data": {
      "text/plain": [
       "count    4.588600e+04\n",
       "mean     6.281739e+05\n",
       "std      5.712463e+05\n",
       "min      2.500000e+02\n",
       "25%      2.900000e+05\n",
       "50%      5.068175e+05\n",
       "75%      8.000000e+05\n",
       "max      2.200000e+07\n",
       "Name: PRICE, dtype: float64"
      ]
     },
     "execution_count": 13,
     "metadata": {},
     "output_type": "execute_result"
    }
   ],
   "source": [
    "# Some statistical information about the PRICE in the data since it will be our y value. \n",
    "train['PRICE'].describe()"
   ]
  },
  {
   "cell_type": "code",
   "execution_count": 14,
   "metadata": {},
   "outputs": [
    {
     "name": "stdout",
     "output_type": "stream",
     "text": [
      "<class 'pandas.core.frame.DataFrame'>\n",
      "Int64Index: 45976 entries, 0 to 106687\n",
      "Data columns (total 30 columns):\n",
      "BATHRM                45976 non-null int64\n",
      "HF_BATHRM             45976 non-null int64\n",
      "HEAT                  45976 non-null object\n",
      "AC                    45976 non-null object\n",
      "NUM_UNITS             45976 non-null float64\n",
      "ROOMS                 45976 non-null int64\n",
      "BEDRM                 45976 non-null int64\n",
      "EYB                   45976 non-null int64\n",
      "STORIES               45950 non-null float64\n",
      "PRICE                 45886 non-null float64\n",
      "SALE_NUM              45976 non-null int64\n",
      "GBA                   45976 non-null float64\n",
      "BLDG_NUM              45976 non-null int64\n",
      "STYLE                 45976 non-null object\n",
      "STRUCT                45976 non-null object\n",
      "GRADE                 45976 non-null object\n",
      "CNDTN                 45976 non-null object\n",
      "EXTWALL               45976 non-null object\n",
      "ROOF                  45976 non-null object\n",
      "INTWALL               45976 non-null object\n",
      "KITCHENS              45975 non-null float64\n",
      "FIREPLACES            45976 non-null int64\n",
      "USECODE               45976 non-null int64\n",
      "LANDAREA              45976 non-null int64\n",
      "LIVING_GBA            0 non-null float64\n",
      "ZIPCODE               45976 non-null float64\n",
      "ASSESSMENT_NBHD       45976 non-null object\n",
      "ASSESSMENT_SUBNBHD    39258 non-null object\n",
      "CENSUS_TRACT          45976 non-null float64\n",
      "QUADRANT              45902 non-null object\n",
      "dtypes: float64(8), int64(10), object(12)\n",
      "memory usage: 10.9+ MB\n"
     ]
    }
   ],
   "source": [
    "# Checking if there are missing values in the dataset\n",
    "train.info()"
   ]
  },
  {
   "cell_type": "code",
   "execution_count": 15,
   "metadata": {},
   "outputs": [
    {
     "name": "stdout",
     "output_type": "stream",
     "text": [
      "Shape of dataframe:  (45976, 29)\n"
     ]
    }
   ],
   "source": [
    "# Since the Living Gross Building Area value result in zero non-null values after performing the \n",
    "#data alterations, we will drop the column \n",
    "\n",
    "train.drop('LIVING_GBA',axis=1,inplace=True)\n",
    "\n",
    "# Deminsion of the dataframe\n",
    "print('Shape of dataframe: ',train.shape)"
   ]
  },
  {
   "cell_type": "code",
   "execution_count": 16,
   "metadata": {},
   "outputs": [
    {
     "name": "stdout",
     "output_type": "stream",
     "text": [
      "<class 'pandas.core.frame.DataFrame'>\n",
      "Int64Index: 45976 entries, 0 to 106687\n",
      "Data columns (total 29 columns):\n",
      "BATHRM                45976 non-null int64\n",
      "HF_BATHRM             45976 non-null int64\n",
      "HEAT                  45976 non-null object\n",
      "AC                    45976 non-null object\n",
      "NUM_UNITS             45976 non-null float64\n",
      "ROOMS                 45976 non-null int64\n",
      "BEDRM                 45976 non-null int64\n",
      "EYB                   45976 non-null int64\n",
      "STORIES               45950 non-null float64\n",
      "PRICE                 45886 non-null float64\n",
      "SALE_NUM              45976 non-null int64\n",
      "GBA                   45976 non-null float64\n",
      "BLDG_NUM              45976 non-null int64\n",
      "STYLE                 45976 non-null object\n",
      "STRUCT                45976 non-null object\n",
      "GRADE                 45976 non-null object\n",
      "CNDTN                 45976 non-null object\n",
      "EXTWALL               45976 non-null object\n",
      "ROOF                  45976 non-null object\n",
      "INTWALL               45976 non-null object\n",
      "KITCHENS              45975 non-null float64\n",
      "FIREPLACES            45976 non-null int64\n",
      "USECODE               45976 non-null int64\n",
      "LANDAREA              45976 non-null int64\n",
      "ZIPCODE               45976 non-null float64\n",
      "ASSESSMENT_NBHD       45976 non-null object\n",
      "ASSESSMENT_SUBNBHD    39258 non-null object\n",
      "CENSUS_TRACT          45976 non-null float64\n",
      "QUADRANT              45902 non-null object\n",
      "dtypes: float64(7), int64(10), object(12)\n",
      "memory usage: 10.5+ MB\n"
     ]
    }
   ],
   "source": [
    "# Checking if there are missing values in the dataset\n",
    "train.info()"
   ]
  },
  {
   "cell_type": "code",
   "execution_count": 17,
   "metadata": {},
   "outputs": [
    {
     "name": "stdout",
     "output_type": "stream",
     "text": [
      "<class 'pandas.core.frame.DataFrame'>\n",
      "Int64Index: 39115 entries, 0 to 106687\n",
      "Data columns (total 29 columns):\n",
      "BATHRM                39115 non-null int64\n",
      "HF_BATHRM             39115 non-null int64\n",
      "HEAT                  39115 non-null object\n",
      "AC                    39115 non-null object\n",
      "NUM_UNITS             39115 non-null float64\n",
      "ROOMS                 39115 non-null int64\n",
      "BEDRM                 39115 non-null int64\n",
      "EYB                   39115 non-null int64\n",
      "STORIES               39115 non-null float64\n",
      "PRICE                 39115 non-null float64\n",
      "SALE_NUM              39115 non-null int64\n",
      "GBA                   39115 non-null float64\n",
      "BLDG_NUM              39115 non-null int64\n",
      "STYLE                 39115 non-null object\n",
      "STRUCT                39115 non-null object\n",
      "GRADE                 39115 non-null object\n",
      "CNDTN                 39115 non-null object\n",
      "EXTWALL               39115 non-null object\n",
      "ROOF                  39115 non-null object\n",
      "INTWALL               39115 non-null object\n",
      "KITCHENS              39115 non-null float64\n",
      "FIREPLACES            39115 non-null int64\n",
      "USECODE               39115 non-null int64\n",
      "LANDAREA              39115 non-null int64\n",
      "ZIPCODE               39115 non-null float64\n",
      "ASSESSMENT_NBHD       39115 non-null object\n",
      "ASSESSMENT_SUBNBHD    39115 non-null object\n",
      "CENSUS_TRACT          39115 non-null float64\n",
      "QUADRANT              39115 non-null object\n",
      "dtypes: float64(7), int64(10), object(12)\n",
      "memory usage: 9.0+ MB\n"
     ]
    }
   ],
   "source": [
    "# Drop all rows where ASSESSMENT_SUBNBHD equals a non-null value\n",
    "train.dropna(inplace=True)\n",
    "\n",
    "# Checking if there are missing values in the dataset\n",
    "train.info()"
   ]
  },
  {
   "cell_type": "code",
   "execution_count": 18,
   "metadata": {},
   "outputs": [],
   "source": [
    "# Reset Index of the data\n",
    "train = train.reset_index(drop=True)"
   ]
  },
  {
   "cell_type": "code",
   "execution_count": 19,
   "metadata": {},
   "outputs": [
    {
     "data": {
      "text/html": [
       "<div>\n",
       "<style scoped>\n",
       "    .dataframe tbody tr th:only-of-type {\n",
       "        vertical-align: middle;\n",
       "    }\n",
       "\n",
       "    .dataframe tbody tr th {\n",
       "        vertical-align: top;\n",
       "    }\n",
       "\n",
       "    .dataframe thead th {\n",
       "        text-align: right;\n",
       "    }\n",
       "</style>\n",
       "<table border=\"1\" class=\"dataframe\">\n",
       "  <thead>\n",
       "    <tr style=\"text-align: right;\">\n",
       "      <th></th>\n",
       "      <th>BATHRM</th>\n",
       "      <th>HF_BATHRM</th>\n",
       "      <th>HEAT</th>\n",
       "      <th>AC</th>\n",
       "      <th>NUM_UNITS</th>\n",
       "      <th>ROOMS</th>\n",
       "      <th>BEDRM</th>\n",
       "      <th>EYB</th>\n",
       "      <th>STORIES</th>\n",
       "      <th>PRICE</th>\n",
       "      <th>...</th>\n",
       "      <th>INTWALL</th>\n",
       "      <th>KITCHENS</th>\n",
       "      <th>FIREPLACES</th>\n",
       "      <th>USECODE</th>\n",
       "      <th>LANDAREA</th>\n",
       "      <th>ZIPCODE</th>\n",
       "      <th>ASSESSMENT_NBHD</th>\n",
       "      <th>ASSESSMENT_SUBNBHD</th>\n",
       "      <th>CENSUS_TRACT</th>\n",
       "      <th>QUADRANT</th>\n",
       "    </tr>\n",
       "  </thead>\n",
       "  <tbody>\n",
       "    <tr>\n",
       "      <th>0</th>\n",
       "      <td>4</td>\n",
       "      <td>0</td>\n",
       "      <td>Warm Cool</td>\n",
       "      <td>Y</td>\n",
       "      <td>2.0</td>\n",
       "      <td>8</td>\n",
       "      <td>4</td>\n",
       "      <td>1972</td>\n",
       "      <td>3.0</td>\n",
       "      <td>1095000.0</td>\n",
       "      <td>...</td>\n",
       "      <td>Hardwood</td>\n",
       "      <td>2.0</td>\n",
       "      <td>5</td>\n",
       "      <td>24</td>\n",
       "      <td>1680</td>\n",
       "      <td>20009.0</td>\n",
       "      <td>Old City 2</td>\n",
       "      <td>040 D Old City 2</td>\n",
       "      <td>4201.0</td>\n",
       "      <td>NW</td>\n",
       "    </tr>\n",
       "    <tr>\n",
       "      <th>1</th>\n",
       "      <td>3</td>\n",
       "      <td>1</td>\n",
       "      <td>Hot Water Rad</td>\n",
       "      <td>Y</td>\n",
       "      <td>2.0</td>\n",
       "      <td>9</td>\n",
       "      <td>5</td>\n",
       "      <td>1984</td>\n",
       "      <td>3.0</td>\n",
       "      <td>2100000.0</td>\n",
       "      <td>...</td>\n",
       "      <td>Hardwood</td>\n",
       "      <td>2.0</td>\n",
       "      <td>4</td>\n",
       "      <td>24</td>\n",
       "      <td>1680</td>\n",
       "      <td>20009.0</td>\n",
       "      <td>Old City 2</td>\n",
       "      <td>040 D Old City 2</td>\n",
       "      <td>4201.0</td>\n",
       "      <td>NW</td>\n",
       "    </tr>\n",
       "    <tr>\n",
       "      <th>2</th>\n",
       "      <td>3</td>\n",
       "      <td>1</td>\n",
       "      <td>Hot Water Rad</td>\n",
       "      <td>Y</td>\n",
       "      <td>2.0</td>\n",
       "      <td>8</td>\n",
       "      <td>5</td>\n",
       "      <td>1984</td>\n",
       "      <td>3.0</td>\n",
       "      <td>1602000.0</td>\n",
       "      <td>...</td>\n",
       "      <td>Hardwood</td>\n",
       "      <td>2.0</td>\n",
       "      <td>3</td>\n",
       "      <td>24</td>\n",
       "      <td>1680</td>\n",
       "      <td>20009.0</td>\n",
       "      <td>Old City 2</td>\n",
       "      <td>040 D Old City 2</td>\n",
       "      <td>4201.0</td>\n",
       "      <td>NW</td>\n",
       "    </tr>\n",
       "  </tbody>\n",
       "</table>\n",
       "<p>3 rows × 29 columns</p>\n",
       "</div>"
      ],
      "text/plain": [
       "   BATHRM  HF_BATHRM           HEAT AC  NUM_UNITS  ROOMS  BEDRM   EYB  \\\n",
       "0       4          0      Warm Cool  Y        2.0      8      4  1972   \n",
       "1       3          1  Hot Water Rad  Y        2.0      9      5  1984   \n",
       "2       3          1  Hot Water Rad  Y        2.0      8      5  1984   \n",
       "\n",
       "   STORIES      PRICE   ...      INTWALL  KITCHENS  FIREPLACES USECODE  \\\n",
       "0      3.0  1095000.0   ...     Hardwood       2.0           5      24   \n",
       "1      3.0  2100000.0   ...     Hardwood       2.0           4      24   \n",
       "2      3.0  1602000.0   ...     Hardwood       2.0           3      24   \n",
       "\n",
       "  LANDAREA  ZIPCODE ASSESSMENT_NBHD ASSESSMENT_SUBNBHD CENSUS_TRACT QUADRANT  \n",
       "0     1680  20009.0      Old City 2   040 D Old City 2       4201.0       NW  \n",
       "1     1680  20009.0      Old City 2   040 D Old City 2       4201.0       NW  \n",
       "2     1680  20009.0      Old City 2   040 D Old City 2       4201.0       NW  \n",
       "\n",
       "[3 rows x 29 columns]"
      ]
     },
     "execution_count": 19,
     "metadata": {},
     "output_type": "execute_result"
    }
   ],
   "source": [
    "train.head(3)"
   ]
  },
  {
   "cell_type": "code",
   "execution_count": 20,
   "metadata": {},
   "outputs": [
    {
     "name": "stdout",
     "output_type": "stream",
     "text": [
      "\n",
      " mu = 608031.27 and sigma = 541898.00\n",
      "\n"
     ]
    },
    {
     "name": "stderr",
     "output_type": "stream",
     "text": [
      "/Users/Jose/anaconda3/lib/python3.6/site-packages/matplotlib/axes/_axes.py:6462: UserWarning: The 'normed' kwarg is deprecated, and has been replaced by the 'density' kwarg.\n",
      "  warnings.warn(\"The 'normed' kwarg is deprecated, and has been \"\n"
     ]
    },
    {
     "data": {
      "image/png": "[encoded data removed]",
      "text/plain": [
       "<Figure size 432x288 with 1 Axes>"
      ]
     },
     "metadata": {},
     "output_type": "display_data"
    },
    {
     "data": {
      "image/png": "[encoded data removed]",
      "text/plain": [
       "<Figure size 432x288 with 1 Axes>"
      ]
     },
     "metadata": {},
     "output_type": "display_data"
    },
    {
     "name": "stdout",
     "output_type": "stream",
     "text": [
      "Skewness: 5.309950\n",
      "Kurtosis: 92.079886\n"
     ]
    }
   ],
   "source": [
    "# Plot Histogram\n",
    "sns.distplot(train['PRICE'].dropna() , fit=norm);\n",
    "\n",
    "# Get the fitted parameters used by the function\n",
    "(mu, sigma) = norm.fit(train['PRICE'].dropna())\n",
    "print( '\\n mu = {:.2f} and sigma = {:.2f}\\n'.format(mu, sigma))\n",
    "plt.legend(['Normal dist. ($\\mu=$ {:.2f} and $\\sigma=$ {:.2f} )'.format(mu, sigma)],\n",
    "            loc='best')\n",
    "plt.ylabel('Frequency')\n",
    "plt.title('SalePrice distribution')\n",
    "\n",
    "fig = plt.figure()\n",
    "res = stats.probplot(train['PRICE'].dropna(), plot=plt)\n",
    "plt.show()\n",
    "\n",
    "print(\"Skewness: %f\" % train['PRICE'].dropna().skew())\n",
    "print(\"Kurtosis: %f\" % train['PRICE'].dropna().kurt())"
   ]
  },
  {
   "cell_type": "code",
   "execution_count": 21,
   "metadata": {},
   "outputs": [
    {
     "data": {
      "image/png": "[encoded data removed]",
      "text/plain": [
       "<Figure size 864x648 with 2 Axes>"
      ]
     },
     "metadata": {},
     "output_type": "display_data"
    }
   ],
   "source": [
    "# Correlation Matrix Heatmap\n",
    "corrmat = train.corr()\n",
    "f, ax = plt.subplots(figsize=(12, 9))\n",
    "sns.heatmap(corrmat, vmax=.8, square=True);"
   ]
  },
  {
   "cell_type": "code",
   "execution_count": 22,
   "metadata": {},
   "outputs": [
    {
     "data": {
      "image/png": "[encoded data removed]",
      "text/plain": [
       "<Figure size 432x288 with 2 Axes>"
      ]
     },
     "metadata": {},
     "output_type": "display_data"
    }
   ],
   "source": [
    "# Top 10 Heatmap\n",
    "# The top 10 features most related to PRICE.\n",
    "k = 10 #number of variables for heatmap\n",
    "cols = corrmat.nlargest(k, 'PRICE')['PRICE'].dropna().index\n",
    "cm = np.corrcoef(train[cols].values.T)\n",
    "sns.set(font_scale=1.25)\n",
    "hm = sns.heatmap(cm, cbar=True, annot=True, square=True, fmt='.2f', annot_kws={'size': 10}, yticklabels=cols.values, xticklabels=cols.values)\n",
    "plt.show()"
   ]
  },
  {
   "cell_type": "code",
   "execution_count": 23,
   "metadata": {},
   "outputs": [
    {
     "data": {
      "text/html": [
       "<div>\n",
       "<style scoped>\n",
       "    .dataframe tbody tr th:only-of-type {\n",
       "        vertical-align: middle;\n",
       "    }\n",
       "\n",
       "    .dataframe tbody tr th {\n",
       "        vertical-align: top;\n",
       "    }\n",
       "\n",
       "    .dataframe thead th {\n",
       "        text-align: right;\n",
       "    }\n",
       "</style>\n",
       "<table border=\"1\" class=\"dataframe\">\n",
       "  <thead>\n",
       "    <tr style=\"text-align: right;\">\n",
       "      <th></th>\n",
       "      <th>Most Correlated Features</th>\n",
       "    </tr>\n",
       "  </thead>\n",
       "  <tbody>\n",
       "    <tr>\n",
       "      <th>0</th>\n",
       "      <td>PRICE</td>\n",
       "    </tr>\n",
       "    <tr>\n",
       "      <th>1</th>\n",
       "      <td>GBA</td>\n",
       "    </tr>\n",
       "    <tr>\n",
       "      <th>2</th>\n",
       "      <td>FIREPLACES</td>\n",
       "    </tr>\n",
       "    <tr>\n",
       "      <th>3</th>\n",
       "      <td>BATHRM</td>\n",
       "    </tr>\n",
       "    <tr>\n",
       "      <th>4</th>\n",
       "      <td>BEDRM</td>\n",
       "    </tr>\n",
       "    <tr>\n",
       "      <th>5</th>\n",
       "      <td>LANDAREA</td>\n",
       "    </tr>\n",
       "    <tr>\n",
       "      <th>6</th>\n",
       "      <td>ROOMS</td>\n",
       "    </tr>\n",
       "    <tr>\n",
       "      <th>7</th>\n",
       "      <td>EYB</td>\n",
       "    </tr>\n",
       "    <tr>\n",
       "      <th>8</th>\n",
       "      <td>HF_BATHRM</td>\n",
       "    </tr>\n",
       "    <tr>\n",
       "      <th>9</th>\n",
       "      <td>SALE_NUM</td>\n",
       "    </tr>\n",
       "  </tbody>\n",
       "</table>\n",
       "</div>"
      ],
      "text/plain": [
       "  Most Correlated Features\n",
       "0                    PRICE\n",
       "1                      GBA\n",
       "2               FIREPLACES\n",
       "3                   BATHRM\n",
       "4                    BEDRM\n",
       "5                 LANDAREA\n",
       "6                    ROOMS\n",
       "7                      EYB\n",
       "8                HF_BATHRM\n",
       "9                 SALE_NUM"
      ]
     },
     "execution_count": 23,
     "metadata": {},
     "output_type": "execute_result"
    }
   ],
   "source": [
    "most_corr = pd.DataFrame(cols)\n",
    "most_corr.columns = ['Most Correlated Features']\n",
    "most_corr"
   ]
  },
  {
   "cell_type": "code",
   "execution_count": 24,
   "metadata": {},
   "outputs": [],
   "source": [
    "# Feature Transformation\n",
    "heat = pd.get_dummies(train['HEAT'],drop_first=True)\n",
    "ac = pd.get_dummies(train['AC'],drop_first=True)\n",
    "style = pd.get_dummies(train['STYLE'],drop_first=True)\n",
    "struct = pd.get_dummies(train['STRUCT'],drop_first=True)\n",
    "grade = pd.get_dummies(train['GRADE'],drop_first=True)\n",
    "cndtn = pd.get_dummies(train['CNDTN'],drop_first=True)\n",
    "roof = pd.get_dummies(train['ROOF'],drop_first=True)\n",
    "intwall = pd.get_dummies(train['INTWALL'],drop_first=True)\n",
    "extwall = pd.get_dummies(train['EXTWALL'],drop_first=True)\n",
    "assessmentNBHD = pd.get_dummies(train['ASSESSMENT_NBHD'],drop_first=True)\n",
    "assessmentSUBNBHD = pd.get_dummies(train['ASSESSMENT_SUBNBHD'],drop_first=True)\n",
    "quadrant = pd.get_dummies(train['QUADRANT'],drop_first=True)"
   ]
  },
  {
   "cell_type": "code",
   "execution_count": 25,
   "metadata": {},
   "outputs": [],
   "source": [
    "train.drop(['HEAT','AC','STYLE','STRUCT','GRADE','CNDTN','ROOF','INTWALL','EXTWALL','ASSESSMENT_NBHD','ASSESSMENT_SUBNBHD','QUADRANT'],\n",
    "           axis=1,inplace=True)"
   ]
  },
  {
   "cell_type": "code",
   "execution_count": 26,
   "metadata": {},
   "outputs": [
    {
     "data": {
      "text/html": [
       "<div>\n",
       "<style scoped>\n",
       "    .dataframe tbody tr th:only-of-type {\n",
       "        vertical-align: middle;\n",
       "    }\n",
       "\n",
       "    .dataframe tbody tr th {\n",
       "        vertical-align: top;\n",
       "    }\n",
       "\n",
       "    .dataframe thead th {\n",
       "        text-align: right;\n",
       "    }\n",
       "</style>\n",
       "<table border=\"1\" class=\"dataframe\">\n",
       "  <thead>\n",
       "    <tr style=\"text-align: right;\">\n",
       "      <th></th>\n",
       "      <th>BATHRM</th>\n",
       "      <th>HF_BATHRM</th>\n",
       "      <th>NUM_UNITS</th>\n",
       "      <th>ROOMS</th>\n",
       "      <th>BEDRM</th>\n",
       "      <th>EYB</th>\n",
       "      <th>STORIES</th>\n",
       "      <th>PRICE</th>\n",
       "      <th>SALE_NUM</th>\n",
       "      <th>GBA</th>\n",
       "      <th>BLDG_NUM</th>\n",
       "      <th>KITCHENS</th>\n",
       "      <th>FIREPLACES</th>\n",
       "      <th>USECODE</th>\n",
       "      <th>LANDAREA</th>\n",
       "      <th>ZIPCODE</th>\n",
       "      <th>CENSUS_TRACT</th>\n",
       "    </tr>\n",
       "  </thead>\n",
       "  <tbody>\n",
       "    <tr>\n",
       "      <th>0</th>\n",
       "      <td>4</td>\n",
       "      <td>0</td>\n",
       "      <td>2.0</td>\n",
       "      <td>8</td>\n",
       "      <td>4</td>\n",
       "      <td>1972</td>\n",
       "      <td>3.0</td>\n",
       "      <td>1095000.0</td>\n",
       "      <td>1</td>\n",
       "      <td>2522.0</td>\n",
       "      <td>1</td>\n",
       "      <td>2.0</td>\n",
       "      <td>5</td>\n",
       "      <td>24</td>\n",
       "      <td>1680</td>\n",
       "      <td>20009.0</td>\n",
       "      <td>4201.0</td>\n",
       "    </tr>\n",
       "    <tr>\n",
       "      <th>1</th>\n",
       "      <td>3</td>\n",
       "      <td>1</td>\n",
       "      <td>2.0</td>\n",
       "      <td>9</td>\n",
       "      <td>5</td>\n",
       "      <td>1984</td>\n",
       "      <td>3.0</td>\n",
       "      <td>2100000.0</td>\n",
       "      <td>3</td>\n",
       "      <td>2522.0</td>\n",
       "      <td>1</td>\n",
       "      <td>2.0</td>\n",
       "      <td>4</td>\n",
       "      <td>24</td>\n",
       "      <td>1680</td>\n",
       "      <td>20009.0</td>\n",
       "      <td>4201.0</td>\n",
       "    </tr>\n",
       "    <tr>\n",
       "      <th>2</th>\n",
       "      <td>3</td>\n",
       "      <td>1</td>\n",
       "      <td>2.0</td>\n",
       "      <td>8</td>\n",
       "      <td>5</td>\n",
       "      <td>1984</td>\n",
       "      <td>3.0</td>\n",
       "      <td>1602000.0</td>\n",
       "      <td>1</td>\n",
       "      <td>2484.0</td>\n",
       "      <td>1</td>\n",
       "      <td>2.0</td>\n",
       "      <td>3</td>\n",
       "      <td>24</td>\n",
       "      <td>1680</td>\n",
       "      <td>20009.0</td>\n",
       "      <td>4201.0</td>\n",
       "    </tr>\n",
       "  </tbody>\n",
       "</table>\n",
       "</div>"
      ],
      "text/plain": [
       "   BATHRM  HF_BATHRM  NUM_UNITS  ROOMS  BEDRM   EYB  STORIES      PRICE  \\\n",
       "0       4          0        2.0      8      4  1972      3.0  1095000.0   \n",
       "1       3          1        2.0      9      5  1984      3.0  2100000.0   \n",
       "2       3          1        2.0      8      5  1984      3.0  1602000.0   \n",
       "\n",
       "   SALE_NUM     GBA  BLDG_NUM  KITCHENS  FIREPLACES  USECODE  LANDAREA  \\\n",
       "0         1  2522.0         1       2.0           5       24      1680   \n",
       "1         3  2522.0         1       2.0           4       24      1680   \n",
       "2         1  2484.0         1       2.0           3       24      1680   \n",
       "\n",
       "   ZIPCODE  CENSUS_TRACT  \n",
       "0  20009.0        4201.0  \n",
       "1  20009.0        4201.0  \n",
       "2  20009.0        4201.0  "
      ]
     },
     "execution_count": 26,
     "metadata": {},
     "output_type": "execute_result"
    }
   ],
   "source": [
    "train.head(3)"
   ]
  },
  {
   "cell_type": "code",
   "execution_count": 56,
   "metadata": {},
   "outputs": [
    {
     "data": {
      "text/plain": [
       "(36077, 17)"
      ]
     },
     "execution_count": 56,
     "metadata": {},
     "output_type": "execute_result"
    }
   ],
   "source": [
    "train2 = train.copy()\n",
    "train2.shape"
   ]
  },
  {
   "cell_type": "code",
   "execution_count": 60,
   "metadata": {},
   "outputs": [
    {
     "data": {
      "text/plain": [
       "array([ 4.,  1.,  1., ...,  0.,  0.,  0.])"
      ]
     },
     "execution_count": 60,
     "metadata": {},
     "output_type": "execute_result"
    }
   ],
   "source": [
    "train['FIREPLACES'].values"
   ]
  },
  {
   "cell_type": "code",
   "execution_count": 63,
   "metadata": {},
   "outputs": [],
   "source": [
    "for column in train2.keys():\n",
    "    upperlimit = np.nanpercentile(train[column].values,99)\n",
    "    lowerlimit = np.nanpercentile(train[column].values,1)\n",
    "    train[column].loc[train[column]>upperlimit]=upperlimit\n",
    "    train[column].loc[train[column]<lowerlimit]=lowerlimit"
   ]
  },
  {
   "cell_type": "code",
   "execution_count": 64,
   "metadata": {},
   "outputs": [
    {
     "data": {
      "text/plain": [
       "(36077, 17)"
      ]
     },
     "execution_count": 64,
     "metadata": {},
     "output_type": "execute_result"
    }
   ],
   "source": [
    "train2.shape"
   ]
  },
  {
   "cell_type": "code",
   "execution_count": null,
   "metadata": {},
   "outputs": [],
   "source": []
  },
  {
   "cell_type": "code",
   "execution_count": null,
   "metadata": {},
   "outputs": [],
   "source": []
  },
  {
   "cell_type": "code",
   "execution_count": 59,
   "metadata": {},
   "outputs": [
    {
     "name": "stderr",
     "output_type": "stream",
     "text": [
      "/Users/Jose/anaconda3/lib/python3.6/site-packages/matplotlib/axes/_axes.py:6462: UserWarning: The 'normed' kwarg is deprecated, and has been replaced by the 'density' kwarg.\n",
      "  warnings.warn(\"The 'normed' kwarg is deprecated, and has been \"\n",
      "/Users/Jose/anaconda3/lib/python3.6/site-packages/matplotlib/axes/_axes.py:6462: UserWarning: The 'normed' kwarg is deprecated, and has been replaced by the 'density' kwarg.\n",
      "  warnings.warn(\"The 'normed' kwarg is deprecated, and has been \"\n"
     ]
    },
    {
     "data": {
      "text/plain": [
       "<seaborn.axisgrid.JointGrid at 0x20117f9a20>"
      ]
     },
     "execution_count": 59,
     "metadata": {},
     "output_type": "execute_result"
    },
    {
     "data": {
      "image/png": "[encoded data removed]",
      "text/plain": [
       "<Figure size 432x432 with 3 Axes>"
      ]
     },
     "metadata": {},
     "output_type": "display_data"
    }
   ],
   "source": [
    "# 'GBA' vs 'PRICE'\n",
    "sns.jointplot(x=train2['GBA'], y=train2['PRICE'], kind='reg')"
   ]
  },
  {
   "cell_type": "code",
   "execution_count": 28,
   "metadata": {},
   "outputs": [],
   "source": [
    "# Removing outliers manually (GBA grater than 0, less than $1e7)\n",
    "train = train.drop(train[(train['GBA']>0) \n",
    "                         & (train['PRICE']>1e7)].index).reset_index(drop=True)"
   ]
  },
  {
   "cell_type": "code",
   "execution_count": 29,
   "metadata": {},
   "outputs": [
    {
     "name": "stderr",
     "output_type": "stream",
     "text": [
      "/Users/Jose/anaconda3/lib/python3.6/site-packages/matplotlib/axes/_axes.py:6462: UserWarning: The 'normed' kwarg is deprecated, and has been replaced by the 'density' kwarg.\n",
      "  warnings.warn(\"The 'normed' kwarg is deprecated, and has been \"\n",
      "/Users/Jose/anaconda3/lib/python3.6/site-packages/matplotlib/axes/_axes.py:6462: UserWarning: The 'normed' kwarg is deprecated, and has been replaced by the 'density' kwarg.\n",
      "  warnings.warn(\"The 'normed' kwarg is deprecated, and has been \"\n"
     ]
    },
    {
     "data": {
      "text/plain": [
       "<seaborn.axisgrid.JointGrid at 0x201179c780>"
      ]
     },
     "execution_count": 29,
     "metadata": {},
     "output_type": "execute_result"
    },
    {
     "data": {
      "image/png": "[encoded data removed]",
      "text/plain": [
       "<Figure size 432x432 with 3 Axes>"
      ]
     },
     "metadata": {},
     "output_type": "display_data"
    }
   ],
   "source": [
    "# 'GBA' vs 'PRICE' Clean\n",
    "sns.jointplot(x=train['GBA'], y=train['PRICE'], kind='reg')"
   ]
  },
  {
   "cell_type": "code",
   "execution_count": 30,
   "metadata": {},
   "outputs": [
    {
     "data": {
      "text/plain": [
       "(39113, 17)"
      ]
     },
     "execution_count": 30,
     "metadata": {},
     "output_type": "execute_result"
    }
   ],
   "source": [
    "train.shape"
   ]
  },
  {
   "cell_type": "code",
   "execution_count": 31,
   "metadata": {},
   "outputs": [
    {
     "data": {
      "text/plain": [
       "<matplotlib.axes._subplots.AxesSubplot at 0x201755e978>"
      ]
     },
     "execution_count": 31,
     "metadata": {},
     "output_type": "execute_result"
    },
    {
     "data": {
      "image/png": "[encoded data removed]",
      "text/plain": [
       "<Figure size 432x288 with 1 Axes>"
      ]
     },
     "metadata": {},
     "output_type": "display_data"
    }
   ],
   "source": [
    "# 'FIREPLACES' vs 'PRICE'\n",
    "sns.boxplot(x=train['FIREPLACES'], y=train['PRICE'])"
   ]
  },
  {
   "cell_type": "code",
   "execution_count": 32,
   "metadata": {},
   "outputs": [
    {
     "data": {
      "text/plain": [
       "\"\\nupperlimit = np.nanpercentile(train.FIREPLACES.values,99.5)\\nlowerlimit = np.nanpercentile(train.FIREPLACES.values,0.5)\\ntrain['FIREPLACES'].loc[train['FIREPLACES']>upperlimit]=upperlimit\\ntrain['FIREPLACES'].loc[train['FIREPLACES']<lowerlimit]=lowerlimit\\ntrain.shape\\n# 'FIREPLACES' vs 'PRICE' Clean\\nsns.boxplot(x=train['FIREPLACES'], y=train['PRICE'])\\n\""
      ]
     },
     "execution_count": 32,
     "metadata": {},
     "output_type": "execute_result"
    }
   ],
   "source": [
    "'''\n",
    "upperlimit = np.nanpercentile(train.FIREPLACES.values,99.5)\n",
    "lowerlimit = np.nanpercentile(train.FIREPLACES.values,0.5)\n",
    "train['FIREPLACES'].loc[train['FIREPLACES']>upperlimit]=upperlimit\n",
    "train['FIREPLACES'].loc[train['FIREPLACES']<lowerlimit]=lowerlimit\n",
    "train.shape\n",
    "# 'FIREPLACES' vs 'PRICE' Clean\n",
    "sns.boxplot(x=train['FIREPLACES'], y=train['PRICE'])\n",
    "'''"
   ]
  },
  {
   "cell_type": "code",
   "execution_count": 33,
   "metadata": {},
   "outputs": [],
   "source": [
    "# Removing outliers manually (More than 9-Fireplaces)\n",
    "train = train.drop(train[(train['FIREPLACES']>9)].index).reset_index(drop=True)\n",
    "train = train.drop(train[(train['FIREPLACES']==0) & (train['PRICE']>0.115e7)].index).reset_index(drop=True)\n",
    "train = train.drop(train[(train['FIREPLACES']==1) & (train['PRICE']>0.15e7)].index).reset_index(drop=True)\n",
    "train = train.drop(train[(train['FIREPLACES']==2) & (train['PRICE']>0.225e7)].index).reset_index(drop=True)\n",
    "train = train.drop(train[(train['FIREPLACES']==3) & (train['PRICE']>0.3e7)].index).reset_index(drop=True)\n",
    "train = train.drop(train[(train['FIREPLACES']==4) & (train['PRICE']>0.4e7)].index).reset_index(drop=True)\n",
    "train = train.drop(train[(train['FIREPLACES']==5) & (train['PRICE']>0.3e7)].index).reset_index(drop=True)\n",
    "train = train.drop(train[(train['FIREPLACES']==6) & (train['PRICE']>0.575e7)].index).reset_index(drop=True)"
   ]
  },
  {
   "cell_type": "code",
   "execution_count": 34,
   "metadata": {},
   "outputs": [
    {
     "data": {
      "text/plain": [
       "<matplotlib.axes._subplots.AxesSubplot at 0x2016e066a0>"
      ]
     },
     "execution_count": 34,
     "metadata": {},
     "output_type": "execute_result"
    },
    {
     "data": {
      "image/png": "[encoded data removed]",
      "text/plain": [
       "<Figure size 432x288 with 1 Axes>"
      ]
     },
     "metadata": {},
     "output_type": "display_data"
    }
   ],
   "source": [
    "# 'FIREPLACES' vs 'PRICE' Clean\n",
    "sns.boxplot(x=train['FIREPLACES'], y=train['PRICE'])"
   ]
  },
  {
   "cell_type": "code",
   "execution_count": 35,
   "metadata": {},
   "outputs": [
    {
     "data": {
      "text/plain": [
       "<matplotlib.axes._subplots.AxesSubplot at 0x20203b5908>"
      ]
     },
     "execution_count": 35,
     "metadata": {},
     "output_type": "execute_result"
    },
    {
     "data": {
      "image/png": "[encoded data removed]",
      "text/plain": [
       "<Figure size 432x288 with 1 Axes>"
      ]
     },
     "metadata": {},
     "output_type": "display_data"
    }
   ],
   "source": [
    "# 'BATHRM' vs 'PRICE'\n",
    "sns.boxplot(x=train['BATHRM'], y=train['PRICE'])"
   ]
  },
  {
   "cell_type": "code",
   "execution_count": 36,
   "metadata": {},
   "outputs": [],
   "source": [
    "train = train.drop(train[(train['BATHRM']==0)].index).reset_index(drop=True)\n",
    "train = train.drop(train[(train['BATHRM']==1) & (train['PRICE']>0.1e7)].index).reset_index(drop=True)\n",
    "train = train.drop(train[(train['BATHRM']==2) & (train['PRICE']>0.125e7)].index).reset_index(drop=True)\n",
    "train = train.drop(train[(train['BATHRM']==3) & (train['PRICE']>0.175e7)].index).reset_index(drop=True)\n",
    "train = train.drop(train[(train['BATHRM']==4) & (train['PRICE']>0.25e7)].index).reset_index(drop=True)\n",
    "train = train.drop(train[(train['BATHRM']==5) & (train['PRICE']>0.375e7)].index).reset_index(drop=True)\n",
    "train = train.drop(train[(train['BATHRM']==6) & (train['PRICE']>0.4e7)].index).reset_index(drop=True)\n",
    "train = train.drop(train[(train['BATHRM']==7) & (train['PRICE']>0.6e7)].index).reset_index(drop=True)\n",
    "train = train.drop(train[(train['BATHRM']==8) & (train['PRICE']>0.3e7)].index).reset_index(drop=True)"
   ]
  },
  {
   "cell_type": "code",
   "execution_count": 37,
   "metadata": {},
   "outputs": [
    {
     "data": {
      "text/plain": [
       "<matplotlib.axes._subplots.AxesSubplot at 0x201704dc18>"
      ]
     },
     "execution_count": 37,
     "metadata": {},
     "output_type": "execute_result"
    },
    {
     "data": {
      "image/png": "[encoded data removed]",
      "text/plain": [
       "<Figure size 432x288 with 1 Axes>"
      ]
     },
     "metadata": {},
     "output_type": "display_data"
    }
   ],
   "source": [
    "# 'BATHRM' vs 'PRICE'\n",
    "sns.boxplot(x=train['BATHRM'], y=train['PRICE'])"
   ]
  },
  {
   "cell_type": "code",
   "execution_count": 38,
   "metadata": {},
   "outputs": [
    {
     "data": {
      "text/plain": [
       "<matplotlib.axes._subplots.AxesSubplot at 0x2018ab84e0>"
      ]
     },
     "execution_count": 38,
     "metadata": {},
     "output_type": "execute_result"
    },
    {
     "data": {
      "image/png": "[encoded data removed]",
      "text/plain": [
       "<Figure size 432x288 with 1 Axes>"
      ]
     },
     "metadata": {},
     "output_type": "display_data"
    }
   ],
   "source": [
    "# 'BEDRM' vs 'PRICE'\n",
    "sns.boxplot(x=train['BEDRM'], y=train['PRICE'])"
   ]
  },
  {
   "cell_type": "code",
   "execution_count": 39,
   "metadata": {},
   "outputs": [],
   "source": [
    "# Removing outliers manually (More than 12-Bedrooms and less than $0.3e7)\n",
    "train = train.drop(train[(train['BEDRM']>12) & (train['PRICE']<0.3e7)].index).reset_index(drop=True)\n",
    "train = train.drop(train[(train['BEDRM']==0) & (train['PRICE']>0.05e7)].index).reset_index(drop=True)\n",
    "train = train.drop(train[(train['BEDRM']==2) & (train['PRICE']>0.125e7)].index).reset_index(drop=True)\n",
    "train = train.drop(train[(train['BEDRM']==3) & (train['PRICE']>0.125e7)].index).reset_index(drop=True)\n",
    "train = train.drop(train[(train['BEDRM']==4) & (train['PRICE']>0.15e7)].index).reset_index(drop=True)\n",
    "train = train.drop(train[(train['BEDRM']==5) & (train['PRICE']>0.2e7)].index).reset_index(drop=True)\n",
    "train = train.drop(train[(train['BEDRM']==6) & (train['PRICE']>0.25e7)].index).reset_index(drop=True)\n",
    "train = train.drop(train[(train['BEDRM']==7) & (train['PRICE']>0.3e7)].index).reset_index(drop=True)\n",
    "train = train.drop(train[(train['BEDRM']==8) & (train['PRICE']>0.1e7)].index).reset_index(drop=True)\n",
    "train = train.drop(train[(train['BEDRM']==9) & (train['PRICE']>0.15e7)].index).reset_index(drop=True)\n",
    "train = train.drop(train[(train['BEDRM']==12) & (train['PRICE']>0.05e7)].index).reset_index(drop=True)\n",
    "train = train.drop(train[(train['BEDRM']==12) & (train['PRICE']<0.03e7)].index).reset_index(drop=True)"
   ]
  },
  {
   "cell_type": "code",
   "execution_count": 40,
   "metadata": {},
   "outputs": [
    {
     "data": {
      "text/plain": [
       "<matplotlib.axes._subplots.AxesSubplot at 0x2020b3d1d0>"
      ]
     },
     "execution_count": 40,
     "metadata": {},
     "output_type": "execute_result"
    },
    {
     "data": {
      "image/png": "[encoded data removed]",
      "text/plain": [
       "<Figure size 432x288 with 1 Axes>"
      ]
     },
     "metadata": {},
     "output_type": "display_data"
    }
   ],
   "source": [
    "# 'BEDRM' vs 'PRICE' clean \n",
    "sns.boxplot(x=train['BEDRM'], y=train['PRICE'])"
   ]
  },
  {
   "cell_type": "code",
   "execution_count": 41,
   "metadata": {},
   "outputs": [
    {
     "data": {
      "text/plain": [
       "<matplotlib.axes._subplots.AxesSubplot at 0x2018890860>"
      ]
     },
     "execution_count": 41,
     "metadata": {},
     "output_type": "execute_result"
    },
    {
     "data": {
      "image/png": "[encoded data removed]",
      "text/plain": [
       "<Figure size 432x288 with 1 Axes>"
      ]
     },
     "metadata": {},
     "output_type": "display_data"
    }
   ],
   "source": [
    "# 'ROOMS' vs 'PRICE'\n",
    "sns.boxplot(x=train['ROOMS'], y=train['PRICE'])"
   ]
  },
  {
   "cell_type": "code",
   "execution_count": 42,
   "metadata": {},
   "outputs": [],
   "source": [
    "train = train.drop(train[(train['ROOMS']==4) & (train['PRICE']>0.115e7)].index).reset_index(drop=True)\n",
    "train = train.drop(train[(train['ROOMS']==5) & (train['PRICE']>0.115e7)].index).reset_index(drop=True)\n",
    "train = train.drop(train[(train['ROOMS']==6) & (train['PRICE']>0.125e7)].index).reset_index(drop=True)\n",
    "train = train.drop(train[(train['ROOMS']==7) & (train['PRICE']>0.14e7)].index).reset_index(drop=True)\n",
    "train = train.drop(train[(train['ROOMS']==8) & (train['PRICE']>0.15e7)].index).reset_index(drop=True)\n",
    "train = train.drop(train[(train['ROOMS']==9) & (train['PRICE']>0.175e7)].index).reset_index(drop=True)\n",
    "train = train.drop(train[(train['ROOMS']==10) & (train['PRICE']>0.165e7)].index).reset_index(drop=True)\n",
    "train = train.drop(train[(train['ROOMS']==11) & (train['PRICE']>0.2e7)].index).reset_index(drop=True)\n",
    "train = train.drop(train[(train['ROOMS']==12) & (train['PRICE']>0.185e7)].index).reset_index(drop=True)\n",
    "train = train.drop(train[(train['ROOMS']==16) & (train['PRICE']>0.09e7)].index).reset_index(drop=True)\n",
    "train = train.drop(train[(train['ROOMS']==18) & (train['PRICE']>0.09e7)].index).reset_index(drop=True)\n",
    "train = train.drop(train[(train['ROOMS']==20) & (train['PRICE']>0.075e7)].index).reset_index(drop=True)\n",
    "train = train.drop(train[(train['ROOMS']>21)].index).reset_index(drop=True)"
   ]
  },
  {
   "cell_type": "code",
   "execution_count": 43,
   "metadata": {},
   "outputs": [
    {
     "data": {
      "text/plain": [
       "<matplotlib.axes._subplots.AxesSubplot at 0x201fa3e6a0>"
      ]
     },
     "execution_count": 43,
     "metadata": {},
     "output_type": "execute_result"
    },
    {
     "data": {
      "image/png": "[encoded data removed]",
      "text/plain": [
       "<Figure size 432x288 with 1 Axes>"
      ]
     },
     "metadata": {},
     "output_type": "display_data"
    }
   ],
   "source": [
    "# 'ROOMS' vs 'PRICE'\n",
    "sns.boxplot(x=train['ROOMS'], y=train['PRICE'])"
   ]
  },
  {
   "cell_type": "code",
   "execution_count": 44,
   "metadata": {},
   "outputs": [
    {
     "name": "stderr",
     "output_type": "stream",
     "text": [
      "/Users/Jose/anaconda3/lib/python3.6/site-packages/matplotlib/axes/_axes.py:6462: UserWarning: The 'normed' kwarg is deprecated, and has been replaced by the 'density' kwarg.\n",
      "  warnings.warn(\"The 'normed' kwarg is deprecated, and has been \"\n",
      "/Users/Jose/anaconda3/lib/python3.6/site-packages/matplotlib/axes/_axes.py:6462: UserWarning: The 'normed' kwarg is deprecated, and has been replaced by the 'density' kwarg.\n",
      "  warnings.warn(\"The 'normed' kwarg is deprecated, and has been \"\n"
     ]
    },
    {
     "data": {
      "text/plain": [
       "<seaborn.axisgrid.JointGrid at 0x2020b3dbe0>"
      ]
     },
     "execution_count": 44,
     "metadata": {},
     "output_type": "execute_result"
    },
    {
     "data": {
      "image/png": "[encoded data removed]",
      "text/plain": [
       "<Figure size 432x432 with 3 Axes>"
      ]
     },
     "metadata": {},
     "output_type": "display_data"
    }
   ],
   "source": [
    "# 'EYB' vs 'PRICE'\n",
    "sns.jointplot(x=train['EYB'], y=train['PRICE'], kind='reg')"
   ]
  },
  {
   "cell_type": "code",
   "execution_count": 45,
   "metadata": {},
   "outputs": [
    {
     "data": {
      "text/plain": [
       "<matplotlib.axes._subplots.AxesSubplot at 0x201fcce908>"
      ]
     },
     "execution_count": 45,
     "metadata": {},
     "output_type": "execute_result"
    },
    {
     "data": {
      "image/png": "[encoded data removed]",
      "text/plain": [
       "<Figure size 432x288 with 1 Axes>"
      ]
     },
     "metadata": {},
     "output_type": "display_data"
    }
   ],
   "source": [
    "# 'HF_BATHRM' vs 'PRICE'\n",
    "sns.boxplot(x=train['HF_BATHRM'], y=train['PRICE'])"
   ]
  },
  {
   "cell_type": "code",
   "execution_count": 46,
   "metadata": {},
   "outputs": [],
   "source": [
    "train = train.drop(train[(train['HF_BATHRM']==0) & (train['PRICE']>0.125e7)].index).reset_index(drop=True)\n",
    "train = train.drop(train[(train['HF_BATHRM']==1) & (train['PRICE']>0.15e7)].index).reset_index(drop=True)\n",
    "train = train.drop(train[(train['HF_BATHRM']==2) & (train['PRICE']>0.165e7)].index).reset_index(drop=True)\n",
    "train = train.drop(train[(train['HF_BATHRM']==4) & (train['PRICE']>0.1e7)].index).reset_index(drop=True)"
   ]
  },
  {
   "cell_type": "code",
   "execution_count": 47,
   "metadata": {},
   "outputs": [
    {
     "data": {
      "text/plain": [
       "<matplotlib.axes._subplots.AxesSubplot at 0x20200c59e8>"
      ]
     },
     "execution_count": 47,
     "metadata": {},
     "output_type": "execute_result"
    },
    {
     "data": {
      "image/png": "[encoded data removed]",
      "text/plain": [
       "<Figure size 432x288 with 1 Axes>"
      ]
     },
     "metadata": {},
     "output_type": "display_data"
    }
   ],
   "source": [
    "# 'HF_BATHRM' vs 'PRICE'\n",
    "sns.boxplot(x=train['HF_BATHRM'], y=train['PRICE'])"
   ]
  },
  {
   "cell_type": "code",
   "execution_count": 48,
   "metadata": {},
   "outputs": [
    {
     "data": {
      "text/plain": [
       "<matplotlib.axes._subplots.AxesSubplot at 0x201ff0b828>"
      ]
     },
     "execution_count": 48,
     "metadata": {},
     "output_type": "execute_result"
    },
    {
     "data": {
      "image/png": "[encoded data removed]",
      "text/plain": [
       "<Figure size 432x288 with 1 Axes>"
      ]
     },
     "metadata": {},
     "output_type": "display_data"
    }
   ],
   "source": [
    "# 'SALE_NUM' vs 'PRICE'\n",
    "sns.boxplot(x=train['SALE_NUM'], y=train['PRICE'])"
   ]
  },
  {
   "cell_type": "code",
   "execution_count": 49,
   "metadata": {},
   "outputs": [],
   "source": [
    "train = train.drop(train[(train['SALE_NUM']==1) & (train['PRICE']>0.125e7)].index).reset_index(drop=True)\n",
    "train = train.drop(train[(train['SALE_NUM']==3) & (train['PRICE']>0.15e7)].index).reset_index(drop=True)\n",
    "train = train.drop(train[(train['SALE_NUM']==4) & (train['PRICE']>0.14e7)].index).reset_index(drop=True)\n",
    "train = train.drop(train[(train['SALE_NUM']==5) & (train['PRICE']>0.14e7)].index).reset_index(drop=True)\n",
    "train = train.drop(train[(train['SALE_NUM']==6) & (train['PRICE']>0.125e7)].index).reset_index(drop=True)\n",
    "train = train.drop(train[(train['SALE_NUM']==7) & (train['PRICE']>0.125e7)].index).reset_index(drop=True)\n",
    "train = train.drop(train[(train['SALE_NUM']==8) & (train['PRICE']>0.115e7)].index).reset_index(drop=True)"
   ]
  },
  {
   "cell_type": "code",
   "execution_count": 50,
   "metadata": {},
   "outputs": [
    {
     "data": {
      "text/plain": [
       "<matplotlib.axes._subplots.AxesSubplot at 0x2020275898>"
      ]
     },
     "execution_count": 50,
     "metadata": {},
     "output_type": "execute_result"
    },
    {
     "data": {
      "image/png": "[encoded data removed]",
      "text/plain": [
       "<Figure size 432x288 with 1 Axes>"
      ]
     },
     "metadata": {},
     "output_type": "display_data"
    }
   ],
   "source": [
    "# 'SALE_NUM' vs 'PRICE'\n",
    "sns.boxplot(x=train['SALE_NUM'], y=train['PRICE'])"
   ]
  },
  {
   "cell_type": "code",
   "execution_count": 51,
   "metadata": {},
   "outputs": [
    {
     "name": "stderr",
     "output_type": "stream",
     "text": [
      "/Users/Jose/anaconda3/lib/python3.6/site-packages/matplotlib/axes/_axes.py:6462: UserWarning: The 'normed' kwarg is deprecated, and has been replaced by the 'density' kwarg.\n",
      "  warnings.warn(\"The 'normed' kwarg is deprecated, and has been \"\n",
      "/Users/Jose/anaconda3/lib/python3.6/site-packages/matplotlib/axes/_axes.py:6462: UserWarning: The 'normed' kwarg is deprecated, and has been replaced by the 'density' kwarg.\n",
      "  warnings.warn(\"The 'normed' kwarg is deprecated, and has been \"\n"
     ]
    },
    {
     "data": {
      "text/plain": [
       "<seaborn.axisgrid.JointGrid at 0x20204be438>"
      ]
     },
     "execution_count": 51,
     "metadata": {},
     "output_type": "execute_result"
    },
    {
     "data": {
      "image/png": "[encoded data removed]",
      "text/plain": [
       "<Figure size 432x432 with 3 Axes>"
      ]
     },
     "metadata": {},
     "output_type": "display_data"
    }
   ],
   "source": [
    "# 'LANDAREA' vs 'PRICE'\n",
    "sns.jointplot(x=train['LANDAREA'], y=train['PRICE'], kind='reg')"
   ]
  },
  {
   "cell_type": "code",
   "execution_count": 52,
   "metadata": {},
   "outputs": [],
   "source": [
    "# Removing outliers manually (More than 60000 in land area and less than $0.3e7)\n",
    "train = train.drop(train[(train['LANDAREA']>30000) & (train['PRICE']<0.7e7)].index).reset_index(drop=True)"
   ]
  },
  {
   "cell_type": "code",
   "execution_count": 53,
   "metadata": {},
   "outputs": [
    {
     "name": "stderr",
     "output_type": "stream",
     "text": [
      "/Users/Jose/anaconda3/lib/python3.6/site-packages/matplotlib/axes/_axes.py:6462: UserWarning: The 'normed' kwarg is deprecated, and has been replaced by the 'density' kwarg.\n",
      "  warnings.warn(\"The 'normed' kwarg is deprecated, and has been \"\n",
      "/Users/Jose/anaconda3/lib/python3.6/site-packages/matplotlib/axes/_axes.py:6462: UserWarning: The 'normed' kwarg is deprecated, and has been replaced by the 'density' kwarg.\n",
      "  warnings.warn(\"The 'normed' kwarg is deprecated, and has been \"\n"
     ]
    },
    {
     "data": {
      "text/plain": [
       "<seaborn.axisgrid.JointGrid at 0x201fd687f0>"
      ]
     },
     "execution_count": 53,
     "metadata": {},
     "output_type": "execute_result"
    },
    {
     "data": {
      "image/png": "[encoded data removed]",
      "text/plain": [
       "<Figure size 432x432 with 3 Axes>"
      ]
     },
     "metadata": {},
     "output_type": "display_data"
    }
   ],
   "source": [
    "# 'LANDAREA' vs 'PRICE'\n",
    "sns.jointplot(x=train['LANDAREA'], y=train['PRICE'], kind='reg')"
   ]
  },
  {
   "cell_type": "code",
   "execution_count": 54,
   "metadata": {},
   "outputs": [
    {
     "data": {
      "text/plain": [
       "Index(['BATHRM', 'HF_BATHRM', 'NUM_UNITS', 'ROOMS', 'BEDRM', 'EYB', 'STORIES',\n",
       "       'PRICE', 'SALE_NUM', 'GBA', 'BLDG_NUM', 'KITCHENS', 'FIREPLACES',\n",
       "       'USECODE', 'LANDAREA', 'ZIPCODE', 'CENSUS_TRACT'],\n",
       "      dtype='object')"
      ]
     },
     "execution_count": 54,
     "metadata": {},
     "output_type": "execute_result"
    }
   ],
   "source": [
    "train.keys()"
   ]
  },
  {
   "cell_type": "code",
   "execution_count": null,
   "metadata": {},
   "outputs": [],
   "source": []
  },
  {
   "cell_type": "code",
   "execution_count": null,
   "metadata": {},
   "outputs": [],
   "source": []
  },
  {
   "cell_type": "code",
   "execution_count": null,
   "metadata": {},
   "outputs": [],
   "source": []
  },
  {
   "cell_type": "code",
   "execution_count": null,
   "metadata": {},
   "outputs": [],
   "source": [
    "train.drop(['HEAT','AC','STYLE','STRUCT','GRADE','CNDTN','ROOF','INTWALL','EXTWALL','ASSESSMENT_NBHD','ASSESSMENT_SUBNBHD','QUADRANT'],\n",
    "           axis=1,inplace=True)"
   ]
  },
  {
   "cell_type": "code",
   "execution_count": null,
   "metadata": {},
   "outputs": [],
   "source": [
    "train.head(3)"
   ]
  },
  {
   "cell_type": "code",
   "execution_count": null,
   "metadata": {},
   "outputs": [],
   "source": [
    "'''\n",
    "np.linalg.norm(train, axis=1)\n",
    "#\n",
    "from sklearn import preprocessing\n",
    "min_max_scaler = preprocessing.MinMaxScaler()\n",
    "np_scaled = min_max_scaler.fit_transform(train)\n",
    "df_normalized = pd.DataFrame(np_scaled)\n",
    "df_normalized.columns = train.columns\n",
    "train = df_normalized\n",
    "#\n",
    "df_normalized.columns = train.columns\n",
    "train = df_normalized\n",
    "#\n",
    "'''"
   ]
  },
  {
   "cell_type": "code",
   "execution_count": null,
   "metadata": {},
   "outputs": [],
   "source": [
    "'''\n",
    "from sklearn.preprocessing import normalize\n",
    "normT = normalize(train)\n",
    "train = normT\n",
    "'''"
   ]
  },
  {
   "cell_type": "code",
   "execution_count": null,
   "metadata": {},
   "outputs": [],
   "source": [
    "'''\n",
    "def customNormalize(X):\n",
    "    maxX = X.max(axis=0)\n",
    "    minX = X.min(axis=0)\n",
    "    meanX = X.mean(axis=0)\n",
    "    X = (X-meanX)/(maxX-minX)\n",
    "    return X\n",
    "\n",
    "normT2 = customNormalize(train)\n",
    "train = normT2\n",
    "'''"
   ]
  },
  {
   "cell_type": "code",
   "execution_count": null,
   "metadata": {},
   "outputs": [],
   "source": [
    "train = pd.concat([train, heat, ac, style, struct, grade, cndtn, roof, intwall, extwall, assessmentNBHD, assessmentSUBNBHD, quadrant],axis=1)\n",
    "train.head(3)"
   ]
  },
  {
   "cell_type": "code",
   "execution_count": null,
   "metadata": {},
   "outputs": [],
   "source": [
    "#Fix all of the skewed data to be more normal so that our models will be more accurate when making predictions.\n",
    "# We use the numpy fuction log1p which  applies log(1+x) to all elements of the column\n",
    "#train['PRICE'] = np.log1p(train[\"PRICE\"])"
   ]
  },
  {
   "cell_type": "code",
   "execution_count": null,
   "metadata": {},
   "outputs": [],
   "source": [
    "#Check the new distribution \n",
    "sns.distplot(train['PRICE'] , fit=norm);\n",
    "\n",
    "# Get the fitted parameters used by the function\n",
    "(mu, sigma) = norm.fit(train['PRICE'])\n",
    "print( '\\n mu = {:.2f} and sigma = {:.2f}\\n'.format(mu, sigma))\n",
    "plt.legend(['Normal dist. ($\\mu=$ {:.2f} and $\\sigma=$ {:.2f} )'.format(mu, sigma)],\n",
    "            loc='best')\n",
    "plt.ylabel('Frequency')\n",
    "plt.title('PRICE distribution')\n",
    "\n",
    "fig = plt.figure()\n",
    "res = stats.probplot(train['PRICE'], plot=plt)\n",
    "plt.show()\n",
    "\n",
    "y_train = train.PRICE.values\n",
    "\n",
    "print(\"Skewness: %f\" % train['PRICE'].skew())\n",
    "print(\"Kurtosis: %f\" % train['PRICE'].kurt())"
   ]
  },
  {
   "cell_type": "code",
   "execution_count": 55,
   "metadata": {},
   "outputs": [
    {
     "ename": "KeyError",
     "evalue": "'HEAT'",
     "output_type": "error",
     "traceback": [
      "\u001b[0;31m---------------------------------------------------------------------------\u001b[0m",
      "\u001b[0;31mKeyError\u001b[0m                                  Traceback (most recent call last)",
      "\u001b[0;32m/Users/Jose/anaconda3/lib/python3.6/site-packages/pandas/core/indexes/base.py\u001b[0m in \u001b[0;36mget_loc\u001b[0;34m(self, key, method, tolerance)\u001b[0m\n\u001b[1;32m   3063\u001b[0m             \u001b[0;32mtry\u001b[0m\u001b[0;34m:\u001b[0m\u001b[0;34m\u001b[0m\u001b[0m\n\u001b[0;32m-> 3064\u001b[0;31m                 \u001b[0;32mreturn\u001b[0m \u001b[0mself\u001b[0m\u001b[0;34m.\u001b[0m\u001b[0m_engine\u001b[0m\u001b[0;34m.\u001b[0m\u001b[0mget_loc\u001b[0m\u001b[0;34m(\u001b[0m\u001b[0mkey\u001b[0m\u001b[0;34m)\u001b[0m\u001b[0;34m\u001b[0m\u001b[0m\n\u001b[0m\u001b[1;32m   3065\u001b[0m             \u001b[0;32mexcept\u001b[0m \u001b[0mKeyError\u001b[0m\u001b[0;34m:\u001b[0m\u001b[0;34m\u001b[0m\u001b[0m\n",
      "\u001b[0;32mpandas/_libs/index.pyx\u001b[0m in \u001b[0;36mpandas._libs.index.IndexEngine.get_loc\u001b[0;34m()\u001b[0m\n",
      "\u001b[0;32mpandas/_libs/index.pyx\u001b[0m in \u001b[0;36mpandas._libs.index.IndexEngine.get_loc\u001b[0;34m()\u001b[0m\n",
      "\u001b[0;32mpandas/_libs/hashtable_class_helper.pxi\u001b[0m in \u001b[0;36mpandas._libs.hashtable.PyObjectHashTable.get_item\u001b[0;34m()\u001b[0m\n",
      "\u001b[0;32mpandas/_libs/hashtable_class_helper.pxi\u001b[0m in \u001b[0;36mpandas._libs.hashtable.PyObjectHashTable.get_item\u001b[0;34m()\u001b[0m\n",
      "\u001b[0;31mKeyError\u001b[0m: 'HEAT'",
      "\nDuring handling of the above exception, another exception occurred:\n",
      "\u001b[0;31mKeyError\u001b[0m                                  Traceback (most recent call last)",
      "\u001b[0;32m<ipython-input-55-17cae2fc97ee>\u001b[0m in \u001b[0;36m<module>\u001b[0;34m()\u001b[0m\n\u001b[1;32m      1\u001b[0m \u001b[0;31m# Feature Transformation\u001b[0m\u001b[0;34m\u001b[0m\u001b[0;34m\u001b[0m\u001b[0m\n\u001b[0;32m----> 2\u001b[0;31m \u001b[0mheat\u001b[0m \u001b[0;34m=\u001b[0m \u001b[0mpd\u001b[0m\u001b[0;34m.\u001b[0m\u001b[0mget_dummies\u001b[0m\u001b[0;34m(\u001b[0m\u001b[0mtrain\u001b[0m\u001b[0;34m[\u001b[0m\u001b[0;34m'HEAT'\u001b[0m\u001b[0;34m]\u001b[0m\u001b[0;34m,\u001b[0m\u001b[0mdrop_first\u001b[0m\u001b[0;34m=\u001b[0m\u001b[0;32mTrue\u001b[0m\u001b[0;34m)\u001b[0m\u001b[0;34m\u001b[0m\u001b[0m\n\u001b[0m\u001b[1;32m      3\u001b[0m \u001b[0mac\u001b[0m \u001b[0;34m=\u001b[0m \u001b[0mpd\u001b[0m\u001b[0;34m.\u001b[0m\u001b[0mget_dummies\u001b[0m\u001b[0;34m(\u001b[0m\u001b[0mtrain\u001b[0m\u001b[0;34m[\u001b[0m\u001b[0;34m'AC'\u001b[0m\u001b[0;34m]\u001b[0m\u001b[0;34m,\u001b[0m\u001b[0mdrop_first\u001b[0m\u001b[0;34m=\u001b[0m\u001b[0;32mTrue\u001b[0m\u001b[0;34m)\u001b[0m\u001b[0;34m\u001b[0m\u001b[0m\n\u001b[1;32m      4\u001b[0m \u001b[0mstyle\u001b[0m \u001b[0;34m=\u001b[0m \u001b[0mpd\u001b[0m\u001b[0;34m.\u001b[0m\u001b[0mget_dummies\u001b[0m\u001b[0;34m(\u001b[0m\u001b[0mtrain\u001b[0m\u001b[0;34m[\u001b[0m\u001b[0;34m'STYLE'\u001b[0m\u001b[0;34m]\u001b[0m\u001b[0;34m,\u001b[0m\u001b[0mdrop_first\u001b[0m\u001b[0;34m=\u001b[0m\u001b[0;32mTrue\u001b[0m\u001b[0;34m)\u001b[0m\u001b[0;34m\u001b[0m\u001b[0m\n\u001b[1;32m      5\u001b[0m \u001b[0mstruct\u001b[0m \u001b[0;34m=\u001b[0m \u001b[0mpd\u001b[0m\u001b[0;34m.\u001b[0m\u001b[0mget_dummies\u001b[0m\u001b[0;34m(\u001b[0m\u001b[0mtrain\u001b[0m\u001b[0;34m[\u001b[0m\u001b[0;34m'STRUCT'\u001b[0m\u001b[0;34m]\u001b[0m\u001b[0;34m,\u001b[0m\u001b[0mdrop_first\u001b[0m\u001b[0;34m=\u001b[0m\u001b[0;32mTrue\u001b[0m\u001b[0;34m)\u001b[0m\u001b[0;34m\u001b[0m\u001b[0m\n",
      "\u001b[0;32m/Users/Jose/anaconda3/lib/python3.6/site-packages/pandas/core/frame.py\u001b[0m in \u001b[0;36m__getitem__\u001b[0;34m(self, key)\u001b[0m\n\u001b[1;32m   2686\u001b[0m             \u001b[0;32mreturn\u001b[0m \u001b[0mself\u001b[0m\u001b[0;34m.\u001b[0m\u001b[0m_getitem_multilevel\u001b[0m\u001b[0;34m(\u001b[0m\u001b[0mkey\u001b[0m\u001b[0;34m)\u001b[0m\u001b[0;34m\u001b[0m\u001b[0m\n\u001b[1;32m   2687\u001b[0m         \u001b[0;32melse\u001b[0m\u001b[0;34m:\u001b[0m\u001b[0;34m\u001b[0m\u001b[0m\n\u001b[0;32m-> 2688\u001b[0;31m             \u001b[0;32mreturn\u001b[0m \u001b[0mself\u001b[0m\u001b[0;34m.\u001b[0m\u001b[0m_getitem_column\u001b[0m\u001b[0;34m(\u001b[0m\u001b[0mkey\u001b[0m\u001b[0;34m)\u001b[0m\u001b[0;34m\u001b[0m\u001b[0m\n\u001b[0m\u001b[1;32m   2689\u001b[0m \u001b[0;34m\u001b[0m\u001b[0m\n\u001b[1;32m   2690\u001b[0m     \u001b[0;32mdef\u001b[0m \u001b[0m_getitem_column\u001b[0m\u001b[0;34m(\u001b[0m\u001b[0mself\u001b[0m\u001b[0;34m,\u001b[0m \u001b[0mkey\u001b[0m\u001b[0;34m)\u001b[0m\u001b[0;34m:\u001b[0m\u001b[0;34m\u001b[0m\u001b[0m\n",
      "\u001b[0;32m/Users/Jose/anaconda3/lib/python3.6/site-packages/pandas/core/frame.py\u001b[0m in \u001b[0;36m_getitem_column\u001b[0;34m(self, key)\u001b[0m\n\u001b[1;32m   2693\u001b[0m         \u001b[0;31m# get column\u001b[0m\u001b[0;34m\u001b[0m\u001b[0;34m\u001b[0m\u001b[0m\n\u001b[1;32m   2694\u001b[0m         \u001b[0;32mif\u001b[0m \u001b[0mself\u001b[0m\u001b[0;34m.\u001b[0m\u001b[0mcolumns\u001b[0m\u001b[0;34m.\u001b[0m\u001b[0mis_unique\u001b[0m\u001b[0;34m:\u001b[0m\u001b[0;34m\u001b[0m\u001b[0m\n\u001b[0;32m-> 2695\u001b[0;31m             \u001b[0;32mreturn\u001b[0m \u001b[0mself\u001b[0m\u001b[0;34m.\u001b[0m\u001b[0m_get_item_cache\u001b[0m\u001b[0;34m(\u001b[0m\u001b[0mkey\u001b[0m\u001b[0;34m)\u001b[0m\u001b[0;34m\u001b[0m\u001b[0m\n\u001b[0m\u001b[1;32m   2696\u001b[0m \u001b[0;34m\u001b[0m\u001b[0m\n\u001b[1;32m   2697\u001b[0m         \u001b[0;31m# duplicate columns & possible reduce dimensionality\u001b[0m\u001b[0;34m\u001b[0m\u001b[0;34m\u001b[0m\u001b[0m\n",
      "\u001b[0;32m/Users/Jose/anaconda3/lib/python3.6/site-packages/pandas/core/generic.py\u001b[0m in \u001b[0;36m_get_item_cache\u001b[0;34m(self, item)\u001b[0m\n\u001b[1;32m   2484\u001b[0m         \u001b[0mres\u001b[0m \u001b[0;34m=\u001b[0m \u001b[0mcache\u001b[0m\u001b[0;34m.\u001b[0m\u001b[0mget\u001b[0m\u001b[0;34m(\u001b[0m\u001b[0mitem\u001b[0m\u001b[0;34m)\u001b[0m\u001b[0;34m\u001b[0m\u001b[0m\n\u001b[1;32m   2485\u001b[0m         \u001b[0;32mif\u001b[0m \u001b[0mres\u001b[0m \u001b[0;32mis\u001b[0m \u001b[0;32mNone\u001b[0m\u001b[0;34m:\u001b[0m\u001b[0;34m\u001b[0m\u001b[0m\n\u001b[0;32m-> 2486\u001b[0;31m             \u001b[0mvalues\u001b[0m \u001b[0;34m=\u001b[0m \u001b[0mself\u001b[0m\u001b[0;34m.\u001b[0m\u001b[0m_data\u001b[0m\u001b[0;34m.\u001b[0m\u001b[0mget\u001b[0m\u001b[0;34m(\u001b[0m\u001b[0mitem\u001b[0m\u001b[0;34m)\u001b[0m\u001b[0;34m\u001b[0m\u001b[0m\n\u001b[0m\u001b[1;32m   2487\u001b[0m             \u001b[0mres\u001b[0m \u001b[0;34m=\u001b[0m \u001b[0mself\u001b[0m\u001b[0;34m.\u001b[0m\u001b[0m_box_item_values\u001b[0m\u001b[0;34m(\u001b[0m\u001b[0mitem\u001b[0m\u001b[0;34m,\u001b[0m \u001b[0mvalues\u001b[0m\u001b[0;34m)\u001b[0m\u001b[0;34m\u001b[0m\u001b[0m\n\u001b[1;32m   2488\u001b[0m             \u001b[0mcache\u001b[0m\u001b[0;34m[\u001b[0m\u001b[0mitem\u001b[0m\u001b[0;34m]\u001b[0m \u001b[0;34m=\u001b[0m \u001b[0mres\u001b[0m\u001b[0;34m\u001b[0m\u001b[0m\n",
      "\u001b[0;32m/Users/Jose/anaconda3/lib/python3.6/site-packages/pandas/core/internals.py\u001b[0m in \u001b[0;36mget\u001b[0;34m(self, item, fastpath)\u001b[0m\n\u001b[1;32m   4113\u001b[0m \u001b[0;34m\u001b[0m\u001b[0m\n\u001b[1;32m   4114\u001b[0m             \u001b[0;32mif\u001b[0m \u001b[0;32mnot\u001b[0m \u001b[0misna\u001b[0m\u001b[0;34m(\u001b[0m\u001b[0mitem\u001b[0m\u001b[0;34m)\u001b[0m\u001b[0;34m:\u001b[0m\u001b[0;34m\u001b[0m\u001b[0m\n\u001b[0;32m-> 4115\u001b[0;31m                 \u001b[0mloc\u001b[0m \u001b[0;34m=\u001b[0m \u001b[0mself\u001b[0m\u001b[0;34m.\u001b[0m\u001b[0mitems\u001b[0m\u001b[0;34m.\u001b[0m\u001b[0mget_loc\u001b[0m\u001b[0;34m(\u001b[0m\u001b[0mitem\u001b[0m\u001b[0;34m)\u001b[0m\u001b[0;34m\u001b[0m\u001b[0m\n\u001b[0m\u001b[1;32m   4116\u001b[0m             \u001b[0;32melse\u001b[0m\u001b[0;34m:\u001b[0m\u001b[0;34m\u001b[0m\u001b[0m\n\u001b[1;32m   4117\u001b[0m                 \u001b[0mindexer\u001b[0m \u001b[0;34m=\u001b[0m \u001b[0mnp\u001b[0m\u001b[0;34m.\u001b[0m\u001b[0marange\u001b[0m\u001b[0;34m(\u001b[0m\u001b[0mlen\u001b[0m\u001b[0;34m(\u001b[0m\u001b[0mself\u001b[0m\u001b[0;34m.\u001b[0m\u001b[0mitems\u001b[0m\u001b[0;34m)\u001b[0m\u001b[0;34m)\u001b[0m\u001b[0;34m[\u001b[0m\u001b[0misna\u001b[0m\u001b[0;34m(\u001b[0m\u001b[0mself\u001b[0m\u001b[0;34m.\u001b[0m\u001b[0mitems\u001b[0m\u001b[0;34m)\u001b[0m\u001b[0;34m]\u001b[0m\u001b[0;34m\u001b[0m\u001b[0m\n",
      "\u001b[0;32m/Users/Jose/anaconda3/lib/python3.6/site-packages/pandas/core/indexes/base.py\u001b[0m in \u001b[0;36mget_loc\u001b[0;34m(self, key, method, tolerance)\u001b[0m\n\u001b[1;32m   3064\u001b[0m                 \u001b[0;32mreturn\u001b[0m \u001b[0mself\u001b[0m\u001b[0;34m.\u001b[0m\u001b[0m_engine\u001b[0m\u001b[0;34m.\u001b[0m\u001b[0mget_loc\u001b[0m\u001b[0;34m(\u001b[0m\u001b[0mkey\u001b[0m\u001b[0;34m)\u001b[0m\u001b[0;34m\u001b[0m\u001b[0m\n\u001b[1;32m   3065\u001b[0m             \u001b[0;32mexcept\u001b[0m \u001b[0mKeyError\u001b[0m\u001b[0;34m:\u001b[0m\u001b[0;34m\u001b[0m\u001b[0m\n\u001b[0;32m-> 3066\u001b[0;31m                 \u001b[0;32mreturn\u001b[0m \u001b[0mself\u001b[0m\u001b[0;34m.\u001b[0m\u001b[0m_engine\u001b[0m\u001b[0;34m.\u001b[0m\u001b[0mget_loc\u001b[0m\u001b[0;34m(\u001b[0m\u001b[0mself\u001b[0m\u001b[0;34m.\u001b[0m\u001b[0m_maybe_cast_indexer\u001b[0m\u001b[0;34m(\u001b[0m\u001b[0mkey\u001b[0m\u001b[0;34m)\u001b[0m\u001b[0;34m)\u001b[0m\u001b[0;34m\u001b[0m\u001b[0m\n\u001b[0m\u001b[1;32m   3067\u001b[0m \u001b[0;34m\u001b[0m\u001b[0m\n\u001b[1;32m   3068\u001b[0m         \u001b[0mindexer\u001b[0m \u001b[0;34m=\u001b[0m \u001b[0mself\u001b[0m\u001b[0;34m.\u001b[0m\u001b[0mget_indexer\u001b[0m\u001b[0;34m(\u001b[0m\u001b[0;34m[\u001b[0m\u001b[0mkey\u001b[0m\u001b[0;34m]\u001b[0m\u001b[0;34m,\u001b[0m \u001b[0mmethod\u001b[0m\u001b[0;34m=\u001b[0m\u001b[0mmethod\u001b[0m\u001b[0;34m,\u001b[0m \u001b[0mtolerance\u001b[0m\u001b[0;34m=\u001b[0m\u001b[0mtolerance\u001b[0m\u001b[0;34m)\u001b[0m\u001b[0;34m\u001b[0m\u001b[0m\n",
      "\u001b[0;32mpandas/_libs/index.pyx\u001b[0m in \u001b[0;36mpandas._libs.index.IndexEngine.get_loc\u001b[0;34m()\u001b[0m\n",
      "\u001b[0;32mpandas/_libs/index.pyx\u001b[0m in \u001b[0;36mpandas._libs.index.IndexEngine.get_loc\u001b[0;34m()\u001b[0m\n",
      "\u001b[0;32mpandas/_libs/hashtable_class_helper.pxi\u001b[0m in \u001b[0;36mpandas._libs.hashtable.PyObjectHashTable.get_item\u001b[0;34m()\u001b[0m\n",
      "\u001b[0;32mpandas/_libs/hashtable_class_helper.pxi\u001b[0m in \u001b[0;36mpandas._libs.hashtable.PyObjectHashTable.get_item\u001b[0;34m()\u001b[0m\n",
      "\u001b[0;31mKeyError\u001b[0m: 'HEAT'"
     ]
    }
   ],
   "source": [
    "# Feature Transformation\n",
    "heat = pd.get_dummies(train['HEAT'],drop_first=True)\n",
    "ac = pd.get_dummies(train['AC'],drop_first=True)\n",
    "style = pd.get_dummies(train['STYLE'],drop_first=True)\n",
    "struct = pd.get_dummies(train['STRUCT'],drop_first=True)\n",
    "grade = pd.get_dummies(train['GRADE'],drop_first=True)\n",
    "cndtn = pd.get_dummies(train['CNDTN'],drop_first=True)\n",
    "roof = pd.get_dummies(train['ROOF'],drop_first=True)\n",
    "intwall = pd.get_dummies(train['INTWALL'],drop_first=True)\n",
    "extwall = pd.get_dummies(train['EXTWALL'],drop_first=True)\n",
    "assessmentNBHD = pd.get_dummies(train['ASSESSMENT_NBHD'],drop_first=True)\n",
    "assessmentSUBNBHD = pd.get_dummies(train['ASSESSMENT_SUBNBHD'],drop_first=True)\n",
    "quadrant = pd.get_dummies(train['QUADRANT'],drop_first=True)"
   ]
  },
  {
   "cell_type": "markdown",
   "metadata": {},
   "source": [
    "## Train our models"
   ]
  },
  {
   "cell_type": "code",
   "execution_count": null,
   "metadata": {},
   "outputs": [],
   "source": [
    "# Separate the data\n",
    "X = train.drop('PRICE',axis=1)\n",
    "y = train['PRICE']"
   ]
  },
  {
   "cell_type": "code",
   "execution_count": null,
   "metadata": {},
   "outputs": [],
   "source": [
    "X.shape"
   ]
  },
  {
   "cell_type": "code",
   "execution_count": null,
   "metadata": {},
   "outputs": [],
   "source": [
    "y.shape"
   ]
  },
  {
   "cell_type": "code",
   "execution_count": null,
   "metadata": {},
   "outputs": [],
   "source": [
    "# Split the data\n",
    "from sklearn.model_selection import train_test_split\n",
    "X_train, X_test, y_train, y_test = train_test_split(\n",
    "    X, y, test_size=0.30, random_state=97)"
   ]
  },
  {
   "cell_type": "markdown",
   "metadata": {},
   "source": [
    "### Using Linear Regression"
   ]
  },
  {
   "cell_type": "code",
   "execution_count": null,
   "metadata": {},
   "outputs": [],
   "source": [
    "# Import Linear Regression from scikit learn\n",
    "from sklearn.linear_model import LinearRegression\n",
    "lm = LinearRegression(normalize=False)"
   ]
  },
  {
   "cell_type": "code",
   "execution_count": null,
   "metadata": {},
   "outputs": [],
   "source": [
    "# Fit the model to the training data\n",
    "lm.fit(X_train,y_train)"
   ]
  },
  {
   "cell_type": "code",
   "execution_count": null,
   "metadata": {},
   "outputs": [],
   "source": [
    "print(\"Intercept: \", lm.intercept_,'\\n')\n",
    "print('Coefficient: \\n', lm.coef_,'\\n')"
   ]
  },
  {
   "cell_type": "code",
   "execution_count": null,
   "metadata": {},
   "outputs": [],
   "source": [
    "predictions = lm.predict(X_test)\n",
    "plt.scatter(y_test, predictions)\n",
    "plt.xlabel('Y')\n",
    "plt.ylabel('Predicted Y')"
   ]
  },
  {
   "cell_type": "code",
   "execution_count": null,
   "metadata": {},
   "outputs": [],
   "source": [
    "from sklearn import metrics\n",
    "print('Normalization Linear Regression: ')\n",
    "print('MAE:', metrics.mean_absolute_error(y_test, predictions))\n",
    "print('MSE:', metrics.mean_squared_error(y_test, predictions))\n",
    "print('RMSE:', np.sqrt(metrics.mean_squared_error(y_test, predictions)))\n",
    "print('Training Score:', lm.score(X_train,y_train))\n",
    "print('Test Score:', lm.score(X_test,y_test))"
   ]
  },
  {
   "cell_type": "markdown",
   "metadata": {},
   "source": [
    "## Using Logistic Regression"
   ]
  },
  {
   "cell_type": "code",
   "execution_count": null,
   "metadata": {},
   "outputs": [],
   "source": [
    "def sigmoid(x):\n",
    "       return 1 /(1+(np.exp(-x)))"
   ]
  },
  {
   "cell_type": "code",
   "execution_count": null,
   "metadata": {},
   "outputs": [],
   "source": [
    "def cost(X, y, W, m):\n",
    "    return  -(1./m) * np.sum(\n",
    "        (np.multiply(y, np.log(sigmoid(np.dot(X,W))))) +\n",
    "        (np.multiply((1-y),np.log(1-sigmoid(np.dot(X,W)))))\n",
    "    )"
   ]
  },
  {
   "cell_type": "code",
   "execution_count": null,
   "metadata": {},
   "outputs": [],
   "source": [
    "def logisticRegression2(X, y, alpha, iterations):\n",
    "    X_b = (np.c_[np.ones((len(y), 1)), X]).T\n",
    "    y = np.array(y).reshape(1,len(y))\n",
    "    #y = y.T\n",
    "    print('y = ',y.shape)\n",
    "    print('X = ',X_b.shape)\n",
    "    cost_list = []\n",
    "    m = np.size(X_b, axis=1)\n",
    "    W = np.random.random((1, X_b.shape[0]))\n",
    "    print('W = ', W.shape)\n",
    "    for i in range(iterations):\n",
    "        W = W - (alpha/m) * np.dot((sigmoid(np.dot(W,X_b)) - y), X_b.T)\n",
    "        cost_ = cost(X_b.T, y.T, W.T, m)\n",
    "        cost_list.append([i, cost_])\n",
    "    return W, cost_list"
   ]
  },
  {
   "cell_type": "code",
   "execution_count": null,
   "metadata": {},
   "outputs": [],
   "source": [
    "def CostPlot(cost_list, iteration = 100):\n",
    "    for i in range(0, len(cost_list), iteration):\n",
    "        plt.plot(cost_list[i][0], cost_list[i][1], 'ro')\n",
    "    plt.show()"
   ]
  },
  {
   "cell_type": "code",
   "execution_count": null,
   "metadata": {},
   "outputs": [],
   "source": [
    "def Pred_Test(W,X,y):\n",
    "    X_b = (np.c_[np.ones((X.shape[0], 1)), X]).T\n",
    "    predictions = np.dot(W, X_b)\n",
    "    predictions[predictions < 0] = 0\n",
    "    predictions[predictions >0] = 1\n",
    "    y_2 = np.array(y).reshape(1,len(y))\n",
    "    Sum_test = (y_2 == predictions)\n",
    "    return sum(sum(Sum_test))/X.shape[0] #returns percentage got correct"
   ]
  },
  {
   "cell_type": "code",
   "execution_count": null,
   "metadata": {},
   "outputs": [],
   "source": [
    "train2 = train.copy()\n",
    "train2['PRICE'].describe()"
   ]
  },
  {
   "cell_type": "code",
   "execution_count": null,
   "metadata": {},
   "outputs": [],
   "source": [
    "train2 = train2[7:]\n",
    "train2.shape"
   ]
  },
  {
   "cell_type": "code",
   "execution_count": null,
   "metadata": {},
   "outputs": [],
   "source": [
    "np.sort(train2['PRICE'])[0:10]"
   ]
  },
  {
   "cell_type": "code",
   "execution_count": null,
   "metadata": {},
   "outputs": [],
   "source": [
    "train2 = train2.sort_values(by=['PRICE'])\n",
    "train2 = train2.reset_index(drop=True)"
   ]
  },
  {
   "cell_type": "code",
   "execution_count": null,
   "metadata": {},
   "outputs": [],
   "source": [
    "train2.index.values"
   ]
  },
  {
   "cell_type": "code",
   "execution_count": null,
   "metadata": {},
   "outputs": [],
   "source": [
    "train2.shape"
   ]
  },
  {
   "cell_type": "code",
   "execution_count": null,
   "metadata": {},
   "outputs": [],
   "source": [
    "sepCount = np.floor(train2['PRICE'].shape[0]*.1)\n",
    "bins = [-1, sepCount-1, 2*sepCount-1, 3*sepCount-1, 4*sepCount-1, 5*sepCount-1, 6*sepCount-1, 7*sepCount-1, 8*sepCount-1, 9*sepCount-1, np.inf]\n",
    "group_names = labels=[0, 1, 2, 3, 4, 5, 6, 7, 8, 9]\n",
    "train2['PriceCategory'] = pd.cut(train2.index.values, bins, labels=group_names)\n",
    "train2.head(3)"
   ]
  },
  {
   "cell_type": "code",
   "execution_count": null,
   "metadata": {},
   "outputs": [],
   "source": [
    "X2 = train2.drop(['PRICE','PriceCategory'],axis=1)\n",
    "y2 = train2['PriceCategory']"
   ]
  },
  {
   "cell_type": "code",
   "execution_count": null,
   "metadata": {},
   "outputs": [],
   "source": [
    "from sklearn.preprocessing import normalize\n",
    "X2 = normalize(X2)"
   ]
  },
  {
   "cell_type": "code",
   "execution_count": null,
   "metadata": {},
   "outputs": [],
   "source": [
    "# Split the data\n",
    "from sklearn.model_selection import train_test_split\n",
    "X_train2, X_test2, y_train2, y_test2 = train_test_split(\n",
    "    X2, y2, test_size=0.30, random_state=97)"
   ]
  },
  {
   "cell_type": "code",
   "execution_count": null,
   "metadata": {},
   "outputs": [],
   "source": [
    "from sklearn.multiclass import OneVsRestClassifier\n",
    "from sklearn.svm import LinearSVC\n",
    "ovrc = OneVsRestClassifier(LinearSVC(random_state=0))\n",
    "ovrc.fit(X_train2, y_train2)"
   ]
  },
  {
   "cell_type": "code",
   "execution_count": null,
   "metadata": {},
   "outputs": [],
   "source": [
    "predict = ovrc.predict(X_test2)\n",
    "score = ovrc.score(X_test2, y_test2)"
   ]
  },
  {
   "cell_type": "code",
   "execution_count": null,
   "metadata": {},
   "outputs": [],
   "source": [
    "print(\"Intercept: \", ovrc.intercept_,'\\n')\n",
    "print('Coefficient', ovrc.coef_,'\\n')\n",
    "print('Score', score,'\\n')"
   ]
  },
  {
   "cell_type": "code",
   "execution_count": null,
   "metadata": {},
   "outputs": [],
   "source": [
    "import matplotlib.pyplot as plt\n",
    "from sklearn import metrics\n",
    "cm = metrics.confusion_matrix(\n",
    "  y_test2, predict)\n",
    "print(cm)"
   ]
  },
  {
   "cell_type": "code",
   "execution_count": null,
   "metadata": {},
   "outputs": [],
   "source": [
    "from sklearn.metrics import accuracy_score, f1_score, precision_score,\\\n",
    "recall_score, classification_report, confusion_matrix\n",
    "\n",
    "print('Accuracy:', accuracy_score(y_test2, predict))\n",
    "print('Classification Report:\\n', classification_report(y_test2, predict))\n",
    "print('Confusion Matrix:\\n', confusion_matrix(y_test2, predict))\n",
    "\n"
   ]
  },
  {
   "cell_type": "code",
   "execution_count": null,
   "metadata": {},
   "outputs": [],
   "source": [
    "import seaborn as sns\n",
    "plt.figure(figsize=(10,10))\n",
    "sns.heatmap(cm, annot=True, fmt=\".3f\", linewidths=.5, square = True, cmap = 'Blues_r');\n",
    "plt.ylabel('Actual label');\n",
    "plt.xlabel('Predicted label');\n",
    "all_sample_title = 'Accuracy Score: {0}'.format(score)\n",
    "plt.title(all_sample_title, size = 15);\n",
    "plt.show()\n",
    "\n"
   ]
  },
  {
   "cell_type": "code",
   "execution_count": null,
   "metadata": {},
   "outputs": [],
   "source": [
    "g = train2.groupby('PriceCategory').count()\n",
    "g"
   ]
  },
  {
   "cell_type": "code",
   "execution_count": null,
   "metadata": {},
   "outputs": [],
   "source": [
    "y0 = y_train2.copy()\n",
    "y0[y_train2==0]=1\n",
    "y0[y_train2==1]=0\n",
    "y0[y_train2==2]=0\n",
    "y0[y_train2==3]=0\n",
    "y0[y_train2==4]=0\n",
    "y0[y_train2==5]=0\n",
    "y0[y_train2==6]=0\n",
    "y0[y_train2==7]=0\n",
    "y0[y_train2==8]=0\n",
    "y0[y_train2==9]=0\n",
    "\n",
    "\n",
    "W0, cost_list = logisticRegression2(X_train2, y0, 1, 1000)\n",
    "CostPlot(cost_list)\n",
    "y0_test = y_test2.copy()\n",
    "y0_test[y_test2==0]=1\n",
    "y0_test[y_test2==1]=0\n",
    "y0_test[y_test2==2]=0\n",
    "y0_test[y_test2==3]=0\n",
    "y0_test[y_test2==4]=0\n",
    "y0_test[y_test2==5]=0\n",
    "y0_test[y_test2==6]=0\n",
    "y0_test[y_test2==7]=0\n",
    "y0_test[y_test2==8]=0\n",
    "y0_test[y_test2==9]=0\n",
    "\n",
    "pred_correct = Pred_Test(W0, X_test2, y0_test)\n",
    "print('Accuracy of Prediction Test 1 =' ,pred_correct)"
   ]
  },
  {
   "cell_type": "code",
   "execution_count": null,
   "metadata": {},
   "outputs": [],
   "source": [
    "y0 = y_train2.copy()\n",
    "y0[y_train2==0]=0\n",
    "y0[y_train2==1]=1\n",
    "y0[y_train2==2]=0\n",
    "y0[y_train2==3]=0\n",
    "y0[y_train2==4]=0\n",
    "y0[y_train2==5]=0\n",
    "y0[y_train2==6]=0\n",
    "y0[y_train2==7]=0\n",
    "y0[y_train2==8]=0\n",
    "y0[y_train2==9]=0\n",
    "\n",
    "\n",
    "W1, cost_list = logisticRegression2(X_train2, y0, 1, 1000)\n",
    "CostPlot(cost_list)\n",
    "y0_test = y_test2.copy()\n",
    "y0_test[y_test2==0]=0\n",
    "y0_test[y_test2==1]=1\n",
    "y0_test[y_test2==2]=0\n",
    "y0_test[y_test2==3]=0\n",
    "y0_test[y_test2==4]=0\n",
    "y0_test[y_test2==5]=0\n",
    "y0_test[y_test2==6]=0\n",
    "y0_test[y_test2==7]=0\n",
    "y0_test[y_test2==8]=0\n",
    "y0_test[y_test2==9]=0\n",
    "\n",
    "pred_correct = Pred_Test(W1, X_test2, y0_test)\n",
    "print('Accuracy of Prediction Test 2 =' ,pred_correct)"
   ]
  },
  {
   "cell_type": "code",
   "execution_count": null,
   "metadata": {},
   "outputs": [],
   "source": [
    "y0 = y_train2.copy()\n",
    "y0[y_train2==0]=0\n",
    "y0[y_train2==1]=0\n",
    "y0[y_train2==2]=1\n",
    "y0[y_train2==3]=0\n",
    "y0[y_train2==4]=0\n",
    "y0[y_train2==5]=0\n",
    "y0[y_train2==6]=0\n",
    "y0[y_train2==7]=0\n",
    "y0[y_train2==8]=0\n",
    "y0[y_train2==9]=0\n",
    "\n",
    "\n",
    "W2, cost_list = logisticRegression2(X_train2, y0, 1, 1000)\n",
    "CostPlot(cost_list)\n",
    "y0_test = y_test2.copy()\n",
    "y0_test[y_test2==0]=0\n",
    "y0_test[y_test2==1]=0\n",
    "y0_test[y_test2==2]=1\n",
    "y0_test[y_test2==3]=0\n",
    "y0_test[y_test2==4]=0\n",
    "y0_test[y_test2==5]=0\n",
    "y0_test[y_test2==6]=0\n",
    "y0_test[y_test2==7]=0\n",
    "y0_test[y_test2==8]=0\n",
    "y0_test[y_test2==9]=0\n",
    "\n",
    "pred_correct = Pred_Test(W2, X_test2, y0_test)\n",
    "print('Accuracy of Prediction Test 3 =' ,pred_correct)"
   ]
  },
  {
   "cell_type": "code",
   "execution_count": null,
   "metadata": {},
   "outputs": [],
   "source": [
    "y0 = y_train2.copy()\n",
    "y0[y_train2==0]=0\n",
    "y0[y_train2==1]=0\n",
    "y0[y_train2==2]=0\n",
    "y0[y_train2==3]=1\n",
    "y0[y_train2==4]=0\n",
    "y0[y_train2==5]=0\n",
    "y0[y_train2==6]=0\n",
    "y0[y_train2==7]=0\n",
    "y0[y_train2==8]=0\n",
    "y0[y_train2==9]=0\n",
    "\n",
    "\n",
    "W3, cost_list = logisticRegression2(X_train2, y0, 1, 1000)\n",
    "CostPlot(cost_list)\n",
    "y0_test = y_test2.copy()\n",
    "y0_test[y_test2==0]=0\n",
    "y0_test[y_test2==1]=0\n",
    "y0_test[y_test2==2]=0\n",
    "y0_test[y_test2==3]=1\n",
    "y0_test[y_test2==4]=0\n",
    "y0_test[y_test2==5]=0\n",
    "y0_test[y_test2==6]=0\n",
    "y0_test[y_test2==7]=0\n",
    "y0_test[y_test2==8]=0\n",
    "y0_test[y_test2==9]=0\n",
    "\n",
    "pred_correct = Pred_Test(W3, X_test2, y0_test)\n",
    "print('Accuracy of Prediction Test 4 =' ,pred_correct)"
   ]
  },
  {
   "cell_type": "code",
   "execution_count": null,
   "metadata": {},
   "outputs": [],
   "source": [
    "y0 = y_train2.copy()\n",
    "y0[y_train2==0]=0\n",
    "y0[y_train2==1]=0\n",
    "y0[y_train2==2]=0\n",
    "y0[y_train2==3]=0\n",
    "y0[y_train2==4]=1\n",
    "y0[y_train2==5]=0\n",
    "y0[y_train2==6]=0\n",
    "y0[y_train2==7]=0\n",
    "y0[y_train2==8]=0\n",
    "y0[y_train2==9]=0\n",
    "\n",
    "\n",
    "W4, cost_list = logisticRegression2(X_train2, y0, 1, 1000)\n",
    "CostPlot(cost_list)\n",
    "y0_test = y_test2.copy()\n",
    "y0_test[y_test2==0]=0\n",
    "y0_test[y_test2==1]=0\n",
    "y0_test[y_test2==2]=0\n",
    "y0_test[y_test2==3]=0\n",
    "y0_test[y_test2==4]=1\n",
    "y0_test[y_test2==5]=0\n",
    "y0_test[y_test2==6]=0\n",
    "y0_test[y_test2==7]=0\n",
    "y0_test[y_test2==8]=0\n",
    "y0_test[y_test2==9]=0\n",
    "\n",
    "pred_correct = Pred_Test(W4, X_test2, y0_test)\n",
    "print('Accuracy of Prediction Test 5 =' ,pred_correct)"
   ]
  },
  {
   "cell_type": "code",
   "execution_count": null,
   "metadata": {},
   "outputs": [],
   "source": [
    "y0 = y_train2.copy()\n",
    "y0[y_train2==0]=0\n",
    "y0[y_train2==1]=0\n",
    "y0[y_train2==2]=0\n",
    "y0[y_train2==3]=0\n",
    "y0[y_train2==4]=0\n",
    "y0[y_train2==5]=1\n",
    "y0[y_train2==6]=0\n",
    "y0[y_train2==7]=0\n",
    "y0[y_train2==8]=0\n",
    "y0[y_train2==9]=0\n",
    "\n",
    "\n",
    "W5, cost_list = logisticRegression2(X_train2, y0, 1, 1000)\n",
    "CostPlot(cost_list)\n",
    "y0_test = y_test2.copy()\n",
    "y0_test[y_test2==0]=0\n",
    "y0_test[y_test2==1]=0\n",
    "y0_test[y_test2==2]=0\n",
    "y0_test[y_test2==3]=0\n",
    "y0_test[y_test2==4]=0\n",
    "y0_test[y_test2==5]=1\n",
    "y0_test[y_test2==6]=0\n",
    "y0_test[y_test2==7]=0\n",
    "y0_test[y_test2==8]=0\n",
    "y0_test[y_test2==9]=0\n",
    "\n",
    "pred_correct = Pred_Test(W5, X_test2, y0_test)\n",
    "print('Accuracy of Prediction Test 6 =' ,pred_correct)"
   ]
  },
  {
   "cell_type": "code",
   "execution_count": null,
   "metadata": {},
   "outputs": [],
   "source": [
    "y0 = y_train2.copy()\n",
    "y0[y_train2==0]=0\n",
    "y0[y_train2==1]=0\n",
    "y0[y_train2==2]=0\n",
    "y0[y_train2==3]=0\n",
    "y0[y_train2==4]=0\n",
    "y0[y_train2==5]=0\n",
    "y0[y_train2==6]=1\n",
    "y0[y_train2==7]=0\n",
    "y0[y_train2==8]=0\n",
    "y0[y_train2==9]=0\n",
    "\n",
    "\n",
    "W6, cost_list = logisticRegression2(X_train2, y0, 1, 1000)\n",
    "CostPlot(cost_list)\n",
    "y0_test = y_test2.copy()\n",
    "y0_test[y_test2==0]=0\n",
    "y0_test[y_test2==1]=0\n",
    "y0_test[y_test2==2]=0\n",
    "y0_test[y_test2==3]=0\n",
    "y0_test[y_test2==4]=0\n",
    "y0_test[y_test2==5]=0\n",
    "y0_test[y_test2==6]=1\n",
    "y0_test[y_test2==7]=0\n",
    "y0_test[y_test2==8]=0\n",
    "y0_test[y_test2==9]=0\n",
    "\n",
    "pred_correct = Pred_Test(W6, X_test2, y0_test)\n",
    "print('Accuracy of Prediction Test 7 =' ,pred_correct)"
   ]
  },
  {
   "cell_type": "code",
   "execution_count": null,
   "metadata": {},
   "outputs": [],
   "source": [
    "y0 = y_train2.copy()\n",
    "y0[y_train2==0]=0\n",
    "y0[y_train2==1]=0\n",
    "y0[y_train2==2]=0\n",
    "y0[y_train2==3]=0\n",
    "y0[y_train2==4]=0\n",
    "y0[y_train2==5]=0\n",
    "y0[y_train2==6]=0\n",
    "y0[y_train2==7]=1\n",
    "y0[y_train2==8]=0\n",
    "y0[y_train2==9]=0\n",
    "\n",
    "\n",
    "W7, cost_list = logisticRegression2(X_train2, y0, 1, 1000)\n",
    "CostPlot(cost_list)\n",
    "y0_test = y_test2.copy()\n",
    "y0_test[y_test2==0]=0\n",
    "y0_test[y_test2==1]=0\n",
    "y0_test[y_test2==2]=0\n",
    "y0_test[y_test2==3]=0\n",
    "y0_test[y_test2==4]=0\n",
    "y0_test[y_test2==5]=0\n",
    "y0_test[y_test2==6]=0\n",
    "y0_test[y_test2==7]=1\n",
    "y0_test[y_test2==8]=0\n",
    "y0_test[y_test2==9]=0\n",
    "\n",
    "pred_correct = Pred_Test(W7, X_test2, y0_test)\n",
    "print('Accuracy of Prediction Test 8 =' ,pred_correct)"
   ]
  },
  {
   "cell_type": "code",
   "execution_count": null,
   "metadata": {},
   "outputs": [],
   "source": [
    "y0 = y_train2.copy()\n",
    "y0[y_train2==0]=0\n",
    "y0[y_train2==1]=0\n",
    "y0[y_train2==2]=0\n",
    "y0[y_train2==3]=0\n",
    "y0[y_train2==4]=0\n",
    "y0[y_train2==5]=0\n",
    "y0[y_train2==6]=0\n",
    "y0[y_train2==7]=0\n",
    "y0[y_train2==8]=1\n",
    "y0[y_train2==9]=0\n",
    "\n",
    "\n",
    "W8, cost_list = logisticRegression2(X_train2, y0, 1, 1000)\n",
    "CostPlot(cost_list)\n",
    "y0_test = y_test2.copy()\n",
    "y0_test[y_test2==0]=0\n",
    "y0_test[y_test2==1]=0\n",
    "y0_test[y_test2==2]=0\n",
    "y0_test[y_test2==3]=0\n",
    "y0_test[y_test2==4]=0\n",
    "y0_test[y_test2==5]=0\n",
    "y0_test[y_test2==6]=0\n",
    "y0_test[y_test2==7]=0\n",
    "y0_test[y_test2==8]=1\n",
    "y0_test[y_test2==9]=0\n",
    "\n",
    "pred_correct = Pred_Test(W8, X_test2, y0_test)\n",
    "print('Accuracy of Prediction Test 9 =' ,pred_correct)"
   ]
  },
  {
   "cell_type": "code",
   "execution_count": null,
   "metadata": {},
   "outputs": [],
   "source": [
    "y0 = y_train2.copy()\n",
    "y0[y_train2==0]=0\n",
    "y0[y_train2==1]=0\n",
    "y0[y_train2==2]=0\n",
    "y0[y_train2==3]=0\n",
    "y0[y_train2==4]=0\n",
    "y0[y_train2==5]=0\n",
    "y0[y_train2==6]=0\n",
    "y0[y_train2==7]=0\n",
    "y0[y_train2==8]=0\n",
    "y0[y_train2==9]=1\n",
    "\n",
    "\n",
    "W9, cost_list = logisticRegression2(X_train2, y0, 1, 1000)\n",
    "CostPlot(cost_list)\n",
    "y0_test = y_test2.copy()\n",
    "y0_test[y_test2==0]=0\n",
    "y0_test[y_test2==1]=0\n",
    "y0_test[y_test2==2]=0\n",
    "y0_test[y_test2==3]=0\n",
    "y0_test[y_test2==4]=0\n",
    "y0_test[y_test2==5]=0\n",
    "y0_test[y_test2==6]=0\n",
    "y0_test[y_test2==7]=0\n",
    "y0_test[y_test2==8]=0\n",
    "y0_test[y_test2==9]=1\n",
    "\n",
    "pred_correct = Pred_Test(W9, X_test2, y0_test)\n",
    "print('Accuracy of Prediction Test 10 =' ,pred_correct)"
   ]
  },
  {
   "cell_type": "code",
   "execution_count": null,
   "metadata": {},
   "outputs": [],
   "source": [
    "def distancePointHyperplane(X,W):\n",
    "    X_b = (np.c_[np.ones((X.shape[0], 1)), X]).T\n",
    "    return np.dot(W,X_b)/(np.linalg.norm(W,'fro'))\n",
    "\n",
    "def distance(X, W):\n",
    "    X_b = (np.c_[np.ones((X.shape[0], 1)), X]).T\n",
    "    numerator = np.dot(W, X_b)\n",
    "    denominator = np.sqrt(np.dot(W, W.T))\n",
    "    return numerator/denominator"
   ]
  },
  {
   "cell_type": "code",
   "execution_count": null,
   "metadata": {},
   "outputs": [],
   "source": [
    "D0 = distancePointHyperplane(X_train2, W0)\n",
    "D1 = distancePointHyperplane(X_train2, W1)\n",
    "D2 = distancePointHyperplane(X_train2, W2)\n",
    "D3 = distancePointHyperplane(X_train2, W3)\n",
    "D4 = distancePointHyperplane(X_train2, W4)\n",
    "D5 = distancePointHyperplane(X_train2, W5)\n",
    "D6 = distancePointHyperplane(X_train2, W6)\n",
    "D7 = distancePointHyperplane(X_train2, W7)\n",
    "D8 = distancePointHyperplane(X_train2, W8)\n",
    "D9 = distancePointHyperplane(X_train2, W9)\n",
    "\n",
    "#D1 = distance(X_train,W0)\n",
    "#D2 = distance(X_train,W1)\n",
    "#D3 = distance(X_train,W2)\n",
    "dist = np.r_[D0, D1, D2, D3, D4, D5, D6, D7, D8, D9]\n",
    "prediction_D = np.argmax(dist,0)\n",
    "#print(y_train.shape)\n",
    "#print(prediction_D.shape)\n",
    "\n",
    "solution_D = sum(y_train2 == prediction_D)/X_train2.shape[0]\n",
    "print('Accuracy compared to the train data = ', solution_D)"
   ]
  },
  {
   "cell_type": "code",
   "execution_count": null,
   "metadata": {},
   "outputs": [],
   "source": [
    "from sklearn.metrics import accuracy_score, f1_score, precision_score,\\\n",
    "recall_score, classification_report, confusion_matrix\n",
    "\n",
    "print('Accuracy:', accuracy_score(y_train2, prediction_D))\n",
    "print('Classification Report:\\n', classification_report(y_train2, prediction_D))\n",
    "print('Confusion Matrix:\\n', confusion_matrix(y_train2, prediction_D))"
   ]
  },
  {
   "cell_type": "code",
   "execution_count": null,
   "metadata": {},
   "outputs": [],
   "source": [
    "import matplotlib.pyplot as plt\n",
    "from sklearn import metrics\n",
    "cm = metrics.confusion_matrix(y_train2, prediction_D)\n",
    "import seaborn as sns\n",
    "plt.figure(figsize=(9,9))\n",
    "sns.heatmap(cm, annot=True, fmt=\".3f\", linewidths=.5, square = True, cmap = 'Blues_r');\n",
    "plt.ylabel('Actual label');\n",
    "plt.xlabel('Predicted label');\n",
    "all_sample_title = 'Accuracy Score: {0}'.format(solution_D)\n",
    "plt.title(all_sample_title, size = 15);\n",
    "plt.show()\n",
    "print('Result from train data')"
   ]
  },
  {
   "cell_type": "code",
   "execution_count": null,
   "metadata": {},
   "outputs": [],
   "source": [
    "D0_2 = distancePointHyperplane(X_test2, W0)\n",
    "D1_2 = distancePointHyperplane(X_test2, W1)\n",
    "D2_2 = distancePointHyperplane(X_test2, W2)\n",
    "D3_2 = distancePointHyperplane(X_test2, W3)\n",
    "D4_2 = distancePointHyperplane(X_test2, W4)\n",
    "D5_2 = distancePointHyperplane(X_test2, W5)\n",
    "D6_2 = distancePointHyperplane(X_test2, W6)\n",
    "D7_2 = distancePointHyperplane(X_test2, W7)\n",
    "D8_2 = distancePointHyperplane(X_test2, W8)\n",
    "D9_2 = distancePointHyperplane(X_test2, W9)\n",
    "\n",
    "\n",
    "dist = np.r_[D0_2, D1_2, D2_2, D3_2, D4_2, D5_2, D6_2, D7_2, D8_2, D9_2]\n",
    "prediction_D_2 = np.argmax(dist,0)\n",
    "solution_D_2 = sum(y_test2 == prediction_D_2)/X_test2.shape[0]\n",
    "print('Accuracy compared to the test data = ', solution_D_2)"
   ]
  },
  {
   "cell_type": "code",
   "execution_count": null,
   "metadata": {},
   "outputs": [],
   "source": [
    "from sklearn.metrics import accuracy_score, f1_score, precision_score,\\\n",
    "recall_score, classification_report, confusion_matrix\n",
    "\n",
    "print('Accuracy:', accuracy_score(y_test2, prediction_D_2))\n",
    "print('Classification Report:\\n', classification_report(y_test2, prediction_D_2))\n",
    "print('Confusion Matrix:\\n', confusion_matrix(y_test2, prediction_D_2))"
   ]
  },
  {
   "cell_type": "code",
   "execution_count": null,
   "metadata": {},
   "outputs": [],
   "source": [
    "import matplotlib.pyplot as plt\n",
    "from sklearn import metrics\n",
    "cm = metrics.confusion_matrix(y_test2, prediction_D_2)\n",
    "import seaborn as sns\n",
    "plt.figure(figsize=(9,9))\n",
    "sns.heatmap(cm, annot=True, fmt=\".3f\", linewidths=.5, square = True, cmap = 'Blues_r');\n",
    "plt.ylabel('Actual label');\n",
    "plt.xlabel('Predicted label');\n",
    "all_sample_title = 'Accuracy Score: {0}'.format(solution_D_2)\n",
    "plt.title(all_sample_title, size = 15);\n",
    "plt.show()\n",
    "print('Results from test data')"
   ]
  },
  {
   "cell_type": "code",
   "execution_count": null,
   "metadata": {},
   "outputs": [],
   "source": []
  },
  {
   "cell_type": "code",
   "execution_count": null,
   "metadata": {},
   "outputs": [],
   "source": [
    "from sklearn.linear_model import Perceptron\n",
    "\n",
    "ppn = Perceptron(eta0 = 0.001)\n",
    "ppn.fit(X_train2, y_train2)\n",
    "from sklearn.metrics import classification_report, confusion_matrix  \n",
    "predictions2 = ppn.predict(X_test2)\n",
    "cm = confusion_matrix(y_test2, predictions2)\n",
    "print(cm)  \n",
    "score = accuracy_score(y_test2, predictions2)\n",
    "print(score)"
   ]
  },
  {
   "cell_type": "code",
   "execution_count": null,
   "metadata": {},
   "outputs": [],
   "source": [
    "import matplotlib.pyplot as plt\n",
    "from sklearn import metrics\n",
    "cm = metrics.confusion_matrix(\n",
    "  y_test2, predictions2)\n",
    "print(cm)\n"
   ]
  },
  {
   "cell_type": "code",
   "execution_count": null,
   "metadata": {},
   "outputs": [],
   "source": [
    "import seaborn as sns\n",
    "plt.figure(figsize=(10,10))\n",
    "sns.heatmap(cm, annot=True, fmt=\".3f\", linewidths=.5, square = True, cmap = 'Blues_r');\n",
    "plt.ylabel('Actual label');\n",
    "plt.xlabel('Predicted label');\n",
    "all_sample_title = 'Accuracy Score: {0}'.format(score)\n",
    "plt.title(all_sample_title, size = 15);\n",
    "plt.show()"
   ]
  },
  {
   "cell_type": "code",
   "execution_count": null,
   "metadata": {},
   "outputs": [],
   "source": [
    "from sklearn.neural_network import MLPClassifier\n",
    "\n",
    "mlpc = MLPClassifier(hidden_layer_sizes=(100,), activation='relu',alpha=0.0001, learning_rate='constant')\n",
    "\n",
    "mlpc.fit(X_train2, y_train2)\n",
    "\n",
    "\n",
    "from sklearn.metrics import classification_report, confusion_matrix  \n",
    "predictions3 = mlpc.predict(X_test2)\n",
    "cm = confusion_matrix(y_test2, predictions3)\n",
    "print(cm)  \n",
    "score = accuracy_score(y_test2, predictions3)\n",
    "print(score)"
   ]
  },
  {
   "cell_type": "code",
   "execution_count": null,
   "metadata": {},
   "outputs": [],
   "source": [
    "import matplotlib.pyplot as plt\n",
    "from sklearn import metrics\n",
    "\n",
    "import seaborn as sns\n",
    "plt.figure(figsize=(10,10))\n",
    "sns.heatmap(cm, annot=True, fmt=\".3f\", linewidths=.5, square = True, cmap = 'Blues_r');\n",
    "plt.ylabel('Actual label');\n",
    "plt.xlabel('Predicted label');\n",
    "all_sample_title = 'Accuracy Score: {0}'.format(score)\n",
    "plt.title(all_sample_title, size = 15);\n",
    "plt.show()"
   ]
  }
 ],
 "metadata": {
  "kernelspec": {
   "display_name": "Python [default]",
   "language": "python",
   "name": "python3"
  },
  "language_info": {
   "codemirror_mode": {
    "name": "ipython",
    "version": 3
   },
   "file_extension": ".py",
   "mimetype": "text/x-python",
   "name": "python",
   "nbconvert_exporter": "python",
   "pygments_lexer": "ipython3",
   "version": "3.6.6"
  }
 },
 "nbformat": 4,
 "nbformat_minor": 2
}
